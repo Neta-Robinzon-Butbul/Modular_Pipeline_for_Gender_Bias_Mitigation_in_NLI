{
  "nbformat": 4,
  "nbformat_minor": 0,
  "metadata": {
    "colab": {
      "provenance": [],
      "gpuType": "L4"
    },
    "kernelspec": {
      "name": "python3",
      "display_name": "Python 3"
    },
    "language_info": {
      "name": "python"
    },
    "accelerator": "GPU",
    "widgets": {
      "application/vnd.jupyter.widget-state+json": {
        "484c15ee29b442bb85c98cedd639f2c5": {
          "model_module": "@jupyter-widgets/controls",
          "model_name": "HBoxModel",
          "model_module_version": "1.5.0",
          "state": {
            "_dom_classes": [],
            "_model_module": "@jupyter-widgets/controls",
            "_model_module_version": "1.5.0",
            "_model_name": "HBoxModel",
            "_view_count": null,
            "_view_module": "@jupyter-widgets/controls",
            "_view_module_version": "1.5.0",
            "_view_name": "HBoxView",
            "box_style": "",
            "children": [
              "IPY_MODEL_dbb560dd54984b40844f8a9e00a4351c",
              "IPY_MODEL_6e47a13200d04db2a7fcbe5ab9905f95",
              "IPY_MODEL_26ff68e26c58442cab4acbd99c97de01"
            ],
            "layout": "IPY_MODEL_fbdf7faf3fde46e397dcccab70ee00f8"
          }
        },
        "dbb560dd54984b40844f8a9e00a4351c": {
          "model_module": "@jupyter-widgets/controls",
          "model_name": "HTMLModel",
          "model_module_version": "1.5.0",
          "state": {
            "_dom_classes": [],
            "_model_module": "@jupyter-widgets/controls",
            "_model_module_version": "1.5.0",
            "_model_name": "HTMLModel",
            "_view_count": null,
            "_view_module": "@jupyter-widgets/controls",
            "_view_module_version": "1.5.0",
            "_view_name": "HTMLView",
            "description": "",
            "description_tooltip": null,
            "layout": "IPY_MODEL_037e163454274b34bb877f380b57d938",
            "placeholder": "​",
            "style": "IPY_MODEL_13076190a0d24b0084ebe50a9a0a40a4",
            "value": "Map: 100%"
          }
        },
        "6e47a13200d04db2a7fcbe5ab9905f95": {
          "model_module": "@jupyter-widgets/controls",
          "model_name": "FloatProgressModel",
          "model_module_version": "1.5.0",
          "state": {
            "_dom_classes": [],
            "_model_module": "@jupyter-widgets/controls",
            "_model_module_version": "1.5.0",
            "_model_name": "FloatProgressModel",
            "_view_count": null,
            "_view_module": "@jupyter-widgets/controls",
            "_view_module_version": "1.5.0",
            "_view_name": "ProgressView",
            "bar_style": "success",
            "description": "",
            "description_tooltip": null,
            "layout": "IPY_MODEL_e9b1528a19db47d2afb066fdece160af",
            "max": 2394,
            "min": 0,
            "orientation": "horizontal",
            "style": "IPY_MODEL_ebc7ff33162d44898493de47fb077df0",
            "value": 2394
          }
        },
        "26ff68e26c58442cab4acbd99c97de01": {
          "model_module": "@jupyter-widgets/controls",
          "model_name": "HTMLModel",
          "model_module_version": "1.5.0",
          "state": {
            "_dom_classes": [],
            "_model_module": "@jupyter-widgets/controls",
            "_model_module_version": "1.5.0",
            "_model_name": "HTMLModel",
            "_view_count": null,
            "_view_module": "@jupyter-widgets/controls",
            "_view_module_version": "1.5.0",
            "_view_name": "HTMLView",
            "description": "",
            "description_tooltip": null,
            "layout": "IPY_MODEL_fe22bc6df99b4e6fbf85373505eddc58",
            "placeholder": "​",
            "style": "IPY_MODEL_c2ef706810c34362bf998a1692cdab6d",
            "value": " 2394/2394 [00:00&lt;00:00, 2768.47 examples/s]"
          }
        },
        "fbdf7faf3fde46e397dcccab70ee00f8": {
          "model_module": "@jupyter-widgets/base",
          "model_name": "LayoutModel",
          "model_module_version": "1.2.0",
          "state": {
            "_model_module": "@jupyter-widgets/base",
            "_model_module_version": "1.2.0",
            "_model_name": "LayoutModel",
            "_view_count": null,
            "_view_module": "@jupyter-widgets/base",
            "_view_module_version": "1.2.0",
            "_view_name": "LayoutView",
            "align_content": null,
            "align_items": null,
            "align_self": null,
            "border": null,
            "bottom": null,
            "display": null,
            "flex": null,
            "flex_flow": null,
            "grid_area": null,
            "grid_auto_columns": null,
            "grid_auto_flow": null,
            "grid_auto_rows": null,
            "grid_column": null,
            "grid_gap": null,
            "grid_row": null,
            "grid_template_areas": null,
            "grid_template_columns": null,
            "grid_template_rows": null,
            "height": null,
            "justify_content": null,
            "justify_items": null,
            "left": null,
            "margin": null,
            "max_height": null,
            "max_width": null,
            "min_height": null,
            "min_width": null,
            "object_fit": null,
            "object_position": null,
            "order": null,
            "overflow": null,
            "overflow_x": null,
            "overflow_y": null,
            "padding": null,
            "right": null,
            "top": null,
            "visibility": null,
            "width": null
          }
        },
        "037e163454274b34bb877f380b57d938": {
          "model_module": "@jupyter-widgets/base",
          "model_name": "LayoutModel",
          "model_module_version": "1.2.0",
          "state": {
            "_model_module": "@jupyter-widgets/base",
            "_model_module_version": "1.2.0",
            "_model_name": "LayoutModel",
            "_view_count": null,
            "_view_module": "@jupyter-widgets/base",
            "_view_module_version": "1.2.0",
            "_view_name": "LayoutView",
            "align_content": null,
            "align_items": null,
            "align_self": null,
            "border": null,
            "bottom": null,
            "display": null,
            "flex": null,
            "flex_flow": null,
            "grid_area": null,
            "grid_auto_columns": null,
            "grid_auto_flow": null,
            "grid_auto_rows": null,
            "grid_column": null,
            "grid_gap": null,
            "grid_row": null,
            "grid_template_areas": null,
            "grid_template_columns": null,
            "grid_template_rows": null,
            "height": null,
            "justify_content": null,
            "justify_items": null,
            "left": null,
            "margin": null,
            "max_height": null,
            "max_width": null,
            "min_height": null,
            "min_width": null,
            "object_fit": null,
            "object_position": null,
            "order": null,
            "overflow": null,
            "overflow_x": null,
            "overflow_y": null,
            "padding": null,
            "right": null,
            "top": null,
            "visibility": null,
            "width": null
          }
        },
        "13076190a0d24b0084ebe50a9a0a40a4": {
          "model_module": "@jupyter-widgets/controls",
          "model_name": "DescriptionStyleModel",
          "model_module_version": "1.5.0",
          "state": {
            "_model_module": "@jupyter-widgets/controls",
            "_model_module_version": "1.5.0",
            "_model_name": "DescriptionStyleModel",
            "_view_count": null,
            "_view_module": "@jupyter-widgets/base",
            "_view_module_version": "1.2.0",
            "_view_name": "StyleView",
            "description_width": ""
          }
        },
        "e9b1528a19db47d2afb066fdece160af": {
          "model_module": "@jupyter-widgets/base",
          "model_name": "LayoutModel",
          "model_module_version": "1.2.0",
          "state": {
            "_model_module": "@jupyter-widgets/base",
            "_model_module_version": "1.2.0",
            "_model_name": "LayoutModel",
            "_view_count": null,
            "_view_module": "@jupyter-widgets/base",
            "_view_module_version": "1.2.0",
            "_view_name": "LayoutView",
            "align_content": null,
            "align_items": null,
            "align_self": null,
            "border": null,
            "bottom": null,
            "display": null,
            "flex": null,
            "flex_flow": null,
            "grid_area": null,
            "grid_auto_columns": null,
            "grid_auto_flow": null,
            "grid_auto_rows": null,
            "grid_column": null,
            "grid_gap": null,
            "grid_row": null,
            "grid_template_areas": null,
            "grid_template_columns": null,
            "grid_template_rows": null,
            "height": null,
            "justify_content": null,
            "justify_items": null,
            "left": null,
            "margin": null,
            "max_height": null,
            "max_width": null,
            "min_height": null,
            "min_width": null,
            "object_fit": null,
            "object_position": null,
            "order": null,
            "overflow": null,
            "overflow_x": null,
            "overflow_y": null,
            "padding": null,
            "right": null,
            "top": null,
            "visibility": null,
            "width": null
          }
        },
        "ebc7ff33162d44898493de47fb077df0": {
          "model_module": "@jupyter-widgets/controls",
          "model_name": "ProgressStyleModel",
          "model_module_version": "1.5.0",
          "state": {
            "_model_module": "@jupyter-widgets/controls",
            "_model_module_version": "1.5.0",
            "_model_name": "ProgressStyleModel",
            "_view_count": null,
            "_view_module": "@jupyter-widgets/base",
            "_view_module_version": "1.2.0",
            "_view_name": "StyleView",
            "bar_color": null,
            "description_width": ""
          }
        },
        "fe22bc6df99b4e6fbf85373505eddc58": {
          "model_module": "@jupyter-widgets/base",
          "model_name": "LayoutModel",
          "model_module_version": "1.2.0",
          "state": {
            "_model_module": "@jupyter-widgets/base",
            "_model_module_version": "1.2.0",
            "_model_name": "LayoutModel",
            "_view_count": null,
            "_view_module": "@jupyter-widgets/base",
            "_view_module_version": "1.2.0",
            "_view_name": "LayoutView",
            "align_content": null,
            "align_items": null,
            "align_self": null,
            "border": null,
            "bottom": null,
            "display": null,
            "flex": null,
            "flex_flow": null,
            "grid_area": null,
            "grid_auto_columns": null,
            "grid_auto_flow": null,
            "grid_auto_rows": null,
            "grid_column": null,
            "grid_gap": null,
            "grid_row": null,
            "grid_template_areas": null,
            "grid_template_columns": null,
            "grid_template_rows": null,
            "height": null,
            "justify_content": null,
            "justify_items": null,
            "left": null,
            "margin": null,
            "max_height": null,
            "max_width": null,
            "min_height": null,
            "min_width": null,
            "object_fit": null,
            "object_position": null,
            "order": null,
            "overflow": null,
            "overflow_x": null,
            "overflow_y": null,
            "padding": null,
            "right": null,
            "top": null,
            "visibility": null,
            "width": null
          }
        },
        "c2ef706810c34362bf998a1692cdab6d": {
          "model_module": "@jupyter-widgets/controls",
          "model_name": "DescriptionStyleModel",
          "model_module_version": "1.5.0",
          "state": {
            "_model_module": "@jupyter-widgets/controls",
            "_model_module_version": "1.5.0",
            "_model_name": "DescriptionStyleModel",
            "_view_count": null,
            "_view_module": "@jupyter-widgets/base",
            "_view_module_version": "1.2.0",
            "_view_name": "StyleView",
            "description_width": ""
          }
        },
        "24b01205e4e24f10aa104fdfcb6c6027": {
          "model_module": "@jupyter-widgets/controls",
          "model_name": "HBoxModel",
          "model_module_version": "1.5.0",
          "state": {
            "_dom_classes": [],
            "_model_module": "@jupyter-widgets/controls",
            "_model_module_version": "1.5.0",
            "_model_name": "HBoxModel",
            "_view_count": null,
            "_view_module": "@jupyter-widgets/controls",
            "_view_module_version": "1.5.0",
            "_view_name": "HBoxView",
            "box_style": "",
            "children": [
              "IPY_MODEL_e781b91854ff44b5a48c8597316e54b3",
              "IPY_MODEL_d24dda115900450dadbd6780917d2a51",
              "IPY_MODEL_df682cba148f46b5bbe907546d424399"
            ],
            "layout": "IPY_MODEL_1d0497db1e4e410e95307970c539196b"
          }
        },
        "e781b91854ff44b5a48c8597316e54b3": {
          "model_module": "@jupyter-widgets/controls",
          "model_name": "HTMLModel",
          "model_module_version": "1.5.0",
          "state": {
            "_dom_classes": [],
            "_model_module": "@jupyter-widgets/controls",
            "_model_module_version": "1.5.0",
            "_model_name": "HTMLModel",
            "_view_count": null,
            "_view_module": "@jupyter-widgets/controls",
            "_view_module_version": "1.5.0",
            "_view_name": "HTMLView",
            "description": "",
            "description_tooltip": null,
            "layout": "IPY_MODEL_87ef56437d434996bb242547330ced4b",
            "placeholder": "​",
            "style": "IPY_MODEL_2d646edeae5f4514aac411145fa5e910",
            "value": "Map: 100%"
          }
        },
        "d24dda115900450dadbd6780917d2a51": {
          "model_module": "@jupyter-widgets/controls",
          "model_name": "FloatProgressModel",
          "model_module_version": "1.5.0",
          "state": {
            "_dom_classes": [],
            "_model_module": "@jupyter-widgets/controls",
            "_model_module_version": "1.5.0",
            "_model_name": "FloatProgressModel",
            "_view_count": null,
            "_view_module": "@jupyter-widgets/controls",
            "_view_module_version": "1.5.0",
            "_view_name": "ProgressView",
            "bar_style": "success",
            "description": "",
            "description_tooltip": null,
            "layout": "IPY_MODEL_848e0ffb6a894aa587b593a0b841bfad",
            "max": 512,
            "min": 0,
            "orientation": "horizontal",
            "style": "IPY_MODEL_857af002decc4bc4b87edd3e33d7c0eb",
            "value": 512
          }
        },
        "df682cba148f46b5bbe907546d424399": {
          "model_module": "@jupyter-widgets/controls",
          "model_name": "HTMLModel",
          "model_module_version": "1.5.0",
          "state": {
            "_dom_classes": [],
            "_model_module": "@jupyter-widgets/controls",
            "_model_module_version": "1.5.0",
            "_model_name": "HTMLModel",
            "_view_count": null,
            "_view_module": "@jupyter-widgets/controls",
            "_view_module_version": "1.5.0",
            "_view_name": "HTMLView",
            "description": "",
            "description_tooltip": null,
            "layout": "IPY_MODEL_881e8d68133e479199d12c937dee72f7",
            "placeholder": "​",
            "style": "IPY_MODEL_3ffb87ff93904050bf9d80e5b93e8abd",
            "value": " 512/512 [00:00&lt;00:00, 4908.57 examples/s]"
          }
        },
        "1d0497db1e4e410e95307970c539196b": {
          "model_module": "@jupyter-widgets/base",
          "model_name": "LayoutModel",
          "model_module_version": "1.2.0",
          "state": {
            "_model_module": "@jupyter-widgets/base",
            "_model_module_version": "1.2.0",
            "_model_name": "LayoutModel",
            "_view_count": null,
            "_view_module": "@jupyter-widgets/base",
            "_view_module_version": "1.2.0",
            "_view_name": "LayoutView",
            "align_content": null,
            "align_items": null,
            "align_self": null,
            "border": null,
            "bottom": null,
            "display": null,
            "flex": null,
            "flex_flow": null,
            "grid_area": null,
            "grid_auto_columns": null,
            "grid_auto_flow": null,
            "grid_auto_rows": null,
            "grid_column": null,
            "grid_gap": null,
            "grid_row": null,
            "grid_template_areas": null,
            "grid_template_columns": null,
            "grid_template_rows": null,
            "height": null,
            "justify_content": null,
            "justify_items": null,
            "left": null,
            "margin": null,
            "max_height": null,
            "max_width": null,
            "min_height": null,
            "min_width": null,
            "object_fit": null,
            "object_position": null,
            "order": null,
            "overflow": null,
            "overflow_x": null,
            "overflow_y": null,
            "padding": null,
            "right": null,
            "top": null,
            "visibility": null,
            "width": null
          }
        },
        "87ef56437d434996bb242547330ced4b": {
          "model_module": "@jupyter-widgets/base",
          "model_name": "LayoutModel",
          "model_module_version": "1.2.0",
          "state": {
            "_model_module": "@jupyter-widgets/base",
            "_model_module_version": "1.2.0",
            "_model_name": "LayoutModel",
            "_view_count": null,
            "_view_module": "@jupyter-widgets/base",
            "_view_module_version": "1.2.0",
            "_view_name": "LayoutView",
            "align_content": null,
            "align_items": null,
            "align_self": null,
            "border": null,
            "bottom": null,
            "display": null,
            "flex": null,
            "flex_flow": null,
            "grid_area": null,
            "grid_auto_columns": null,
            "grid_auto_flow": null,
            "grid_auto_rows": null,
            "grid_column": null,
            "grid_gap": null,
            "grid_row": null,
            "grid_template_areas": null,
            "grid_template_columns": null,
            "grid_template_rows": null,
            "height": null,
            "justify_content": null,
            "justify_items": null,
            "left": null,
            "margin": null,
            "max_height": null,
            "max_width": null,
            "min_height": null,
            "min_width": null,
            "object_fit": null,
            "object_position": null,
            "order": null,
            "overflow": null,
            "overflow_x": null,
            "overflow_y": null,
            "padding": null,
            "right": null,
            "top": null,
            "visibility": null,
            "width": null
          }
        },
        "2d646edeae5f4514aac411145fa5e910": {
          "model_module": "@jupyter-widgets/controls",
          "model_name": "DescriptionStyleModel",
          "model_module_version": "1.5.0",
          "state": {
            "_model_module": "@jupyter-widgets/controls",
            "_model_module_version": "1.5.0",
            "_model_name": "DescriptionStyleModel",
            "_view_count": null,
            "_view_module": "@jupyter-widgets/base",
            "_view_module_version": "1.2.0",
            "_view_name": "StyleView",
            "description_width": ""
          }
        },
        "848e0ffb6a894aa587b593a0b841bfad": {
          "model_module": "@jupyter-widgets/base",
          "model_name": "LayoutModel",
          "model_module_version": "1.2.0",
          "state": {
            "_model_module": "@jupyter-widgets/base",
            "_model_module_version": "1.2.0",
            "_model_name": "LayoutModel",
            "_view_count": null,
            "_view_module": "@jupyter-widgets/base",
            "_view_module_version": "1.2.0",
            "_view_name": "LayoutView",
            "align_content": null,
            "align_items": null,
            "align_self": null,
            "border": null,
            "bottom": null,
            "display": null,
            "flex": null,
            "flex_flow": null,
            "grid_area": null,
            "grid_auto_columns": null,
            "grid_auto_flow": null,
            "grid_auto_rows": null,
            "grid_column": null,
            "grid_gap": null,
            "grid_row": null,
            "grid_template_areas": null,
            "grid_template_columns": null,
            "grid_template_rows": null,
            "height": null,
            "justify_content": null,
            "justify_items": null,
            "left": null,
            "margin": null,
            "max_height": null,
            "max_width": null,
            "min_height": null,
            "min_width": null,
            "object_fit": null,
            "object_position": null,
            "order": null,
            "overflow": null,
            "overflow_x": null,
            "overflow_y": null,
            "padding": null,
            "right": null,
            "top": null,
            "visibility": null,
            "width": null
          }
        },
        "857af002decc4bc4b87edd3e33d7c0eb": {
          "model_module": "@jupyter-widgets/controls",
          "model_name": "ProgressStyleModel",
          "model_module_version": "1.5.0",
          "state": {
            "_model_module": "@jupyter-widgets/controls",
            "_model_module_version": "1.5.0",
            "_model_name": "ProgressStyleModel",
            "_view_count": null,
            "_view_module": "@jupyter-widgets/base",
            "_view_module_version": "1.2.0",
            "_view_name": "StyleView",
            "bar_color": null,
            "description_width": ""
          }
        },
        "881e8d68133e479199d12c937dee72f7": {
          "model_module": "@jupyter-widgets/base",
          "model_name": "LayoutModel",
          "model_module_version": "1.2.0",
          "state": {
            "_model_module": "@jupyter-widgets/base",
            "_model_module_version": "1.2.0",
            "_model_name": "LayoutModel",
            "_view_count": null,
            "_view_module": "@jupyter-widgets/base",
            "_view_module_version": "1.2.0",
            "_view_name": "LayoutView",
            "align_content": null,
            "align_items": null,
            "align_self": null,
            "border": null,
            "bottom": null,
            "display": null,
            "flex": null,
            "flex_flow": null,
            "grid_area": null,
            "grid_auto_columns": null,
            "grid_auto_flow": null,
            "grid_auto_rows": null,
            "grid_column": null,
            "grid_gap": null,
            "grid_row": null,
            "grid_template_areas": null,
            "grid_template_columns": null,
            "grid_template_rows": null,
            "height": null,
            "justify_content": null,
            "justify_items": null,
            "left": null,
            "margin": null,
            "max_height": null,
            "max_width": null,
            "min_height": null,
            "min_width": null,
            "object_fit": null,
            "object_position": null,
            "order": null,
            "overflow": null,
            "overflow_x": null,
            "overflow_y": null,
            "padding": null,
            "right": null,
            "top": null,
            "visibility": null,
            "width": null
          }
        },
        "3ffb87ff93904050bf9d80e5b93e8abd": {
          "model_module": "@jupyter-widgets/controls",
          "model_name": "DescriptionStyleModel",
          "model_module_version": "1.5.0",
          "state": {
            "_model_module": "@jupyter-widgets/controls",
            "_model_module_version": "1.5.0",
            "_model_name": "DescriptionStyleModel",
            "_view_count": null,
            "_view_module": "@jupyter-widgets/base",
            "_view_module_version": "1.2.0",
            "_view_name": "StyleView",
            "description_width": ""
          }
        },
        "3ed9b1ce76824a13897fbba2696e915e": {
          "model_module": "@jupyter-widgets/controls",
          "model_name": "HBoxModel",
          "model_module_version": "1.5.0",
          "state": {
            "_dom_classes": [],
            "_model_module": "@jupyter-widgets/controls",
            "_model_module_version": "1.5.0",
            "_model_name": "HBoxModel",
            "_view_count": null,
            "_view_module": "@jupyter-widgets/controls",
            "_view_module_version": "1.5.0",
            "_view_name": "HBoxView",
            "box_style": "",
            "children": [
              "IPY_MODEL_e1bacff4f9034f9dab4162b346ad8f80",
              "IPY_MODEL_925a9fede8c34548ba2eb7db99d6eec4",
              "IPY_MODEL_4bf20b7f9a7e4eed9d0fd64c13c028c5"
            ],
            "layout": "IPY_MODEL_9b6858973eee40048dd33e636ffd819f"
          }
        },
        "e1bacff4f9034f9dab4162b346ad8f80": {
          "model_module": "@jupyter-widgets/controls",
          "model_name": "HTMLModel",
          "model_module_version": "1.5.0",
          "state": {
            "_dom_classes": [],
            "_model_module": "@jupyter-widgets/controls",
            "_model_module_version": "1.5.0",
            "_model_name": "HTMLModel",
            "_view_count": null,
            "_view_module": "@jupyter-widgets/controls",
            "_view_module_version": "1.5.0",
            "_view_name": "HTMLView",
            "description": "",
            "description_tooltip": null,
            "layout": "IPY_MODEL_6deb294a6aef40b29f2b78898cb6e537",
            "placeholder": "​",
            "style": "IPY_MODEL_00254f92b9114138b03290ca1e9fde7c",
            "value": "Map: 100%"
          }
        },
        "925a9fede8c34548ba2eb7db99d6eec4": {
          "model_module": "@jupyter-widgets/controls",
          "model_name": "FloatProgressModel",
          "model_module_version": "1.5.0",
          "state": {
            "_dom_classes": [],
            "_model_module": "@jupyter-widgets/controls",
            "_model_module_version": "1.5.0",
            "_model_name": "FloatProgressModel",
            "_view_count": null,
            "_view_module": "@jupyter-widgets/controls",
            "_view_module_version": "1.5.0",
            "_view_name": "ProgressView",
            "bar_style": "success",
            "description": "",
            "description_tooltip": null,
            "layout": "IPY_MODEL_562a2b4105d844fe9ae71317c8cf260b",
            "max": 513,
            "min": 0,
            "orientation": "horizontal",
            "style": "IPY_MODEL_db6ef848cf0b4df4b6f23883c6a9337e",
            "value": 513
          }
        },
        "4bf20b7f9a7e4eed9d0fd64c13c028c5": {
          "model_module": "@jupyter-widgets/controls",
          "model_name": "HTMLModel",
          "model_module_version": "1.5.0",
          "state": {
            "_dom_classes": [],
            "_model_module": "@jupyter-widgets/controls",
            "_model_module_version": "1.5.0",
            "_model_name": "HTMLModel",
            "_view_count": null,
            "_view_module": "@jupyter-widgets/controls",
            "_view_module_version": "1.5.0",
            "_view_name": "HTMLView",
            "description": "",
            "description_tooltip": null,
            "layout": "IPY_MODEL_cdfb1cd2c04c45e0a11a2e3e3492b791",
            "placeholder": "​",
            "style": "IPY_MODEL_1acc8a690b234c0f9676ff7c8c000958",
            "value": " 513/513 [00:00&lt;00:00, 4856.80 examples/s]"
          }
        },
        "9b6858973eee40048dd33e636ffd819f": {
          "model_module": "@jupyter-widgets/base",
          "model_name": "LayoutModel",
          "model_module_version": "1.2.0",
          "state": {
            "_model_module": "@jupyter-widgets/base",
            "_model_module_version": "1.2.0",
            "_model_name": "LayoutModel",
            "_view_count": null,
            "_view_module": "@jupyter-widgets/base",
            "_view_module_version": "1.2.0",
            "_view_name": "LayoutView",
            "align_content": null,
            "align_items": null,
            "align_self": null,
            "border": null,
            "bottom": null,
            "display": null,
            "flex": null,
            "flex_flow": null,
            "grid_area": null,
            "grid_auto_columns": null,
            "grid_auto_flow": null,
            "grid_auto_rows": null,
            "grid_column": null,
            "grid_gap": null,
            "grid_row": null,
            "grid_template_areas": null,
            "grid_template_columns": null,
            "grid_template_rows": null,
            "height": null,
            "justify_content": null,
            "justify_items": null,
            "left": null,
            "margin": null,
            "max_height": null,
            "max_width": null,
            "min_height": null,
            "min_width": null,
            "object_fit": null,
            "object_position": null,
            "order": null,
            "overflow": null,
            "overflow_x": null,
            "overflow_y": null,
            "padding": null,
            "right": null,
            "top": null,
            "visibility": null,
            "width": null
          }
        },
        "6deb294a6aef40b29f2b78898cb6e537": {
          "model_module": "@jupyter-widgets/base",
          "model_name": "LayoutModel",
          "model_module_version": "1.2.0",
          "state": {
            "_model_module": "@jupyter-widgets/base",
            "_model_module_version": "1.2.0",
            "_model_name": "LayoutModel",
            "_view_count": null,
            "_view_module": "@jupyter-widgets/base",
            "_view_module_version": "1.2.0",
            "_view_name": "LayoutView",
            "align_content": null,
            "align_items": null,
            "align_self": null,
            "border": null,
            "bottom": null,
            "display": null,
            "flex": null,
            "flex_flow": null,
            "grid_area": null,
            "grid_auto_columns": null,
            "grid_auto_flow": null,
            "grid_auto_rows": null,
            "grid_column": null,
            "grid_gap": null,
            "grid_row": null,
            "grid_template_areas": null,
            "grid_template_columns": null,
            "grid_template_rows": null,
            "height": null,
            "justify_content": null,
            "justify_items": null,
            "left": null,
            "margin": null,
            "max_height": null,
            "max_width": null,
            "min_height": null,
            "min_width": null,
            "object_fit": null,
            "object_position": null,
            "order": null,
            "overflow": null,
            "overflow_x": null,
            "overflow_y": null,
            "padding": null,
            "right": null,
            "top": null,
            "visibility": null,
            "width": null
          }
        },
        "00254f92b9114138b03290ca1e9fde7c": {
          "model_module": "@jupyter-widgets/controls",
          "model_name": "DescriptionStyleModel",
          "model_module_version": "1.5.0",
          "state": {
            "_model_module": "@jupyter-widgets/controls",
            "_model_module_version": "1.5.0",
            "_model_name": "DescriptionStyleModel",
            "_view_count": null,
            "_view_module": "@jupyter-widgets/base",
            "_view_module_version": "1.2.0",
            "_view_name": "StyleView",
            "description_width": ""
          }
        },
        "562a2b4105d844fe9ae71317c8cf260b": {
          "model_module": "@jupyter-widgets/base",
          "model_name": "LayoutModel",
          "model_module_version": "1.2.0",
          "state": {
            "_model_module": "@jupyter-widgets/base",
            "_model_module_version": "1.2.0",
            "_model_name": "LayoutModel",
            "_view_count": null,
            "_view_module": "@jupyter-widgets/base",
            "_view_module_version": "1.2.0",
            "_view_name": "LayoutView",
            "align_content": null,
            "align_items": null,
            "align_self": null,
            "border": null,
            "bottom": null,
            "display": null,
            "flex": null,
            "flex_flow": null,
            "grid_area": null,
            "grid_auto_columns": null,
            "grid_auto_flow": null,
            "grid_auto_rows": null,
            "grid_column": null,
            "grid_gap": null,
            "grid_row": null,
            "grid_template_areas": null,
            "grid_template_columns": null,
            "grid_template_rows": null,
            "height": null,
            "justify_content": null,
            "justify_items": null,
            "left": null,
            "margin": null,
            "max_height": null,
            "max_width": null,
            "min_height": null,
            "min_width": null,
            "object_fit": null,
            "object_position": null,
            "order": null,
            "overflow": null,
            "overflow_x": null,
            "overflow_y": null,
            "padding": null,
            "right": null,
            "top": null,
            "visibility": null,
            "width": null
          }
        },
        "db6ef848cf0b4df4b6f23883c6a9337e": {
          "model_module": "@jupyter-widgets/controls",
          "model_name": "ProgressStyleModel",
          "model_module_version": "1.5.0",
          "state": {
            "_model_module": "@jupyter-widgets/controls",
            "_model_module_version": "1.5.0",
            "_model_name": "ProgressStyleModel",
            "_view_count": null,
            "_view_module": "@jupyter-widgets/base",
            "_view_module_version": "1.2.0",
            "_view_name": "StyleView",
            "bar_color": null,
            "description_width": ""
          }
        },
        "cdfb1cd2c04c45e0a11a2e3e3492b791": {
          "model_module": "@jupyter-widgets/base",
          "model_name": "LayoutModel",
          "model_module_version": "1.2.0",
          "state": {
            "_model_module": "@jupyter-widgets/base",
            "_model_module_version": "1.2.0",
            "_model_name": "LayoutModel",
            "_view_count": null,
            "_view_module": "@jupyter-widgets/base",
            "_view_module_version": "1.2.0",
            "_view_name": "LayoutView",
            "align_content": null,
            "align_items": null,
            "align_self": null,
            "border": null,
            "bottom": null,
            "display": null,
            "flex": null,
            "flex_flow": null,
            "grid_area": null,
            "grid_auto_columns": null,
            "grid_auto_flow": null,
            "grid_auto_rows": null,
            "grid_column": null,
            "grid_gap": null,
            "grid_row": null,
            "grid_template_areas": null,
            "grid_template_columns": null,
            "grid_template_rows": null,
            "height": null,
            "justify_content": null,
            "justify_items": null,
            "left": null,
            "margin": null,
            "max_height": null,
            "max_width": null,
            "min_height": null,
            "min_width": null,
            "object_fit": null,
            "object_position": null,
            "order": null,
            "overflow": null,
            "overflow_x": null,
            "overflow_y": null,
            "padding": null,
            "right": null,
            "top": null,
            "visibility": null,
            "width": null
          }
        },
        "1acc8a690b234c0f9676ff7c8c000958": {
          "model_module": "@jupyter-widgets/controls",
          "model_name": "DescriptionStyleModel",
          "model_module_version": "1.5.0",
          "state": {
            "_model_module": "@jupyter-widgets/controls",
            "_model_module_version": "1.5.0",
            "_model_name": "DescriptionStyleModel",
            "_view_count": null,
            "_view_module": "@jupyter-widgets/base",
            "_view_module_version": "1.2.0",
            "_view_name": "StyleView",
            "description_width": ""
          }
        },
        "dfa4e75a37ca4cf58030681b363539a0": {
          "model_module": "@jupyter-widgets/controls",
          "model_name": "HBoxModel",
          "model_module_version": "1.5.0",
          "state": {
            "_dom_classes": [],
            "_model_module": "@jupyter-widgets/controls",
            "_model_module_version": "1.5.0",
            "_model_name": "HBoxModel",
            "_view_count": null,
            "_view_module": "@jupyter-widgets/controls",
            "_view_module_version": "1.5.0",
            "_view_name": "HBoxView",
            "box_style": "",
            "children": [
              "IPY_MODEL_d795bdd11d7d44469b52c6eea734059c",
              "IPY_MODEL_861cf0a1a6f442348392c20cc93ec003",
              "IPY_MODEL_930a9f814f0640b5bc4139be9f79d471"
            ],
            "layout": "IPY_MODEL_f1f82446b73f4b78b269a8b1487d62b4"
          }
        },
        "d795bdd11d7d44469b52c6eea734059c": {
          "model_module": "@jupyter-widgets/controls",
          "model_name": "HTMLModel",
          "model_module_version": "1.5.0",
          "state": {
            "_dom_classes": [],
            "_model_module": "@jupyter-widgets/controls",
            "_model_module_version": "1.5.0",
            "_model_name": "HTMLModel",
            "_view_count": null,
            "_view_module": "@jupyter-widgets/controls",
            "_view_module_version": "1.5.0",
            "_view_name": "HTMLView",
            "description": "",
            "description_tooltip": null,
            "layout": "IPY_MODEL_45902b5e83724cf391df5cbf3b4205ae",
            "placeholder": "​",
            "style": "IPY_MODEL_b22f725042b240c1b3584a7abfefdb45",
            "value": "modules.json: 100%"
          }
        },
        "861cf0a1a6f442348392c20cc93ec003": {
          "model_module": "@jupyter-widgets/controls",
          "model_name": "FloatProgressModel",
          "model_module_version": "1.5.0",
          "state": {
            "_dom_classes": [],
            "_model_module": "@jupyter-widgets/controls",
            "_model_module_version": "1.5.0",
            "_model_name": "FloatProgressModel",
            "_view_count": null,
            "_view_module": "@jupyter-widgets/controls",
            "_view_module_version": "1.5.0",
            "_view_name": "ProgressView",
            "bar_style": "success",
            "description": "",
            "description_tooltip": null,
            "layout": "IPY_MODEL_52e4cd1139fa40a7b3bfb7c5033fe117",
            "max": 349,
            "min": 0,
            "orientation": "horizontal",
            "style": "IPY_MODEL_73bed0e1b2ab4238910a529973e3e411",
            "value": 349
          }
        },
        "930a9f814f0640b5bc4139be9f79d471": {
          "model_module": "@jupyter-widgets/controls",
          "model_name": "HTMLModel",
          "model_module_version": "1.5.0",
          "state": {
            "_dom_classes": [],
            "_model_module": "@jupyter-widgets/controls",
            "_model_module_version": "1.5.0",
            "_model_name": "HTMLModel",
            "_view_count": null,
            "_view_module": "@jupyter-widgets/controls",
            "_view_module_version": "1.5.0",
            "_view_name": "HTMLView",
            "description": "",
            "description_tooltip": null,
            "layout": "IPY_MODEL_121a2242aa5e47a1be5591c017c52bd0",
            "placeholder": "​",
            "style": "IPY_MODEL_90305bb987ff4c3085b6c58e2c988432",
            "value": " 349/349 [00:00&lt;00:00, 26.8kB/s]"
          }
        },
        "f1f82446b73f4b78b269a8b1487d62b4": {
          "model_module": "@jupyter-widgets/base",
          "model_name": "LayoutModel",
          "model_module_version": "1.2.0",
          "state": {
            "_model_module": "@jupyter-widgets/base",
            "_model_module_version": "1.2.0",
            "_model_name": "LayoutModel",
            "_view_count": null,
            "_view_module": "@jupyter-widgets/base",
            "_view_module_version": "1.2.0",
            "_view_name": "LayoutView",
            "align_content": null,
            "align_items": null,
            "align_self": null,
            "border": null,
            "bottom": null,
            "display": null,
            "flex": null,
            "flex_flow": null,
            "grid_area": null,
            "grid_auto_columns": null,
            "grid_auto_flow": null,
            "grid_auto_rows": null,
            "grid_column": null,
            "grid_gap": null,
            "grid_row": null,
            "grid_template_areas": null,
            "grid_template_columns": null,
            "grid_template_rows": null,
            "height": null,
            "justify_content": null,
            "justify_items": null,
            "left": null,
            "margin": null,
            "max_height": null,
            "max_width": null,
            "min_height": null,
            "min_width": null,
            "object_fit": null,
            "object_position": null,
            "order": null,
            "overflow": null,
            "overflow_x": null,
            "overflow_y": null,
            "padding": null,
            "right": null,
            "top": null,
            "visibility": null,
            "width": null
          }
        },
        "45902b5e83724cf391df5cbf3b4205ae": {
          "model_module": "@jupyter-widgets/base",
          "model_name": "LayoutModel",
          "model_module_version": "1.2.0",
          "state": {
            "_model_module": "@jupyter-widgets/base",
            "_model_module_version": "1.2.0",
            "_model_name": "LayoutModel",
            "_view_count": null,
            "_view_module": "@jupyter-widgets/base",
            "_view_module_version": "1.2.0",
            "_view_name": "LayoutView",
            "align_content": null,
            "align_items": null,
            "align_self": null,
            "border": null,
            "bottom": null,
            "display": null,
            "flex": null,
            "flex_flow": null,
            "grid_area": null,
            "grid_auto_columns": null,
            "grid_auto_flow": null,
            "grid_auto_rows": null,
            "grid_column": null,
            "grid_gap": null,
            "grid_row": null,
            "grid_template_areas": null,
            "grid_template_columns": null,
            "grid_template_rows": null,
            "height": null,
            "justify_content": null,
            "justify_items": null,
            "left": null,
            "margin": null,
            "max_height": null,
            "max_width": null,
            "min_height": null,
            "min_width": null,
            "object_fit": null,
            "object_position": null,
            "order": null,
            "overflow": null,
            "overflow_x": null,
            "overflow_y": null,
            "padding": null,
            "right": null,
            "top": null,
            "visibility": null,
            "width": null
          }
        },
        "b22f725042b240c1b3584a7abfefdb45": {
          "model_module": "@jupyter-widgets/controls",
          "model_name": "DescriptionStyleModel",
          "model_module_version": "1.5.0",
          "state": {
            "_model_module": "@jupyter-widgets/controls",
            "_model_module_version": "1.5.0",
            "_model_name": "DescriptionStyleModel",
            "_view_count": null,
            "_view_module": "@jupyter-widgets/base",
            "_view_module_version": "1.2.0",
            "_view_name": "StyleView",
            "description_width": ""
          }
        },
        "52e4cd1139fa40a7b3bfb7c5033fe117": {
          "model_module": "@jupyter-widgets/base",
          "model_name": "LayoutModel",
          "model_module_version": "1.2.0",
          "state": {
            "_model_module": "@jupyter-widgets/base",
            "_model_module_version": "1.2.0",
            "_model_name": "LayoutModel",
            "_view_count": null,
            "_view_module": "@jupyter-widgets/base",
            "_view_module_version": "1.2.0",
            "_view_name": "LayoutView",
            "align_content": null,
            "align_items": null,
            "align_self": null,
            "border": null,
            "bottom": null,
            "display": null,
            "flex": null,
            "flex_flow": null,
            "grid_area": null,
            "grid_auto_columns": null,
            "grid_auto_flow": null,
            "grid_auto_rows": null,
            "grid_column": null,
            "grid_gap": null,
            "grid_row": null,
            "grid_template_areas": null,
            "grid_template_columns": null,
            "grid_template_rows": null,
            "height": null,
            "justify_content": null,
            "justify_items": null,
            "left": null,
            "margin": null,
            "max_height": null,
            "max_width": null,
            "min_height": null,
            "min_width": null,
            "object_fit": null,
            "object_position": null,
            "order": null,
            "overflow": null,
            "overflow_x": null,
            "overflow_y": null,
            "padding": null,
            "right": null,
            "top": null,
            "visibility": null,
            "width": null
          }
        },
        "73bed0e1b2ab4238910a529973e3e411": {
          "model_module": "@jupyter-widgets/controls",
          "model_name": "ProgressStyleModel",
          "model_module_version": "1.5.0",
          "state": {
            "_model_module": "@jupyter-widgets/controls",
            "_model_module_version": "1.5.0",
            "_model_name": "ProgressStyleModel",
            "_view_count": null,
            "_view_module": "@jupyter-widgets/base",
            "_view_module_version": "1.2.0",
            "_view_name": "StyleView",
            "bar_color": null,
            "description_width": ""
          }
        },
        "121a2242aa5e47a1be5591c017c52bd0": {
          "model_module": "@jupyter-widgets/base",
          "model_name": "LayoutModel",
          "model_module_version": "1.2.0",
          "state": {
            "_model_module": "@jupyter-widgets/base",
            "_model_module_version": "1.2.0",
            "_model_name": "LayoutModel",
            "_view_count": null,
            "_view_module": "@jupyter-widgets/base",
            "_view_module_version": "1.2.0",
            "_view_name": "LayoutView",
            "align_content": null,
            "align_items": null,
            "align_self": null,
            "border": null,
            "bottom": null,
            "display": null,
            "flex": null,
            "flex_flow": null,
            "grid_area": null,
            "grid_auto_columns": null,
            "grid_auto_flow": null,
            "grid_auto_rows": null,
            "grid_column": null,
            "grid_gap": null,
            "grid_row": null,
            "grid_template_areas": null,
            "grid_template_columns": null,
            "grid_template_rows": null,
            "height": null,
            "justify_content": null,
            "justify_items": null,
            "left": null,
            "margin": null,
            "max_height": null,
            "max_width": null,
            "min_height": null,
            "min_width": null,
            "object_fit": null,
            "object_position": null,
            "order": null,
            "overflow": null,
            "overflow_x": null,
            "overflow_y": null,
            "padding": null,
            "right": null,
            "top": null,
            "visibility": null,
            "width": null
          }
        },
        "90305bb987ff4c3085b6c58e2c988432": {
          "model_module": "@jupyter-widgets/controls",
          "model_name": "DescriptionStyleModel",
          "model_module_version": "1.5.0",
          "state": {
            "_model_module": "@jupyter-widgets/controls",
            "_model_module_version": "1.5.0",
            "_model_name": "DescriptionStyleModel",
            "_view_count": null,
            "_view_module": "@jupyter-widgets/base",
            "_view_module_version": "1.2.0",
            "_view_name": "StyleView",
            "description_width": ""
          }
        },
        "523c688a0a594441ba78ed8cff9091ef": {
          "model_module": "@jupyter-widgets/controls",
          "model_name": "HBoxModel",
          "model_module_version": "1.5.0",
          "state": {
            "_dom_classes": [],
            "_model_module": "@jupyter-widgets/controls",
            "_model_module_version": "1.5.0",
            "_model_name": "HBoxModel",
            "_view_count": null,
            "_view_module": "@jupyter-widgets/controls",
            "_view_module_version": "1.5.0",
            "_view_name": "HBoxView",
            "box_style": "",
            "children": [
              "IPY_MODEL_1bf156949b494902b84964b85a753bb6",
              "IPY_MODEL_f20e1d985148457d80317dfcc1516800",
              "IPY_MODEL_d08cbbf35c4b48d78aa972af90f53467"
            ],
            "layout": "IPY_MODEL_f29441cca8ad41e1ae9d1cec0dd8c96c"
          }
        },
        "1bf156949b494902b84964b85a753bb6": {
          "model_module": "@jupyter-widgets/controls",
          "model_name": "HTMLModel",
          "model_module_version": "1.5.0",
          "state": {
            "_dom_classes": [],
            "_model_module": "@jupyter-widgets/controls",
            "_model_module_version": "1.5.0",
            "_model_name": "HTMLModel",
            "_view_count": null,
            "_view_module": "@jupyter-widgets/controls",
            "_view_module_version": "1.5.0",
            "_view_name": "HTMLView",
            "description": "",
            "description_tooltip": null,
            "layout": "IPY_MODEL_7ad3994bddcc40068492e37f0dc02090",
            "placeholder": "​",
            "style": "IPY_MODEL_cd08162461b24543835461cf90756273",
            "value": "config_sentence_transformers.json: 100%"
          }
        },
        "f20e1d985148457d80317dfcc1516800": {
          "model_module": "@jupyter-widgets/controls",
          "model_name": "FloatProgressModel",
          "model_module_version": "1.5.0",
          "state": {
            "_dom_classes": [],
            "_model_module": "@jupyter-widgets/controls",
            "_model_module_version": "1.5.0",
            "_model_name": "FloatProgressModel",
            "_view_count": null,
            "_view_module": "@jupyter-widgets/controls",
            "_view_module_version": "1.5.0",
            "_view_name": "ProgressView",
            "bar_style": "success",
            "description": "",
            "description_tooltip": null,
            "layout": "IPY_MODEL_d6b0879d232d49a2a53f11df67761ffa",
            "max": 116,
            "min": 0,
            "orientation": "horizontal",
            "style": "IPY_MODEL_2901415989364fe884cb537d399f2dc7",
            "value": 116
          }
        },
        "d08cbbf35c4b48d78aa972af90f53467": {
          "model_module": "@jupyter-widgets/controls",
          "model_name": "HTMLModel",
          "model_module_version": "1.5.0",
          "state": {
            "_dom_classes": [],
            "_model_module": "@jupyter-widgets/controls",
            "_model_module_version": "1.5.0",
            "_model_name": "HTMLModel",
            "_view_count": null,
            "_view_module": "@jupyter-widgets/controls",
            "_view_module_version": "1.5.0",
            "_view_name": "HTMLView",
            "description": "",
            "description_tooltip": null,
            "layout": "IPY_MODEL_f3a0595c115c476ebe3ba6da812e7f2e",
            "placeholder": "​",
            "style": "IPY_MODEL_1579adca62ae4f23854d5b63e7263702",
            "value": " 116/116 [00:00&lt;00:00, 9.43kB/s]"
          }
        },
        "f29441cca8ad41e1ae9d1cec0dd8c96c": {
          "model_module": "@jupyter-widgets/base",
          "model_name": "LayoutModel",
          "model_module_version": "1.2.0",
          "state": {
            "_model_module": "@jupyter-widgets/base",
            "_model_module_version": "1.2.0",
            "_model_name": "LayoutModel",
            "_view_count": null,
            "_view_module": "@jupyter-widgets/base",
            "_view_module_version": "1.2.0",
            "_view_name": "LayoutView",
            "align_content": null,
            "align_items": null,
            "align_self": null,
            "border": null,
            "bottom": null,
            "display": null,
            "flex": null,
            "flex_flow": null,
            "grid_area": null,
            "grid_auto_columns": null,
            "grid_auto_flow": null,
            "grid_auto_rows": null,
            "grid_column": null,
            "grid_gap": null,
            "grid_row": null,
            "grid_template_areas": null,
            "grid_template_columns": null,
            "grid_template_rows": null,
            "height": null,
            "justify_content": null,
            "justify_items": null,
            "left": null,
            "margin": null,
            "max_height": null,
            "max_width": null,
            "min_height": null,
            "min_width": null,
            "object_fit": null,
            "object_position": null,
            "order": null,
            "overflow": null,
            "overflow_x": null,
            "overflow_y": null,
            "padding": null,
            "right": null,
            "top": null,
            "visibility": null,
            "width": null
          }
        },
        "7ad3994bddcc40068492e37f0dc02090": {
          "model_module": "@jupyter-widgets/base",
          "model_name": "LayoutModel",
          "model_module_version": "1.2.0",
          "state": {
            "_model_module": "@jupyter-widgets/base",
            "_model_module_version": "1.2.0",
            "_model_name": "LayoutModel",
            "_view_count": null,
            "_view_module": "@jupyter-widgets/base",
            "_view_module_version": "1.2.0",
            "_view_name": "LayoutView",
            "align_content": null,
            "align_items": null,
            "align_self": null,
            "border": null,
            "bottom": null,
            "display": null,
            "flex": null,
            "flex_flow": null,
            "grid_area": null,
            "grid_auto_columns": null,
            "grid_auto_flow": null,
            "grid_auto_rows": null,
            "grid_column": null,
            "grid_gap": null,
            "grid_row": null,
            "grid_template_areas": null,
            "grid_template_columns": null,
            "grid_template_rows": null,
            "height": null,
            "justify_content": null,
            "justify_items": null,
            "left": null,
            "margin": null,
            "max_height": null,
            "max_width": null,
            "min_height": null,
            "min_width": null,
            "object_fit": null,
            "object_position": null,
            "order": null,
            "overflow": null,
            "overflow_x": null,
            "overflow_y": null,
            "padding": null,
            "right": null,
            "top": null,
            "visibility": null,
            "width": null
          }
        },
        "cd08162461b24543835461cf90756273": {
          "model_module": "@jupyter-widgets/controls",
          "model_name": "DescriptionStyleModel",
          "model_module_version": "1.5.0",
          "state": {
            "_model_module": "@jupyter-widgets/controls",
            "_model_module_version": "1.5.0",
            "_model_name": "DescriptionStyleModel",
            "_view_count": null,
            "_view_module": "@jupyter-widgets/base",
            "_view_module_version": "1.2.0",
            "_view_name": "StyleView",
            "description_width": ""
          }
        },
        "d6b0879d232d49a2a53f11df67761ffa": {
          "model_module": "@jupyter-widgets/base",
          "model_name": "LayoutModel",
          "model_module_version": "1.2.0",
          "state": {
            "_model_module": "@jupyter-widgets/base",
            "_model_module_version": "1.2.0",
            "_model_name": "LayoutModel",
            "_view_count": null,
            "_view_module": "@jupyter-widgets/base",
            "_view_module_version": "1.2.0",
            "_view_name": "LayoutView",
            "align_content": null,
            "align_items": null,
            "align_self": null,
            "border": null,
            "bottom": null,
            "display": null,
            "flex": null,
            "flex_flow": null,
            "grid_area": null,
            "grid_auto_columns": null,
            "grid_auto_flow": null,
            "grid_auto_rows": null,
            "grid_column": null,
            "grid_gap": null,
            "grid_row": null,
            "grid_template_areas": null,
            "grid_template_columns": null,
            "grid_template_rows": null,
            "height": null,
            "justify_content": null,
            "justify_items": null,
            "left": null,
            "margin": null,
            "max_height": null,
            "max_width": null,
            "min_height": null,
            "min_width": null,
            "object_fit": null,
            "object_position": null,
            "order": null,
            "overflow": null,
            "overflow_x": null,
            "overflow_y": null,
            "padding": null,
            "right": null,
            "top": null,
            "visibility": null,
            "width": null
          }
        },
        "2901415989364fe884cb537d399f2dc7": {
          "model_module": "@jupyter-widgets/controls",
          "model_name": "ProgressStyleModel",
          "model_module_version": "1.5.0",
          "state": {
            "_model_module": "@jupyter-widgets/controls",
            "_model_module_version": "1.5.0",
            "_model_name": "ProgressStyleModel",
            "_view_count": null,
            "_view_module": "@jupyter-widgets/base",
            "_view_module_version": "1.2.0",
            "_view_name": "StyleView",
            "bar_color": null,
            "description_width": ""
          }
        },
        "f3a0595c115c476ebe3ba6da812e7f2e": {
          "model_module": "@jupyter-widgets/base",
          "model_name": "LayoutModel",
          "model_module_version": "1.2.0",
          "state": {
            "_model_module": "@jupyter-widgets/base",
            "_model_module_version": "1.2.0",
            "_model_name": "LayoutModel",
            "_view_count": null,
            "_view_module": "@jupyter-widgets/base",
            "_view_module_version": "1.2.0",
            "_view_name": "LayoutView",
            "align_content": null,
            "align_items": null,
            "align_self": null,
            "border": null,
            "bottom": null,
            "display": null,
            "flex": null,
            "flex_flow": null,
            "grid_area": null,
            "grid_auto_columns": null,
            "grid_auto_flow": null,
            "grid_auto_rows": null,
            "grid_column": null,
            "grid_gap": null,
            "grid_row": null,
            "grid_template_areas": null,
            "grid_template_columns": null,
            "grid_template_rows": null,
            "height": null,
            "justify_content": null,
            "justify_items": null,
            "left": null,
            "margin": null,
            "max_height": null,
            "max_width": null,
            "min_height": null,
            "min_width": null,
            "object_fit": null,
            "object_position": null,
            "order": null,
            "overflow": null,
            "overflow_x": null,
            "overflow_y": null,
            "padding": null,
            "right": null,
            "top": null,
            "visibility": null,
            "width": null
          }
        },
        "1579adca62ae4f23854d5b63e7263702": {
          "model_module": "@jupyter-widgets/controls",
          "model_name": "DescriptionStyleModel",
          "model_module_version": "1.5.0",
          "state": {
            "_model_module": "@jupyter-widgets/controls",
            "_model_module_version": "1.5.0",
            "_model_name": "DescriptionStyleModel",
            "_view_count": null,
            "_view_module": "@jupyter-widgets/base",
            "_view_module_version": "1.2.0",
            "_view_name": "StyleView",
            "description_width": ""
          }
        },
        "0d57f7d98b5049a18433856c68f8d6b0": {
          "model_module": "@jupyter-widgets/controls",
          "model_name": "HBoxModel",
          "model_module_version": "1.5.0",
          "state": {
            "_dom_classes": [],
            "_model_module": "@jupyter-widgets/controls",
            "_model_module_version": "1.5.0",
            "_model_name": "HBoxModel",
            "_view_count": null,
            "_view_module": "@jupyter-widgets/controls",
            "_view_module_version": "1.5.0",
            "_view_name": "HBoxView",
            "box_style": "",
            "children": [
              "IPY_MODEL_695ed9532b4748c4924d4cc3cb654b47",
              "IPY_MODEL_f782340be1734d5eb3c1cdbda7902013",
              "IPY_MODEL_4cec090df87d40eabdc03d7a13da789a"
            ],
            "layout": "IPY_MODEL_a16ef0ae2ce9403b98d038503cf6c58c"
          }
        },
        "695ed9532b4748c4924d4cc3cb654b47": {
          "model_module": "@jupyter-widgets/controls",
          "model_name": "HTMLModel",
          "model_module_version": "1.5.0",
          "state": {
            "_dom_classes": [],
            "_model_module": "@jupyter-widgets/controls",
            "_model_module_version": "1.5.0",
            "_model_name": "HTMLModel",
            "_view_count": null,
            "_view_module": "@jupyter-widgets/controls",
            "_view_module_version": "1.5.0",
            "_view_name": "HTMLView",
            "description": "",
            "description_tooltip": null,
            "layout": "IPY_MODEL_a34a7375e7e44863b749e0a6be76d1db",
            "placeholder": "​",
            "style": "IPY_MODEL_55e1f149eaf7427999408019f19a801a",
            "value": "README.md: 100%"
          }
        },
        "f782340be1734d5eb3c1cdbda7902013": {
          "model_module": "@jupyter-widgets/controls",
          "model_name": "FloatProgressModel",
          "model_module_version": "1.5.0",
          "state": {
            "_dom_classes": [],
            "_model_module": "@jupyter-widgets/controls",
            "_model_module_version": "1.5.0",
            "_model_name": "FloatProgressModel",
            "_view_count": null,
            "_view_module": "@jupyter-widgets/controls",
            "_view_module_version": "1.5.0",
            "_view_name": "ProgressView",
            "bar_style": "success",
            "description": "",
            "description_tooltip": null,
            "layout": "IPY_MODEL_221889ee21af4d6b98a63acf76eaf233",
            "max": 10415,
            "min": 0,
            "orientation": "horizontal",
            "style": "IPY_MODEL_82ce645484fe4c86acd821d74f478e7d",
            "value": 10415
          }
        },
        "4cec090df87d40eabdc03d7a13da789a": {
          "model_module": "@jupyter-widgets/controls",
          "model_name": "HTMLModel",
          "model_module_version": "1.5.0",
          "state": {
            "_dom_classes": [],
            "_model_module": "@jupyter-widgets/controls",
            "_model_module_version": "1.5.0",
            "_model_name": "HTMLModel",
            "_view_count": null,
            "_view_module": "@jupyter-widgets/controls",
            "_view_module_version": "1.5.0",
            "_view_name": "HTMLView",
            "description": "",
            "description_tooltip": null,
            "layout": "IPY_MODEL_e4f46f6878c5468ab0761ef6089e4c94",
            "placeholder": "​",
            "style": "IPY_MODEL_c408e7e521004cb8a86aaad5f4033f05",
            "value": " 10.4k/10.4k [00:00&lt;00:00, 845kB/s]"
          }
        },
        "a16ef0ae2ce9403b98d038503cf6c58c": {
          "model_module": "@jupyter-widgets/base",
          "model_name": "LayoutModel",
          "model_module_version": "1.2.0",
          "state": {
            "_model_module": "@jupyter-widgets/base",
            "_model_module_version": "1.2.0",
            "_model_name": "LayoutModel",
            "_view_count": null,
            "_view_module": "@jupyter-widgets/base",
            "_view_module_version": "1.2.0",
            "_view_name": "LayoutView",
            "align_content": null,
            "align_items": null,
            "align_self": null,
            "border": null,
            "bottom": null,
            "display": null,
            "flex": null,
            "flex_flow": null,
            "grid_area": null,
            "grid_auto_columns": null,
            "grid_auto_flow": null,
            "grid_auto_rows": null,
            "grid_column": null,
            "grid_gap": null,
            "grid_row": null,
            "grid_template_areas": null,
            "grid_template_columns": null,
            "grid_template_rows": null,
            "height": null,
            "justify_content": null,
            "justify_items": null,
            "left": null,
            "margin": null,
            "max_height": null,
            "max_width": null,
            "min_height": null,
            "min_width": null,
            "object_fit": null,
            "object_position": null,
            "order": null,
            "overflow": null,
            "overflow_x": null,
            "overflow_y": null,
            "padding": null,
            "right": null,
            "top": null,
            "visibility": null,
            "width": null
          }
        },
        "a34a7375e7e44863b749e0a6be76d1db": {
          "model_module": "@jupyter-widgets/base",
          "model_name": "LayoutModel",
          "model_module_version": "1.2.0",
          "state": {
            "_model_module": "@jupyter-widgets/base",
            "_model_module_version": "1.2.0",
            "_model_name": "LayoutModel",
            "_view_count": null,
            "_view_module": "@jupyter-widgets/base",
            "_view_module_version": "1.2.0",
            "_view_name": "LayoutView",
            "align_content": null,
            "align_items": null,
            "align_self": null,
            "border": null,
            "bottom": null,
            "display": null,
            "flex": null,
            "flex_flow": null,
            "grid_area": null,
            "grid_auto_columns": null,
            "grid_auto_flow": null,
            "grid_auto_rows": null,
            "grid_column": null,
            "grid_gap": null,
            "grid_row": null,
            "grid_template_areas": null,
            "grid_template_columns": null,
            "grid_template_rows": null,
            "height": null,
            "justify_content": null,
            "justify_items": null,
            "left": null,
            "margin": null,
            "max_height": null,
            "max_width": null,
            "min_height": null,
            "min_width": null,
            "object_fit": null,
            "object_position": null,
            "order": null,
            "overflow": null,
            "overflow_x": null,
            "overflow_y": null,
            "padding": null,
            "right": null,
            "top": null,
            "visibility": null,
            "width": null
          }
        },
        "55e1f149eaf7427999408019f19a801a": {
          "model_module": "@jupyter-widgets/controls",
          "model_name": "DescriptionStyleModel",
          "model_module_version": "1.5.0",
          "state": {
            "_model_module": "@jupyter-widgets/controls",
            "_model_module_version": "1.5.0",
            "_model_name": "DescriptionStyleModel",
            "_view_count": null,
            "_view_module": "@jupyter-widgets/base",
            "_view_module_version": "1.2.0",
            "_view_name": "StyleView",
            "description_width": ""
          }
        },
        "221889ee21af4d6b98a63acf76eaf233": {
          "model_module": "@jupyter-widgets/base",
          "model_name": "LayoutModel",
          "model_module_version": "1.2.0",
          "state": {
            "_model_module": "@jupyter-widgets/base",
            "_model_module_version": "1.2.0",
            "_model_name": "LayoutModel",
            "_view_count": null,
            "_view_module": "@jupyter-widgets/base",
            "_view_module_version": "1.2.0",
            "_view_name": "LayoutView",
            "align_content": null,
            "align_items": null,
            "align_self": null,
            "border": null,
            "bottom": null,
            "display": null,
            "flex": null,
            "flex_flow": null,
            "grid_area": null,
            "grid_auto_columns": null,
            "grid_auto_flow": null,
            "grid_auto_rows": null,
            "grid_column": null,
            "grid_gap": null,
            "grid_row": null,
            "grid_template_areas": null,
            "grid_template_columns": null,
            "grid_template_rows": null,
            "height": null,
            "justify_content": null,
            "justify_items": null,
            "left": null,
            "margin": null,
            "max_height": null,
            "max_width": null,
            "min_height": null,
            "min_width": null,
            "object_fit": null,
            "object_position": null,
            "order": null,
            "overflow": null,
            "overflow_x": null,
            "overflow_y": null,
            "padding": null,
            "right": null,
            "top": null,
            "visibility": null,
            "width": null
          }
        },
        "82ce645484fe4c86acd821d74f478e7d": {
          "model_module": "@jupyter-widgets/controls",
          "model_name": "ProgressStyleModel",
          "model_module_version": "1.5.0",
          "state": {
            "_model_module": "@jupyter-widgets/controls",
            "_model_module_version": "1.5.0",
            "_model_name": "ProgressStyleModel",
            "_view_count": null,
            "_view_module": "@jupyter-widgets/base",
            "_view_module_version": "1.2.0",
            "_view_name": "StyleView",
            "bar_color": null,
            "description_width": ""
          }
        },
        "e4f46f6878c5468ab0761ef6089e4c94": {
          "model_module": "@jupyter-widgets/base",
          "model_name": "LayoutModel",
          "model_module_version": "1.2.0",
          "state": {
            "_model_module": "@jupyter-widgets/base",
            "_model_module_version": "1.2.0",
            "_model_name": "LayoutModel",
            "_view_count": null,
            "_view_module": "@jupyter-widgets/base",
            "_view_module_version": "1.2.0",
            "_view_name": "LayoutView",
            "align_content": null,
            "align_items": null,
            "align_self": null,
            "border": null,
            "bottom": null,
            "display": null,
            "flex": null,
            "flex_flow": null,
            "grid_area": null,
            "grid_auto_columns": null,
            "grid_auto_flow": null,
            "grid_auto_rows": null,
            "grid_column": null,
            "grid_gap": null,
            "grid_row": null,
            "grid_template_areas": null,
            "grid_template_columns": null,
            "grid_template_rows": null,
            "height": null,
            "justify_content": null,
            "justify_items": null,
            "left": null,
            "margin": null,
            "max_height": null,
            "max_width": null,
            "min_height": null,
            "min_width": null,
            "object_fit": null,
            "object_position": null,
            "order": null,
            "overflow": null,
            "overflow_x": null,
            "overflow_y": null,
            "padding": null,
            "right": null,
            "top": null,
            "visibility": null,
            "width": null
          }
        },
        "c408e7e521004cb8a86aaad5f4033f05": {
          "model_module": "@jupyter-widgets/controls",
          "model_name": "DescriptionStyleModel",
          "model_module_version": "1.5.0",
          "state": {
            "_model_module": "@jupyter-widgets/controls",
            "_model_module_version": "1.5.0",
            "_model_name": "DescriptionStyleModel",
            "_view_count": null,
            "_view_module": "@jupyter-widgets/base",
            "_view_module_version": "1.2.0",
            "_view_name": "StyleView",
            "description_width": ""
          }
        },
        "c3c65bbd63a94a75964851f928a5b356": {
          "model_module": "@jupyter-widgets/controls",
          "model_name": "HBoxModel",
          "model_module_version": "1.5.0",
          "state": {
            "_dom_classes": [],
            "_model_module": "@jupyter-widgets/controls",
            "_model_module_version": "1.5.0",
            "_model_name": "HBoxModel",
            "_view_count": null,
            "_view_module": "@jupyter-widgets/controls",
            "_view_module_version": "1.5.0",
            "_view_name": "HBoxView",
            "box_style": "",
            "children": [
              "IPY_MODEL_1438f3383c3a46469d01ed224c64bde0",
              "IPY_MODEL_b3719a9296554594a18e8f4ba55653dc",
              "IPY_MODEL_a3244be3096a4d278230b2e7ebe43205"
            ],
            "layout": "IPY_MODEL_4f666ab7176e47e691610ecd5d537214"
          }
        },
        "1438f3383c3a46469d01ed224c64bde0": {
          "model_module": "@jupyter-widgets/controls",
          "model_name": "HTMLModel",
          "model_module_version": "1.5.0",
          "state": {
            "_dom_classes": [],
            "_model_module": "@jupyter-widgets/controls",
            "_model_module_version": "1.5.0",
            "_model_name": "HTMLModel",
            "_view_count": null,
            "_view_module": "@jupyter-widgets/controls",
            "_view_module_version": "1.5.0",
            "_view_name": "HTMLView",
            "description": "",
            "description_tooltip": null,
            "layout": "IPY_MODEL_05077e53699c4e11b0c13d562de903da",
            "placeholder": "​",
            "style": "IPY_MODEL_30259f72705a4565b1b437b7207fddad",
            "value": "sentence_bert_config.json: 100%"
          }
        },
        "b3719a9296554594a18e8f4ba55653dc": {
          "model_module": "@jupyter-widgets/controls",
          "model_name": "FloatProgressModel",
          "model_module_version": "1.5.0",
          "state": {
            "_dom_classes": [],
            "_model_module": "@jupyter-widgets/controls",
            "_model_module_version": "1.5.0",
            "_model_name": "FloatProgressModel",
            "_view_count": null,
            "_view_module": "@jupyter-widgets/controls",
            "_view_module_version": "1.5.0",
            "_view_name": "ProgressView",
            "bar_style": "success",
            "description": "",
            "description_tooltip": null,
            "layout": "IPY_MODEL_20628b3f2d1348649d8766281b7f6dd5",
            "max": 53,
            "min": 0,
            "orientation": "horizontal",
            "style": "IPY_MODEL_2e00bca50db14ad292b33e25695b344d",
            "value": 53
          }
        },
        "a3244be3096a4d278230b2e7ebe43205": {
          "model_module": "@jupyter-widgets/controls",
          "model_name": "HTMLModel",
          "model_module_version": "1.5.0",
          "state": {
            "_dom_classes": [],
            "_model_module": "@jupyter-widgets/controls",
            "_model_module_version": "1.5.0",
            "_model_name": "HTMLModel",
            "_view_count": null,
            "_view_module": "@jupyter-widgets/controls",
            "_view_module_version": "1.5.0",
            "_view_name": "HTMLView",
            "description": "",
            "description_tooltip": null,
            "layout": "IPY_MODEL_603bb0edf41c4da79ef3465213f91b4a",
            "placeholder": "​",
            "style": "IPY_MODEL_c52e527ba40e486182e41ead361e2f9e",
            "value": " 53.0/53.0 [00:00&lt;00:00, 1.68kB/s]"
          }
        },
        "4f666ab7176e47e691610ecd5d537214": {
          "model_module": "@jupyter-widgets/base",
          "model_name": "LayoutModel",
          "model_module_version": "1.2.0",
          "state": {
            "_model_module": "@jupyter-widgets/base",
            "_model_module_version": "1.2.0",
            "_model_name": "LayoutModel",
            "_view_count": null,
            "_view_module": "@jupyter-widgets/base",
            "_view_module_version": "1.2.0",
            "_view_name": "LayoutView",
            "align_content": null,
            "align_items": null,
            "align_self": null,
            "border": null,
            "bottom": null,
            "display": null,
            "flex": null,
            "flex_flow": null,
            "grid_area": null,
            "grid_auto_columns": null,
            "grid_auto_flow": null,
            "grid_auto_rows": null,
            "grid_column": null,
            "grid_gap": null,
            "grid_row": null,
            "grid_template_areas": null,
            "grid_template_columns": null,
            "grid_template_rows": null,
            "height": null,
            "justify_content": null,
            "justify_items": null,
            "left": null,
            "margin": null,
            "max_height": null,
            "max_width": null,
            "min_height": null,
            "min_width": null,
            "object_fit": null,
            "object_position": null,
            "order": null,
            "overflow": null,
            "overflow_x": null,
            "overflow_y": null,
            "padding": null,
            "right": null,
            "top": null,
            "visibility": null,
            "width": null
          }
        },
        "05077e53699c4e11b0c13d562de903da": {
          "model_module": "@jupyter-widgets/base",
          "model_name": "LayoutModel",
          "model_module_version": "1.2.0",
          "state": {
            "_model_module": "@jupyter-widgets/base",
            "_model_module_version": "1.2.0",
            "_model_name": "LayoutModel",
            "_view_count": null,
            "_view_module": "@jupyter-widgets/base",
            "_view_module_version": "1.2.0",
            "_view_name": "LayoutView",
            "align_content": null,
            "align_items": null,
            "align_self": null,
            "border": null,
            "bottom": null,
            "display": null,
            "flex": null,
            "flex_flow": null,
            "grid_area": null,
            "grid_auto_columns": null,
            "grid_auto_flow": null,
            "grid_auto_rows": null,
            "grid_column": null,
            "grid_gap": null,
            "grid_row": null,
            "grid_template_areas": null,
            "grid_template_columns": null,
            "grid_template_rows": null,
            "height": null,
            "justify_content": null,
            "justify_items": null,
            "left": null,
            "margin": null,
            "max_height": null,
            "max_width": null,
            "min_height": null,
            "min_width": null,
            "object_fit": null,
            "object_position": null,
            "order": null,
            "overflow": null,
            "overflow_x": null,
            "overflow_y": null,
            "padding": null,
            "right": null,
            "top": null,
            "visibility": null,
            "width": null
          }
        },
        "30259f72705a4565b1b437b7207fddad": {
          "model_module": "@jupyter-widgets/controls",
          "model_name": "DescriptionStyleModel",
          "model_module_version": "1.5.0",
          "state": {
            "_model_module": "@jupyter-widgets/controls",
            "_model_module_version": "1.5.0",
            "_model_name": "DescriptionStyleModel",
            "_view_count": null,
            "_view_module": "@jupyter-widgets/base",
            "_view_module_version": "1.2.0",
            "_view_name": "StyleView",
            "description_width": ""
          }
        },
        "20628b3f2d1348649d8766281b7f6dd5": {
          "model_module": "@jupyter-widgets/base",
          "model_name": "LayoutModel",
          "model_module_version": "1.2.0",
          "state": {
            "_model_module": "@jupyter-widgets/base",
            "_model_module_version": "1.2.0",
            "_model_name": "LayoutModel",
            "_view_count": null,
            "_view_module": "@jupyter-widgets/base",
            "_view_module_version": "1.2.0",
            "_view_name": "LayoutView",
            "align_content": null,
            "align_items": null,
            "align_self": null,
            "border": null,
            "bottom": null,
            "display": null,
            "flex": null,
            "flex_flow": null,
            "grid_area": null,
            "grid_auto_columns": null,
            "grid_auto_flow": null,
            "grid_auto_rows": null,
            "grid_column": null,
            "grid_gap": null,
            "grid_row": null,
            "grid_template_areas": null,
            "grid_template_columns": null,
            "grid_template_rows": null,
            "height": null,
            "justify_content": null,
            "justify_items": null,
            "left": null,
            "margin": null,
            "max_height": null,
            "max_width": null,
            "min_height": null,
            "min_width": null,
            "object_fit": null,
            "object_position": null,
            "order": null,
            "overflow": null,
            "overflow_x": null,
            "overflow_y": null,
            "padding": null,
            "right": null,
            "top": null,
            "visibility": null,
            "width": null
          }
        },
        "2e00bca50db14ad292b33e25695b344d": {
          "model_module": "@jupyter-widgets/controls",
          "model_name": "ProgressStyleModel",
          "model_module_version": "1.5.0",
          "state": {
            "_model_module": "@jupyter-widgets/controls",
            "_model_module_version": "1.5.0",
            "_model_name": "ProgressStyleModel",
            "_view_count": null,
            "_view_module": "@jupyter-widgets/base",
            "_view_module_version": "1.2.0",
            "_view_name": "StyleView",
            "bar_color": null,
            "description_width": ""
          }
        },
        "603bb0edf41c4da79ef3465213f91b4a": {
          "model_module": "@jupyter-widgets/base",
          "model_name": "LayoutModel",
          "model_module_version": "1.2.0",
          "state": {
            "_model_module": "@jupyter-widgets/base",
            "_model_module_version": "1.2.0",
            "_model_name": "LayoutModel",
            "_view_count": null,
            "_view_module": "@jupyter-widgets/base",
            "_view_module_version": "1.2.0",
            "_view_name": "LayoutView",
            "align_content": null,
            "align_items": null,
            "align_self": null,
            "border": null,
            "bottom": null,
            "display": null,
            "flex": null,
            "flex_flow": null,
            "grid_area": null,
            "grid_auto_columns": null,
            "grid_auto_flow": null,
            "grid_auto_rows": null,
            "grid_column": null,
            "grid_gap": null,
            "grid_row": null,
            "grid_template_areas": null,
            "grid_template_columns": null,
            "grid_template_rows": null,
            "height": null,
            "justify_content": null,
            "justify_items": null,
            "left": null,
            "margin": null,
            "max_height": null,
            "max_width": null,
            "min_height": null,
            "min_width": null,
            "object_fit": null,
            "object_position": null,
            "order": null,
            "overflow": null,
            "overflow_x": null,
            "overflow_y": null,
            "padding": null,
            "right": null,
            "top": null,
            "visibility": null,
            "width": null
          }
        },
        "c52e527ba40e486182e41ead361e2f9e": {
          "model_module": "@jupyter-widgets/controls",
          "model_name": "DescriptionStyleModel",
          "model_module_version": "1.5.0",
          "state": {
            "_model_module": "@jupyter-widgets/controls",
            "_model_module_version": "1.5.0",
            "_model_name": "DescriptionStyleModel",
            "_view_count": null,
            "_view_module": "@jupyter-widgets/base",
            "_view_module_version": "1.2.0",
            "_view_name": "StyleView",
            "description_width": ""
          }
        },
        "8d22138ddf744230bf237629509ad57a": {
          "model_module": "@jupyter-widgets/controls",
          "model_name": "HBoxModel",
          "model_module_version": "1.5.0",
          "state": {
            "_dom_classes": [],
            "_model_module": "@jupyter-widgets/controls",
            "_model_module_version": "1.5.0",
            "_model_name": "HBoxModel",
            "_view_count": null,
            "_view_module": "@jupyter-widgets/controls",
            "_view_module_version": "1.5.0",
            "_view_name": "HBoxView",
            "box_style": "",
            "children": [
              "IPY_MODEL_96289abb996046d69df1a2086c3aa069",
              "IPY_MODEL_6123bbf9e1694eed8c10fdbdca299b7c",
              "IPY_MODEL_a0359441f91b49cba7b1b72d504abb30"
            ],
            "layout": "IPY_MODEL_12d233558cf24159affbced0ef0f2d5a"
          }
        },
        "96289abb996046d69df1a2086c3aa069": {
          "model_module": "@jupyter-widgets/controls",
          "model_name": "HTMLModel",
          "model_module_version": "1.5.0",
          "state": {
            "_dom_classes": [],
            "_model_module": "@jupyter-widgets/controls",
            "_model_module_version": "1.5.0",
            "_model_name": "HTMLModel",
            "_view_count": null,
            "_view_module": "@jupyter-widgets/controls",
            "_view_module_version": "1.5.0",
            "_view_name": "HTMLView",
            "description": "",
            "description_tooltip": null,
            "layout": "IPY_MODEL_ce3b5c88975247b78b99ea542960c8dc",
            "placeholder": "​",
            "style": "IPY_MODEL_5c7a678a0f6e49c6b5de97aea48ddbb1",
            "value": "config.json: 100%"
          }
        },
        "6123bbf9e1694eed8c10fdbdca299b7c": {
          "model_module": "@jupyter-widgets/controls",
          "model_name": "FloatProgressModel",
          "model_module_version": "1.5.0",
          "state": {
            "_dom_classes": [],
            "_model_module": "@jupyter-widgets/controls",
            "_model_module_version": "1.5.0",
            "_model_name": "FloatProgressModel",
            "_view_count": null,
            "_view_module": "@jupyter-widgets/controls",
            "_view_module_version": "1.5.0",
            "_view_name": "ProgressView",
            "bar_style": "success",
            "description": "",
            "description_tooltip": null,
            "layout": "IPY_MODEL_8f7ad7e2916c49dbae6b998d5b610248",
            "max": 571,
            "min": 0,
            "orientation": "horizontal",
            "style": "IPY_MODEL_0097905c935246aba67f1168b7a6a10e",
            "value": 571
          }
        },
        "a0359441f91b49cba7b1b72d504abb30": {
          "model_module": "@jupyter-widgets/controls",
          "model_name": "HTMLModel",
          "model_module_version": "1.5.0",
          "state": {
            "_dom_classes": [],
            "_model_module": "@jupyter-widgets/controls",
            "_model_module_version": "1.5.0",
            "_model_name": "HTMLModel",
            "_view_count": null,
            "_view_module": "@jupyter-widgets/controls",
            "_view_module_version": "1.5.0",
            "_view_name": "HTMLView",
            "description": "",
            "description_tooltip": null,
            "layout": "IPY_MODEL_189001a63a3544ceb38a5103ede0262b",
            "placeholder": "​",
            "style": "IPY_MODEL_378d68d9b44e4c779f0fd27dcb6c2859",
            "value": " 571/571 [00:00&lt;00:00, 17.7kB/s]"
          }
        },
        "12d233558cf24159affbced0ef0f2d5a": {
          "model_module": "@jupyter-widgets/base",
          "model_name": "LayoutModel",
          "model_module_version": "1.2.0",
          "state": {
            "_model_module": "@jupyter-widgets/base",
            "_model_module_version": "1.2.0",
            "_model_name": "LayoutModel",
            "_view_count": null,
            "_view_module": "@jupyter-widgets/base",
            "_view_module_version": "1.2.0",
            "_view_name": "LayoutView",
            "align_content": null,
            "align_items": null,
            "align_self": null,
            "border": null,
            "bottom": null,
            "display": null,
            "flex": null,
            "flex_flow": null,
            "grid_area": null,
            "grid_auto_columns": null,
            "grid_auto_flow": null,
            "grid_auto_rows": null,
            "grid_column": null,
            "grid_gap": null,
            "grid_row": null,
            "grid_template_areas": null,
            "grid_template_columns": null,
            "grid_template_rows": null,
            "height": null,
            "justify_content": null,
            "justify_items": null,
            "left": null,
            "margin": null,
            "max_height": null,
            "max_width": null,
            "min_height": null,
            "min_width": null,
            "object_fit": null,
            "object_position": null,
            "order": null,
            "overflow": null,
            "overflow_x": null,
            "overflow_y": null,
            "padding": null,
            "right": null,
            "top": null,
            "visibility": null,
            "width": null
          }
        },
        "ce3b5c88975247b78b99ea542960c8dc": {
          "model_module": "@jupyter-widgets/base",
          "model_name": "LayoutModel",
          "model_module_version": "1.2.0",
          "state": {
            "_model_module": "@jupyter-widgets/base",
            "_model_module_version": "1.2.0",
            "_model_name": "LayoutModel",
            "_view_count": null,
            "_view_module": "@jupyter-widgets/base",
            "_view_module_version": "1.2.0",
            "_view_name": "LayoutView",
            "align_content": null,
            "align_items": null,
            "align_self": null,
            "border": null,
            "bottom": null,
            "display": null,
            "flex": null,
            "flex_flow": null,
            "grid_area": null,
            "grid_auto_columns": null,
            "grid_auto_flow": null,
            "grid_auto_rows": null,
            "grid_column": null,
            "grid_gap": null,
            "grid_row": null,
            "grid_template_areas": null,
            "grid_template_columns": null,
            "grid_template_rows": null,
            "height": null,
            "justify_content": null,
            "justify_items": null,
            "left": null,
            "margin": null,
            "max_height": null,
            "max_width": null,
            "min_height": null,
            "min_width": null,
            "object_fit": null,
            "object_position": null,
            "order": null,
            "overflow": null,
            "overflow_x": null,
            "overflow_y": null,
            "padding": null,
            "right": null,
            "top": null,
            "visibility": null,
            "width": null
          }
        },
        "5c7a678a0f6e49c6b5de97aea48ddbb1": {
          "model_module": "@jupyter-widgets/controls",
          "model_name": "DescriptionStyleModel",
          "model_module_version": "1.5.0",
          "state": {
            "_model_module": "@jupyter-widgets/controls",
            "_model_module_version": "1.5.0",
            "_model_name": "DescriptionStyleModel",
            "_view_count": null,
            "_view_module": "@jupyter-widgets/base",
            "_view_module_version": "1.2.0",
            "_view_name": "StyleView",
            "description_width": ""
          }
        },
        "8f7ad7e2916c49dbae6b998d5b610248": {
          "model_module": "@jupyter-widgets/base",
          "model_name": "LayoutModel",
          "model_module_version": "1.2.0",
          "state": {
            "_model_module": "@jupyter-widgets/base",
            "_model_module_version": "1.2.0",
            "_model_name": "LayoutModel",
            "_view_count": null,
            "_view_module": "@jupyter-widgets/base",
            "_view_module_version": "1.2.0",
            "_view_name": "LayoutView",
            "align_content": null,
            "align_items": null,
            "align_self": null,
            "border": null,
            "bottom": null,
            "display": null,
            "flex": null,
            "flex_flow": null,
            "grid_area": null,
            "grid_auto_columns": null,
            "grid_auto_flow": null,
            "grid_auto_rows": null,
            "grid_column": null,
            "grid_gap": null,
            "grid_row": null,
            "grid_template_areas": null,
            "grid_template_columns": null,
            "grid_template_rows": null,
            "height": null,
            "justify_content": null,
            "justify_items": null,
            "left": null,
            "margin": null,
            "max_height": null,
            "max_width": null,
            "min_height": null,
            "min_width": null,
            "object_fit": null,
            "object_position": null,
            "order": null,
            "overflow": null,
            "overflow_x": null,
            "overflow_y": null,
            "padding": null,
            "right": null,
            "top": null,
            "visibility": null,
            "width": null
          }
        },
        "0097905c935246aba67f1168b7a6a10e": {
          "model_module": "@jupyter-widgets/controls",
          "model_name": "ProgressStyleModel",
          "model_module_version": "1.5.0",
          "state": {
            "_model_module": "@jupyter-widgets/controls",
            "_model_module_version": "1.5.0",
            "_model_name": "ProgressStyleModel",
            "_view_count": null,
            "_view_module": "@jupyter-widgets/base",
            "_view_module_version": "1.2.0",
            "_view_name": "StyleView",
            "bar_color": null,
            "description_width": ""
          }
        },
        "189001a63a3544ceb38a5103ede0262b": {
          "model_module": "@jupyter-widgets/base",
          "model_name": "LayoutModel",
          "model_module_version": "1.2.0",
          "state": {
            "_model_module": "@jupyter-widgets/base",
            "_model_module_version": "1.2.0",
            "_model_name": "LayoutModel",
            "_view_count": null,
            "_view_module": "@jupyter-widgets/base",
            "_view_module_version": "1.2.0",
            "_view_name": "LayoutView",
            "align_content": null,
            "align_items": null,
            "align_self": null,
            "border": null,
            "bottom": null,
            "display": null,
            "flex": null,
            "flex_flow": null,
            "grid_area": null,
            "grid_auto_columns": null,
            "grid_auto_flow": null,
            "grid_auto_rows": null,
            "grid_column": null,
            "grid_gap": null,
            "grid_row": null,
            "grid_template_areas": null,
            "grid_template_columns": null,
            "grid_template_rows": null,
            "height": null,
            "justify_content": null,
            "justify_items": null,
            "left": null,
            "margin": null,
            "max_height": null,
            "max_width": null,
            "min_height": null,
            "min_width": null,
            "object_fit": null,
            "object_position": null,
            "order": null,
            "overflow": null,
            "overflow_x": null,
            "overflow_y": null,
            "padding": null,
            "right": null,
            "top": null,
            "visibility": null,
            "width": null
          }
        },
        "378d68d9b44e4c779f0fd27dcb6c2859": {
          "model_module": "@jupyter-widgets/controls",
          "model_name": "DescriptionStyleModel",
          "model_module_version": "1.5.0",
          "state": {
            "_model_module": "@jupyter-widgets/controls",
            "_model_module_version": "1.5.0",
            "_model_name": "DescriptionStyleModel",
            "_view_count": null,
            "_view_module": "@jupyter-widgets/base",
            "_view_module_version": "1.2.0",
            "_view_name": "StyleView",
            "description_width": ""
          }
        },
        "e40e14f5ba4747b9ba3b070f5e3e2641": {
          "model_module": "@jupyter-widgets/controls",
          "model_name": "HBoxModel",
          "model_module_version": "1.5.0",
          "state": {
            "_dom_classes": [],
            "_model_module": "@jupyter-widgets/controls",
            "_model_module_version": "1.5.0",
            "_model_name": "HBoxModel",
            "_view_count": null,
            "_view_module": "@jupyter-widgets/controls",
            "_view_module_version": "1.5.0",
            "_view_name": "HBoxView",
            "box_style": "",
            "children": [
              "IPY_MODEL_5a163efc4060479688cc7fef2eeab191",
              "IPY_MODEL_6d0507abbc014760b8322f03b4a4e987",
              "IPY_MODEL_f550d693bed745b78880821eabf1e76d"
            ],
            "layout": "IPY_MODEL_96f49ee1d0d445a7a974dc6734f0103c"
          }
        },
        "5a163efc4060479688cc7fef2eeab191": {
          "model_module": "@jupyter-widgets/controls",
          "model_name": "HTMLModel",
          "model_module_version": "1.5.0",
          "state": {
            "_dom_classes": [],
            "_model_module": "@jupyter-widgets/controls",
            "_model_module_version": "1.5.0",
            "_model_name": "HTMLModel",
            "_view_count": null,
            "_view_module": "@jupyter-widgets/controls",
            "_view_module_version": "1.5.0",
            "_view_name": "HTMLView",
            "description": "",
            "description_tooltip": null,
            "layout": "IPY_MODEL_c29b38cdc3b6460e9aa2bcd7aed49b8d",
            "placeholder": "​",
            "style": "IPY_MODEL_f24fce7030b94fef9fddbf6113741816",
            "value": "model.safetensors: 100%"
          }
        },
        "6d0507abbc014760b8322f03b4a4e987": {
          "model_module": "@jupyter-widgets/controls",
          "model_name": "FloatProgressModel",
          "model_module_version": "1.5.0",
          "state": {
            "_dom_classes": [],
            "_model_module": "@jupyter-widgets/controls",
            "_model_module_version": "1.5.0",
            "_model_name": "FloatProgressModel",
            "_view_count": null,
            "_view_module": "@jupyter-widgets/controls",
            "_view_module_version": "1.5.0",
            "_view_name": "ProgressView",
            "bar_style": "success",
            "description": "",
            "description_tooltip": null,
            "layout": "IPY_MODEL_56be94a8e4de4d538d95ffab80a6c18f",
            "max": 437971872,
            "min": 0,
            "orientation": "horizontal",
            "style": "IPY_MODEL_4c73865758664948a17525f6cb5d0525",
            "value": 437971872
          }
        },
        "f550d693bed745b78880821eabf1e76d": {
          "model_module": "@jupyter-widgets/controls",
          "model_name": "HTMLModel",
          "model_module_version": "1.5.0",
          "state": {
            "_dom_classes": [],
            "_model_module": "@jupyter-widgets/controls",
            "_model_module_version": "1.5.0",
            "_model_name": "HTMLModel",
            "_view_count": null,
            "_view_module": "@jupyter-widgets/controls",
            "_view_module_version": "1.5.0",
            "_view_name": "HTMLView",
            "description": "",
            "description_tooltip": null,
            "layout": "IPY_MODEL_d3454d6444dd4771a19117baf5253c5c",
            "placeholder": "​",
            "style": "IPY_MODEL_004d52f99d954f3abf76a6a5c03fc295",
            "value": " 438M/438M [00:08&lt;00:00, 59.2MB/s]"
          }
        },
        "96f49ee1d0d445a7a974dc6734f0103c": {
          "model_module": "@jupyter-widgets/base",
          "model_name": "LayoutModel",
          "model_module_version": "1.2.0",
          "state": {
            "_model_module": "@jupyter-widgets/base",
            "_model_module_version": "1.2.0",
            "_model_name": "LayoutModel",
            "_view_count": null,
            "_view_module": "@jupyter-widgets/base",
            "_view_module_version": "1.2.0",
            "_view_name": "LayoutView",
            "align_content": null,
            "align_items": null,
            "align_self": null,
            "border": null,
            "bottom": null,
            "display": null,
            "flex": null,
            "flex_flow": null,
            "grid_area": null,
            "grid_auto_columns": null,
            "grid_auto_flow": null,
            "grid_auto_rows": null,
            "grid_column": null,
            "grid_gap": null,
            "grid_row": null,
            "grid_template_areas": null,
            "grid_template_columns": null,
            "grid_template_rows": null,
            "height": null,
            "justify_content": null,
            "justify_items": null,
            "left": null,
            "margin": null,
            "max_height": null,
            "max_width": null,
            "min_height": null,
            "min_width": null,
            "object_fit": null,
            "object_position": null,
            "order": null,
            "overflow": null,
            "overflow_x": null,
            "overflow_y": null,
            "padding": null,
            "right": null,
            "top": null,
            "visibility": null,
            "width": null
          }
        },
        "c29b38cdc3b6460e9aa2bcd7aed49b8d": {
          "model_module": "@jupyter-widgets/base",
          "model_name": "LayoutModel",
          "model_module_version": "1.2.0",
          "state": {
            "_model_module": "@jupyter-widgets/base",
            "_model_module_version": "1.2.0",
            "_model_name": "LayoutModel",
            "_view_count": null,
            "_view_module": "@jupyter-widgets/base",
            "_view_module_version": "1.2.0",
            "_view_name": "LayoutView",
            "align_content": null,
            "align_items": null,
            "align_self": null,
            "border": null,
            "bottom": null,
            "display": null,
            "flex": null,
            "flex_flow": null,
            "grid_area": null,
            "grid_auto_columns": null,
            "grid_auto_flow": null,
            "grid_auto_rows": null,
            "grid_column": null,
            "grid_gap": null,
            "grid_row": null,
            "grid_template_areas": null,
            "grid_template_columns": null,
            "grid_template_rows": null,
            "height": null,
            "justify_content": null,
            "justify_items": null,
            "left": null,
            "margin": null,
            "max_height": null,
            "max_width": null,
            "min_height": null,
            "min_width": null,
            "object_fit": null,
            "object_position": null,
            "order": null,
            "overflow": null,
            "overflow_x": null,
            "overflow_y": null,
            "padding": null,
            "right": null,
            "top": null,
            "visibility": null,
            "width": null
          }
        },
        "f24fce7030b94fef9fddbf6113741816": {
          "model_module": "@jupyter-widgets/controls",
          "model_name": "DescriptionStyleModel",
          "model_module_version": "1.5.0",
          "state": {
            "_model_module": "@jupyter-widgets/controls",
            "_model_module_version": "1.5.0",
            "_model_name": "DescriptionStyleModel",
            "_view_count": null,
            "_view_module": "@jupyter-widgets/base",
            "_view_module_version": "1.2.0",
            "_view_name": "StyleView",
            "description_width": ""
          }
        },
        "56be94a8e4de4d538d95ffab80a6c18f": {
          "model_module": "@jupyter-widgets/base",
          "model_name": "LayoutModel",
          "model_module_version": "1.2.0",
          "state": {
            "_model_module": "@jupyter-widgets/base",
            "_model_module_version": "1.2.0",
            "_model_name": "LayoutModel",
            "_view_count": null,
            "_view_module": "@jupyter-widgets/base",
            "_view_module_version": "1.2.0",
            "_view_name": "LayoutView",
            "align_content": null,
            "align_items": null,
            "align_self": null,
            "border": null,
            "bottom": null,
            "display": null,
            "flex": null,
            "flex_flow": null,
            "grid_area": null,
            "grid_auto_columns": null,
            "grid_auto_flow": null,
            "grid_auto_rows": null,
            "grid_column": null,
            "grid_gap": null,
            "grid_row": null,
            "grid_template_areas": null,
            "grid_template_columns": null,
            "grid_template_rows": null,
            "height": null,
            "justify_content": null,
            "justify_items": null,
            "left": null,
            "margin": null,
            "max_height": null,
            "max_width": null,
            "min_height": null,
            "min_width": null,
            "object_fit": null,
            "object_position": null,
            "order": null,
            "overflow": null,
            "overflow_x": null,
            "overflow_y": null,
            "padding": null,
            "right": null,
            "top": null,
            "visibility": null,
            "width": null
          }
        },
        "4c73865758664948a17525f6cb5d0525": {
          "model_module": "@jupyter-widgets/controls",
          "model_name": "ProgressStyleModel",
          "model_module_version": "1.5.0",
          "state": {
            "_model_module": "@jupyter-widgets/controls",
            "_model_module_version": "1.5.0",
            "_model_name": "ProgressStyleModel",
            "_view_count": null,
            "_view_module": "@jupyter-widgets/base",
            "_view_module_version": "1.2.0",
            "_view_name": "StyleView",
            "bar_color": null,
            "description_width": ""
          }
        },
        "d3454d6444dd4771a19117baf5253c5c": {
          "model_module": "@jupyter-widgets/base",
          "model_name": "LayoutModel",
          "model_module_version": "1.2.0",
          "state": {
            "_model_module": "@jupyter-widgets/base",
            "_model_module_version": "1.2.0",
            "_model_name": "LayoutModel",
            "_view_count": null,
            "_view_module": "@jupyter-widgets/base",
            "_view_module_version": "1.2.0",
            "_view_name": "LayoutView",
            "align_content": null,
            "align_items": null,
            "align_self": null,
            "border": null,
            "bottom": null,
            "display": null,
            "flex": null,
            "flex_flow": null,
            "grid_area": null,
            "grid_auto_columns": null,
            "grid_auto_flow": null,
            "grid_auto_rows": null,
            "grid_column": null,
            "grid_gap": null,
            "grid_row": null,
            "grid_template_areas": null,
            "grid_template_columns": null,
            "grid_template_rows": null,
            "height": null,
            "justify_content": null,
            "justify_items": null,
            "left": null,
            "margin": null,
            "max_height": null,
            "max_width": null,
            "min_height": null,
            "min_width": null,
            "object_fit": null,
            "object_position": null,
            "order": null,
            "overflow": null,
            "overflow_x": null,
            "overflow_y": null,
            "padding": null,
            "right": null,
            "top": null,
            "visibility": null,
            "width": null
          }
        },
        "004d52f99d954f3abf76a6a5c03fc295": {
          "model_module": "@jupyter-widgets/controls",
          "model_name": "DescriptionStyleModel",
          "model_module_version": "1.5.0",
          "state": {
            "_model_module": "@jupyter-widgets/controls",
            "_model_module_version": "1.5.0",
            "_model_name": "DescriptionStyleModel",
            "_view_count": null,
            "_view_module": "@jupyter-widgets/base",
            "_view_module_version": "1.2.0",
            "_view_name": "StyleView",
            "description_width": ""
          }
        },
        "6ff9273ac0234cd2b69ba55b21f02d7c": {
          "model_module": "@jupyter-widgets/controls",
          "model_name": "HBoxModel",
          "model_module_version": "1.5.0",
          "state": {
            "_dom_classes": [],
            "_model_module": "@jupyter-widgets/controls",
            "_model_module_version": "1.5.0",
            "_model_name": "HBoxModel",
            "_view_count": null,
            "_view_module": "@jupyter-widgets/controls",
            "_view_module_version": "1.5.0",
            "_view_name": "HBoxView",
            "box_style": "",
            "children": [
              "IPY_MODEL_d55784dd327245939ca41a4f59f9dc07",
              "IPY_MODEL_5de7f39b256e4f70b3c38105f4bb3fea",
              "IPY_MODEL_d62223501f884ad7b35de6827d07d76e"
            ],
            "layout": "IPY_MODEL_f05c56148f9f4881990f36c02c717d4f"
          }
        },
        "d55784dd327245939ca41a4f59f9dc07": {
          "model_module": "@jupyter-widgets/controls",
          "model_name": "HTMLModel",
          "model_module_version": "1.5.0",
          "state": {
            "_dom_classes": [],
            "_model_module": "@jupyter-widgets/controls",
            "_model_module_version": "1.5.0",
            "_model_name": "HTMLModel",
            "_view_count": null,
            "_view_module": "@jupyter-widgets/controls",
            "_view_module_version": "1.5.0",
            "_view_name": "HTMLView",
            "description": "",
            "description_tooltip": null,
            "layout": "IPY_MODEL_4720d0d293e748b3b6b0638ebeb7ab73",
            "placeholder": "​",
            "style": "IPY_MODEL_bb0677ee2431489294cde01998b60d2d",
            "value": "tokenizer_config.json: 100%"
          }
        },
        "5de7f39b256e4f70b3c38105f4bb3fea": {
          "model_module": "@jupyter-widgets/controls",
          "model_name": "FloatProgressModel",
          "model_module_version": "1.5.0",
          "state": {
            "_dom_classes": [],
            "_model_module": "@jupyter-widgets/controls",
            "_model_module_version": "1.5.0",
            "_model_name": "FloatProgressModel",
            "_view_count": null,
            "_view_module": "@jupyter-widgets/controls",
            "_view_module_version": "1.5.0",
            "_view_name": "ProgressView",
            "bar_style": "success",
            "description": "",
            "description_tooltip": null,
            "layout": "IPY_MODEL_933aaa94bd3a47a9b7c3298579d2f67d",
            "max": 363,
            "min": 0,
            "orientation": "horizontal",
            "style": "IPY_MODEL_ef3d4621e3a74a62a4637be5f0b10664",
            "value": 363
          }
        },
        "d62223501f884ad7b35de6827d07d76e": {
          "model_module": "@jupyter-widgets/controls",
          "model_name": "HTMLModel",
          "model_module_version": "1.5.0",
          "state": {
            "_dom_classes": [],
            "_model_module": "@jupyter-widgets/controls",
            "_model_module_version": "1.5.0",
            "_model_name": "HTMLModel",
            "_view_count": null,
            "_view_module": "@jupyter-widgets/controls",
            "_view_module_version": "1.5.0",
            "_view_name": "HTMLView",
            "description": "",
            "description_tooltip": null,
            "layout": "IPY_MODEL_5298ad7dc9bc4342810b5ab4044a19dd",
            "placeholder": "​",
            "style": "IPY_MODEL_12661f73423c46a0ba885a29f2f42dba",
            "value": " 363/363 [00:00&lt;00:00, 7.48kB/s]"
          }
        },
        "f05c56148f9f4881990f36c02c717d4f": {
          "model_module": "@jupyter-widgets/base",
          "model_name": "LayoutModel",
          "model_module_version": "1.2.0",
          "state": {
            "_model_module": "@jupyter-widgets/base",
            "_model_module_version": "1.2.0",
            "_model_name": "LayoutModel",
            "_view_count": null,
            "_view_module": "@jupyter-widgets/base",
            "_view_module_version": "1.2.0",
            "_view_name": "LayoutView",
            "align_content": null,
            "align_items": null,
            "align_self": null,
            "border": null,
            "bottom": null,
            "display": null,
            "flex": null,
            "flex_flow": null,
            "grid_area": null,
            "grid_auto_columns": null,
            "grid_auto_flow": null,
            "grid_auto_rows": null,
            "grid_column": null,
            "grid_gap": null,
            "grid_row": null,
            "grid_template_areas": null,
            "grid_template_columns": null,
            "grid_template_rows": null,
            "height": null,
            "justify_content": null,
            "justify_items": null,
            "left": null,
            "margin": null,
            "max_height": null,
            "max_width": null,
            "min_height": null,
            "min_width": null,
            "object_fit": null,
            "object_position": null,
            "order": null,
            "overflow": null,
            "overflow_x": null,
            "overflow_y": null,
            "padding": null,
            "right": null,
            "top": null,
            "visibility": null,
            "width": null
          }
        },
        "4720d0d293e748b3b6b0638ebeb7ab73": {
          "model_module": "@jupyter-widgets/base",
          "model_name": "LayoutModel",
          "model_module_version": "1.2.0",
          "state": {
            "_model_module": "@jupyter-widgets/base",
            "_model_module_version": "1.2.0",
            "_model_name": "LayoutModel",
            "_view_count": null,
            "_view_module": "@jupyter-widgets/base",
            "_view_module_version": "1.2.0",
            "_view_name": "LayoutView",
            "align_content": null,
            "align_items": null,
            "align_self": null,
            "border": null,
            "bottom": null,
            "display": null,
            "flex": null,
            "flex_flow": null,
            "grid_area": null,
            "grid_auto_columns": null,
            "grid_auto_flow": null,
            "grid_auto_rows": null,
            "grid_column": null,
            "grid_gap": null,
            "grid_row": null,
            "grid_template_areas": null,
            "grid_template_columns": null,
            "grid_template_rows": null,
            "height": null,
            "justify_content": null,
            "justify_items": null,
            "left": null,
            "margin": null,
            "max_height": null,
            "max_width": null,
            "min_height": null,
            "min_width": null,
            "object_fit": null,
            "object_position": null,
            "order": null,
            "overflow": null,
            "overflow_x": null,
            "overflow_y": null,
            "padding": null,
            "right": null,
            "top": null,
            "visibility": null,
            "width": null
          }
        },
        "bb0677ee2431489294cde01998b60d2d": {
          "model_module": "@jupyter-widgets/controls",
          "model_name": "DescriptionStyleModel",
          "model_module_version": "1.5.0",
          "state": {
            "_model_module": "@jupyter-widgets/controls",
            "_model_module_version": "1.5.0",
            "_model_name": "DescriptionStyleModel",
            "_view_count": null,
            "_view_module": "@jupyter-widgets/base",
            "_view_module_version": "1.2.0",
            "_view_name": "StyleView",
            "description_width": ""
          }
        },
        "933aaa94bd3a47a9b7c3298579d2f67d": {
          "model_module": "@jupyter-widgets/base",
          "model_name": "LayoutModel",
          "model_module_version": "1.2.0",
          "state": {
            "_model_module": "@jupyter-widgets/base",
            "_model_module_version": "1.2.0",
            "_model_name": "LayoutModel",
            "_view_count": null,
            "_view_module": "@jupyter-widgets/base",
            "_view_module_version": "1.2.0",
            "_view_name": "LayoutView",
            "align_content": null,
            "align_items": null,
            "align_self": null,
            "border": null,
            "bottom": null,
            "display": null,
            "flex": null,
            "flex_flow": null,
            "grid_area": null,
            "grid_auto_columns": null,
            "grid_auto_flow": null,
            "grid_auto_rows": null,
            "grid_column": null,
            "grid_gap": null,
            "grid_row": null,
            "grid_template_areas": null,
            "grid_template_columns": null,
            "grid_template_rows": null,
            "height": null,
            "justify_content": null,
            "justify_items": null,
            "left": null,
            "margin": null,
            "max_height": null,
            "max_width": null,
            "min_height": null,
            "min_width": null,
            "object_fit": null,
            "object_position": null,
            "order": null,
            "overflow": null,
            "overflow_x": null,
            "overflow_y": null,
            "padding": null,
            "right": null,
            "top": null,
            "visibility": null,
            "width": null
          }
        },
        "ef3d4621e3a74a62a4637be5f0b10664": {
          "model_module": "@jupyter-widgets/controls",
          "model_name": "ProgressStyleModel",
          "model_module_version": "1.5.0",
          "state": {
            "_model_module": "@jupyter-widgets/controls",
            "_model_module_version": "1.5.0",
            "_model_name": "ProgressStyleModel",
            "_view_count": null,
            "_view_module": "@jupyter-widgets/base",
            "_view_module_version": "1.2.0",
            "_view_name": "StyleView",
            "bar_color": null,
            "description_width": ""
          }
        },
        "5298ad7dc9bc4342810b5ab4044a19dd": {
          "model_module": "@jupyter-widgets/base",
          "model_name": "LayoutModel",
          "model_module_version": "1.2.0",
          "state": {
            "_model_module": "@jupyter-widgets/base",
            "_model_module_version": "1.2.0",
            "_model_name": "LayoutModel",
            "_view_count": null,
            "_view_module": "@jupyter-widgets/base",
            "_view_module_version": "1.2.0",
            "_view_name": "LayoutView",
            "align_content": null,
            "align_items": null,
            "align_self": null,
            "border": null,
            "bottom": null,
            "display": null,
            "flex": null,
            "flex_flow": null,
            "grid_area": null,
            "grid_auto_columns": null,
            "grid_auto_flow": null,
            "grid_auto_rows": null,
            "grid_column": null,
            "grid_gap": null,
            "grid_row": null,
            "grid_template_areas": null,
            "grid_template_columns": null,
            "grid_template_rows": null,
            "height": null,
            "justify_content": null,
            "justify_items": null,
            "left": null,
            "margin": null,
            "max_height": null,
            "max_width": null,
            "min_height": null,
            "min_width": null,
            "object_fit": null,
            "object_position": null,
            "order": null,
            "overflow": null,
            "overflow_x": null,
            "overflow_y": null,
            "padding": null,
            "right": null,
            "top": null,
            "visibility": null,
            "width": null
          }
        },
        "12661f73423c46a0ba885a29f2f42dba": {
          "model_module": "@jupyter-widgets/controls",
          "model_name": "DescriptionStyleModel",
          "model_module_version": "1.5.0",
          "state": {
            "_model_module": "@jupyter-widgets/controls",
            "_model_module_version": "1.5.0",
            "_model_name": "DescriptionStyleModel",
            "_view_count": null,
            "_view_module": "@jupyter-widgets/base",
            "_view_module_version": "1.2.0",
            "_view_name": "StyleView",
            "description_width": ""
          }
        },
        "2e7f5f36df474aad8d6e3db4728e158d": {
          "model_module": "@jupyter-widgets/controls",
          "model_name": "HBoxModel",
          "model_module_version": "1.5.0",
          "state": {
            "_dom_classes": [],
            "_model_module": "@jupyter-widgets/controls",
            "_model_module_version": "1.5.0",
            "_model_name": "HBoxModel",
            "_view_count": null,
            "_view_module": "@jupyter-widgets/controls",
            "_view_module_version": "1.5.0",
            "_view_name": "HBoxView",
            "box_style": "",
            "children": [
              "IPY_MODEL_72b241a2f2654f23a67063568dabe5e7",
              "IPY_MODEL_3174dc0805364d9ebe12435e23900e84",
              "IPY_MODEL_d623740a42d74cf790827131e0d26614"
            ],
            "layout": "IPY_MODEL_3794cd74e8e644c4a137e44af1e4a98a"
          }
        },
        "72b241a2f2654f23a67063568dabe5e7": {
          "model_module": "@jupyter-widgets/controls",
          "model_name": "HTMLModel",
          "model_module_version": "1.5.0",
          "state": {
            "_dom_classes": [],
            "_model_module": "@jupyter-widgets/controls",
            "_model_module_version": "1.5.0",
            "_model_name": "HTMLModel",
            "_view_count": null,
            "_view_module": "@jupyter-widgets/controls",
            "_view_module_version": "1.5.0",
            "_view_name": "HTMLView",
            "description": "",
            "description_tooltip": null,
            "layout": "IPY_MODEL_ef8504c10c814a29abe5f79941d675ec",
            "placeholder": "​",
            "style": "IPY_MODEL_3a51d530d3a04fc6a488a40053d0bd52",
            "value": "vocab.txt: 100%"
          }
        },
        "3174dc0805364d9ebe12435e23900e84": {
          "model_module": "@jupyter-widgets/controls",
          "model_name": "FloatProgressModel",
          "model_module_version": "1.5.0",
          "state": {
            "_dom_classes": [],
            "_model_module": "@jupyter-widgets/controls",
            "_model_module_version": "1.5.0",
            "_model_name": "FloatProgressModel",
            "_view_count": null,
            "_view_module": "@jupyter-widgets/controls",
            "_view_module_version": "1.5.0",
            "_view_name": "ProgressView",
            "bar_style": "success",
            "description": "",
            "description_tooltip": null,
            "layout": "IPY_MODEL_69c73659a0854a57954f40fca633b409",
            "max": 231536,
            "min": 0,
            "orientation": "horizontal",
            "style": "IPY_MODEL_20f1ac95427a44ef9a37198368617d51",
            "value": 231536
          }
        },
        "d623740a42d74cf790827131e0d26614": {
          "model_module": "@jupyter-widgets/controls",
          "model_name": "HTMLModel",
          "model_module_version": "1.5.0",
          "state": {
            "_dom_classes": [],
            "_model_module": "@jupyter-widgets/controls",
            "_model_module_version": "1.5.0",
            "_model_name": "HTMLModel",
            "_view_count": null,
            "_view_module": "@jupyter-widgets/controls",
            "_view_module_version": "1.5.0",
            "_view_name": "HTMLView",
            "description": "",
            "description_tooltip": null,
            "layout": "IPY_MODEL_18c70513e61d4ca9829f1ab1eef560ec",
            "placeholder": "​",
            "style": "IPY_MODEL_883f41f9f4e64bc4b475bdd5ffd023a1",
            "value": " 232k/232k [00:00&lt;00:00, 1.85MB/s]"
          }
        },
        "3794cd74e8e644c4a137e44af1e4a98a": {
          "model_module": "@jupyter-widgets/base",
          "model_name": "LayoutModel",
          "model_module_version": "1.2.0",
          "state": {
            "_model_module": "@jupyter-widgets/base",
            "_model_module_version": "1.2.0",
            "_model_name": "LayoutModel",
            "_view_count": null,
            "_view_module": "@jupyter-widgets/base",
            "_view_module_version": "1.2.0",
            "_view_name": "LayoutView",
            "align_content": null,
            "align_items": null,
            "align_self": null,
            "border": null,
            "bottom": null,
            "display": null,
            "flex": null,
            "flex_flow": null,
            "grid_area": null,
            "grid_auto_columns": null,
            "grid_auto_flow": null,
            "grid_auto_rows": null,
            "grid_column": null,
            "grid_gap": null,
            "grid_row": null,
            "grid_template_areas": null,
            "grid_template_columns": null,
            "grid_template_rows": null,
            "height": null,
            "justify_content": null,
            "justify_items": null,
            "left": null,
            "margin": null,
            "max_height": null,
            "max_width": null,
            "min_height": null,
            "min_width": null,
            "object_fit": null,
            "object_position": null,
            "order": null,
            "overflow": null,
            "overflow_x": null,
            "overflow_y": null,
            "padding": null,
            "right": null,
            "top": null,
            "visibility": null,
            "width": null
          }
        },
        "ef8504c10c814a29abe5f79941d675ec": {
          "model_module": "@jupyter-widgets/base",
          "model_name": "LayoutModel",
          "model_module_version": "1.2.0",
          "state": {
            "_model_module": "@jupyter-widgets/base",
            "_model_module_version": "1.2.0",
            "_model_name": "LayoutModel",
            "_view_count": null,
            "_view_module": "@jupyter-widgets/base",
            "_view_module_version": "1.2.0",
            "_view_name": "LayoutView",
            "align_content": null,
            "align_items": null,
            "align_self": null,
            "border": null,
            "bottom": null,
            "display": null,
            "flex": null,
            "flex_flow": null,
            "grid_area": null,
            "grid_auto_columns": null,
            "grid_auto_flow": null,
            "grid_auto_rows": null,
            "grid_column": null,
            "grid_gap": null,
            "grid_row": null,
            "grid_template_areas": null,
            "grid_template_columns": null,
            "grid_template_rows": null,
            "height": null,
            "justify_content": null,
            "justify_items": null,
            "left": null,
            "margin": null,
            "max_height": null,
            "max_width": null,
            "min_height": null,
            "min_width": null,
            "object_fit": null,
            "object_position": null,
            "order": null,
            "overflow": null,
            "overflow_x": null,
            "overflow_y": null,
            "padding": null,
            "right": null,
            "top": null,
            "visibility": null,
            "width": null
          }
        },
        "3a51d530d3a04fc6a488a40053d0bd52": {
          "model_module": "@jupyter-widgets/controls",
          "model_name": "DescriptionStyleModel",
          "model_module_version": "1.5.0",
          "state": {
            "_model_module": "@jupyter-widgets/controls",
            "_model_module_version": "1.5.0",
            "_model_name": "DescriptionStyleModel",
            "_view_count": null,
            "_view_module": "@jupyter-widgets/base",
            "_view_module_version": "1.2.0",
            "_view_name": "StyleView",
            "description_width": ""
          }
        },
        "69c73659a0854a57954f40fca633b409": {
          "model_module": "@jupyter-widgets/base",
          "model_name": "LayoutModel",
          "model_module_version": "1.2.0",
          "state": {
            "_model_module": "@jupyter-widgets/base",
            "_model_module_version": "1.2.0",
            "_model_name": "LayoutModel",
            "_view_count": null,
            "_view_module": "@jupyter-widgets/base",
            "_view_module_version": "1.2.0",
            "_view_name": "LayoutView",
            "align_content": null,
            "align_items": null,
            "align_self": null,
            "border": null,
            "bottom": null,
            "display": null,
            "flex": null,
            "flex_flow": null,
            "grid_area": null,
            "grid_auto_columns": null,
            "grid_auto_flow": null,
            "grid_auto_rows": null,
            "grid_column": null,
            "grid_gap": null,
            "grid_row": null,
            "grid_template_areas": null,
            "grid_template_columns": null,
            "grid_template_rows": null,
            "height": null,
            "justify_content": null,
            "justify_items": null,
            "left": null,
            "margin": null,
            "max_height": null,
            "max_width": null,
            "min_height": null,
            "min_width": null,
            "object_fit": null,
            "object_position": null,
            "order": null,
            "overflow": null,
            "overflow_x": null,
            "overflow_y": null,
            "padding": null,
            "right": null,
            "top": null,
            "visibility": null,
            "width": null
          }
        },
        "20f1ac95427a44ef9a37198368617d51": {
          "model_module": "@jupyter-widgets/controls",
          "model_name": "ProgressStyleModel",
          "model_module_version": "1.5.0",
          "state": {
            "_model_module": "@jupyter-widgets/controls",
            "_model_module_version": "1.5.0",
            "_model_name": "ProgressStyleModel",
            "_view_count": null,
            "_view_module": "@jupyter-widgets/base",
            "_view_module_version": "1.2.0",
            "_view_name": "StyleView",
            "bar_color": null,
            "description_width": ""
          }
        },
        "18c70513e61d4ca9829f1ab1eef560ec": {
          "model_module": "@jupyter-widgets/base",
          "model_name": "LayoutModel",
          "model_module_version": "1.2.0",
          "state": {
            "_model_module": "@jupyter-widgets/base",
            "_model_module_version": "1.2.0",
            "_model_name": "LayoutModel",
            "_view_count": null,
            "_view_module": "@jupyter-widgets/base",
            "_view_module_version": "1.2.0",
            "_view_name": "LayoutView",
            "align_content": null,
            "align_items": null,
            "align_self": null,
            "border": null,
            "bottom": null,
            "display": null,
            "flex": null,
            "flex_flow": null,
            "grid_area": null,
            "grid_auto_columns": null,
            "grid_auto_flow": null,
            "grid_auto_rows": null,
            "grid_column": null,
            "grid_gap": null,
            "grid_row": null,
            "grid_template_areas": null,
            "grid_template_columns": null,
            "grid_template_rows": null,
            "height": null,
            "justify_content": null,
            "justify_items": null,
            "left": null,
            "margin": null,
            "max_height": null,
            "max_width": null,
            "min_height": null,
            "min_width": null,
            "object_fit": null,
            "object_position": null,
            "order": null,
            "overflow": null,
            "overflow_x": null,
            "overflow_y": null,
            "padding": null,
            "right": null,
            "top": null,
            "visibility": null,
            "width": null
          }
        },
        "883f41f9f4e64bc4b475bdd5ffd023a1": {
          "model_module": "@jupyter-widgets/controls",
          "model_name": "DescriptionStyleModel",
          "model_module_version": "1.5.0",
          "state": {
            "_model_module": "@jupyter-widgets/controls",
            "_model_module_version": "1.5.0",
            "_model_name": "DescriptionStyleModel",
            "_view_count": null,
            "_view_module": "@jupyter-widgets/base",
            "_view_module_version": "1.2.0",
            "_view_name": "StyleView",
            "description_width": ""
          }
        },
        "ed84d46380bc4103b9a3c3ccdc78d77c": {
          "model_module": "@jupyter-widgets/controls",
          "model_name": "HBoxModel",
          "model_module_version": "1.5.0",
          "state": {
            "_dom_classes": [],
            "_model_module": "@jupyter-widgets/controls",
            "_model_module_version": "1.5.0",
            "_model_name": "HBoxModel",
            "_view_count": null,
            "_view_module": "@jupyter-widgets/controls",
            "_view_module_version": "1.5.0",
            "_view_name": "HBoxView",
            "box_style": "",
            "children": [
              "IPY_MODEL_7c3ad36236ca4daa8aa494016da39dfc",
              "IPY_MODEL_631967417c4e41cf827cf922ae7c98d4",
              "IPY_MODEL_42f902c3078e44cdba1e6cb513379242"
            ],
            "layout": "IPY_MODEL_7e81bb47659d4f219f73fce14c04ecbb"
          }
        },
        "7c3ad36236ca4daa8aa494016da39dfc": {
          "model_module": "@jupyter-widgets/controls",
          "model_name": "HTMLModel",
          "model_module_version": "1.5.0",
          "state": {
            "_dom_classes": [],
            "_model_module": "@jupyter-widgets/controls",
            "_model_module_version": "1.5.0",
            "_model_name": "HTMLModel",
            "_view_count": null,
            "_view_module": "@jupyter-widgets/controls",
            "_view_module_version": "1.5.0",
            "_view_name": "HTMLView",
            "description": "",
            "description_tooltip": null,
            "layout": "IPY_MODEL_df7eabd6c2784e7eb8cd00a7d623b241",
            "placeholder": "​",
            "style": "IPY_MODEL_178e1b85ab9a40dc8f9fb1e15904e9c8",
            "value": "tokenizer.json: 100%"
          }
        },
        "631967417c4e41cf827cf922ae7c98d4": {
          "model_module": "@jupyter-widgets/controls",
          "model_name": "FloatProgressModel",
          "model_module_version": "1.5.0",
          "state": {
            "_dom_classes": [],
            "_model_module": "@jupyter-widgets/controls",
            "_model_module_version": "1.5.0",
            "_model_name": "FloatProgressModel",
            "_view_count": null,
            "_view_module": "@jupyter-widgets/controls",
            "_view_module_version": "1.5.0",
            "_view_name": "ProgressView",
            "bar_style": "success",
            "description": "",
            "description_tooltip": null,
            "layout": "IPY_MODEL_26b8cfcfaa604c2280a0b6cdce15ac68",
            "max": 466021,
            "min": 0,
            "orientation": "horizontal",
            "style": "IPY_MODEL_1d3b443b7eb6440290a35ebc2d49a857",
            "value": 466021
          }
        },
        "42f902c3078e44cdba1e6cb513379242": {
          "model_module": "@jupyter-widgets/controls",
          "model_name": "HTMLModel",
          "model_module_version": "1.5.0",
          "state": {
            "_dom_classes": [],
            "_model_module": "@jupyter-widgets/controls",
            "_model_module_version": "1.5.0",
            "_model_name": "HTMLModel",
            "_view_count": null,
            "_view_module": "@jupyter-widgets/controls",
            "_view_module_version": "1.5.0",
            "_view_name": "HTMLView",
            "description": "",
            "description_tooltip": null,
            "layout": "IPY_MODEL_614b7c93a031414198d629e0e51ca6d1",
            "placeholder": "​",
            "style": "IPY_MODEL_4e041d76c7c243d391db2f884360982b",
            "value": " 466k/466k [00:00&lt;00:00, 6.85MB/s]"
          }
        },
        "7e81bb47659d4f219f73fce14c04ecbb": {
          "model_module": "@jupyter-widgets/base",
          "model_name": "LayoutModel",
          "model_module_version": "1.2.0",
          "state": {
            "_model_module": "@jupyter-widgets/base",
            "_model_module_version": "1.2.0",
            "_model_name": "LayoutModel",
            "_view_count": null,
            "_view_module": "@jupyter-widgets/base",
            "_view_module_version": "1.2.0",
            "_view_name": "LayoutView",
            "align_content": null,
            "align_items": null,
            "align_self": null,
            "border": null,
            "bottom": null,
            "display": null,
            "flex": null,
            "flex_flow": null,
            "grid_area": null,
            "grid_auto_columns": null,
            "grid_auto_flow": null,
            "grid_auto_rows": null,
            "grid_column": null,
            "grid_gap": null,
            "grid_row": null,
            "grid_template_areas": null,
            "grid_template_columns": null,
            "grid_template_rows": null,
            "height": null,
            "justify_content": null,
            "justify_items": null,
            "left": null,
            "margin": null,
            "max_height": null,
            "max_width": null,
            "min_height": null,
            "min_width": null,
            "object_fit": null,
            "object_position": null,
            "order": null,
            "overflow": null,
            "overflow_x": null,
            "overflow_y": null,
            "padding": null,
            "right": null,
            "top": null,
            "visibility": null,
            "width": null
          }
        },
        "df7eabd6c2784e7eb8cd00a7d623b241": {
          "model_module": "@jupyter-widgets/base",
          "model_name": "LayoutModel",
          "model_module_version": "1.2.0",
          "state": {
            "_model_module": "@jupyter-widgets/base",
            "_model_module_version": "1.2.0",
            "_model_name": "LayoutModel",
            "_view_count": null,
            "_view_module": "@jupyter-widgets/base",
            "_view_module_version": "1.2.0",
            "_view_name": "LayoutView",
            "align_content": null,
            "align_items": null,
            "align_self": null,
            "border": null,
            "bottom": null,
            "display": null,
            "flex": null,
            "flex_flow": null,
            "grid_area": null,
            "grid_auto_columns": null,
            "grid_auto_flow": null,
            "grid_auto_rows": null,
            "grid_column": null,
            "grid_gap": null,
            "grid_row": null,
            "grid_template_areas": null,
            "grid_template_columns": null,
            "grid_template_rows": null,
            "height": null,
            "justify_content": null,
            "justify_items": null,
            "left": null,
            "margin": null,
            "max_height": null,
            "max_width": null,
            "min_height": null,
            "min_width": null,
            "object_fit": null,
            "object_position": null,
            "order": null,
            "overflow": null,
            "overflow_x": null,
            "overflow_y": null,
            "padding": null,
            "right": null,
            "top": null,
            "visibility": null,
            "width": null
          }
        },
        "178e1b85ab9a40dc8f9fb1e15904e9c8": {
          "model_module": "@jupyter-widgets/controls",
          "model_name": "DescriptionStyleModel",
          "model_module_version": "1.5.0",
          "state": {
            "_model_module": "@jupyter-widgets/controls",
            "_model_module_version": "1.5.0",
            "_model_name": "DescriptionStyleModel",
            "_view_count": null,
            "_view_module": "@jupyter-widgets/base",
            "_view_module_version": "1.2.0",
            "_view_name": "StyleView",
            "description_width": ""
          }
        },
        "26b8cfcfaa604c2280a0b6cdce15ac68": {
          "model_module": "@jupyter-widgets/base",
          "model_name": "LayoutModel",
          "model_module_version": "1.2.0",
          "state": {
            "_model_module": "@jupyter-widgets/base",
            "_model_module_version": "1.2.0",
            "_model_name": "LayoutModel",
            "_view_count": null,
            "_view_module": "@jupyter-widgets/base",
            "_view_module_version": "1.2.0",
            "_view_name": "LayoutView",
            "align_content": null,
            "align_items": null,
            "align_self": null,
            "border": null,
            "bottom": null,
            "display": null,
            "flex": null,
            "flex_flow": null,
            "grid_area": null,
            "grid_auto_columns": null,
            "grid_auto_flow": null,
            "grid_auto_rows": null,
            "grid_column": null,
            "grid_gap": null,
            "grid_row": null,
            "grid_template_areas": null,
            "grid_template_columns": null,
            "grid_template_rows": null,
            "height": null,
            "justify_content": null,
            "justify_items": null,
            "left": null,
            "margin": null,
            "max_height": null,
            "max_width": null,
            "min_height": null,
            "min_width": null,
            "object_fit": null,
            "object_position": null,
            "order": null,
            "overflow": null,
            "overflow_x": null,
            "overflow_y": null,
            "padding": null,
            "right": null,
            "top": null,
            "visibility": null,
            "width": null
          }
        },
        "1d3b443b7eb6440290a35ebc2d49a857": {
          "model_module": "@jupyter-widgets/controls",
          "model_name": "ProgressStyleModel",
          "model_module_version": "1.5.0",
          "state": {
            "_model_module": "@jupyter-widgets/controls",
            "_model_module_version": "1.5.0",
            "_model_name": "ProgressStyleModel",
            "_view_count": null,
            "_view_module": "@jupyter-widgets/base",
            "_view_module_version": "1.2.0",
            "_view_name": "StyleView",
            "bar_color": null,
            "description_width": ""
          }
        },
        "614b7c93a031414198d629e0e51ca6d1": {
          "model_module": "@jupyter-widgets/base",
          "model_name": "LayoutModel",
          "model_module_version": "1.2.0",
          "state": {
            "_model_module": "@jupyter-widgets/base",
            "_model_module_version": "1.2.0",
            "_model_name": "LayoutModel",
            "_view_count": null,
            "_view_module": "@jupyter-widgets/base",
            "_view_module_version": "1.2.0",
            "_view_name": "LayoutView",
            "align_content": null,
            "align_items": null,
            "align_self": null,
            "border": null,
            "bottom": null,
            "display": null,
            "flex": null,
            "flex_flow": null,
            "grid_area": null,
            "grid_auto_columns": null,
            "grid_auto_flow": null,
            "grid_auto_rows": null,
            "grid_column": null,
            "grid_gap": null,
            "grid_row": null,
            "grid_template_areas": null,
            "grid_template_columns": null,
            "grid_template_rows": null,
            "height": null,
            "justify_content": null,
            "justify_items": null,
            "left": null,
            "margin": null,
            "max_height": null,
            "max_width": null,
            "min_height": null,
            "min_width": null,
            "object_fit": null,
            "object_position": null,
            "order": null,
            "overflow": null,
            "overflow_x": null,
            "overflow_y": null,
            "padding": null,
            "right": null,
            "top": null,
            "visibility": null,
            "width": null
          }
        },
        "4e041d76c7c243d391db2f884360982b": {
          "model_module": "@jupyter-widgets/controls",
          "model_name": "DescriptionStyleModel",
          "model_module_version": "1.5.0",
          "state": {
            "_model_module": "@jupyter-widgets/controls",
            "_model_module_version": "1.5.0",
            "_model_name": "DescriptionStyleModel",
            "_view_count": null,
            "_view_module": "@jupyter-widgets/base",
            "_view_module_version": "1.2.0",
            "_view_name": "StyleView",
            "description_width": ""
          }
        },
        "0c15332930f94371b1f3ee057e88746c": {
          "model_module": "@jupyter-widgets/controls",
          "model_name": "HBoxModel",
          "model_module_version": "1.5.0",
          "state": {
            "_dom_classes": [],
            "_model_module": "@jupyter-widgets/controls",
            "_model_module_version": "1.5.0",
            "_model_name": "HBoxModel",
            "_view_count": null,
            "_view_module": "@jupyter-widgets/controls",
            "_view_module_version": "1.5.0",
            "_view_name": "HBoxView",
            "box_style": "",
            "children": [
              "IPY_MODEL_8280a6518a2f4fea87f563ce3cdce182",
              "IPY_MODEL_c3409405b0d3455f95d7643888e434a2",
              "IPY_MODEL_72a280570e564c1db53c7312a08b8505"
            ],
            "layout": "IPY_MODEL_16e17b32c6404409adb04c79eeb5bea0"
          }
        },
        "8280a6518a2f4fea87f563ce3cdce182": {
          "model_module": "@jupyter-widgets/controls",
          "model_name": "HTMLModel",
          "model_module_version": "1.5.0",
          "state": {
            "_dom_classes": [],
            "_model_module": "@jupyter-widgets/controls",
            "_model_module_version": "1.5.0",
            "_model_name": "HTMLModel",
            "_view_count": null,
            "_view_module": "@jupyter-widgets/controls",
            "_view_module_version": "1.5.0",
            "_view_name": "HTMLView",
            "description": "",
            "description_tooltip": null,
            "layout": "IPY_MODEL_532684921f3944c1964431a81d4f62e9",
            "placeholder": "​",
            "style": "IPY_MODEL_d71839d80b2048cd80f06dc4c7474f95",
            "value": "special_tokens_map.json: 100%"
          }
        },
        "c3409405b0d3455f95d7643888e434a2": {
          "model_module": "@jupyter-widgets/controls",
          "model_name": "FloatProgressModel",
          "model_module_version": "1.5.0",
          "state": {
            "_dom_classes": [],
            "_model_module": "@jupyter-widgets/controls",
            "_model_module_version": "1.5.0",
            "_model_name": "FloatProgressModel",
            "_view_count": null,
            "_view_module": "@jupyter-widgets/controls",
            "_view_module_version": "1.5.0",
            "_view_name": "ProgressView",
            "bar_style": "success",
            "description": "",
            "description_tooltip": null,
            "layout": "IPY_MODEL_8323770d7bd24cde866ddc850e38e168",
            "max": 239,
            "min": 0,
            "orientation": "horizontal",
            "style": "IPY_MODEL_a4d2f8cf799c4be1b6fdfb40699594bc",
            "value": 239
          }
        },
        "72a280570e564c1db53c7312a08b8505": {
          "model_module": "@jupyter-widgets/controls",
          "model_name": "HTMLModel",
          "model_module_version": "1.5.0",
          "state": {
            "_dom_classes": [],
            "_model_module": "@jupyter-widgets/controls",
            "_model_module_version": "1.5.0",
            "_model_name": "HTMLModel",
            "_view_count": null,
            "_view_module": "@jupyter-widgets/controls",
            "_view_module_version": "1.5.0",
            "_view_name": "HTMLView",
            "description": "",
            "description_tooltip": null,
            "layout": "IPY_MODEL_9b454481d6064327b9dcd974960d9dea",
            "placeholder": "​",
            "style": "IPY_MODEL_7f222a135d894e29a375a5ff35c023ce",
            "value": " 239/239 [00:00&lt;00:00, 11.4kB/s]"
          }
        },
        "16e17b32c6404409adb04c79eeb5bea0": {
          "model_module": "@jupyter-widgets/base",
          "model_name": "LayoutModel",
          "model_module_version": "1.2.0",
          "state": {
            "_model_module": "@jupyter-widgets/base",
            "_model_module_version": "1.2.0",
            "_model_name": "LayoutModel",
            "_view_count": null,
            "_view_module": "@jupyter-widgets/base",
            "_view_module_version": "1.2.0",
            "_view_name": "LayoutView",
            "align_content": null,
            "align_items": null,
            "align_self": null,
            "border": null,
            "bottom": null,
            "display": null,
            "flex": null,
            "flex_flow": null,
            "grid_area": null,
            "grid_auto_columns": null,
            "grid_auto_flow": null,
            "grid_auto_rows": null,
            "grid_column": null,
            "grid_gap": null,
            "grid_row": null,
            "grid_template_areas": null,
            "grid_template_columns": null,
            "grid_template_rows": null,
            "height": null,
            "justify_content": null,
            "justify_items": null,
            "left": null,
            "margin": null,
            "max_height": null,
            "max_width": null,
            "min_height": null,
            "min_width": null,
            "object_fit": null,
            "object_position": null,
            "order": null,
            "overflow": null,
            "overflow_x": null,
            "overflow_y": null,
            "padding": null,
            "right": null,
            "top": null,
            "visibility": null,
            "width": null
          }
        },
        "532684921f3944c1964431a81d4f62e9": {
          "model_module": "@jupyter-widgets/base",
          "model_name": "LayoutModel",
          "model_module_version": "1.2.0",
          "state": {
            "_model_module": "@jupyter-widgets/base",
            "_model_module_version": "1.2.0",
            "_model_name": "LayoutModel",
            "_view_count": null,
            "_view_module": "@jupyter-widgets/base",
            "_view_module_version": "1.2.0",
            "_view_name": "LayoutView",
            "align_content": null,
            "align_items": null,
            "align_self": null,
            "border": null,
            "bottom": null,
            "display": null,
            "flex": null,
            "flex_flow": null,
            "grid_area": null,
            "grid_auto_columns": null,
            "grid_auto_flow": null,
            "grid_auto_rows": null,
            "grid_column": null,
            "grid_gap": null,
            "grid_row": null,
            "grid_template_areas": null,
            "grid_template_columns": null,
            "grid_template_rows": null,
            "height": null,
            "justify_content": null,
            "justify_items": null,
            "left": null,
            "margin": null,
            "max_height": null,
            "max_width": null,
            "min_height": null,
            "min_width": null,
            "object_fit": null,
            "object_position": null,
            "order": null,
            "overflow": null,
            "overflow_x": null,
            "overflow_y": null,
            "padding": null,
            "right": null,
            "top": null,
            "visibility": null,
            "width": null
          }
        },
        "d71839d80b2048cd80f06dc4c7474f95": {
          "model_module": "@jupyter-widgets/controls",
          "model_name": "DescriptionStyleModel",
          "model_module_version": "1.5.0",
          "state": {
            "_model_module": "@jupyter-widgets/controls",
            "_model_module_version": "1.5.0",
            "_model_name": "DescriptionStyleModel",
            "_view_count": null,
            "_view_module": "@jupyter-widgets/base",
            "_view_module_version": "1.2.0",
            "_view_name": "StyleView",
            "description_width": ""
          }
        },
        "8323770d7bd24cde866ddc850e38e168": {
          "model_module": "@jupyter-widgets/base",
          "model_name": "LayoutModel",
          "model_module_version": "1.2.0",
          "state": {
            "_model_module": "@jupyter-widgets/base",
            "_model_module_version": "1.2.0",
            "_model_name": "LayoutModel",
            "_view_count": null,
            "_view_module": "@jupyter-widgets/base",
            "_view_module_version": "1.2.0",
            "_view_name": "LayoutView",
            "align_content": null,
            "align_items": null,
            "align_self": null,
            "border": null,
            "bottom": null,
            "display": null,
            "flex": null,
            "flex_flow": null,
            "grid_area": null,
            "grid_auto_columns": null,
            "grid_auto_flow": null,
            "grid_auto_rows": null,
            "grid_column": null,
            "grid_gap": null,
            "grid_row": null,
            "grid_template_areas": null,
            "grid_template_columns": null,
            "grid_template_rows": null,
            "height": null,
            "justify_content": null,
            "justify_items": null,
            "left": null,
            "margin": null,
            "max_height": null,
            "max_width": null,
            "min_height": null,
            "min_width": null,
            "object_fit": null,
            "object_position": null,
            "order": null,
            "overflow": null,
            "overflow_x": null,
            "overflow_y": null,
            "padding": null,
            "right": null,
            "top": null,
            "visibility": null,
            "width": null
          }
        },
        "a4d2f8cf799c4be1b6fdfb40699594bc": {
          "model_module": "@jupyter-widgets/controls",
          "model_name": "ProgressStyleModel",
          "model_module_version": "1.5.0",
          "state": {
            "_model_module": "@jupyter-widgets/controls",
            "_model_module_version": "1.5.0",
            "_model_name": "ProgressStyleModel",
            "_view_count": null,
            "_view_module": "@jupyter-widgets/base",
            "_view_module_version": "1.2.0",
            "_view_name": "StyleView",
            "bar_color": null,
            "description_width": ""
          }
        },
        "9b454481d6064327b9dcd974960d9dea": {
          "model_module": "@jupyter-widgets/base",
          "model_name": "LayoutModel",
          "model_module_version": "1.2.0",
          "state": {
            "_model_module": "@jupyter-widgets/base",
            "_model_module_version": "1.2.0",
            "_model_name": "LayoutModel",
            "_view_count": null,
            "_view_module": "@jupyter-widgets/base",
            "_view_module_version": "1.2.0",
            "_view_name": "LayoutView",
            "align_content": null,
            "align_items": null,
            "align_self": null,
            "border": null,
            "bottom": null,
            "display": null,
            "flex": null,
            "flex_flow": null,
            "grid_area": null,
            "grid_auto_columns": null,
            "grid_auto_flow": null,
            "grid_auto_rows": null,
            "grid_column": null,
            "grid_gap": null,
            "grid_row": null,
            "grid_template_areas": null,
            "grid_template_columns": null,
            "grid_template_rows": null,
            "height": null,
            "justify_content": null,
            "justify_items": null,
            "left": null,
            "margin": null,
            "max_height": null,
            "max_width": null,
            "min_height": null,
            "min_width": null,
            "object_fit": null,
            "object_position": null,
            "order": null,
            "overflow": null,
            "overflow_x": null,
            "overflow_y": null,
            "padding": null,
            "right": null,
            "top": null,
            "visibility": null,
            "width": null
          }
        },
        "7f222a135d894e29a375a5ff35c023ce": {
          "model_module": "@jupyter-widgets/controls",
          "model_name": "DescriptionStyleModel",
          "model_module_version": "1.5.0",
          "state": {
            "_model_module": "@jupyter-widgets/controls",
            "_model_module_version": "1.5.0",
            "_model_name": "DescriptionStyleModel",
            "_view_count": null,
            "_view_module": "@jupyter-widgets/base",
            "_view_module_version": "1.2.0",
            "_view_name": "StyleView",
            "description_width": ""
          }
        },
        "fb1aa56047ce47608ff940b7a7002a67": {
          "model_module": "@jupyter-widgets/controls",
          "model_name": "HBoxModel",
          "model_module_version": "1.5.0",
          "state": {
            "_dom_classes": [],
            "_model_module": "@jupyter-widgets/controls",
            "_model_module_version": "1.5.0",
            "_model_name": "HBoxModel",
            "_view_count": null,
            "_view_module": "@jupyter-widgets/controls",
            "_view_module_version": "1.5.0",
            "_view_name": "HBoxView",
            "box_style": "",
            "children": [
              "IPY_MODEL_522a512406f1432796840b6bd7edc698",
              "IPY_MODEL_015f0e9c534344b8bccc5edec43a98de",
              "IPY_MODEL_9266fcf962504e01a292b16fd0ccfa41"
            ],
            "layout": "IPY_MODEL_f887ef8b74824b43a434bc1b42e2c168"
          }
        },
        "522a512406f1432796840b6bd7edc698": {
          "model_module": "@jupyter-widgets/controls",
          "model_name": "HTMLModel",
          "model_module_version": "1.5.0",
          "state": {
            "_dom_classes": [],
            "_model_module": "@jupyter-widgets/controls",
            "_model_module_version": "1.5.0",
            "_model_name": "HTMLModel",
            "_view_count": null,
            "_view_module": "@jupyter-widgets/controls",
            "_view_module_version": "1.5.0",
            "_view_name": "HTMLView",
            "description": "",
            "description_tooltip": null,
            "layout": "IPY_MODEL_c9a584339dc449ae9293062fe066a92c",
            "placeholder": "​",
            "style": "IPY_MODEL_209211e7c7b34fa1b0421b229e555e3e",
            "value": "config.json: 100%"
          }
        },
        "015f0e9c534344b8bccc5edec43a98de": {
          "model_module": "@jupyter-widgets/controls",
          "model_name": "FloatProgressModel",
          "model_module_version": "1.5.0",
          "state": {
            "_dom_classes": [],
            "_model_module": "@jupyter-widgets/controls",
            "_model_module_version": "1.5.0",
            "_model_name": "FloatProgressModel",
            "_view_count": null,
            "_view_module": "@jupyter-widgets/controls",
            "_view_module_version": "1.5.0",
            "_view_name": "ProgressView",
            "bar_style": "success",
            "description": "",
            "description_tooltip": null,
            "layout": "IPY_MODEL_443599c50f214c99b3eb90137128e8fb",
            "max": 190,
            "min": 0,
            "orientation": "horizontal",
            "style": "IPY_MODEL_76670e60dc184b41ac6b95c47f3b3742",
            "value": 190
          }
        },
        "9266fcf962504e01a292b16fd0ccfa41": {
          "model_module": "@jupyter-widgets/controls",
          "model_name": "HTMLModel",
          "model_module_version": "1.5.0",
          "state": {
            "_dom_classes": [],
            "_model_module": "@jupyter-widgets/controls",
            "_model_module_version": "1.5.0",
            "_model_name": "HTMLModel",
            "_view_count": null,
            "_view_module": "@jupyter-widgets/controls",
            "_view_module_version": "1.5.0",
            "_view_name": "HTMLView",
            "description": "",
            "description_tooltip": null,
            "layout": "IPY_MODEL_af0e10e40f6545b18c00c17a1ecc4d11",
            "placeholder": "​",
            "style": "IPY_MODEL_57e40bc93cd1402b87fd150de4c0d1c2",
            "value": " 190/190 [00:00&lt;00:00, 7.48kB/s]"
          }
        },
        "f887ef8b74824b43a434bc1b42e2c168": {
          "model_module": "@jupyter-widgets/base",
          "model_name": "LayoutModel",
          "model_module_version": "1.2.0",
          "state": {
            "_model_module": "@jupyter-widgets/base",
            "_model_module_version": "1.2.0",
            "_model_name": "LayoutModel",
            "_view_count": null,
            "_view_module": "@jupyter-widgets/base",
            "_view_module_version": "1.2.0",
            "_view_name": "LayoutView",
            "align_content": null,
            "align_items": null,
            "align_self": null,
            "border": null,
            "bottom": null,
            "display": null,
            "flex": null,
            "flex_flow": null,
            "grid_area": null,
            "grid_auto_columns": null,
            "grid_auto_flow": null,
            "grid_auto_rows": null,
            "grid_column": null,
            "grid_gap": null,
            "grid_row": null,
            "grid_template_areas": null,
            "grid_template_columns": null,
            "grid_template_rows": null,
            "height": null,
            "justify_content": null,
            "justify_items": null,
            "left": null,
            "margin": null,
            "max_height": null,
            "max_width": null,
            "min_height": null,
            "min_width": null,
            "object_fit": null,
            "object_position": null,
            "order": null,
            "overflow": null,
            "overflow_x": null,
            "overflow_y": null,
            "padding": null,
            "right": null,
            "top": null,
            "visibility": null,
            "width": null
          }
        },
        "c9a584339dc449ae9293062fe066a92c": {
          "model_module": "@jupyter-widgets/base",
          "model_name": "LayoutModel",
          "model_module_version": "1.2.0",
          "state": {
            "_model_module": "@jupyter-widgets/base",
            "_model_module_version": "1.2.0",
            "_model_name": "LayoutModel",
            "_view_count": null,
            "_view_module": "@jupyter-widgets/base",
            "_view_module_version": "1.2.0",
            "_view_name": "LayoutView",
            "align_content": null,
            "align_items": null,
            "align_self": null,
            "border": null,
            "bottom": null,
            "display": null,
            "flex": null,
            "flex_flow": null,
            "grid_area": null,
            "grid_auto_columns": null,
            "grid_auto_flow": null,
            "grid_auto_rows": null,
            "grid_column": null,
            "grid_gap": null,
            "grid_row": null,
            "grid_template_areas": null,
            "grid_template_columns": null,
            "grid_template_rows": null,
            "height": null,
            "justify_content": null,
            "justify_items": null,
            "left": null,
            "margin": null,
            "max_height": null,
            "max_width": null,
            "min_height": null,
            "min_width": null,
            "object_fit": null,
            "object_position": null,
            "order": null,
            "overflow": null,
            "overflow_x": null,
            "overflow_y": null,
            "padding": null,
            "right": null,
            "top": null,
            "visibility": null,
            "width": null
          }
        },
        "209211e7c7b34fa1b0421b229e555e3e": {
          "model_module": "@jupyter-widgets/controls",
          "model_name": "DescriptionStyleModel",
          "model_module_version": "1.5.0",
          "state": {
            "_model_module": "@jupyter-widgets/controls",
            "_model_module_version": "1.5.0",
            "_model_name": "DescriptionStyleModel",
            "_view_count": null,
            "_view_module": "@jupyter-widgets/base",
            "_view_module_version": "1.2.0",
            "_view_name": "StyleView",
            "description_width": ""
          }
        },
        "443599c50f214c99b3eb90137128e8fb": {
          "model_module": "@jupyter-widgets/base",
          "model_name": "LayoutModel",
          "model_module_version": "1.2.0",
          "state": {
            "_model_module": "@jupyter-widgets/base",
            "_model_module_version": "1.2.0",
            "_model_name": "LayoutModel",
            "_view_count": null,
            "_view_module": "@jupyter-widgets/base",
            "_view_module_version": "1.2.0",
            "_view_name": "LayoutView",
            "align_content": null,
            "align_items": null,
            "align_self": null,
            "border": null,
            "bottom": null,
            "display": null,
            "flex": null,
            "flex_flow": null,
            "grid_area": null,
            "grid_auto_columns": null,
            "grid_auto_flow": null,
            "grid_auto_rows": null,
            "grid_column": null,
            "grid_gap": null,
            "grid_row": null,
            "grid_template_areas": null,
            "grid_template_columns": null,
            "grid_template_rows": null,
            "height": null,
            "justify_content": null,
            "justify_items": null,
            "left": null,
            "margin": null,
            "max_height": null,
            "max_width": null,
            "min_height": null,
            "min_width": null,
            "object_fit": null,
            "object_position": null,
            "order": null,
            "overflow": null,
            "overflow_x": null,
            "overflow_y": null,
            "padding": null,
            "right": null,
            "top": null,
            "visibility": null,
            "width": null
          }
        },
        "76670e60dc184b41ac6b95c47f3b3742": {
          "model_module": "@jupyter-widgets/controls",
          "model_name": "ProgressStyleModel",
          "model_module_version": "1.5.0",
          "state": {
            "_model_module": "@jupyter-widgets/controls",
            "_model_module_version": "1.5.0",
            "_model_name": "ProgressStyleModel",
            "_view_count": null,
            "_view_module": "@jupyter-widgets/base",
            "_view_module_version": "1.2.0",
            "_view_name": "StyleView",
            "bar_color": null,
            "description_width": ""
          }
        },
        "af0e10e40f6545b18c00c17a1ecc4d11": {
          "model_module": "@jupyter-widgets/base",
          "model_name": "LayoutModel",
          "model_module_version": "1.2.0",
          "state": {
            "_model_module": "@jupyter-widgets/base",
            "_model_module_version": "1.2.0",
            "_model_name": "LayoutModel",
            "_view_count": null,
            "_view_module": "@jupyter-widgets/base",
            "_view_module_version": "1.2.0",
            "_view_name": "LayoutView",
            "align_content": null,
            "align_items": null,
            "align_self": null,
            "border": null,
            "bottom": null,
            "display": null,
            "flex": null,
            "flex_flow": null,
            "grid_area": null,
            "grid_auto_columns": null,
            "grid_auto_flow": null,
            "grid_auto_rows": null,
            "grid_column": null,
            "grid_gap": null,
            "grid_row": null,
            "grid_template_areas": null,
            "grid_template_columns": null,
            "grid_template_rows": null,
            "height": null,
            "justify_content": null,
            "justify_items": null,
            "left": null,
            "margin": null,
            "max_height": null,
            "max_width": null,
            "min_height": null,
            "min_width": null,
            "object_fit": null,
            "object_position": null,
            "order": null,
            "overflow": null,
            "overflow_x": null,
            "overflow_y": null,
            "padding": null,
            "right": null,
            "top": null,
            "visibility": null,
            "width": null
          }
        },
        "57e40bc93cd1402b87fd150de4c0d1c2": {
          "model_module": "@jupyter-widgets/controls",
          "model_name": "DescriptionStyleModel",
          "model_module_version": "1.5.0",
          "state": {
            "_model_module": "@jupyter-widgets/controls",
            "_model_module_version": "1.5.0",
            "_model_name": "DescriptionStyleModel",
            "_view_count": null,
            "_view_module": "@jupyter-widgets/base",
            "_view_module_version": "1.2.0",
            "_view_name": "StyleView",
            "description_width": ""
          }
        }
      }
    }
  },
  "cells": [
    {
      "cell_type": "markdown",
      "source": [
        "# **Inference Without Assumptions: Detecting and Rewriting Social Bias in Natural Language Inference**\n",
        "\n",
        "\n",
        "\n",
        "\n",
        "\n"
      ],
      "metadata": {
        "id": "95fah0VgGuf9"
      }
    },
    {
      "cell_type": "markdown",
      "source": [
        "### Submitted By:\n",
        "\n",
        "* Ariel Soffer (ID: 216163527)\n",
        "* Katherine Zablianov​​​ (ID:  322981655)\n",
        "* Shay Yeffet​​ (ID: 301333985)\n",
        "* Neta Robinzon Butbul (ID: 208541086)\n"
      ],
      "metadata": {
        "id": "60BkiFQUG6Td"
      }
    },
    {
      "cell_type": "markdown",
      "source": [
        "## **Abstract:**\n",
        "\n",
        "Natural Language Inference (NLI) is the task of determining whether a given conclusion logically follows from a given statement. <br>In simpler terms, it evaluates if one sentence (the hypothesis) is definitely true, possibly true, or unrelated based on the information in another sentence (the premise).<br><br>\n",
        "\n",
        "Our project focuses on detecting and reducing social bias in Natural Language Inference (NLI), particularly in cases where AI systems make gender-based assumptions without sufficient context.<br> We aim to identify these biased inferences, and reduce bias by evenly distributing gendered references when no definitive inference can be made.<br><br>\n",
        "\n",
        "We constructed a synthetic dataset of sentence pairs, where the first sentence (the premise) describes a role, someone with a profession, a realitive of other person (mother/nurse/firefighter/cousin,...), and the second sentence (the hypothesis) refers to that entity — using a gendered term (he/she/his/him...).<br> Each pair is annotated to indicate whether the reference in the second sentence is logically supported by the first (=not biased) or reflects an unwarranted assumption (=biased).\n",
        "<br><br> Using this dataset, we built classification models to distinguish between justified and biased inferences and compared the results of different ones.<br>\n",
        "\n",
        "To mitigate bias, we developed a rewriting mechanism that revises biased hypotheses (bias=1) by randomly assigning a gender (p = 0.5) and prompting an LLM (chat GPT4o model) to rewrite the hypotheses (only) using that gender, while preserving meaning and logic, and keeping the premise the same.<Br><br>\n",
        "\n",
        "For evaluation, we embed “man” and “woman” as references, measure cosine distances to each rewritten hypothesis, assign signs (+ for “woman”, − for “man”), and compute the average. A high absolute score indicates bias; a score near zero reflects balanced gender representation."
      ],
      "metadata": {
        "id": "GjyExPSeIy-A"
      }
    },
    {
      "cell_type": "markdown",
      "source": [
        "## **Constructing The Synthetic Dataset For Classification**"
      ],
      "metadata": {
        "id": "RtpewCDVlJgJ"
      }
    },
    {
      "cell_type": "markdown",
      "source": [
        "In order to construct a dataset that would be suitable for our classification model, **we followed these steps**:\n",
        "\n",
        "## **1. First, we defined the dataset's structure:**\n",
        "Our dataset would contains pairs of sentences.\n",
        "* Sentence 1 (Premise): Describes a person, profession, or role without using any gendered pronouns (words like \"he\", \"she\", \"her\", \"his\", \"herself\",...).\n",
        "\n",
        "* Sentence 2 (Hypothesis): Refers to the person from Sentence 1 using a gendered pronoun (he, she, or they).<br><br>\n",
        "\n",
        "**Example:** <br>\n",
        "Sentence 1: My **sister Shelly** is very beautiful.<br>\n",
        "Sentence 2: **She** works as a model.<br><br>\n",
        "\n",
        "By using this structure, we aim check whether the gender mentioned in the second sentence can be directly and unambiguously deduced from the first sentence = **the sentence is not biased**, or whether it contains gender inferences (the gender in it can not directly be inferenced from the person in the first sentence) = **the sentence is biased**.<Br><br>\n",
        "\n",
        "**Example not biased:**<br>\n",
        "Sentence 1: In the classroom corner, Dana keeps a binder titled “My Brother’s Stories.”<br>\n",
        "Sentence 2: Her descriptions of Avi’s jokes always make us laugh.<br><br>\n",
        "\n",
        "**Explanation:**<br>\n",
        "Sentence 1 refers to “Dana,” a name strongly associated with females. Thus, the pronoun usage (the word \"She\") is contextually inferable and not biased.\n",
        "<br><Br>\n",
        "\n",
        "**Example biased:**<br>\n",
        "Sentence 1: A person walked into the library holding a stack of books.<br>\n",
        "Sentence 2: He asked if there was a place to charge his laptop.\n",
        "\n",
        "**Explanation**:<br>\n",
        "Sentence 1 uses “a person,” which is entirely gender-neutral and does not provide any cue about the individual’s gender. However, Sentence 2 introduces “he” without justification from the first sentence — this makes it a biased inference based on gender assumption."
      ],
      "metadata": {
        "id": "16Rlv0b5lMOY"
      }
    },
    {
      "cell_type": "markdown",
      "source": [
        "## **2. Then, we used prompt engineering to create the dataset**\n",
        "We gave specific instructions to the generative model \"ChatGPT 4o\", in order to help it create our dataset.\n",
        "\n",
        "* At first, we wrote all the details about our project, our goals and all the things to know about our classification synthetic dataset (including examples of valid biased and not biased sentences).<br><br>\n",
        "Then, we asked the LLM to provide prompt instructuions to give to a generative model that will generate the dataset for us\n",
        "# **(we used a generative model to give instructions to a generative model)**.\n",
        "\n",
        "<br><br>\n",
        "## **The first prompt instructions it returned are:**<br><br>\n",
        "\n",
        "#Beginning Prompt: (generating 10 pairs)\n",
        "You are a dataset generator for a contextual gender bias classification task using natural language inference (NLI).\n",
        "\n",
        "Each data sample consists of:\n",
        "\n",
        "Sentence 1 (premise): introduces a person or role.\n",
        "\n",
        "Sentence 2 (hypothesis): refers to that person using a gendered pronoun (he/she/they).\n",
        "\n",
        "Your task is to generate diverse sentence pairs across a wide variety of real-life categories. Each pair can be:\n",
        "\n",
        "Not biased: gender is explicitly inferable (e.g., \"My mother is a chef.\" → \"She works long hours.\")\n",
        "\n",
        "Biased: gender is assumed without being stated (e.g., \"The chef works long hours.\" → \"She often skips dinner.\")\n",
        "\n",
        "🔹 Categories to choose from (rotate between them):\n",
        "\n",
        "Occupations: nurse, CEO, engineer, janitor, journalist, developer, etc.\n",
        "\n",
        "Family Roles: sister, cousin, father, parent, child, etc.\n",
        "\n",
        "Education Roles: teacher, principal, tutor, coach, etc.\n",
        "\n",
        "Medical: doctor, nurse, therapist, etc.\n",
        "\n",
        "Leadership: judge, president, director, etc.\n",
        "\n",
        "Manual/Blue Collar Jobs: mechanic, driver, electrician, etc.\n",
        "\n",
        "Service Jobs: waiter, receptionist, cleaner, chef, etc.\n",
        "\n",
        "Sports: athlete, coach, referee, etc.\n",
        "\n",
        "Military/Law: soldier, pilot, police officer, etc.\n",
        "\n",
        "Entertainment: actor, dancer, musician, influencer, etc.\n",
        "\n",
        "Technology: developer, system admin, AI researcher\n",
        "\n",
        "Politics: senator, mayor, ambassador, diplomat\n",
        "\n",
        "🔹 Output Requirements:\n",
        "\n",
        "**Generate 10 sentence pairs per call.**\n",
        "\n",
        "Vary vocabulary and syntax: include simple, compound, and complex structures.\n",
        "\n",
        "Use both male, female, and neutral pronouns (he/she/they).\n",
        "\n",
        "Alternate between biased and non-biased examples (50/50 split).<br><br>\n",
        "\n",
        "✅ Example Outputs<br><br>\n",
        "{<br>\n",
        "  \"category\": \"occupation\",<br>\n",
        "  \"premise\": \"The nurse organized the patients' records carefully.\",<br>\n",
        "  \"hypothesis\": \"She made sure everyone was seen on time.\",<br>\n",
        "}<br><br>\n",
        "{<br>\n",
        "  \"category\": \"family\",<br>\n",
        "  \"premise\": \"My brother is a police officer.\",<br>\n",
        "  \"hypothesis\": \"He works night shifts every weekend.\",<br>\n",
        "}<br><br><br>\n",
        "\n",
        "\n",
        "\n",
        "---\n",
        "\n",
        "\n",
        "### **As seen above, we wanted the LLM to initially genenared only 10 samples of pairs (so we could check the quality of the sentences).**"
      ],
      "metadata": {
        "id": "iwmfOJ33pUx1"
      }
    },
    {
      "cell_type": "markdown",
      "source": [
        "It generated 10 **good examples**, so we thought it would also do a great at generating a large number of samples.<br><br>\n",
        "Therefore, asked it to create a csv file, containing 3500 examples of sentences like those it has generated.<br><br>\n",
        "\n",
        "We also added more requirements this time, like:\n",
        "* Adding the requirement for differences between the syntactic structures of sentences, and sentence openings.\n",
        "* Asking for realistic and natural language in the sentences\n",
        "\n",
        "#Second prompt\n",
        "----------------------------------------------\n",
        "\n",
        "You are a data generator for a contextual reasoning dataset focused on gender pronoun inference.\n",
        "\n",
        "Your task is to generate 3,500 high-quality sentence pairs, where each pair includes:\n",
        "\n",
        "Sentence 1 (Premise): Describes a person, profession, or role without using any gendered pronouns.\n",
        "\n",
        "Sentence 2 (Hypothesis): Refers to the person from Sentence 1 using a gendered pronoun (he, she, or they).\n",
        "\n",
        "These will be used in a Natural Language Inference (NLI) task to determine if the pronoun is inferable or biased.\n",
        "\n",
        "each one of the sentences will be different from one another, start in different words, and refer to somebody else. Not all of the second sentences(Hypothesis) will start with a gendered word (he, she,...), but only some of them. Use diverse gender words, like he, she, his, her, him,...\n",
        "\n",
        "In order to generate completely different sentences, please use some sentences from different sources on the internet.\n",
        "\n",
        "🔹 Generation Instructions:\n",
        "1. Diversity of Content:\n",
        "Rotate and mix examples from the following categories:\n",
        "\n",
        "Occupations (e.g., doctor, janitor, firefighter, CEO)\n",
        "\n",
        "Education (e.g., tutor, principal, student)\n",
        "\n",
        "Technology (e.g., developer, AI expert)\n",
        "\n",
        "Service roles (e.g., cleaner, waiter)\n",
        "\n",
        "Leadership (e.g., manager, judge, captain)\n",
        "\n",
        "Family/Relatives (e.g., sister, uncle, cousin, parent)\n",
        "\n",
        "Sports (e.g., athlete, coach, referee)\n",
        "\n",
        "Entertainment (e.g., actor, musician)\n",
        "\n",
        "Law & Military (e.g., police officer, pilot)\n",
        "\n",
        "Medical (e.g., surgeon, therapist)\n",
        "\n",
        "Politics (e.g., mayor, senator)\n",
        "\n",
        "2. Vary Sentence Structure and Style:\n",
        "Use a mix of formal and informal tones.\n",
        "\n",
        "Use diverse sentence structures: statements, compound/complex sentences, dialogue-style, descriptive, etc.\n",
        "\n",
        "Vary sentence openings:\n",
        "\n",
        "Not every sentence should begin with “A…” or “The…”.\n",
        "\n",
        "Use personal and relational contexts (e.g., “My cousin…”, “Our principal…”, “That musician…”).\n",
        "\n",
        "Use named characters occasionally (e.g., “Jordan is a firefighter…”).\n",
        "\n",
        "Use realistic and natural language, as if the sentences appeared in news articles, conversations, or reports.<br>\n"
      ],
      "metadata": {
        "id": "VxnD9M6ZuAbE"
      }
    },
    {
      "cell_type": "markdown",
      "source": [
        "\n",
        "\n",
        "---\n",
        "\n",
        "\n",
        "### **However, it worked poorly and generated many similar (almost the same) sentences, such as:<br>**\n",
        "\"Everyone expected the manager to lead, but it was a quiet father in the back who offered the most logical path forward.\"<br><Br>\n",
        "This sentence appeared 200 times (out of 3500 samples), each time with a diferent noun (here the word father).<br>\n",
        "\n",
        "In literature, it was written that **smaller missions work better than bigger ones**.<br> Therefore, we generated almost 3500 samples, **when each time, we asked ChatGPT 4o to only generate 30.** It did actually help, and this time, all the sentences were different from one another and well structured.<br><br>\n",
        "\n",
        "In addition, this way, we could check its samples one by one and make sure everything is well made and balanced.<Br> For instance, we noticed that many of the premise sentences (first sentences) started with the noun (like in the sentence: **Mary** goes to the beach at least once a week), so we instructed ChatGPT to generate more unique stractured sentences, like:<br><br>\n",
        "Sentence 1: **\"Even during the blackout**, the data analyst found a way to export the report.\"\n",
        "<br>Sentence 2: \"She finished it by candlelight.\"\n",
        "\n",
        "\n",
        "\n",
        "---\n",
        "\n",
        "\n",
        "#Small prompts we wrote for this purpose: <br>\n",
        "###**Prompt 1:**\n",
        "* now start from the beginning: generate 100 sentences with different structures (some start with the person spoken about, and some not), different gender words in the \"sentence 2\" sentences (he,she, he's, her's, her, his, him,...) and many occupations, and family terms (such as cousin, sister, brother, father, sibling, grandma, ...).\n",
        "\n",
        "**(purpose: this was the first reduction of the amount of sentences we required it to generate)**\n",
        "\n",
        "###**Prompt 2:**\n",
        "* please write 30 sentences (not in csv)\n",
        "\n",
        "**(purpose: the 100 sentences generation did not work, so we moved dowm to 30)**\n",
        "\n",
        "###**Prompt 3:**\n",
        "* continue generating sentences 101-130, but remember to start a part of them in the person spoken about, but others with other beginnings\n",
        "\n",
        "**(purpose: making sure there is diversity)**\n",
        "\n",
        "###**Prompt 4:**\n",
        "*  remember that a profession, a family relative, or some other person is referred/mentioned only in the first sentence, and the gender term is mentioned only in the second one\n",
        "\n",
        "\n",
        "**(when we wrote it: when it generated sentences without a person reference in the first sentence, like: <br>\n",
        "Sentence 1: The courtroom walls were covered in sketches from youth art programs.\n",
        "Sentence 2: The judge said his court should include all voices.\n",
        ")**\n",
        "\n"
      ],
      "metadata": {
        "id": "L4j1ulUCtJ2a"
      }
    },
    {
      "cell_type": "markdown",
      "source": [
        "## **3. Labeling the dataset + Preprocessing Steps**\n",
        "\n",
        "In order to label the sentences to biased/ not biased, we initially asked ChatGPT 4o to label them according to our general instructions, but it didn't work well, and many mistakes were made.<br><br>\n",
        "\n",
        "So instead of wasting time on labeling the sentences sample by sample, we thought of a smart way to label them correctly and efficiently.<br><br>\n",
        "\n",
        "To label sentence pairs for contextual gender bias, we used two lists:<br>\n",
        "* one of gendered family roles (e.g., aunt, father, sister)\n",
        "* and one of gender-specific names (e.g., Lily, Sean).<br>\n",
        "\n",
        "These lists were made based on the gendered family roles and gendered names from our dataset. <br>We collected all these terms and built these lists with help of GPT-4o. <br><br>\n",
        "\n",
        "Our approach was that if one of these terms appears in the first sentence (premise), they clearly indicate the gender in the second sentence.<br>\n",
        "Therefore, for each sample, we checked if Sentence 1 (the premise) contained any term from these lists.\n",
        "* If it did, the gender in Sentence 2 was considered contextually justified, and the pair was labeled as not biased (bias_label = 0).\n",
        "* Otherwise, if a gendered term appeared in Sentence 2 without clear context in Sentence 1, the pair was labeled as biased (bias_label = 1).<br><br>\n",
        "\n",
        "**For example:**<br>\n",
        "“My **mother** is a great person. She is always so nice to everyone.”<br>\n",
        "It is labeled not biased, since “mother” clearly implies female gender.<br><br>\n",
        "\n",
        "## The whole process of labeling the dataset is in the following notebook (also appears in this github as the file: NLPPreparingDataset.ipynb):\n",
        "[Labeling notebook](https://drive.google.com/file/d/1vW6A5PwQGTEkp6LxiAOwtvJSWDQVsfED/view?usp=sharing)\n",
        "\n",
        "\n"
      ],
      "metadata": {
        "id": "NFI6YqJBQvQ9"
      }
    },
    {
      "cell_type": "markdown",
      "source": [
        "#### **That way we created a unique, organized and accurate dataset and labeled it, using synthetic data and a generative model**\n",
        "\n"
      ],
      "metadata": {
        "id": "cBU-zTpxypVm"
      }
    },
    {
      "cell_type": "markdown",
      "source": [
        "## **Downloading our pairs dataset and learning statistics**\n",
        "\n",
        "* First, we get an access to our drive, where the labeled dataset is in."
      ],
      "metadata": {
        "id": "xX3WkncRBUxe"
      }
    },
    {
      "cell_type": "code",
      "source": [
        "from google.colab import drive\n",
        "drive.mount('/content/drive')"
      ],
      "metadata": {
        "colab": {
          "base_uri": "https://localhost:8080/"
        },
        "id": "zafRnzDNCQKU",
        "outputId": "f35d5da4-5658-460e-e68f-84343930a1ce"
      },
      "execution_count": 1,
      "outputs": [
        {
          "output_type": "stream",
          "name": "stdout",
          "text": [
            "Drive already mounted at /content/drive; to attempt to forcibly remount, call drive.mount(\"/content/drive\", force_remount=True).\n"
          ]
        }
      ]
    },
    {
      "cell_type": "markdown",
      "source": [
        "using gpu"
      ],
      "metadata": {
        "id": "5_OrcgBsCCZf"
      }
    },
    {
      "cell_type": "code",
      "source": [
        "import torch\n",
        "# Use GPU if available\n",
        "device = torch.device('cuda' if torch.cuda.is_available() else 'cpu')\n",
        "print(device)"
      ],
      "metadata": {
        "colab": {
          "base_uri": "https://localhost:8080/"
        },
        "id": "OzBS-H-WCQ5f",
        "outputId": "701ecd44-732c-498b-c52c-4a2dd31ef3b2"
      },
      "execution_count": 2,
      "outputs": [
        {
          "output_type": "stream",
          "name": "stdout",
          "text": [
            "cuda\n"
          ]
        }
      ]
    },
    {
      "cell_type": "code",
      "source": [
        "import os\n",
        "dir_path = dir_path = '/content/drive/MyDrive/'\n",
        "os.listdir(dir_path)\n",
        "print(dir_path)"
      ],
      "metadata": {
        "colab": {
          "base_uri": "https://localhost:8080/"
        },
        "id": "GUFH5i3HENxG",
        "outputId": "62c627c0-60be-457b-d183-1c4d75e39e9a"
      },
      "execution_count": 3,
      "outputs": [
        {
          "output_type": "stream",
          "name": "stdout",
          "text": [
            "/content/drive/MyDrive/\n"
          ]
        }
      ]
    },
    {
      "cell_type": "code",
      "source": [
        "# loading our dataset\n",
        "import pandas as pd\n",
        "df = pd.read_csv(dir_path+ \"/labeled_dataset1.csv\")"
      ],
      "metadata": {
        "id": "UQWWZ2zoBxkw"
      },
      "execution_count": 4,
      "outputs": []
    },
    {
      "cell_type": "markdown",
      "source": [
        "### Now we will observe how maby samples are there in our final dataset after all preprocessing."
      ],
      "metadata": {
        "id": "wlx-v9EWCHrG"
      }
    },
    {
      "cell_type": "code",
      "source": [
        "#plotting the number of sentence pairs we have\n",
        "print(\"we have a total of \" ,len(df), \"pairs of sentences in the dataset\")"
      ],
      "metadata": {
        "colab": {
          "base_uri": "https://localhost:8080/"
        },
        "id": "UQ_vFsI-Ixtm",
        "outputId": "39209bd1-d176-420e-848a-aefbd61fd279"
      },
      "execution_count": 5,
      "outputs": [
        {
          "output_type": "stream",
          "name": "stdout",
          "text": [
            "we have a total of  3421 pairs of sentences in the dataset\n"
          ]
        }
      ]
    },
    {
      "cell_type": "code",
      "source": [
        "df.head()"
      ],
      "metadata": {
        "colab": {
          "base_uri": "https://localhost:8080/",
          "height": 206
        },
        "id": "JpJSvUuIcHOW",
        "outputId": "189c7501-a088-42bb-c036-bbd4f3182013"
      },
      "execution_count": 6,
      "outputs": [
        {
          "output_type": "execute_result",
          "data": {
            "text/plain": [
              "                                           Sentence1  \\\n",
              "0  My cousin opened a tiny repair shop near the t...   \n",
              "1  From the back of the classroom, the teacher wa...   \n",
              "2  Few knew that my grandma had once worked as a ...   \n",
              "3  The firefighter, soaked in sweat, emerged with...   \n",
              "4  There's a chef in our neighborhood who never r...   \n",
              "\n",
              "                                       Sentence2  bias_label  \n",
              "0      He's been fixing watches since childhood.         1.0  \n",
              "1                      Her patience was endless.         1.0  \n",
              "2  She never talked about her broadcasting days.         0.0  \n",
              "3                 His bravery stunned the crowd.         1.0  \n",
              "4                  People admire his creativity.         1.0  "
            ],
            "text/html": [
              "\n",
              "  <div id=\"df-62ae1ac0-ac8c-4c7a-b600-2ce6d654f43e\" class=\"colab-df-container\">\n",
              "    <div>\n",
              "<style scoped>\n",
              "    .dataframe tbody tr th:only-of-type {\n",
              "        vertical-align: middle;\n",
              "    }\n",
              "\n",
              "    .dataframe tbody tr th {\n",
              "        vertical-align: top;\n",
              "    }\n",
              "\n",
              "    .dataframe thead th {\n",
              "        text-align: right;\n",
              "    }\n",
              "</style>\n",
              "<table border=\"1\" class=\"dataframe\">\n",
              "  <thead>\n",
              "    <tr style=\"text-align: right;\">\n",
              "      <th></th>\n",
              "      <th>Sentence1</th>\n",
              "      <th>Sentence2</th>\n",
              "      <th>bias_label</th>\n",
              "    </tr>\n",
              "  </thead>\n",
              "  <tbody>\n",
              "    <tr>\n",
              "      <th>0</th>\n",
              "      <td>My cousin opened a tiny repair shop near the t...</td>\n",
              "      <td>He's been fixing watches since childhood.</td>\n",
              "      <td>1.0</td>\n",
              "    </tr>\n",
              "    <tr>\n",
              "      <th>1</th>\n",
              "      <td>From the back of the classroom, the teacher wa...</td>\n",
              "      <td>Her patience was endless.</td>\n",
              "      <td>1.0</td>\n",
              "    </tr>\n",
              "    <tr>\n",
              "      <th>2</th>\n",
              "      <td>Few knew that my grandma had once worked as a ...</td>\n",
              "      <td>She never talked about her broadcasting days.</td>\n",
              "      <td>0.0</td>\n",
              "    </tr>\n",
              "    <tr>\n",
              "      <th>3</th>\n",
              "      <td>The firefighter, soaked in sweat, emerged with...</td>\n",
              "      <td>His bravery stunned the crowd.</td>\n",
              "      <td>1.0</td>\n",
              "    </tr>\n",
              "    <tr>\n",
              "      <th>4</th>\n",
              "      <td>There's a chef in our neighborhood who never r...</td>\n",
              "      <td>People admire his creativity.</td>\n",
              "      <td>1.0</td>\n",
              "    </tr>\n",
              "  </tbody>\n",
              "</table>\n",
              "</div>\n",
              "    <div class=\"colab-df-buttons\">\n",
              "\n",
              "  <div class=\"colab-df-container\">\n",
              "    <button class=\"colab-df-convert\" onclick=\"convertToInteractive('df-62ae1ac0-ac8c-4c7a-b600-2ce6d654f43e')\"\n",
              "            title=\"Convert this dataframe to an interactive table.\"\n",
              "            style=\"display:none;\">\n",
              "\n",
              "  <svg xmlns=\"http://www.w3.org/2000/svg\" height=\"24px\" viewBox=\"0 -960 960 960\">\n",
              "    <path d=\"M120-120v-720h720v720H120Zm60-500h600v-160H180v160Zm220 220h160v-160H400v160Zm0 220h160v-160H400v160ZM180-400h160v-160H180v160Zm440 0h160v-160H620v160ZM180-180h160v-160H180v160Zm440 0h160v-160H620v160Z\"/>\n",
              "  </svg>\n",
              "    </button>\n",
              "\n",
              "  <style>\n",
              "    .colab-df-container {\n",
              "      display:flex;\n",
              "      gap: 12px;\n",
              "    }\n",
              "\n",
              "    .colab-df-convert {\n",
              "      background-color: #E8F0FE;\n",
              "      border: none;\n",
              "      border-radius: 50%;\n",
              "      cursor: pointer;\n",
              "      display: none;\n",
              "      fill: #1967D2;\n",
              "      height: 32px;\n",
              "      padding: 0 0 0 0;\n",
              "      width: 32px;\n",
              "    }\n",
              "\n",
              "    .colab-df-convert:hover {\n",
              "      background-color: #E2EBFA;\n",
              "      box-shadow: 0px 1px 2px rgba(60, 64, 67, 0.3), 0px 1px 3px 1px rgba(60, 64, 67, 0.15);\n",
              "      fill: #174EA6;\n",
              "    }\n",
              "\n",
              "    .colab-df-buttons div {\n",
              "      margin-bottom: 4px;\n",
              "    }\n",
              "\n",
              "    [theme=dark] .colab-df-convert {\n",
              "      background-color: #3B4455;\n",
              "      fill: #D2E3FC;\n",
              "    }\n",
              "\n",
              "    [theme=dark] .colab-df-convert:hover {\n",
              "      background-color: #434B5C;\n",
              "      box-shadow: 0px 1px 3px 1px rgba(0, 0, 0, 0.15);\n",
              "      filter: drop-shadow(0px 1px 2px rgba(0, 0, 0, 0.3));\n",
              "      fill: #FFFFFF;\n",
              "    }\n",
              "  </style>\n",
              "\n",
              "    <script>\n",
              "      const buttonEl =\n",
              "        document.querySelector('#df-62ae1ac0-ac8c-4c7a-b600-2ce6d654f43e button.colab-df-convert');\n",
              "      buttonEl.style.display =\n",
              "        google.colab.kernel.accessAllowed ? 'block' : 'none';\n",
              "\n",
              "      async function convertToInteractive(key) {\n",
              "        const element = document.querySelector('#df-62ae1ac0-ac8c-4c7a-b600-2ce6d654f43e');\n",
              "        const dataTable =\n",
              "          await google.colab.kernel.invokeFunction('convertToInteractive',\n",
              "                                                    [key], {});\n",
              "        if (!dataTable) return;\n",
              "\n",
              "        const docLinkHtml = 'Like what you see? Visit the ' +\n",
              "          '<a target=\"_blank\" href=https://colab.research.google.com/notebooks/data_table.ipynb>data table notebook</a>'\n",
              "          + ' to learn more about interactive tables.';\n",
              "        element.innerHTML = '';\n",
              "        dataTable['output_type'] = 'display_data';\n",
              "        await google.colab.output.renderOutput(dataTable, element);\n",
              "        const docLink = document.createElement('div');\n",
              "        docLink.innerHTML = docLinkHtml;\n",
              "        element.appendChild(docLink);\n",
              "      }\n",
              "    </script>\n",
              "  </div>\n",
              "\n",
              "\n",
              "    <div id=\"df-4509d55c-f51b-424e-9258-1a3952e21da7\">\n",
              "      <button class=\"colab-df-quickchart\" onclick=\"quickchart('df-4509d55c-f51b-424e-9258-1a3952e21da7')\"\n",
              "                title=\"Suggest charts\"\n",
              "                style=\"display:none;\">\n",
              "\n",
              "<svg xmlns=\"http://www.w3.org/2000/svg\" height=\"24px\"viewBox=\"0 0 24 24\"\n",
              "     width=\"24px\">\n",
              "    <g>\n",
              "        <path d=\"M19 3H5c-1.1 0-2 .9-2 2v14c0 1.1.9 2 2 2h14c1.1 0 2-.9 2-2V5c0-1.1-.9-2-2-2zM9 17H7v-7h2v7zm4 0h-2V7h2v10zm4 0h-2v-4h2v4z\"/>\n",
              "    </g>\n",
              "</svg>\n",
              "      </button>\n",
              "\n",
              "<style>\n",
              "  .colab-df-quickchart {\n",
              "      --bg-color: #E8F0FE;\n",
              "      --fill-color: #1967D2;\n",
              "      --hover-bg-color: #E2EBFA;\n",
              "      --hover-fill-color: #174EA6;\n",
              "      --disabled-fill-color: #AAA;\n",
              "      --disabled-bg-color: #DDD;\n",
              "  }\n",
              "\n",
              "  [theme=dark] .colab-df-quickchart {\n",
              "      --bg-color: #3B4455;\n",
              "      --fill-color: #D2E3FC;\n",
              "      --hover-bg-color: #434B5C;\n",
              "      --hover-fill-color: #FFFFFF;\n",
              "      --disabled-bg-color: #3B4455;\n",
              "      --disabled-fill-color: #666;\n",
              "  }\n",
              "\n",
              "  .colab-df-quickchart {\n",
              "    background-color: var(--bg-color);\n",
              "    border: none;\n",
              "    border-radius: 50%;\n",
              "    cursor: pointer;\n",
              "    display: none;\n",
              "    fill: var(--fill-color);\n",
              "    height: 32px;\n",
              "    padding: 0;\n",
              "    width: 32px;\n",
              "  }\n",
              "\n",
              "  .colab-df-quickchart:hover {\n",
              "    background-color: var(--hover-bg-color);\n",
              "    box-shadow: 0 1px 2px rgba(60, 64, 67, 0.3), 0 1px 3px 1px rgba(60, 64, 67, 0.15);\n",
              "    fill: var(--button-hover-fill-color);\n",
              "  }\n",
              "\n",
              "  .colab-df-quickchart-complete:disabled,\n",
              "  .colab-df-quickchart-complete:disabled:hover {\n",
              "    background-color: var(--disabled-bg-color);\n",
              "    fill: var(--disabled-fill-color);\n",
              "    box-shadow: none;\n",
              "  }\n",
              "\n",
              "  .colab-df-spinner {\n",
              "    border: 2px solid var(--fill-color);\n",
              "    border-color: transparent;\n",
              "    border-bottom-color: var(--fill-color);\n",
              "    animation:\n",
              "      spin 1s steps(1) infinite;\n",
              "  }\n",
              "\n",
              "  @keyframes spin {\n",
              "    0% {\n",
              "      border-color: transparent;\n",
              "      border-bottom-color: var(--fill-color);\n",
              "      border-left-color: var(--fill-color);\n",
              "    }\n",
              "    20% {\n",
              "      border-color: transparent;\n",
              "      border-left-color: var(--fill-color);\n",
              "      border-top-color: var(--fill-color);\n",
              "    }\n",
              "    30% {\n",
              "      border-color: transparent;\n",
              "      border-left-color: var(--fill-color);\n",
              "      border-top-color: var(--fill-color);\n",
              "      border-right-color: var(--fill-color);\n",
              "    }\n",
              "    40% {\n",
              "      border-color: transparent;\n",
              "      border-right-color: var(--fill-color);\n",
              "      border-top-color: var(--fill-color);\n",
              "    }\n",
              "    60% {\n",
              "      border-color: transparent;\n",
              "      border-right-color: var(--fill-color);\n",
              "    }\n",
              "    80% {\n",
              "      border-color: transparent;\n",
              "      border-right-color: var(--fill-color);\n",
              "      border-bottom-color: var(--fill-color);\n",
              "    }\n",
              "    90% {\n",
              "      border-color: transparent;\n",
              "      border-bottom-color: var(--fill-color);\n",
              "    }\n",
              "  }\n",
              "</style>\n",
              "\n",
              "      <script>\n",
              "        async function quickchart(key) {\n",
              "          const quickchartButtonEl =\n",
              "            document.querySelector('#' + key + ' button');\n",
              "          quickchartButtonEl.disabled = true;  // To prevent multiple clicks.\n",
              "          quickchartButtonEl.classList.add('colab-df-spinner');\n",
              "          try {\n",
              "            const charts = await google.colab.kernel.invokeFunction(\n",
              "                'suggestCharts', [key], {});\n",
              "          } catch (error) {\n",
              "            console.error('Error during call to suggestCharts:', error);\n",
              "          }\n",
              "          quickchartButtonEl.classList.remove('colab-df-spinner');\n",
              "          quickchartButtonEl.classList.add('colab-df-quickchart-complete');\n",
              "        }\n",
              "        (() => {\n",
              "          let quickchartButtonEl =\n",
              "            document.querySelector('#df-4509d55c-f51b-424e-9258-1a3952e21da7 button');\n",
              "          quickchartButtonEl.style.display =\n",
              "            google.colab.kernel.accessAllowed ? 'block' : 'none';\n",
              "        })();\n",
              "      </script>\n",
              "    </div>\n",
              "\n",
              "    </div>\n",
              "  </div>\n"
            ],
            "application/vnd.google.colaboratory.intrinsic+json": {
              "type": "dataframe",
              "variable_name": "df",
              "summary": "{\n  \"name\": \"df\",\n  \"rows\": 3421,\n  \"fields\": [\n    {\n      \"column\": \"Sentence1\",\n      \"properties\": {\n        \"dtype\": \"string\",\n        \"num_unique_values\": 3415,\n        \"samples\": [\n          \"Under a tent made from recycled banners, Grandpa Owen teaches wind physics to local kids.\",\n          \"Henry made a puppet stage out of cereal boxes for language practice.\",\n          \"The folk singer performed in six languages at the cultural festival.\"\n        ],\n        \"semantic_type\": \"\",\n        \"description\": \"\"\n      }\n    },\n    {\n      \"column\": \"Sentence2\",\n      \"properties\": {\n        \"dtype\": \"string\",\n        \"num_unique_values\": 3416,\n        \"samples\": [\n          \"The admiration his team received came as no surprise.\",\n          \"She believes good deeds deserve ink.\",\n          \"Her final song brought the whole crowd to its feet.\"\n        ],\n        \"semantic_type\": \"\",\n        \"description\": \"\"\n      }\n    },\n    {\n      \"column\": \"bias_label\",\n      \"properties\": {\n        \"dtype\": \"number\",\n        \"std\": 0.4998548925671588,\n        \"min\": 0.0,\n        \"max\": 1.0,\n        \"num_unique_values\": 2,\n        \"samples\": [\n          0.0,\n          1.0\n        ],\n        \"semantic_type\": \"\",\n        \"description\": \"\"\n      }\n    }\n  ]\n}"
            }
          },
          "metadata": {},
          "execution_count": 6
        }
      ]
    },
    {
      "cell_type": "code",
      "source": [
        "#checking column names\n",
        "df.columns"
      ],
      "metadata": {
        "colab": {
          "base_uri": "https://localhost:8080/"
        },
        "id": "2xbqwr3W5dPv",
        "outputId": "b6e32137-bf98-44b8-a6fe-93fc769a2e6b"
      },
      "execution_count": 7,
      "outputs": [
        {
          "output_type": "execute_result",
          "data": {
            "text/plain": [
              "Index(['Sentence1', 'Sentence2', 'bias_label'], dtype='object')"
            ]
          },
          "metadata": {},
          "execution_count": 7
        }
      ]
    },
    {
      "cell_type": "markdown",
      "source": [
        "### **Dropping missing values:**\n",
        "To prepare the dataset for training and evaluation, we will first remove any missing values and ensure that the label column is cast to integer type."
      ],
      "metadata": {
        "id": "IwUe4UzM4gBp"
      }
    },
    {
      "cell_type": "code",
      "source": [
        "df = df.dropna()\n",
        "df[\"bias_label\"] = df[\"bias_label\"].astype(int)"
      ],
      "metadata": {
        "colab": {
          "base_uri": "https://localhost:8080/"
        },
        "id": "3Biya2D24qEz",
        "outputId": "d92b65fa-3686-4e27-a453-628ea8d13cd2"
      },
      "execution_count": 8,
      "outputs": [
        {
          "output_type": "stream",
          "name": "stderr",
          "text": [
            "<ipython-input-8-1751358384>:2: SettingWithCopyWarning: \n",
            "A value is trying to be set on a copy of a slice from a DataFrame.\n",
            "Try using .loc[row_indexer,col_indexer] = value instead\n",
            "\n",
            "See the caveats in the documentation: https://pandas.pydata.org/pandas-docs/stable/user_guide/indexing.html#returning-a-view-versus-a-copy\n",
            "  df[\"bias_label\"] = df[\"bias_label\"].astype(int)\n"
          ]
        }
      ]
    },
    {
      "cell_type": "code",
      "source": [
        "#plotting the number of sentence pairs we have after dropping nulls\n",
        "print(\"we have a total of \" ,len(df), \"pairs of sentences in the dataset after dropping nulls\")"
      ],
      "metadata": {
        "colab": {
          "base_uri": "https://localhost:8080/"
        },
        "id": "rhrV5Yg85lMZ",
        "outputId": "5c6fc67d-6d29-4e12-af24-c86a8422f998"
      },
      "execution_count": 9,
      "outputs": [
        {
          "output_type": "stream",
          "name": "stdout",
          "text": [
            "we have a total of  3419 pairs of sentences in the dataset after dropping nulls\n"
          ]
        }
      ]
    },
    {
      "cell_type": "markdown",
      "source": [
        "### **Data Distribution:**\n"
      ],
      "metadata": {
        "id": "J6BRObgKVo_6"
      }
    },
    {
      "cell_type": "code",
      "source": [
        "print(df.columns)\n",
        "print(print(df['bias_label'].value_counts()))"
      ],
      "metadata": {
        "colab": {
          "base_uri": "https://localhost:8080/"
        },
        "id": "nASlsku6b3l1",
        "outputId": "a5eca394-e743-4a9a-d160-ab12f19cf1a1"
      },
      "execution_count": 10,
      "outputs": [
        {
          "output_type": "stream",
          "name": "stdout",
          "text": [
            "Index(['Sentence1', 'Sentence2', 'bias_label'], dtype='object')\n",
            "bias_label\n",
            "0    1760\n",
            "1    1659\n",
            "Name: count, dtype: int64\n",
            "None\n"
          ]
        }
      ]
    },
    {
      "cell_type": "markdown",
      "source": [
        "and in percent:"
      ],
      "metadata": {
        "id": "4uqD3ZKwVZbs"
      }
    },
    {
      "cell_type": "code",
      "source": [
        "print(df['bias_label'].value_counts(normalize=True) * 100)"
      ],
      "metadata": {
        "colab": {
          "base_uri": "https://localhost:8080/"
        },
        "id": "Wa7MupfXVYto",
        "outputId": "19fda4d7-46ef-4beb-b401-377e6258de95"
      },
      "execution_count": 34,
      "outputs": [
        {
          "output_type": "stream",
          "name": "stdout",
          "text": [
            "bias_label\n",
            "0    51.47704\n",
            "1    48.52296\n",
            "Name: proportion, dtype: float64\n"
          ]
        }
      ]
    },
    {
      "cell_type": "markdown",
      "source": [
        "#### **this shows our dataset is balanced and we can work with it efficiently!**"
      ],
      "metadata": {
        "id": "uzp6Or-NV8zF"
      }
    },
    {
      "cell_type": "markdown",
      "source": [
        "### **Now lets observe the distribution of sentence length in our dataset:**"
      ],
      "metadata": {
        "id": "T9hv33N5WG82"
      }
    },
    {
      "cell_type": "code",
      "source": [
        "import pandas as pd\n",
        "import matplotlib.pyplot as plt\n",
        "\n",
        "\n",
        "# Compute lengths\n",
        "df['len1'] = df['Sentence1'].apply(lambda x: len(str(x).split()))\n",
        "df['len2'] = df['Sentence2'].apply(lambda x: len(str(x).split()))\n",
        "\n",
        "# Summary statistics\n",
        "print(\"Sentence 1 length:\")\n",
        "print(df['len1'].describe())\n",
        "print(\"\\nSentence 2 length:\")\n",
        "print(df['len2'].describe())\n",
        "\n",
        "# Plot histograms\n",
        "plt.figure(figsize=(12, 5))\n",
        "\n",
        "plt.subplot(1, 2, 1)\n",
        "plt.hist(df['len1'], bins=20, edgecolor='black')\n",
        "plt.title(\"Sentence 1 Length Distribution\")\n",
        "plt.xlabel(\"Number of Words\")\n",
        "plt.ylabel(\"Frequency\")\n",
        "\n",
        "plt.subplot(1, 2, 2)\n",
        "plt.hist(df['len2'], bins=20, edgecolor='black')\n",
        "plt.title(\"Sentence 2 Length Distribution\")\n",
        "plt.xlabel(\"Number of Words\")\n",
        "\n",
        "plt.tight_layout()\n",
        "plt.show()\n"
      ],
      "metadata": {
        "colab": {
          "base_uri": "https://localhost:8080/",
          "height": 806
        },
        "id": "3YAriAl1_2q1",
        "outputId": "3bbb061f-f59a-4cca-e780-f90625ea00a0"
      },
      "execution_count": 7,
      "outputs": [
        {
          "output_type": "stream",
          "name": "stdout",
          "text": [
            "Sentence 1 length:\n",
            "count    3419.000000\n",
            "mean       11.846446\n",
            "std         3.106665\n",
            "min         5.000000\n",
            "25%        10.000000\n",
            "50%        11.000000\n",
            "75%        13.000000\n",
            "max        27.000000\n",
            "Name: len1, dtype: float64\n",
            "\n",
            "Sentence 2 length:\n",
            "count    3419.000000\n",
            "mean        7.171688\n",
            "std         2.122783\n",
            "min         3.000000\n",
            "25%         6.000000\n",
            "50%         7.000000\n",
            "75%         8.000000\n",
            "max        22.000000\n",
            "Name: len2, dtype: float64\n"
          ]
        },
        {
          "output_type": "display_data",
          "data": {
            "text/plain": [
              "<Figure size 1200x500 with 2 Axes>"
            ],
            "image/png": "[encoded data removed]"
          },
          "metadata": {}
        }
      ]
    },
    {
      "cell_type": "markdown",
      "source": [
        "#### The sentence lengths are varied, providing strength and diversity to our dataset."
      ],
      "metadata": {
        "id": "Ujbb3NEPWdEt"
      }
    },
    {
      "cell_type": "markdown",
      "source": [
        "# **Building the Classification Model**"
      ],
      "metadata": {
        "id": "Gh9Jr-Uvzf8H"
      }
    },
    {
      "cell_type": "markdown",
      "source": [
        "# Fine-Tuning Approach\n",
        "\n",
        "In almost every field, from deep learning and machine learning to NLP, transfer learning through fine-tuning is a useful powerful technique to enhance model accuracy, efficiency, and overall performance.\n",
        "\n",
        "The core idea behind transfer learning is to leverage pre-trained models that have already been trained on large, diverse datasets—and adapt them to specific tasks. <Br><Br>By fine-tuning these models on our dataset, we can significantly reduce training time and computational costs while benefiting from the rich feature representations learned during the original training process.\n",
        "\n",
        "## In our project:\n",
        "In our project, we apply fine-tuning to pre-trained transformer models (Sbert) to detect gender bias in Natural Language Inference (NLI) tasks.<br> Specifically, we work with sentence pairs. Our goal is to classify whether the second sentence in each pair contains a justified or biased gender reference.\n",
        "\n"
      ],
      "metadata": {
        "id": "vt1MGpSFzf-W"
      }
    },
    {
      "cell_type": "markdown",
      "source": [
        "## **Classification Models We will Build And compare:**\n",
        "* SBERT (Sentence-BERT) Classifier with logistic regression - with different freezing strategies.\n",
        "* Generative Model Baseline (GPT-3.5 / GPT-4o)\n"
      ],
      "metadata": {
        "id": "7cWEX_aOHSie"
      }
    },
    {
      "cell_type": "markdown",
      "source": [
        "# **Fine Tuning Sentence Bert (Sbert) Model:**\n",
        "\n",
        "We selected Sentence-BERT (SBERT) for fine-tuning because it is specifically designed to handle sentence pair classification tasks, making it well-suited to our dataset format.<br><br> Each example in our task consists of two sentences:<br>\n",
        "* the first introduces a person or role in a gender-neutral way\n",
        "* the second includes a gendered reference.<br><br> This setup closely resembles Natural Language Inference (NLI) tasks, where models must reason about the relationship between two sentences.<br> SBERT was originally trained on large-scale NLI datasets, enabling it to capture semantic relationships between sentence pairs.<br><br> By fine-tuning SBERT with a classification layer on our bias-labeled data, we can leverage its strong understanding of inter-sentence logic to detect when gendered references are contextually justified or potentially biased.\n",
        "\n"
      ],
      "metadata": {
        "id": "U4vnwjg0IXFn"
      }
    },
    {
      "cell_type": "code",
      "source": [
        "# imports\n",
        "!pip install transformers datasets evaluate --quiet\n",
        "\n",
        "import pandas as pd\n",
        "from datasets import Dataset\n",
        "import numpy as np\n",
        "\n",
        "from transformers import (\n",
        "    BertTokenizerFast,\n",
        "    BertForSequenceClassification,\n",
        "    Trainer,\n",
        "    TrainingArguments,\n",
        "    DataCollatorWithPadding,\n",
        "    EvalPrediction,\n",
        "    EarlyStoppingCallback,\n",
        "    AutoTokenizer\n",
        ")\n",
        "from datasets import load_dataset, Dataset\n",
        "import evaluate\n"
      ],
      "metadata": {
        "id": "GIR6U1gNROu9"
      },
      "execution_count": 11,
      "outputs": []
    },
    {
      "cell_type": "markdown",
      "source": [
        "### Defining model and standard hyperparameters"
      ],
      "metadata": {
        "id": "Ir8M7-PtZJWm"
      }
    },
    {
      "cell_type": "code",
      "source": [
        "# === CONFIG ===\n",
        "MODEL_NAME = \"sentence-transformers/all-mpnet-base-v2\"\n",
        "RUN_NAME = \"bert_bias_run1\"\n",
        "NUM_LABELS = 2\n",
        "NUM_EPOCHS = 5\n",
        "BATCH_SIZE = 16\n",
        "LEARNING_RATE = 2e-5\n",
        "LOGGING_STEPS = 10\n",
        "\n",
        "SAVE_DIR = f\"./results/{RUN_NAME}\"\n",
        "os.makedirs(SAVE_DIR, exist_ok=True)"
      ],
      "metadata": {
        "id": "KMpVHPokLA7_"
      },
      "execution_count": 12,
      "outputs": []
    },
    {
      "cell_type": "code",
      "source": [
        "print(df.columns)"
      ],
      "metadata": {
        "colab": {
          "base_uri": "https://localhost:8080/"
        },
        "id": "AZlhx_SrSYDn",
        "outputId": "e66667b5-8304-40e7-d964-84bf3e6b30b7"
      },
      "execution_count": 13,
      "outputs": [
        {
          "output_type": "stream",
          "name": "stdout",
          "text": [
            "Index(['Sentence1', 'Sentence2', 'bias_label'], dtype='object')\n"
          ]
        }
      ]
    },
    {
      "cell_type": "markdown",
      "source": [
        "### Changing the column names in our dataset to be: \"premise\" , \"hypothesis\",\"label\"."
      ],
      "metadata": {
        "id": "vdf27x26IXJM"
      }
    },
    {
      "cell_type": "code",
      "source": [
        "# Renaming columns\n",
        "df = df.rename(columns={\n",
        "    \"Sentence1\": \"premise\",\n",
        "    \"Sentence2\": \"hypothesis\",\n",
        "    \"bias_label\": \"label\"\n",
        "})\n",
        "\n",
        "# Checking result\n",
        "print(\"new columns are: \", df.columns)"
      ],
      "metadata": {
        "colab": {
          "base_uri": "https://localhost:8080/"
        },
        "id": "p4MamHhxCrOn",
        "outputId": "9d4bcba0-b681-4b55-813f-1d792fb382bb"
      },
      "execution_count": 14,
      "outputs": [
        {
          "output_type": "stream",
          "name": "stdout",
          "text": [
            "new columns are:  Index(['premise', 'hypothesis', 'label'], dtype='object')\n"
          ]
        }
      ]
    },
    {
      "cell_type": "markdown",
      "source": [
        "### **Splitting to train and test:**\n",
        "\n",
        "We will perform a two-stage stratified split:<br> first, we divide the dataset into a training+validation set (85%) and a test set (15%), preserving the label distribution.<br> Next, we further split the training+validation portion into a training set (approximately 70%) and a validation set (15%), again using stratified sampling to maintain class balance.<br><br> Finally, we convert all three subsets—train, validation, and test—into Hugging Face Dataset objects for compatibility with transformer-based training workflows."
      ],
      "metadata": {
        "id": "8-8dJ23bUNKh"
      }
    },
    {
      "cell_type": "code",
      "source": [
        "# Split\n",
        "from sklearn.model_selection import train_test_split\n",
        "\n",
        "# Step 2: First split into train+val and test (85% train+val, 15% test)\n",
        "train_val_df, test_data = train_test_split(df, test_size=0.15, stratify=df[\"label\"], random_state=42)\n",
        "\n",
        "# Step 3: Split train+val into train and val\n",
        "train_data, val_data = train_test_split(train_val_df, test_size=0.176, stratify=train_val_df[\"label\"], random_state=42)\n",
        "# 0.176 ≈ 15% / 85%\n",
        "\n",
        "# Convert to Hugging Face Datasets\n",
        "train_dataset = Dataset.from_pandas(train_data)\n",
        "val_dataset = Dataset.from_pandas(val_data)\n",
        "test_dataset = Dataset.from_pandas(test_data)\n"
      ],
      "metadata": {
        "id": "DdFVL2JAPbfp"
      },
      "execution_count": 15,
      "outputs": []
    },
    {
      "cell_type": "markdown",
      "source": [
        "### Loading the tokenizer: (sbert tokenizer)"
      ],
      "metadata": {
        "id": "cmlaRineTC0M"
      }
    },
    {
      "cell_type": "code",
      "source": [
        "tokenizer1 = AutoTokenizer.from_pretrained(MODEL_NAME)"
      ],
      "metadata": {
        "id": "VOeuwTYMSsUN",
        "colab": {
          "base_uri": "https://localhost:8080/"
        },
        "outputId": "986c2e57-648a-4b4d-ddcf-95f87bb8ea3b"
      },
      "execution_count": 16,
      "outputs": [
        {
          "output_type": "stream",
          "name": "stderr",
          "text": [
            "/usr/local/lib/python3.11/dist-packages/huggingface_hub/utils/_auth.py:94: UserWarning: \n",
            "The secret `HF_TOKEN` does not exist in your Colab secrets.\n",
            "To authenticate with the Hugging Face Hub, create a token in your settings tab (https://huggingface.co/settings/tokens), set it as secret in your Google Colab and restart your session.\n",
            "You will be able to reuse this secret in all of your notebooks.\n",
            "Please note that authentication is recommended but still optional to access public models or datasets.\n",
            "  warnings.warn(\n"
          ]
        }
      ]
    },
    {
      "cell_type": "markdown",
      "source": [
        "## **Tokenize our data:**\n",
        "To prepare the dataset for training, we tokenized each sentence pair using a tokenizer that processes the \"premise\" and \"hypothesis\" fields with truncation and padding. After tokenization, we removed the original text columns and converted the dataset to PyTorch format for efficient model training."
      ],
      "metadata": {
        "id": "-yIEGdOc2JtW"
      }
    },
    {
      "cell_type": "code",
      "source": [
        "def tokenize_function(example):\n",
        "    return tokenizer1(example[\"premise\"], example[\"hypothesis\"], truncation=True, padding=\"max_length\")\n",
        "\n",
        "\n",
        "train_dataset = train_dataset.map(tokenize_function, batched=True)\n",
        "val_dataset = val_dataset.map(tokenize_function, batched=True)\n",
        "test_dataset = test_dataset.map(tokenize_function, batched=True)\n",
        "\n",
        "train_dataset = train_dataset.remove_columns([\"premise\", \"hypothesis\", \"__index_level_0__\"])\n",
        "val_dataset = val_dataset.remove_columns([\"premise\", \"hypothesis\", \"__index_level_0__\"])\n",
        "test_dataset = test_dataset.remove_columns([\"premise\", \"hypothesis\", \"__index_level_0__\"])\n",
        "\n",
        "\n",
        "train_dataset.set_format(\"torch\")\n",
        "val_dataset.set_format(\"torch\")\n",
        "test_dataset.set_format(\"torch\")\n"
      ],
      "metadata": {
        "colab": {
          "base_uri": "https://localhost:8080/",
          "height": 113,
          "referenced_widgets": [
            "484c15ee29b442bb85c98cedd639f2c5",
            "dbb560dd54984b40844f8a9e00a4351c",
            "6e47a13200d04db2a7fcbe5ab9905f95",
            "26ff68e26c58442cab4acbd99c97de01",
            "fbdf7faf3fde46e397dcccab70ee00f8",
            "037e163454274b34bb877f380b57d938",
            "13076190a0d24b0084ebe50a9a0a40a4",
            "e9b1528a19db47d2afb066fdece160af",
            "ebc7ff33162d44898493de47fb077df0",
            "fe22bc6df99b4e6fbf85373505eddc58",
            "c2ef706810c34362bf998a1692cdab6d",
            "24b01205e4e24f10aa104fdfcb6c6027",
            "e781b91854ff44b5a48c8597316e54b3",
            "d24dda115900450dadbd6780917d2a51",
            "df682cba148f46b5bbe907546d424399",
            "1d0497db1e4e410e95307970c539196b",
            "87ef56437d434996bb242547330ced4b",
            "2d646edeae5f4514aac411145fa5e910",
            "848e0ffb6a894aa587b593a0b841bfad",
            "857af002decc4bc4b87edd3e33d7c0eb",
            "881e8d68133e479199d12c937dee72f7",
            "3ffb87ff93904050bf9d80e5b93e8abd",
            "3ed9b1ce76824a13897fbba2696e915e",
            "e1bacff4f9034f9dab4162b346ad8f80",
            "925a9fede8c34548ba2eb7db99d6eec4",
            "4bf20b7f9a7e4eed9d0fd64c13c028c5",
            "9b6858973eee40048dd33e636ffd819f",
            "6deb294a6aef40b29f2b78898cb6e537",
            "00254f92b9114138b03290ca1e9fde7c",
            "562a2b4105d844fe9ae71317c8cf260b",
            "db6ef848cf0b4df4b6f23883c6a9337e",
            "cdfb1cd2c04c45e0a11a2e3e3492b791",
            "1acc8a690b234c0f9676ff7c8c000958"
          ]
        },
        "id": "CmXcw_G0TRIZ",
        "outputId": "8c4b2931-1c5d-48dd-9647-20804335ed10"
      },
      "execution_count": 17,
      "outputs": [
        {
          "output_type": "display_data",
          "data": {
            "text/plain": [
              "Map:   0%|          | 0/2394 [00:00<?, ? examples/s]"
            ],
            "application/vnd.jupyter.widget-view+json": {
              "version_major": 2,
              "version_minor": 0,
              "model_id": "484c15ee29b442bb85c98cedd639f2c5"
            }
          },
          "metadata": {}
        },
        {
          "output_type": "display_data",
          "data": {
            "text/plain": [
              "Map:   0%|          | 0/512 [00:00<?, ? examples/s]"
            ],
            "application/vnd.jupyter.widget-view+json": {
              "version_major": 2,
              "version_minor": 0,
              "model_id": "24b01205e4e24f10aa104fdfcb6c6027"
            }
          },
          "metadata": {}
        },
        {
          "output_type": "display_data",
          "data": {
            "text/plain": [
              "Map:   0%|          | 0/513 [00:00<?, ? examples/s]"
            ],
            "application/vnd.jupyter.widget-view+json": {
              "version_major": 2,
              "version_minor": 0,
              "model_id": "3ed9b1ce76824a13897fbba2696e915e"
            }
          },
          "metadata": {}
        }
      ]
    },
    {
      "cell_type": "markdown",
      "source": [
        "## **Function to display results of classifier models (computing and displaying metrics):**\n",
        "This \"compute_metrics\" function calculates accuracy, precision, recall, and F1 score using the predicted and true labels, enabling a comprehensive evaluation of the model's classification performance. We will use it later to observe results."
      ],
      "metadata": {
        "id": "iF5DxzND2T_o"
      }
    },
    {
      "cell_type": "code",
      "source": [
        "accuracy = evaluate.load(\"accuracy\")\n",
        "precision = evaluate.load(\"precision\")\n",
        "recall = evaluate.load(\"recall\")\n",
        "f1 = evaluate.load(\"f1\")\n",
        "\n",
        "\n",
        "def compute_metrics(p: EvalPrediction):\n",
        "    preds = np.argmax(p.predictions, axis=1)\n",
        "    return {\n",
        "        \"accuracy\": accuracy.compute(predictions=preds, references=p.label_ids)[\"accuracy\"],\n",
        "        \"precision\": precision.compute(predictions=preds, references=p.label_ids, average=\"weighted\")[\"precision\"],\n",
        "        \"recall\": recall.compute(predictions=preds, references=p.label_ids, average=\"weighted\")[\"recall\"],\n",
        "        \"f1\": f1.compute(predictions=preds, references=p.label_ids, average=\"weighted\")[\"f1\"],\n",
        "    }\n"
      ],
      "metadata": {
        "id": "330qp_SNNPnK"
      },
      "execution_count": 18,
      "outputs": []
    },
    {
      "cell_type": "markdown",
      "source": [
        "### **Defining training configuration**"
      ],
      "metadata": {
        "id": "B_wEAYUbFdxK"
      }
    },
    {
      "cell_type": "code",
      "source": [
        "from transformers import TrainingArguments\n",
        "\n",
        "def get_training_args(save_dir, batch_size=16, lr=2e-5):\n",
        "    return TrainingArguments(\n",
        "        output_dir=save_dir,\n",
        "        overwrite_output_dir=True,\n",
        "        eval_strategy=\"epoch\",\n",
        "        save_strategy=\"epoch\",\n",
        "        learning_rate=lr,\n",
        "        per_device_train_batch_size=batch_size,\n",
        "        per_device_eval_batch_size=batch_size,\n",
        "        num_train_epochs=5,\n",
        "        weight_decay=0.01,\n",
        "        logging_dir=f\"{save_dir}/logs\",\n",
        "        logging_steps=10,\n",
        "        load_best_model_at_end=True,\n",
        "        metric_for_best_model=\"eval_f1\",\n",
        "        save_total_limit=1,\n",
        "        report_to=\"none\"\n",
        "    )"
      ],
      "metadata": {
        "id": "XhuoFXn-FeIH"
      },
      "execution_count": 19,
      "outputs": []
    },
    {
      "cell_type": "markdown",
      "source": [
        "### **Defining trainer setup**"
      ],
      "metadata": {
        "id": "T7amK5W0FlYy"
      }
    },
    {
      "cell_type": "code",
      "source": [
        "def trainer_setup(model, save_dir):\n",
        "    return Trainer(\n",
        "        model=model,\n",
        "        args=get_training_args(save_dir),\n",
        "        train_dataset=train_dataset,\n",
        "        eval_dataset=val_dataset,  # Validation during training\n",
        "        tokenizer=tokenizer1,\n",
        "        data_collator=DataCollatorWithPadding(tokenizer1),\n",
        "        compute_metrics=compute_metrics,\n",
        "        callbacks=[EarlyStoppingCallback(early_stopping_patience=2)]\n",
        "    )"
      ],
      "metadata": {
        "id": "BKFKX5SsFnR-"
      },
      "execution_count": 20,
      "outputs": []
    },
    {
      "cell_type": "markdown",
      "source": [
        "### **Training Function**\n",
        "This function handles the training process using a Hugging Face Trainer while measuring the total training time in minutes. After training, it prints evaluation results for each epoch, including evaluation loss, F1 score, and accuracy, allowing us to monitor the model’s performance over time."
      ],
      "metadata": {
        "id": "gv80xfwV22uC"
      }
    },
    {
      "cell_type": "code",
      "source": [
        "import time\n",
        "\n",
        "def training_func_and_results(trainer):\n",
        "    print(\"Training with epoch timing...\")\n",
        "    start_train = time.time()\n",
        "\n",
        "    trainer.train(resume_from_checkpoint=False)\n",
        "\n",
        "    end_train = time.time()\n",
        "    print(f\"Total training time: {(end_train - start_train)/60:.2f} minutes\\n\")\n",
        "\n",
        "    # Print epoch logs\n",
        "    print(\"Epoch-wise Evaluation Results:\")\n",
        "    for log in trainer.state.log_history:\n",
        "        if 'eval_loss' in log:\n",
        "            epoch = int(log['epoch'])\n",
        "            eval_loss = log.get('eval_loss')\n",
        "            f1 = log.get('eval_f1')\n",
        "            acc = log.get('eval_accuracy')\n",
        "            print(f\"Epoch {epoch}: Eval Loss={eval_loss:.4f}, F1={f1:.4f}, Accuracy={acc:.4f}\")\n"
      ],
      "metadata": {
        "id": "SHLqELU5a9jA"
      },
      "execution_count": 21,
      "outputs": []
    },
    {
      "cell_type": "markdown",
      "source": [
        "## **Freezing Layers**\n",
        "Freezing a layer means not updating its weights while training the model.\n",
        "\n",
        "Why is it helpful?\n",
        "1. It can significantly reduce the training time (Instead of retraining the entire model, which can be computationally expensive, you only train the new layers added for your specific task)\n",
        "\n",
        "2. It helps in preventing overfitting. By not updating the weights of the frozen layers, you avoid tweaking features that are already well-established and generalize well across different tasks.\n",
        "\n",
        "Since our dataset of sentence pairs is very different from the data that SBert was pretrained on (such as SNLI and MNLI, which focus on logical entailment between regular sentence pairs - without any relation to gender bias), we are going to try and freeze different layers of the data and check what performs better:\n",
        "\n",
        "* First, we will freeze some of the front (first) layers, and train the last ones, in order to use general features learned by the pre-trained model, but learn more complex patterns and behaviors from the MRI data.\n",
        "* Then we will freeze more layers\n",
        "* Finally, we will freeze all layers, and train only the classification head."
      ],
      "metadata": {
        "id": "74svTO26hvml"
      }
    },
    {
      "cell_type": "code",
      "source": [
        "def freeze_sbert_layers(model, freeze_ratio=0.5, freeze_embeddings=False):\n",
        "    encoder = model.base_model  # works for RoBERTa, BERT, etc.\n",
        "\n",
        "    try:\n",
        "        layers = encoder.encoder.layer  # works for most transformer-based models\n",
        "    except AttributeError:\n",
        "        raise ValueError(\"Cannot access encoder layers — is this a supported SBERT model?\")\n",
        "\n",
        "    total_layers = len(layers)\n",
        "    num_to_freeze = int(total_layers * freeze_ratio)\n",
        "\n",
        "    # Freeze bottom `num_to_freeze` layers\n",
        "    for idx, layer in enumerate(layers):\n",
        "        if idx < num_to_freeze:\n",
        "            for param in layer.parameters():\n",
        "                param.requires_grad = False\n",
        "\n",
        "    if freeze_embeddings:\n",
        "        for param in encoder.embeddings.parameters():\n",
        "            param.requires_grad = False\n",
        "\n",
        "    print(f\"Frozen {num_to_freeze}/{total_layers} encoder layers\")\n",
        "    if freeze_embeddings:\n",
        "        print(\"Embeddings are frozen\")\n"
      ],
      "metadata": {
        "id": "-cY92Z8pa-T9"
      },
      "execution_count": 22,
      "outputs": []
    },
    {
      "cell_type": "markdown",
      "source": [
        "### Model 1 - freezing 25% of the layers\n",
        "First, we are going to freeze about a quarter of the layers (using the function \"freeze_sbert_layers\" with the ratio 0.25)\n"
      ],
      "metadata": {
        "id": "xm5Nwc1czgC8"
      }
    },
    {
      "cell_type": "code",
      "source": [
        "from transformers import AutoModelForSequenceClassification, AutoTokenizer\n",
        "import torch\n",
        "\n",
        "# Use SBERT checkpoint (e.g., trained on NLI)\n",
        "model_name = \"sentence-transformers/all-mpnet-base-v2\"\n",
        "\n",
        "# Load as a Hugging Face model — note: it's RoBERTa architecture under the hood\n",
        "sbert_model_25 = AutoModelForSequenceClassification.from_pretrained(model_name, num_labels=2)\n",
        "tokenizer_sbert_25 = AutoTokenizer.from_pretrained(model_name)\n",
        "\n",
        "# Move to CUDA\n",
        "device = torch.device(\"cuda\" if torch.cuda.is_available() else \"cpu\")\n",
        "sbert_model_25.to(device)\n",
        "\n",
        "freeze_sbert_layers(sbert_model_25, freeze_ratio=0.25)"
      ],
      "metadata": {
        "colab": {
          "base_uri": "https://localhost:8080/"
        },
        "id": "ocOGOU0HY3mN",
        "outputId": "fecf1707-8885-4a27-aacd-c9b14a5ef058"
      },
      "execution_count": 23,
      "outputs": [
        {
          "output_type": "stream",
          "name": "stderr",
          "text": [
            "Some weights of MPNetForSequenceClassification were not initialized from the model checkpoint at sentence-transformers/all-mpnet-base-v2 and are newly initialized: ['classifier.dense.bias', 'classifier.dense.weight', 'classifier.out_proj.bias', 'classifier.out_proj.weight']\n",
            "You should probably TRAIN this model on a down-stream task to be able to use it for predictions and inference.\n"
          ]
        },
        {
          "output_type": "stream",
          "name": "stdout",
          "text": [
            "Frozen 3/12 encoder layers\n"
          ]
        }
      ]
    },
    {
      "cell_type": "code",
      "source": [
        "trainer1 = trainer_setup(sbert_model_25, \"./drive/MyDrive/saved_models/finetuned_bias_25_sbert\")\n",
        "training_func_and_results(trainer1)\n",
        "# Evaluate on test set\n",
        "test_results1 = trainer1.evaluate(test_dataset)"
      ],
      "metadata": {
        "colab": {
          "base_uri": "https://localhost:8080/",
          "height": 463
        },
        "id": "S8a_ZdlzaPTJ",
        "outputId": "6c808c22-eee5-4a91-8b50-4127efe1b9b6"
      },
      "execution_count": 24,
      "outputs": [
        {
          "output_type": "stream",
          "name": "stderr",
          "text": [
            "<ipython-input-20-1889067268>:2: FutureWarning: `tokenizer` is deprecated and will be removed in version 5.0.0 for `Trainer.__init__`. Use `processing_class` instead.\n",
            "  return Trainer(\n"
          ]
        },
        {
          "output_type": "stream",
          "name": "stdout",
          "text": [
            "Training with epoch timing...\n"
          ]
        },
        {
          "output_type": "display_data",
          "data": {
            "text/plain": [
              "<IPython.core.display.HTML object>"
            ],
            "text/html": [
              "\n",
              "    <div>\n",
              "      \n",
              "      <progress value='750' max='750' style='width:300px; height:20px; vertical-align: middle;'></progress>\n",
              "      [750/750 11:17, Epoch 5/5]\n",
              "    </div>\n",
              "    <table border=\"1\" class=\"dataframe\">\n",
              "  <thead>\n",
              " <tr style=\"text-align: left;\">\n",
              "      <th>Epoch</th>\n",
              "      <th>Training Loss</th>\n",
              "      <th>Validation Loss</th>\n",
              "      <th>Accuracy</th>\n",
              "      <th>Precision</th>\n",
              "      <th>Recall</th>\n",
              "      <th>F1</th>\n",
              "    </tr>\n",
              "  </thead>\n",
              "  <tbody>\n",
              "    <tr>\n",
              "      <td>1</td>\n",
              "      <td>0.161600</td>\n",
              "      <td>0.118041</td>\n",
              "      <td>0.974609</td>\n",
              "      <td>0.974775</td>\n",
              "      <td>0.974609</td>\n",
              "      <td>0.974599</td>\n",
              "    </tr>\n",
              "    <tr>\n",
              "      <td>2</td>\n",
              "      <td>0.100100</td>\n",
              "      <td>0.107576</td>\n",
              "      <td>0.974609</td>\n",
              "      <td>0.974775</td>\n",
              "      <td>0.974609</td>\n",
              "      <td>0.974599</td>\n",
              "    </tr>\n",
              "    <tr>\n",
              "      <td>3</td>\n",
              "      <td>0.088400</td>\n",
              "      <td>0.102495</td>\n",
              "      <td>0.978516</td>\n",
              "      <td>0.978574</td>\n",
              "      <td>0.978516</td>\n",
              "      <td>0.978511</td>\n",
              "    </tr>\n",
              "    <tr>\n",
              "      <td>4</td>\n",
              "      <td>0.050200</td>\n",
              "      <td>0.097552</td>\n",
              "      <td>0.976562</td>\n",
              "      <td>0.976668</td>\n",
              "      <td>0.976562</td>\n",
              "      <td>0.976555</td>\n",
              "    </tr>\n",
              "    <tr>\n",
              "      <td>5</td>\n",
              "      <td>0.064200</td>\n",
              "      <td>0.101155</td>\n",
              "      <td>0.974609</td>\n",
              "      <td>0.974775</td>\n",
              "      <td>0.974609</td>\n",
              "      <td>0.974599</td>\n",
              "    </tr>\n",
              "  </tbody>\n",
              "</table><p>"
            ]
          },
          "metadata": {}
        },
        {
          "output_type": "stream",
          "name": "stdout",
          "text": [
            "Total training time: 11.31 minutes\n",
            "\n",
            "Epoch-wise Evaluation Results:\n",
            "Epoch 1: Eval Loss=0.1180, F1=0.9746, Accuracy=0.9746\n",
            "Epoch 2: Eval Loss=0.1076, F1=0.9746, Accuracy=0.9746\n",
            "Epoch 3: Eval Loss=0.1025, F1=0.9785, Accuracy=0.9785\n",
            "Epoch 4: Eval Loss=0.0976, F1=0.9766, Accuracy=0.9766\n",
            "Epoch 5: Eval Loss=0.1012, F1=0.9746, Accuracy=0.9746\n"
          ]
        },
        {
          "output_type": "display_data",
          "data": {
            "text/plain": [
              "<IPython.core.display.HTML object>"
            ],
            "text/html": [
              "\n",
              "    <div>\n",
              "      \n",
              "      <progress value='33' max='33' style='width:300px; height:20px; vertical-align: middle;'></progress>\n",
              "      [33/33 00:09]\n",
              "    </div>\n",
              "    "
            ]
          },
          "metadata": {}
        }
      ]
    },
    {
      "cell_type": "code",
      "source": [
        "print(\"Test Results:\", test_results1)"
      ],
      "metadata": {
        "colab": {
          "base_uri": "https://localhost:8080/"
        },
        "id": "s16IlTlSQB5l",
        "outputId": "395ea32f-049c-47ae-e9a1-d5a8f1d78bd3"
      },
      "execution_count": 25,
      "outputs": [
        {
          "output_type": "stream",
          "name": "stdout",
          "text": [
            "Test Results: {'eval_loss': 0.10651005059480667, 'eval_accuracy': 0.9746588693957114, 'eval_precision': 0.9752195660090397, 'eval_recall': 0.9746588693957114, 'eval_f1': 0.9746380246503812, 'eval_runtime': 9.9267, 'eval_samples_per_second': 51.679, 'eval_steps_per_second': 3.324, 'epoch': 5.0}\n"
          ]
        }
      ]
    },
    {
      "cell_type": "code",
      "source": [
        "# Set the directory where to save the model\n",
        "SAVE_PATH1 = \"./drive/MyDrive/saved_models/finetuned_bias_25_sbert\"\n",
        "\n",
        "# Save the model, tokenizer, and config\n",
        "trainer1.save_model(SAVE_PATH1)\n",
        "tokenizer_sbert_25.save_pretrained(SAVE_PATH1)"
      ],
      "metadata": {
        "colab": {
          "base_uri": "https://localhost:8080/"
        },
        "id": "NsVNjpjFcSDv",
        "outputId": "1f469d9e-3405-474a-e8f0-1c378f433091"
      },
      "execution_count": 26,
      "outputs": [
        {
          "output_type": "execute_result",
          "data": {
            "text/plain": [
              "('./drive/MyDrive/saved_models/finetuned_bias_25_sbert/tokenizer_config.json',\n",
              " './drive/MyDrive/saved_models/finetuned_bias_25_sbert/special_tokens_map.json',\n",
              " './drive/MyDrive/saved_models/finetuned_bias_25_sbert/vocab.txt',\n",
              " './drive/MyDrive/saved_models/finetuned_bias_25_sbert/added_tokens.json',\n",
              " './drive/MyDrive/saved_models/finetuned_bias_25_sbert/tokenizer.json')"
            ]
          },
          "metadata": {},
          "execution_count": 26
        }
      ]
    },
    {
      "cell_type": "code",
      "source": [
        "results_df25 = pd.DataFrame([test_results1])  # test_results is from trainer.evaluate(test_dataset)\n",
        "results_df25.to_csv(\"./results/eval_results_25.csv\", index=False)"
      ],
      "metadata": {
        "id": "sRrImLPlbD0z"
      },
      "execution_count": 27,
      "outputs": []
    },
    {
      "cell_type": "code",
      "source": [
        "sbert_model_25 = BertForSequenceClassification.from_pretrained(\"./drive/MyDrive/saved_models/finetuned_bias_25_sbert\")\n",
        "tokenizer_sbert_25 = BertTokenizerFast.from_pretrained(\"./drive/MyDrive/saved_models/finetuned_bias_25_sbert\")"
      ],
      "metadata": {
        "colab": {
          "base_uri": "https://localhost:8080/"
        },
        "id": "fh32nGdEcdmD",
        "outputId": "523a788a-b0aa-4e87-8018-6fa1688fe553"
      },
      "execution_count": 28,
      "outputs": [
        {
          "output_type": "stream",
          "name": "stderr",
          "text": [
            "You are using a model of type mpnet to instantiate a model of type bert. This is not supported for all configurations of models and can yield errors.\n",
            "Some weights of BertForSequenceClassification were not initialized from the model checkpoint at ./drive/MyDrive/saved_models/finetuned_bias_25_sbert and are newly initialized: ['bert.embeddings.LayerNorm.bias', 'bert.embeddings.LayerNorm.weight', 'bert.embeddings.position_embeddings.weight', 'bert.embeddings.token_type_embeddings.weight', 'bert.embeddings.word_embeddings.weight', 'bert.encoder.layer.0.attention.output.LayerNorm.bias', 'bert.encoder.layer.0.attention.output.LayerNorm.weight', 'bert.encoder.layer.0.attention.output.dense.bias', 'bert.encoder.layer.0.attention.output.dense.weight', 'bert.encoder.layer.0.attention.self.key.bias', 'bert.encoder.layer.0.attention.self.key.weight', 'bert.encoder.layer.0.attention.self.query.bias', 'bert.encoder.layer.0.attention.self.query.weight', 'bert.encoder.layer.0.attention.self.value.bias', 'bert.encoder.layer.0.attention.self.value.weight', 'bert.encoder.layer.0.intermediate.dense.bias', 'bert.encoder.layer.0.intermediate.dense.weight', 'bert.encoder.layer.0.output.LayerNorm.bias', 'bert.encoder.layer.0.output.LayerNorm.weight', 'bert.encoder.layer.0.output.dense.bias', 'bert.encoder.layer.0.output.dense.weight', 'bert.encoder.layer.1.attention.output.LayerNorm.bias', 'bert.encoder.layer.1.attention.output.LayerNorm.weight', 'bert.encoder.layer.1.attention.output.dense.bias', 'bert.encoder.layer.1.attention.output.dense.weight', 'bert.encoder.layer.1.attention.self.key.bias', 'bert.encoder.layer.1.attention.self.key.weight', 'bert.encoder.layer.1.attention.self.query.bias', 'bert.encoder.layer.1.attention.self.query.weight', 'bert.encoder.layer.1.attention.self.value.bias', 'bert.encoder.layer.1.attention.self.value.weight', 'bert.encoder.layer.1.intermediate.dense.bias', 'bert.encoder.layer.1.intermediate.dense.weight', 'bert.encoder.layer.1.output.LayerNorm.bias', 'bert.encoder.layer.1.output.LayerNorm.weight', 'bert.encoder.layer.1.output.dense.bias', 'bert.encoder.layer.1.output.dense.weight', 'bert.encoder.layer.10.attention.output.LayerNorm.bias', 'bert.encoder.layer.10.attention.output.LayerNorm.weight', 'bert.encoder.layer.10.attention.output.dense.bias', 'bert.encoder.layer.10.attention.output.dense.weight', 'bert.encoder.layer.10.attention.self.key.bias', 'bert.encoder.layer.10.attention.self.key.weight', 'bert.encoder.layer.10.attention.self.query.bias', 'bert.encoder.layer.10.attention.self.query.weight', 'bert.encoder.layer.10.attention.self.value.bias', 'bert.encoder.layer.10.attention.self.value.weight', 'bert.encoder.layer.10.intermediate.dense.bias', 'bert.encoder.layer.10.intermediate.dense.weight', 'bert.encoder.layer.10.output.LayerNorm.bias', 'bert.encoder.layer.10.output.LayerNorm.weight', 'bert.encoder.layer.10.output.dense.bias', 'bert.encoder.layer.10.output.dense.weight', 'bert.encoder.layer.11.attention.output.LayerNorm.bias', 'bert.encoder.layer.11.attention.output.LayerNorm.weight', 'bert.encoder.layer.11.attention.output.dense.bias', 'bert.encoder.layer.11.attention.output.dense.weight', 'bert.encoder.layer.11.attention.self.key.bias', 'bert.encoder.layer.11.attention.self.key.weight', 'bert.encoder.layer.11.attention.self.query.bias', 'bert.encoder.layer.11.attention.self.query.weight', 'bert.encoder.layer.11.attention.self.value.bias', 'bert.encoder.layer.11.attention.self.value.weight', 'bert.encoder.layer.11.intermediate.dense.bias', 'bert.encoder.layer.11.intermediate.dense.weight', 'bert.encoder.layer.11.output.LayerNorm.bias', 'bert.encoder.layer.11.output.LayerNorm.weight', 'bert.encoder.layer.11.output.dense.bias', 'bert.encoder.layer.11.output.dense.weight', 'bert.encoder.layer.2.attention.output.LayerNorm.bias', 'bert.encoder.layer.2.attention.output.LayerNorm.weight', 'bert.encoder.layer.2.attention.output.dense.bias', 'bert.encoder.layer.2.attention.output.dense.weight', 'bert.encoder.layer.2.attention.self.key.bias', 'bert.encoder.layer.2.attention.self.key.weight', 'bert.encoder.layer.2.attention.self.query.bias', 'bert.encoder.layer.2.attention.self.query.weight', 'bert.encoder.layer.2.attention.self.value.bias', 'bert.encoder.layer.2.attention.self.value.weight', 'bert.encoder.layer.2.intermediate.dense.bias', 'bert.encoder.layer.2.intermediate.dense.weight', 'bert.encoder.layer.2.output.LayerNorm.bias', 'bert.encoder.layer.2.output.LayerNorm.weight', 'bert.encoder.layer.2.output.dense.bias', 'bert.encoder.layer.2.output.dense.weight', 'bert.encoder.layer.3.attention.output.LayerNorm.bias', 'bert.encoder.layer.3.attention.output.LayerNorm.weight', 'bert.encoder.layer.3.attention.output.dense.bias', 'bert.encoder.layer.3.attention.output.dense.weight', 'bert.encoder.layer.3.attention.self.key.bias', 'bert.encoder.layer.3.attention.self.key.weight', 'bert.encoder.layer.3.attention.self.query.bias', 'bert.encoder.layer.3.attention.self.query.weight', 'bert.encoder.layer.3.attention.self.value.bias', 'bert.encoder.layer.3.attention.self.value.weight', 'bert.encoder.layer.3.intermediate.dense.bias', 'bert.encoder.layer.3.intermediate.dense.weight', 'bert.encoder.layer.3.output.LayerNorm.bias', 'bert.encoder.layer.3.output.LayerNorm.weight', 'bert.encoder.layer.3.output.dense.bias', 'bert.encoder.layer.3.output.dense.weight', 'bert.encoder.layer.4.attention.output.LayerNorm.bias', 'bert.encoder.layer.4.attention.output.LayerNorm.weight', 'bert.encoder.layer.4.attention.output.dense.bias', 'bert.encoder.layer.4.attention.output.dense.weight', 'bert.encoder.layer.4.attention.self.key.bias', 'bert.encoder.layer.4.attention.self.key.weight', 'bert.encoder.layer.4.attention.self.query.bias', 'bert.encoder.layer.4.attention.self.query.weight', 'bert.encoder.layer.4.attention.self.value.bias', 'bert.encoder.layer.4.attention.self.value.weight', 'bert.encoder.layer.4.intermediate.dense.bias', 'bert.encoder.layer.4.intermediate.dense.weight', 'bert.encoder.layer.4.output.LayerNorm.bias', 'bert.encoder.layer.4.output.LayerNorm.weight', 'bert.encoder.layer.4.output.dense.bias', 'bert.encoder.layer.4.output.dense.weight', 'bert.encoder.layer.5.attention.output.LayerNorm.bias', 'bert.encoder.layer.5.attention.output.LayerNorm.weight', 'bert.encoder.layer.5.attention.output.dense.bias', 'bert.encoder.layer.5.attention.output.dense.weight', 'bert.encoder.layer.5.attention.self.key.bias', 'bert.encoder.layer.5.attention.self.key.weight', 'bert.encoder.layer.5.attention.self.query.bias', 'bert.encoder.layer.5.attention.self.query.weight', 'bert.encoder.layer.5.attention.self.value.bias', 'bert.encoder.layer.5.attention.self.value.weight', 'bert.encoder.layer.5.intermediate.dense.bias', 'bert.encoder.layer.5.intermediate.dense.weight', 'bert.encoder.layer.5.output.LayerNorm.bias', 'bert.encoder.layer.5.output.LayerNorm.weight', 'bert.encoder.layer.5.output.dense.bias', 'bert.encoder.layer.5.output.dense.weight', 'bert.encoder.layer.6.attention.output.LayerNorm.bias', 'bert.encoder.layer.6.attention.output.LayerNorm.weight', 'bert.encoder.layer.6.attention.output.dense.bias', 'bert.encoder.layer.6.attention.output.dense.weight', 'bert.encoder.layer.6.attention.self.key.bias', 'bert.encoder.layer.6.attention.self.key.weight', 'bert.encoder.layer.6.attention.self.query.bias', 'bert.encoder.layer.6.attention.self.query.weight', 'bert.encoder.layer.6.attention.self.value.bias', 'bert.encoder.layer.6.attention.self.value.weight', 'bert.encoder.layer.6.intermediate.dense.bias', 'bert.encoder.layer.6.intermediate.dense.weight', 'bert.encoder.layer.6.output.LayerNorm.bias', 'bert.encoder.layer.6.output.LayerNorm.weight', 'bert.encoder.layer.6.output.dense.bias', 'bert.encoder.layer.6.output.dense.weight', 'bert.encoder.layer.7.attention.output.LayerNorm.bias', 'bert.encoder.layer.7.attention.output.LayerNorm.weight', 'bert.encoder.layer.7.attention.output.dense.bias', 'bert.encoder.layer.7.attention.output.dense.weight', 'bert.encoder.layer.7.attention.self.key.bias', 'bert.encoder.layer.7.attention.self.key.weight', 'bert.encoder.layer.7.attention.self.query.bias', 'bert.encoder.layer.7.attention.self.query.weight', 'bert.encoder.layer.7.attention.self.value.bias', 'bert.encoder.layer.7.attention.self.value.weight', 'bert.encoder.layer.7.intermediate.dense.bias', 'bert.encoder.layer.7.intermediate.dense.weight', 'bert.encoder.layer.7.output.LayerNorm.bias', 'bert.encoder.layer.7.output.LayerNorm.weight', 'bert.encoder.layer.7.output.dense.bias', 'bert.encoder.layer.7.output.dense.weight', 'bert.encoder.layer.8.attention.output.LayerNorm.bias', 'bert.encoder.layer.8.attention.output.LayerNorm.weight', 'bert.encoder.layer.8.attention.output.dense.bias', 'bert.encoder.layer.8.attention.output.dense.weight', 'bert.encoder.layer.8.attention.self.key.bias', 'bert.encoder.layer.8.attention.self.key.weight', 'bert.encoder.layer.8.attention.self.query.bias', 'bert.encoder.layer.8.attention.self.query.weight', 'bert.encoder.layer.8.attention.self.value.bias', 'bert.encoder.layer.8.attention.self.value.weight', 'bert.encoder.layer.8.intermediate.dense.bias', 'bert.encoder.layer.8.intermediate.dense.weight', 'bert.encoder.layer.8.output.LayerNorm.bias', 'bert.encoder.layer.8.output.LayerNorm.weight', 'bert.encoder.layer.8.output.dense.bias', 'bert.encoder.layer.8.output.dense.weight', 'bert.encoder.layer.9.attention.output.LayerNorm.bias', 'bert.encoder.layer.9.attention.output.LayerNorm.weight', 'bert.encoder.layer.9.attention.output.dense.bias', 'bert.encoder.layer.9.attention.output.dense.weight', 'bert.encoder.layer.9.attention.self.key.bias', 'bert.encoder.layer.9.attention.self.key.weight', 'bert.encoder.layer.9.attention.self.query.bias', 'bert.encoder.layer.9.attention.self.query.weight', 'bert.encoder.layer.9.attention.self.value.bias', 'bert.encoder.layer.9.attention.self.value.weight', 'bert.encoder.layer.9.intermediate.dense.bias', 'bert.encoder.layer.9.intermediate.dense.weight', 'bert.encoder.layer.9.output.LayerNorm.bias', 'bert.encoder.layer.9.output.LayerNorm.weight', 'bert.encoder.layer.9.output.dense.bias', 'bert.encoder.layer.9.output.dense.weight', 'bert.pooler.dense.bias', 'bert.pooler.dense.weight', 'classifier.bias', 'classifier.weight']\n",
            "You should probably TRAIN this model on a down-stream task to be able to use it for predictions and inference.\n",
            "The tokenizer class you load from this checkpoint is not the same type as the class this function is called from. It may result in unexpected tokenization. \n",
            "The tokenizer class you load from this checkpoint is 'MPNetTokenizer'. \n",
            "The class this function is called from is 'BertTokenizerFast'.\n"
          ]
        }
      ]
    },
    {
      "cell_type": "markdown",
      "source": [
        "### Model 2 - freezing 50% of the layers\n",
        "using the function \"freeze_sbert_layers\" with the ratio 0.5"
      ],
      "metadata": {
        "id": "hBu-S1HwVE4R"
      }
    },
    {
      "cell_type": "code",
      "source": [
        "# Load as a Hugging Face model — note: it's RoBERTa architecture under the hood\n",
        "sbert_model_50 = AutoModelForSequenceClassification.from_pretrained(model_name, num_labels=2)\n",
        "tokenizer_sbert_50 = AutoTokenizer.from_pretrained(model_name)\n",
        "\n",
        "# Move to CUDA\n",
        "device = torch.device(\"cuda\" if torch.cuda.is_available() else \"cpu\")\n",
        "sbert_model_50.to(device)\n",
        "\n",
        "freeze_sbert_layers(sbert_model_50, freeze_ratio=0.5)"
      ],
      "metadata": {
        "colab": {
          "base_uri": "https://localhost:8080/"
        },
        "id": "2ReY1YkniwS_",
        "outputId": "eae2e417-fa29-4874-a5b6-2fa50984e0d3"
      },
      "execution_count": 29,
      "outputs": [
        {
          "output_type": "stream",
          "name": "stderr",
          "text": [
            "Some weights of MPNetForSequenceClassification were not initialized from the model checkpoint at sentence-transformers/all-mpnet-base-v2 and are newly initialized: ['classifier.dense.bias', 'classifier.dense.weight', 'classifier.out_proj.bias', 'classifier.out_proj.weight']\n",
            "You should probably TRAIN this model on a down-stream task to be able to use it for predictions and inference.\n"
          ]
        },
        {
          "output_type": "stream",
          "name": "stdout",
          "text": [
            "Frozen 6/12 encoder layers\n"
          ]
        }
      ]
    },
    {
      "cell_type": "code",
      "source": [
        "trainer2 = trainer_setup(sbert_model_50, \"./drive/MyDrive/saved_models/finetuned_bias_50_sbert\")\n",
        "training_func_and_results(trainer2)\n",
        "# Evaluate on test set\n",
        "test_results2 = trainer2.evaluate(test_dataset)"
      ],
      "metadata": {
        "colab": {
          "base_uri": "https://localhost:8080/",
          "height": 365
        },
        "id": "B8ryNbLujDlZ",
        "outputId": "b44fc34c-999f-4124-f44f-7154a7a9147e"
      },
      "execution_count": 30,
      "outputs": [
        {
          "output_type": "stream",
          "name": "stdout",
          "text": [
            "Training with epoch timing...\n"
          ]
        },
        {
          "output_type": "stream",
          "name": "stderr",
          "text": [
            "<ipython-input-20-1889067268>:2: FutureWarning: `tokenizer` is deprecated and will be removed in version 5.0.0 for `Trainer.__init__`. Use `processing_class` instead.\n",
            "  return Trainer(\n"
          ]
        },
        {
          "output_type": "display_data",
          "data": {
            "text/plain": [
              "<IPython.core.display.HTML object>"
            ],
            "text/html": [
              "\n",
              "    <div>\n",
              "      \n",
              "      <progress value='450' max='750' style='width:300px; height:20px; vertical-align: middle;'></progress>\n",
              "      [450/750 06:32 < 04:22, 1.14 it/s, Epoch 3/5]\n",
              "    </div>\n",
              "    <table border=\"1\" class=\"dataframe\">\n",
              "  <thead>\n",
              " <tr style=\"text-align: left;\">\n",
              "      <th>Epoch</th>\n",
              "      <th>Training Loss</th>\n",
              "      <th>Validation Loss</th>\n",
              "      <th>Accuracy</th>\n",
              "      <th>Precision</th>\n",
              "      <th>Recall</th>\n",
              "      <th>F1</th>\n",
              "    </tr>\n",
              "  </thead>\n",
              "  <tbody>\n",
              "    <tr>\n",
              "      <td>1</td>\n",
              "      <td>0.159800</td>\n",
              "      <td>0.117357</td>\n",
              "      <td>0.974609</td>\n",
              "      <td>0.974775</td>\n",
              "      <td>0.974609</td>\n",
              "      <td>0.974599</td>\n",
              "    </tr>\n",
              "    <tr>\n",
              "      <td>2</td>\n",
              "      <td>0.099900</td>\n",
              "      <td>0.107000</td>\n",
              "      <td>0.974609</td>\n",
              "      <td>0.974775</td>\n",
              "      <td>0.974609</td>\n",
              "      <td>0.974599</td>\n",
              "    </tr>\n",
              "    <tr>\n",
              "      <td>3</td>\n",
              "      <td>0.095900</td>\n",
              "      <td>0.101979</td>\n",
              "      <td>0.974609</td>\n",
              "      <td>0.974775</td>\n",
              "      <td>0.974609</td>\n",
              "      <td>0.974599</td>\n",
              "    </tr>\n",
              "  </tbody>\n",
              "</table><p>"
            ]
          },
          "metadata": {}
        },
        {
          "output_type": "stream",
          "name": "stdout",
          "text": [
            "Total training time: 6.55 minutes\n",
            "\n",
            "Epoch-wise Evaluation Results:\n",
            "Epoch 1: Eval Loss=0.1174, F1=0.9746, Accuracy=0.9746\n",
            "Epoch 2: Eval Loss=0.1070, F1=0.9746, Accuracy=0.9746\n",
            "Epoch 3: Eval Loss=0.1020, F1=0.9746, Accuracy=0.9746\n"
          ]
        },
        {
          "output_type": "display_data",
          "data": {
            "text/plain": [
              "<IPython.core.display.HTML object>"
            ],
            "text/html": [
              "\n",
              "    <div>\n",
              "      \n",
              "      <progress value='33' max='33' style='width:300px; height:20px; vertical-align: middle;'></progress>\n",
              "      [33/33 00:09]\n",
              "    </div>\n",
              "    "
            ]
          },
          "metadata": {}
        }
      ]
    },
    {
      "cell_type": "code",
      "source": [
        "print(\"Test Results:\", test_results2)"
      ],
      "metadata": {
        "colab": {
          "base_uri": "https://localhost:8080/"
        },
        "id": "jffin1gIzCK_",
        "outputId": "cfc7e6e7-7512-4868-c571-8fd03c235e13"
      },
      "execution_count": 31,
      "outputs": [
        {
          "output_type": "stream",
          "name": "stdout",
          "text": [
            "Test Results: {'eval_loss': 0.11383241415023804, 'eval_accuracy': 0.9746588693957114, 'eval_precision': 0.9752195660090397, 'eval_recall': 0.9746588693957114, 'eval_f1': 0.9746380246503812, 'eval_runtime': 9.8584, 'eval_samples_per_second': 52.037, 'eval_steps_per_second': 3.347, 'epoch': 3.0}\n"
          ]
        }
      ]
    },
    {
      "cell_type": "code",
      "source": [
        "results_df50 = pd.DataFrame([test_results2])  # test_results is from trainer.evaluate(test_dataset)\n",
        "results_df50.to_csv(\"./results/eval_results_50.csv\", index=False)"
      ],
      "metadata": {
        "id": "lWx3sNtXbOkP"
      },
      "execution_count": 32,
      "outputs": []
    },
    {
      "cell_type": "code",
      "source": [
        "# Set the directory where to save the model\n",
        "SAVE_PATH2 = \"./drive/MyDrive/saved_models/finetuned_bias_50_sbert\"\n",
        "\n",
        "# Save the model, tokenizer, and config\n",
        "trainer2.save_model(SAVE_PATH2)\n",
        "tokenizer_sbert_50.save_pretrained(SAVE_PATH2)"
      ],
      "metadata": {
        "colab": {
          "base_uri": "https://localhost:8080/"
        },
        "id": "XLvncIyUjJvW",
        "outputId": "5b357b95-1391-4246-e356-36a5fcdbfa67"
      },
      "execution_count": 33,
      "outputs": [
        {
          "output_type": "execute_result",
          "data": {
            "text/plain": [
              "('./drive/MyDrive/saved_models/finetuned_bias_50_sbert/tokenizer_config.json',\n",
              " './drive/MyDrive/saved_models/finetuned_bias_50_sbert/special_tokens_map.json',\n",
              " './drive/MyDrive/saved_models/finetuned_bias_50_sbert/vocab.txt',\n",
              " './drive/MyDrive/saved_models/finetuned_bias_50_sbert/added_tokens.json',\n",
              " './drive/MyDrive/saved_models/finetuned_bias_50_sbert/tokenizer.json')"
            ]
          },
          "metadata": {},
          "execution_count": 33
        }
      ]
    },
    {
      "cell_type": "code",
      "source": [
        "sbert_model_50 = BertForSequenceClassification.from_pretrained(\"./drive/MyDrive/saved_models/finetuned_bias_50_sbert\")\n",
        "tokenizer_sbert_50 = BertTokenizerFast.from_pretrained(\"./drive/MyDrive/saved_models/finetuned_bias_50_sbert\")"
      ],
      "metadata": {
        "colab": {
          "base_uri": "https://localhost:8080/"
        },
        "id": "SB7DDNhfjXTM",
        "outputId": "703897a4-0f88-4d78-dd83-b65ff4fa4a50"
      },
      "execution_count": 34,
      "outputs": [
        {
          "output_type": "stream",
          "name": "stderr",
          "text": [
            "You are using a model of type mpnet to instantiate a model of type bert. This is not supported for all configurations of models and can yield errors.\n",
            "Some weights of BertForSequenceClassification were not initialized from the model checkpoint at ./drive/MyDrive/saved_models/finetuned_bias_50_sbert and are newly initialized: ['bert.embeddings.LayerNorm.bias', 'bert.embeddings.LayerNorm.weight', 'bert.embeddings.position_embeddings.weight', 'bert.embeddings.token_type_embeddings.weight', 'bert.embeddings.word_embeddings.weight', 'bert.encoder.layer.0.attention.output.LayerNorm.bias', 'bert.encoder.layer.0.attention.output.LayerNorm.weight', 'bert.encoder.layer.0.attention.output.dense.bias', 'bert.encoder.layer.0.attention.output.dense.weight', 'bert.encoder.layer.0.attention.self.key.bias', 'bert.encoder.layer.0.attention.self.key.weight', 'bert.encoder.layer.0.attention.self.query.bias', 'bert.encoder.layer.0.attention.self.query.weight', 'bert.encoder.layer.0.attention.self.value.bias', 'bert.encoder.layer.0.attention.self.value.weight', 'bert.encoder.layer.0.intermediate.dense.bias', 'bert.encoder.layer.0.intermediate.dense.weight', 'bert.encoder.layer.0.output.LayerNorm.bias', 'bert.encoder.layer.0.output.LayerNorm.weight', 'bert.encoder.layer.0.output.dense.bias', 'bert.encoder.layer.0.output.dense.weight', 'bert.encoder.layer.1.attention.output.LayerNorm.bias', 'bert.encoder.layer.1.attention.output.LayerNorm.weight', 'bert.encoder.layer.1.attention.output.dense.bias', 'bert.encoder.layer.1.attention.output.dense.weight', 'bert.encoder.layer.1.attention.self.key.bias', 'bert.encoder.layer.1.attention.self.key.weight', 'bert.encoder.layer.1.attention.self.query.bias', 'bert.encoder.layer.1.attention.self.query.weight', 'bert.encoder.layer.1.attention.self.value.bias', 'bert.encoder.layer.1.attention.self.value.weight', 'bert.encoder.layer.1.intermediate.dense.bias', 'bert.encoder.layer.1.intermediate.dense.weight', 'bert.encoder.layer.1.output.LayerNorm.bias', 'bert.encoder.layer.1.output.LayerNorm.weight', 'bert.encoder.layer.1.output.dense.bias', 'bert.encoder.layer.1.output.dense.weight', 'bert.encoder.layer.10.attention.output.LayerNorm.bias', 'bert.encoder.layer.10.attention.output.LayerNorm.weight', 'bert.encoder.layer.10.attention.output.dense.bias', 'bert.encoder.layer.10.attention.output.dense.weight', 'bert.encoder.layer.10.attention.self.key.bias', 'bert.encoder.layer.10.attention.self.key.weight', 'bert.encoder.layer.10.attention.self.query.bias', 'bert.encoder.layer.10.attention.self.query.weight', 'bert.encoder.layer.10.attention.self.value.bias', 'bert.encoder.layer.10.attention.self.value.weight', 'bert.encoder.layer.10.intermediate.dense.bias', 'bert.encoder.layer.10.intermediate.dense.weight', 'bert.encoder.layer.10.output.LayerNorm.bias', 'bert.encoder.layer.10.output.LayerNorm.weight', 'bert.encoder.layer.10.output.dense.bias', 'bert.encoder.layer.10.output.dense.weight', 'bert.encoder.layer.11.attention.output.LayerNorm.bias', 'bert.encoder.layer.11.attention.output.LayerNorm.weight', 'bert.encoder.layer.11.attention.output.dense.bias', 'bert.encoder.layer.11.attention.output.dense.weight', 'bert.encoder.layer.11.attention.self.key.bias', 'bert.encoder.layer.11.attention.self.key.weight', 'bert.encoder.layer.11.attention.self.query.bias', 'bert.encoder.layer.11.attention.self.query.weight', 'bert.encoder.layer.11.attention.self.value.bias', 'bert.encoder.layer.11.attention.self.value.weight', 'bert.encoder.layer.11.intermediate.dense.bias', 'bert.encoder.layer.11.intermediate.dense.weight', 'bert.encoder.layer.11.output.LayerNorm.bias', 'bert.encoder.layer.11.output.LayerNorm.weight', 'bert.encoder.layer.11.output.dense.bias', 'bert.encoder.layer.11.output.dense.weight', 'bert.encoder.layer.2.attention.output.LayerNorm.bias', 'bert.encoder.layer.2.attention.output.LayerNorm.weight', 'bert.encoder.layer.2.attention.output.dense.bias', 'bert.encoder.layer.2.attention.output.dense.weight', 'bert.encoder.layer.2.attention.self.key.bias', 'bert.encoder.layer.2.attention.self.key.weight', 'bert.encoder.layer.2.attention.self.query.bias', 'bert.encoder.layer.2.attention.self.query.weight', 'bert.encoder.layer.2.attention.self.value.bias', 'bert.encoder.layer.2.attention.self.value.weight', 'bert.encoder.layer.2.intermediate.dense.bias', 'bert.encoder.layer.2.intermediate.dense.weight', 'bert.encoder.layer.2.output.LayerNorm.bias', 'bert.encoder.layer.2.output.LayerNorm.weight', 'bert.encoder.layer.2.output.dense.bias', 'bert.encoder.layer.2.output.dense.weight', 'bert.encoder.layer.3.attention.output.LayerNorm.bias', 'bert.encoder.layer.3.attention.output.LayerNorm.weight', 'bert.encoder.layer.3.attention.output.dense.bias', 'bert.encoder.layer.3.attention.output.dense.weight', 'bert.encoder.layer.3.attention.self.key.bias', 'bert.encoder.layer.3.attention.self.key.weight', 'bert.encoder.layer.3.attention.self.query.bias', 'bert.encoder.layer.3.attention.self.query.weight', 'bert.encoder.layer.3.attention.self.value.bias', 'bert.encoder.layer.3.attention.self.value.weight', 'bert.encoder.layer.3.intermediate.dense.bias', 'bert.encoder.layer.3.intermediate.dense.weight', 'bert.encoder.layer.3.output.LayerNorm.bias', 'bert.encoder.layer.3.output.LayerNorm.weight', 'bert.encoder.layer.3.output.dense.bias', 'bert.encoder.layer.3.output.dense.weight', 'bert.encoder.layer.4.attention.output.LayerNorm.bias', 'bert.encoder.layer.4.attention.output.LayerNorm.weight', 'bert.encoder.layer.4.attention.output.dense.bias', 'bert.encoder.layer.4.attention.output.dense.weight', 'bert.encoder.layer.4.attention.self.key.bias', 'bert.encoder.layer.4.attention.self.key.weight', 'bert.encoder.layer.4.attention.self.query.bias', 'bert.encoder.layer.4.attention.self.query.weight', 'bert.encoder.layer.4.attention.self.value.bias', 'bert.encoder.layer.4.attention.self.value.weight', 'bert.encoder.layer.4.intermediate.dense.bias', 'bert.encoder.layer.4.intermediate.dense.weight', 'bert.encoder.layer.4.output.LayerNorm.bias', 'bert.encoder.layer.4.output.LayerNorm.weight', 'bert.encoder.layer.4.output.dense.bias', 'bert.encoder.layer.4.output.dense.weight', 'bert.encoder.layer.5.attention.output.LayerNorm.bias', 'bert.encoder.layer.5.attention.output.LayerNorm.weight', 'bert.encoder.layer.5.attention.output.dense.bias', 'bert.encoder.layer.5.attention.output.dense.weight', 'bert.encoder.layer.5.attention.self.key.bias', 'bert.encoder.layer.5.attention.self.key.weight', 'bert.encoder.layer.5.attention.self.query.bias', 'bert.encoder.layer.5.attention.self.query.weight', 'bert.encoder.layer.5.attention.self.value.bias', 'bert.encoder.layer.5.attention.self.value.weight', 'bert.encoder.layer.5.intermediate.dense.bias', 'bert.encoder.layer.5.intermediate.dense.weight', 'bert.encoder.layer.5.output.LayerNorm.bias', 'bert.encoder.layer.5.output.LayerNorm.weight', 'bert.encoder.layer.5.output.dense.bias', 'bert.encoder.layer.5.output.dense.weight', 'bert.encoder.layer.6.attention.output.LayerNorm.bias', 'bert.encoder.layer.6.attention.output.LayerNorm.weight', 'bert.encoder.layer.6.attention.output.dense.bias', 'bert.encoder.layer.6.attention.output.dense.weight', 'bert.encoder.layer.6.attention.self.key.bias', 'bert.encoder.layer.6.attention.self.key.weight', 'bert.encoder.layer.6.attention.self.query.bias', 'bert.encoder.layer.6.attention.self.query.weight', 'bert.encoder.layer.6.attention.self.value.bias', 'bert.encoder.layer.6.attention.self.value.weight', 'bert.encoder.layer.6.intermediate.dense.bias', 'bert.encoder.layer.6.intermediate.dense.weight', 'bert.encoder.layer.6.output.LayerNorm.bias', 'bert.encoder.layer.6.output.LayerNorm.weight', 'bert.encoder.layer.6.output.dense.bias', 'bert.encoder.layer.6.output.dense.weight', 'bert.encoder.layer.7.attention.output.LayerNorm.bias', 'bert.encoder.layer.7.attention.output.LayerNorm.weight', 'bert.encoder.layer.7.attention.output.dense.bias', 'bert.encoder.layer.7.attention.output.dense.weight', 'bert.encoder.layer.7.attention.self.key.bias', 'bert.encoder.layer.7.attention.self.key.weight', 'bert.encoder.layer.7.attention.self.query.bias', 'bert.encoder.layer.7.attention.self.query.weight', 'bert.encoder.layer.7.attention.self.value.bias', 'bert.encoder.layer.7.attention.self.value.weight', 'bert.encoder.layer.7.intermediate.dense.bias', 'bert.encoder.layer.7.intermediate.dense.weight', 'bert.encoder.layer.7.output.LayerNorm.bias', 'bert.encoder.layer.7.output.LayerNorm.weight', 'bert.encoder.layer.7.output.dense.bias', 'bert.encoder.layer.7.output.dense.weight', 'bert.encoder.layer.8.attention.output.LayerNorm.bias', 'bert.encoder.layer.8.attention.output.LayerNorm.weight', 'bert.encoder.layer.8.attention.output.dense.bias', 'bert.encoder.layer.8.attention.output.dense.weight', 'bert.encoder.layer.8.attention.self.key.bias', 'bert.encoder.layer.8.attention.self.key.weight', 'bert.encoder.layer.8.attention.self.query.bias', 'bert.encoder.layer.8.attention.self.query.weight', 'bert.encoder.layer.8.attention.self.value.bias', 'bert.encoder.layer.8.attention.self.value.weight', 'bert.encoder.layer.8.intermediate.dense.bias', 'bert.encoder.layer.8.intermediate.dense.weight', 'bert.encoder.layer.8.output.LayerNorm.bias', 'bert.encoder.layer.8.output.LayerNorm.weight', 'bert.encoder.layer.8.output.dense.bias', 'bert.encoder.layer.8.output.dense.weight', 'bert.encoder.layer.9.attention.output.LayerNorm.bias', 'bert.encoder.layer.9.attention.output.LayerNorm.weight', 'bert.encoder.layer.9.attention.output.dense.bias', 'bert.encoder.layer.9.attention.output.dense.weight', 'bert.encoder.layer.9.attention.self.key.bias', 'bert.encoder.layer.9.attention.self.key.weight', 'bert.encoder.layer.9.attention.self.query.bias', 'bert.encoder.layer.9.attention.self.query.weight', 'bert.encoder.layer.9.attention.self.value.bias', 'bert.encoder.layer.9.attention.self.value.weight', 'bert.encoder.layer.9.intermediate.dense.bias', 'bert.encoder.layer.9.intermediate.dense.weight', 'bert.encoder.layer.9.output.LayerNorm.bias', 'bert.encoder.layer.9.output.LayerNorm.weight', 'bert.encoder.layer.9.output.dense.bias', 'bert.encoder.layer.9.output.dense.weight', 'bert.pooler.dense.bias', 'bert.pooler.dense.weight', 'classifier.bias', 'classifier.weight']\n",
            "You should probably TRAIN this model on a down-stream task to be able to use it for predictions and inference.\n",
            "The tokenizer class you load from this checkpoint is not the same type as the class this function is called from. It may result in unexpected tokenization. \n",
            "The tokenizer class you load from this checkpoint is 'MPNetTokenizer'. \n",
            "The class this function is called from is 'BertTokenizerFast'.\n"
          ]
        }
      ]
    },
    {
      "cell_type": "markdown",
      "source": [
        "### Model 3 - freezing all layers, except Classifier Head\n",
        "using the function \"freeze_sbert_layers\" with the ratio 1"
      ],
      "metadata": {
        "id": "oU0RsX-0WDN8"
      }
    },
    {
      "cell_type": "code",
      "source": [
        "# Load as a Hugging Face model — note: it's RoBERTa architecture under the hood\n",
        "sbert_model_100 = AutoModelForSequenceClassification.from_pretrained(model_name, num_labels=2)\n",
        "tokenizer_sbert_100 = AutoTokenizer.from_pretrained(model_name)\n",
        "\n",
        "# Move to CUDA\n",
        "device = torch.device(\"cuda\" if torch.cuda.is_available() else \"cpu\")\n",
        "sbert_model_100.to(device)\n",
        "\n",
        "freeze_sbert_layers(sbert_model_100, freeze_ratio=1)"
      ],
      "metadata": {
        "colab": {
          "base_uri": "https://localhost:8080/"
        },
        "id": "rFwL457Km3Np",
        "outputId": "31b960d4-c6db-42d6-af12-1a98249fe6c8"
      },
      "execution_count": 35,
      "outputs": [
        {
          "output_type": "stream",
          "name": "stderr",
          "text": [
            "Some weights of MPNetForSequenceClassification were not initialized from the model checkpoint at sentence-transformers/all-mpnet-base-v2 and are newly initialized: ['classifier.dense.bias', 'classifier.dense.weight', 'classifier.out_proj.bias', 'classifier.out_proj.weight']\n",
            "You should probably TRAIN this model on a down-stream task to be able to use it for predictions and inference.\n"
          ]
        },
        {
          "output_type": "stream",
          "name": "stdout",
          "text": [
            "Frozen 12/12 encoder layers\n"
          ]
        }
      ]
    },
    {
      "cell_type": "code",
      "source": [
        "trainer3 = trainer_setup(sbert_model_100, \"./drive/MyDrive/saved_models/finetuned_bias_100_sbert\")\n",
        "training_func_and_results(trainer3)\n",
        "# Evaluate on test set\n",
        "test_results3 = trainer3.evaluate(test_dataset)"
      ],
      "metadata": {
        "colab": {
          "base_uri": "https://localhost:8080/",
          "height": 414
        },
        "outputId": "31caab0c-2d61-4e2c-c147-b800c90223aa",
        "id": "hLGrgRYfNz_8"
      },
      "execution_count": 36,
      "outputs": [
        {
          "output_type": "stream",
          "name": "stdout",
          "text": [
            "Training with epoch timing...\n"
          ]
        },
        {
          "output_type": "stream",
          "name": "stderr",
          "text": [
            "<ipython-input-20-1889067268>:2: FutureWarning: `tokenizer` is deprecated and will be removed in version 5.0.0 for `Trainer.__init__`. Use `processing_class` instead.\n",
            "  return Trainer(\n"
          ]
        },
        {
          "output_type": "display_data",
          "data": {
            "text/plain": [
              "<IPython.core.display.HTML object>"
            ],
            "text/html": [
              "\n",
              "    <div>\n",
              "      \n",
              "      <progress value='600' max='750' style='width:300px; height:20px; vertical-align: middle;'></progress>\n",
              "      [600/750 07:49 < 01:57, 1.27 it/s, Epoch 4/5]\n",
              "    </div>\n",
              "    <table border=\"1\" class=\"dataframe\">\n",
              "  <thead>\n",
              " <tr style=\"text-align: left;\">\n",
              "      <th>Epoch</th>\n",
              "      <th>Training Loss</th>\n",
              "      <th>Validation Loss</th>\n",
              "      <th>Accuracy</th>\n",
              "      <th>Precision</th>\n",
              "      <th>Recall</th>\n",
              "      <th>F1</th>\n",
              "    </tr>\n",
              "  </thead>\n",
              "  <tbody>\n",
              "    <tr>\n",
              "      <td>1</td>\n",
              "      <td>0.644600</td>\n",
              "      <td>0.632155</td>\n",
              "      <td>0.833984</td>\n",
              "      <td>0.838270</td>\n",
              "      <td>0.833984</td>\n",
              "      <td>0.833796</td>\n",
              "    </tr>\n",
              "    <tr>\n",
              "      <td>2</td>\n",
              "      <td>0.602100</td>\n",
              "      <td>0.580412</td>\n",
              "      <td>0.869141</td>\n",
              "      <td>0.869528</td>\n",
              "      <td>0.869141</td>\n",
              "      <td>0.869172</td>\n",
              "    </tr>\n",
              "    <tr>\n",
              "      <td>3</td>\n",
              "      <td>0.563600</td>\n",
              "      <td>0.539682</td>\n",
              "      <td>0.869141</td>\n",
              "      <td>0.869528</td>\n",
              "      <td>0.869141</td>\n",
              "      <td>0.869172</td>\n",
              "    </tr>\n",
              "    <tr>\n",
              "      <td>4</td>\n",
              "      <td>0.501900</td>\n",
              "      <td>0.515416</td>\n",
              "      <td>0.869141</td>\n",
              "      <td>0.869361</td>\n",
              "      <td>0.869141</td>\n",
              "      <td>0.869168</td>\n",
              "    </tr>\n",
              "  </tbody>\n",
              "</table><p>"
            ]
          },
          "metadata": {}
        },
        {
          "output_type": "stream",
          "name": "stdout",
          "text": [
            "Total training time: 7.84 minutes\n",
            "\n",
            "Epoch-wise Evaluation Results:\n",
            "Epoch 1: Eval Loss=0.6322, F1=0.8338, Accuracy=0.8340\n",
            "Epoch 2: Eval Loss=0.5804, F1=0.8692, Accuracy=0.8691\n",
            "Epoch 3: Eval Loss=0.5397, F1=0.8692, Accuracy=0.8691\n",
            "Epoch 4: Eval Loss=0.5154, F1=0.8692, Accuracy=0.8691\n"
          ]
        },
        {
          "output_type": "display_data",
          "data": {
            "text/plain": [
              "<IPython.core.display.HTML object>"
            ],
            "text/html": [
              "\n",
              "    <div>\n",
              "      \n",
              "      <progress value='33' max='33' style='width:300px; height:20px; vertical-align: middle;'></progress>\n",
              "      [33/33 00:09]\n",
              "    </div>\n",
              "    "
            ]
          },
          "metadata": {}
        }
      ]
    },
    {
      "cell_type": "code",
      "source": [
        "print(\"Test Results:\", test_results3)"
      ],
      "metadata": {
        "id": "GwDnTaOSN-_w",
        "outputId": "1373d8df-7c34-49a4-fac9-c6aab7a7e2cd",
        "colab": {
          "base_uri": "https://localhost:8080/"
        }
      },
      "execution_count": 37,
      "outputs": [
        {
          "output_type": "stream",
          "name": "stdout",
          "text": [
            "Test Results: {'eval_loss': 0.5859116911888123, 'eval_accuracy': 0.847953216374269, 'eval_precision': 0.847953216374269, 'eval_recall': 0.847953216374269, 'eval_f1': 0.847953216374269, 'eval_runtime': 9.8775, 'eval_samples_per_second': 51.936, 'eval_steps_per_second': 3.341, 'epoch': 4.0}\n"
          ]
        }
      ]
    },
    {
      "cell_type": "code",
      "source": [
        "results_df100 = pd.DataFrame([test_results3])  # test_results is from trainer.evaluate(test_dataset)\n",
        "results_df100.to_csv(\"./results/eval_results_100.csv\", index=False)"
      ],
      "metadata": {
        "id": "nMIGFNVWbVr0"
      },
      "execution_count": 38,
      "outputs": []
    },
    {
      "cell_type": "code",
      "source": [
        "# Set the directory where to save the model\n",
        "SAVE_PATH3 = \"./drive/MyDrive/saved_models/finetuned_bias_100_sbert\"\n",
        "\n",
        "# Save the model, tokenizer, and config\n",
        "trainer3.save_model(SAVE_PATH3)\n",
        "tokenizer_sbert_100.save_pretrained(SAVE_PATH3)"
      ],
      "metadata": {
        "colab": {
          "base_uri": "https://localhost:8080/"
        },
        "id": "76AmyA1rnNY4",
        "outputId": "25553452-69b2-4a2f-9b84-44c49d82f4a4"
      },
      "execution_count": 39,
      "outputs": [
        {
          "output_type": "execute_result",
          "data": {
            "text/plain": [
              "('./drive/MyDrive/saved_models/finetuned_bias_100_sbert/tokenizer_config.json',\n",
              " './drive/MyDrive/saved_models/finetuned_bias_100_sbert/special_tokens_map.json',\n",
              " './drive/MyDrive/saved_models/finetuned_bias_100_sbert/vocab.txt',\n",
              " './drive/MyDrive/saved_models/finetuned_bias_100_sbert/added_tokens.json',\n",
              " './drive/MyDrive/saved_models/finetuned_bias_100_sbert/tokenizer.json')"
            ]
          },
          "metadata": {},
          "execution_count": 39
        }
      ]
    },
    {
      "cell_type": "code",
      "source": [
        "sbert_model_100 = BertForSequenceClassification.from_pretrained(\"./drive/MyDrive/saved_models/finetuned_bias_100_sbert\")\n",
        "tokenizer_sbert_100 = BertTokenizerFast.from_pretrained(\"./drive/MyDrive/saved_models/finetuned_bias_100_sbert\")"
      ],
      "metadata": {
        "colab": {
          "base_uri": "https://localhost:8080/"
        },
        "id": "3xSzge8mnSkF",
        "outputId": "2f6a5ae4-2a9d-4685-ebc1-c19ee2b14891"
      },
      "execution_count": 40,
      "outputs": [
        {
          "output_type": "stream",
          "name": "stderr",
          "text": [
            "You are using a model of type mpnet to instantiate a model of type bert. This is not supported for all configurations of models and can yield errors.\n",
            "Some weights of BertForSequenceClassification were not initialized from the model checkpoint at ./drive/MyDrive/saved_models/finetuned_bias_100_sbert and are newly initialized: ['bert.embeddings.LayerNorm.bias', 'bert.embeddings.LayerNorm.weight', 'bert.embeddings.position_embeddings.weight', 'bert.embeddings.token_type_embeddings.weight', 'bert.embeddings.word_embeddings.weight', 'bert.encoder.layer.0.attention.output.LayerNorm.bias', 'bert.encoder.layer.0.attention.output.LayerNorm.weight', 'bert.encoder.layer.0.attention.output.dense.bias', 'bert.encoder.layer.0.attention.output.dense.weight', 'bert.encoder.layer.0.attention.self.key.bias', 'bert.encoder.layer.0.attention.self.key.weight', 'bert.encoder.layer.0.attention.self.query.bias', 'bert.encoder.layer.0.attention.self.query.weight', 'bert.encoder.layer.0.attention.self.value.bias', 'bert.encoder.layer.0.attention.self.value.weight', 'bert.encoder.layer.0.intermediate.dense.bias', 'bert.encoder.layer.0.intermediate.dense.weight', 'bert.encoder.layer.0.output.LayerNorm.bias', 'bert.encoder.layer.0.output.LayerNorm.weight', 'bert.encoder.layer.0.output.dense.bias', 'bert.encoder.layer.0.output.dense.weight', 'bert.encoder.layer.1.attention.output.LayerNorm.bias', 'bert.encoder.layer.1.attention.output.LayerNorm.weight', 'bert.encoder.layer.1.attention.output.dense.bias', 'bert.encoder.layer.1.attention.output.dense.weight', 'bert.encoder.layer.1.attention.self.key.bias', 'bert.encoder.layer.1.attention.self.key.weight', 'bert.encoder.layer.1.attention.self.query.bias', 'bert.encoder.layer.1.attention.self.query.weight', 'bert.encoder.layer.1.attention.self.value.bias', 'bert.encoder.layer.1.attention.self.value.weight', 'bert.encoder.layer.1.intermediate.dense.bias', 'bert.encoder.layer.1.intermediate.dense.weight', 'bert.encoder.layer.1.output.LayerNorm.bias', 'bert.encoder.layer.1.output.LayerNorm.weight', 'bert.encoder.layer.1.output.dense.bias', 'bert.encoder.layer.1.output.dense.weight', 'bert.encoder.layer.10.attention.output.LayerNorm.bias', 'bert.encoder.layer.10.attention.output.LayerNorm.weight', 'bert.encoder.layer.10.attention.output.dense.bias', 'bert.encoder.layer.10.attention.output.dense.weight', 'bert.encoder.layer.10.attention.self.key.bias', 'bert.encoder.layer.10.attention.self.key.weight', 'bert.encoder.layer.10.attention.self.query.bias', 'bert.encoder.layer.10.attention.self.query.weight', 'bert.encoder.layer.10.attention.self.value.bias', 'bert.encoder.layer.10.attention.self.value.weight', 'bert.encoder.layer.10.intermediate.dense.bias', 'bert.encoder.layer.10.intermediate.dense.weight', 'bert.encoder.layer.10.output.LayerNorm.bias', 'bert.encoder.layer.10.output.LayerNorm.weight', 'bert.encoder.layer.10.output.dense.bias', 'bert.encoder.layer.10.output.dense.weight', 'bert.encoder.layer.11.attention.output.LayerNorm.bias', 'bert.encoder.layer.11.attention.output.LayerNorm.weight', 'bert.encoder.layer.11.attention.output.dense.bias', 'bert.encoder.layer.11.attention.output.dense.weight', 'bert.encoder.layer.11.attention.self.key.bias', 'bert.encoder.layer.11.attention.self.key.weight', 'bert.encoder.layer.11.attention.self.query.bias', 'bert.encoder.layer.11.attention.self.query.weight', 'bert.encoder.layer.11.attention.self.value.bias', 'bert.encoder.layer.11.attention.self.value.weight', 'bert.encoder.layer.11.intermediate.dense.bias', 'bert.encoder.layer.11.intermediate.dense.weight', 'bert.encoder.layer.11.output.LayerNorm.bias', 'bert.encoder.layer.11.output.LayerNorm.weight', 'bert.encoder.layer.11.output.dense.bias', 'bert.encoder.layer.11.output.dense.weight', 'bert.encoder.layer.2.attention.output.LayerNorm.bias', 'bert.encoder.layer.2.attention.output.LayerNorm.weight', 'bert.encoder.layer.2.attention.output.dense.bias', 'bert.encoder.layer.2.attention.output.dense.weight', 'bert.encoder.layer.2.attention.self.key.bias', 'bert.encoder.layer.2.attention.self.key.weight', 'bert.encoder.layer.2.attention.self.query.bias', 'bert.encoder.layer.2.attention.self.query.weight', 'bert.encoder.layer.2.attention.self.value.bias', 'bert.encoder.layer.2.attention.self.value.weight', 'bert.encoder.layer.2.intermediate.dense.bias', 'bert.encoder.layer.2.intermediate.dense.weight', 'bert.encoder.layer.2.output.LayerNorm.bias', 'bert.encoder.layer.2.output.LayerNorm.weight', 'bert.encoder.layer.2.output.dense.bias', 'bert.encoder.layer.2.output.dense.weight', 'bert.encoder.layer.3.attention.output.LayerNorm.bias', 'bert.encoder.layer.3.attention.output.LayerNorm.weight', 'bert.encoder.layer.3.attention.output.dense.bias', 'bert.encoder.layer.3.attention.output.dense.weight', 'bert.encoder.layer.3.attention.self.key.bias', 'bert.encoder.layer.3.attention.self.key.weight', 'bert.encoder.layer.3.attention.self.query.bias', 'bert.encoder.layer.3.attention.self.query.weight', 'bert.encoder.layer.3.attention.self.value.bias', 'bert.encoder.layer.3.attention.self.value.weight', 'bert.encoder.layer.3.intermediate.dense.bias', 'bert.encoder.layer.3.intermediate.dense.weight', 'bert.encoder.layer.3.output.LayerNorm.bias', 'bert.encoder.layer.3.output.LayerNorm.weight', 'bert.encoder.layer.3.output.dense.bias', 'bert.encoder.layer.3.output.dense.weight', 'bert.encoder.layer.4.attention.output.LayerNorm.bias', 'bert.encoder.layer.4.attention.output.LayerNorm.weight', 'bert.encoder.layer.4.attention.output.dense.bias', 'bert.encoder.layer.4.attention.output.dense.weight', 'bert.encoder.layer.4.attention.self.key.bias', 'bert.encoder.layer.4.attention.self.key.weight', 'bert.encoder.layer.4.attention.self.query.bias', 'bert.encoder.layer.4.attention.self.query.weight', 'bert.encoder.layer.4.attention.self.value.bias', 'bert.encoder.layer.4.attention.self.value.weight', 'bert.encoder.layer.4.intermediate.dense.bias', 'bert.encoder.layer.4.intermediate.dense.weight', 'bert.encoder.layer.4.output.LayerNorm.bias', 'bert.encoder.layer.4.output.LayerNorm.weight', 'bert.encoder.layer.4.output.dense.bias', 'bert.encoder.layer.4.output.dense.weight', 'bert.encoder.layer.5.attention.output.LayerNorm.bias', 'bert.encoder.layer.5.attention.output.LayerNorm.weight', 'bert.encoder.layer.5.attention.output.dense.bias', 'bert.encoder.layer.5.attention.output.dense.weight', 'bert.encoder.layer.5.attention.self.key.bias', 'bert.encoder.layer.5.attention.self.key.weight', 'bert.encoder.layer.5.attention.self.query.bias', 'bert.encoder.layer.5.attention.self.query.weight', 'bert.encoder.layer.5.attention.self.value.bias', 'bert.encoder.layer.5.attention.self.value.weight', 'bert.encoder.layer.5.intermediate.dense.bias', 'bert.encoder.layer.5.intermediate.dense.weight', 'bert.encoder.layer.5.output.LayerNorm.bias', 'bert.encoder.layer.5.output.LayerNorm.weight', 'bert.encoder.layer.5.output.dense.bias', 'bert.encoder.layer.5.output.dense.weight', 'bert.encoder.layer.6.attention.output.LayerNorm.bias', 'bert.encoder.layer.6.attention.output.LayerNorm.weight', 'bert.encoder.layer.6.attention.output.dense.bias', 'bert.encoder.layer.6.attention.output.dense.weight', 'bert.encoder.layer.6.attention.self.key.bias', 'bert.encoder.layer.6.attention.self.key.weight', 'bert.encoder.layer.6.attention.self.query.bias', 'bert.encoder.layer.6.attention.self.query.weight', 'bert.encoder.layer.6.attention.self.value.bias', 'bert.encoder.layer.6.attention.self.value.weight', 'bert.encoder.layer.6.intermediate.dense.bias', 'bert.encoder.layer.6.intermediate.dense.weight', 'bert.encoder.layer.6.output.LayerNorm.bias', 'bert.encoder.layer.6.output.LayerNorm.weight', 'bert.encoder.layer.6.output.dense.bias', 'bert.encoder.layer.6.output.dense.weight', 'bert.encoder.layer.7.attention.output.LayerNorm.bias', 'bert.encoder.layer.7.attention.output.LayerNorm.weight', 'bert.encoder.layer.7.attention.output.dense.bias', 'bert.encoder.layer.7.attention.output.dense.weight', 'bert.encoder.layer.7.attention.self.key.bias', 'bert.encoder.layer.7.attention.self.key.weight', 'bert.encoder.layer.7.attention.self.query.bias', 'bert.encoder.layer.7.attention.self.query.weight', 'bert.encoder.layer.7.attention.self.value.bias', 'bert.encoder.layer.7.attention.self.value.weight', 'bert.encoder.layer.7.intermediate.dense.bias', 'bert.encoder.layer.7.intermediate.dense.weight', 'bert.encoder.layer.7.output.LayerNorm.bias', 'bert.encoder.layer.7.output.LayerNorm.weight', 'bert.encoder.layer.7.output.dense.bias', 'bert.encoder.layer.7.output.dense.weight', 'bert.encoder.layer.8.attention.output.LayerNorm.bias', 'bert.encoder.layer.8.attention.output.LayerNorm.weight', 'bert.encoder.layer.8.attention.output.dense.bias', 'bert.encoder.layer.8.attention.output.dense.weight', 'bert.encoder.layer.8.attention.self.key.bias', 'bert.encoder.layer.8.attention.self.key.weight', 'bert.encoder.layer.8.attention.self.query.bias', 'bert.encoder.layer.8.attention.self.query.weight', 'bert.encoder.layer.8.attention.self.value.bias', 'bert.encoder.layer.8.attention.self.value.weight', 'bert.encoder.layer.8.intermediate.dense.bias', 'bert.encoder.layer.8.intermediate.dense.weight', 'bert.encoder.layer.8.output.LayerNorm.bias', 'bert.encoder.layer.8.output.LayerNorm.weight', 'bert.encoder.layer.8.output.dense.bias', 'bert.encoder.layer.8.output.dense.weight', 'bert.encoder.layer.9.attention.output.LayerNorm.bias', 'bert.encoder.layer.9.attention.output.LayerNorm.weight', 'bert.encoder.layer.9.attention.output.dense.bias', 'bert.encoder.layer.9.attention.output.dense.weight', 'bert.encoder.layer.9.attention.self.key.bias', 'bert.encoder.layer.9.attention.self.key.weight', 'bert.encoder.layer.9.attention.self.query.bias', 'bert.encoder.layer.9.attention.self.query.weight', 'bert.encoder.layer.9.attention.self.value.bias', 'bert.encoder.layer.9.attention.self.value.weight', 'bert.encoder.layer.9.intermediate.dense.bias', 'bert.encoder.layer.9.intermediate.dense.weight', 'bert.encoder.layer.9.output.LayerNorm.bias', 'bert.encoder.layer.9.output.LayerNorm.weight', 'bert.encoder.layer.9.output.dense.bias', 'bert.encoder.layer.9.output.dense.weight', 'bert.pooler.dense.bias', 'bert.pooler.dense.weight', 'classifier.bias', 'classifier.weight']\n",
            "You should probably TRAIN this model on a down-stream task to be able to use it for predictions and inference.\n",
            "The tokenizer class you load from this checkpoint is not the same type as the class this function is called from. It may result in unexpected tokenization. \n",
            "The tokenizer class you load from this checkpoint is 'MPNetTokenizer'. \n",
            "The class this function is called from is 'BertTokenizerFast'.\n"
          ]
        }
      ]
    },
    {
      "cell_type": "markdown",
      "source": [
        "## **Results And Insights:**\n",
        "\n",
        "1. The models performed extremely well (up to ~97.8% accuracy), likely because our task—classifying sentence pairs—is very similar to the NLI tasks SBERT was originally trained on. This similarity made it easy for the model to adapt with minimal fine-tuning.<br><br>\n",
        "\n",
        "1. Both the 25% and 50% frozen-layer models reached nearly identical validation and test metrics.<br>\n",
        "Therefore, we can infer that the bulk of task-specific learning occurs in the top half of SBERT’s layers. Freezing more layers can be done without a notable drop in performance, which is very good for optimizing training time or memory (we can just take the 50% frozen layer model and get almost the same results and saving time and efforts).<br><br>\n",
        "\n",
        "2. Even though both 25% and 50% models reached similar accuracy, the 25% one had lower loss values. That tells us it was more “sure” of its answers. So while both models performed well, the 25% model might be better calibrated — which is helpful if we care about confidence scores later.\n",
        "Therefore, **we consider it as the best model of the 3**.<br><br>\n",
        "\n",
        "3. The best results often appeared within the first few epochs. This shows that with a well-prepared dataset like ours, even a small amount of training can help the model adapt. <br><br>\n",
        "\n",
        "4. The model with 100% of the layers frozen couldn’t improve much after the second epoch. This shows that training only the classifier head isn’t enough. The model needs to update some deeper layers in order to learn how to detect bias correctly.<br><br>\n",
        "\n",
        "5. Although the model with 100% of its layers frozen didn’t achieve the best results, it still performed fairly well, reaching an accuracy of approximately 84.7%. This is relatively high, considering that only the classification head was trained. A possible explanation is that our task — detecting gender bias in sentence pairs — shares similarities with the natural language inference (NLI) tasks on which SBERT was originally trained. As a result, the model may have already learned relevant contextual and linguistic patterns that transferred well to our use case.\n",
        "\n",
        "\n"
      ],
      "metadata": {
        "id": "J7YW67eIEZXD"
      }
    },
    {
      "cell_type": "markdown",
      "source": [
        "## **Checking generative models as Baseline classifiers:**\n",
        "As part of our bias detection evaluation, we will test whether generative models like GPT-3.5 and GPT-4o could act as effective classifiers.<br><br>\n",
        "We will provide each model with carefully designed prompt instructions and ask each one of them to determine if a given sentence pair was biased.<br><br>\n",
        "#### **All models (the generative ones and the fine tuned sbert ones) were evaluated on the same labeled test set to ensure a fair comparison.** <br><br>\n",
        "\n",
        "We aim to check if the generative capabilities of GPT-3.5 and GPT-4o are reliable in detecting contextual bias compared to the strong performance of the fine-tuned BERT models."
      ],
      "metadata": {
        "id": "Uj44Z5gAEozX"
      }
    },
    {
      "cell_type": "markdown",
      "source": [
        "##**General Functions and code We'll use for both gpt 3.5 and 4o:**"
      ],
      "metadata": {
        "id": "7aVLOkTTKdlY"
      }
    },
    {
      "cell_type": "markdown",
      "source": [
        "### Installing the relevant version of the openai library to our task"
      ],
      "metadata": {
        "id": "_7Z6dEa2F961"
      }
    },
    {
      "cell_type": "code",
      "source": [
        "!pip install openai==0.28"
      ],
      "metadata": {
        "colab": {
          "base_uri": "https://localhost:8080/",
          "height": 550
        },
        "id": "PLCKGB2zBdTi",
        "outputId": "4ab04d31-cba2-45b4-984d-9007d2e3ad0c"
      },
      "execution_count": 17,
      "outputs": [
        {
          "output_type": "stream",
          "name": "stdout",
          "text": [
            "Collecting openai==0.28\n",
            "  Downloading openai-0.28.0-py3-none-any.whl.metadata (13 kB)\n",
            "Requirement already satisfied: requests>=2.20 in /usr/local/lib/python3.11/dist-packages (from openai==0.28) (2.32.3)\n",
            "Requirement already satisfied: tqdm in /usr/local/lib/python3.11/dist-packages (from openai==0.28) (4.67.1)\n",
            "Requirement already satisfied: aiohttp in /usr/local/lib/python3.11/dist-packages (from openai==0.28) (3.11.15)\n",
            "Requirement already satisfied: charset-normalizer<4,>=2 in /usr/local/lib/python3.11/dist-packages (from requests>=2.20->openai==0.28) (3.4.2)\n",
            "Requirement already satisfied: idna<4,>=2.5 in /usr/local/lib/python3.11/dist-packages (from requests>=2.20->openai==0.28) (3.10)\n",
            "Requirement already satisfied: urllib3<3,>=1.21.1 in /usr/local/lib/python3.11/dist-packages (from requests>=2.20->openai==0.28) (2.4.0)\n",
            "Requirement already satisfied: certifi>=2017.4.17 in /usr/local/lib/python3.11/dist-packages (from requests>=2.20->openai==0.28) (2025.4.26)\n",
            "Requirement already satisfied: aiohappyeyeballs>=2.3.0 in /usr/local/lib/python3.11/dist-packages (from aiohttp->openai==0.28) (2.6.1)\n",
            "Requirement already satisfied: aiosignal>=1.1.2 in /usr/local/lib/python3.11/dist-packages (from aiohttp->openai==0.28) (1.3.2)\n",
            "Requirement already satisfied: attrs>=17.3.0 in /usr/local/lib/python3.11/dist-packages (from aiohttp->openai==0.28) (25.3.0)\n",
            "Requirement already satisfied: frozenlist>=1.1.1 in /usr/local/lib/python3.11/dist-packages (from aiohttp->openai==0.28) (1.6.0)\n",
            "Requirement already satisfied: multidict<7.0,>=4.5 in /usr/local/lib/python3.11/dist-packages (from aiohttp->openai==0.28) (6.4.4)\n",
            "Requirement already satisfied: propcache>=0.2.0 in /usr/local/lib/python3.11/dist-packages (from aiohttp->openai==0.28) (0.3.1)\n",
            "Requirement already satisfied: yarl<2.0,>=1.17.0 in /usr/local/lib/python3.11/dist-packages (from aiohttp->openai==0.28) (1.20.0)\n",
            "Downloading openai-0.28.0-py3-none-any.whl (76 kB)\n",
            "\u001b[2K   \u001b[90m━━━━━━━━━━━━━━━━━━━━━━━━━━━━━━━━━━━━━━━━\u001b[0m \u001b[32m76.5/76.5 kB\u001b[0m \u001b[31m9.3 MB/s\u001b[0m eta \u001b[36m0:00:00\u001b[0m\n",
            "\u001b[?25hInstalling collected packages: openai\n",
            "  Attempting uninstall: openai\n",
            "    Found existing installation: openai 1.84.0\n",
            "    Uninstalling openai-1.84.0:\n",
            "      Successfully uninstalled openai-1.84.0\n",
            "Successfully installed openai-0.28.0\n"
          ]
        },
        {
          "output_type": "display_data",
          "data": {
            "application/vnd.colab-display-data+json": {
              "pip_warning": {
                "packages": [
                  "openai"
                ]
              },
              "id": "1afb36bb4a4a42dfb54c91da986ce7c4"
            }
          },
          "metadata": {}
        }
      ]
    },
    {
      "cell_type": "markdown",
      "source": [
        "This code sets up the environment to use OpenAI’s API for evaluating sentence pairs based on provided classification instructions. The prompt instructs the model to label each sentence pair as biased or not, using 0 or 1, and to return only a clean list of 30 labels without any additional text."
      ],
      "metadata": {
        "id": "uPdrrmE0GnCd"
      }
    },
    {
      "cell_type": "code",
      "source": [
        "import openai\n",
        "import pandas as pd\n",
        "import time\n",
        "import google.generativeai as genai\n",
        "import os\n",
        "\n",
        "openai.api_key = os.getenv(\"OPENAI_API_KEY\")  # We used `os.getenv(\"OPENAI_API_KEY\")` for safety (we erased the cell with our API key after running)\n",
        "\n",
        "instruction = \"\"\"\n",
        "You will be given 30 pairs of sentences.\n",
        "\n",
        "Each pair includes:\n",
        "- Sentence 1 (Premise): A neutral description of a person, profession, or role. This sentence does NOT include any gendered pronouns (like he, she, his, her, etc.). It may contain a name, a family role, or a job title.\n",
        "- Sentence 2 (Hypothesis): A follow-up sentence that refers to the person in Sentence 1 using a gendered pronoun such as he, she, his, her, him, etc.\n",
        "\n",
        "Your task:\n",
        "Carefully read both sentences in each pair, and determine whether the gendered pronoun used in Sentence 2 can be clearly and unambiguously inferred from Sentence 1.\n",
        "\n",
        "Label each pair as follows:\n",
        "- Respond with **\"0\"** if the gender used in Sentence 2 is **logically supported and inferable** from Sentence 1 (e.g., if Sentence 1 includes a name like *Anna* or a term like *mother* or *aunt*).\n",
        "- Respond with **\"1\"** if the gender used in Sentence 2 is a **gender-based assumption** that is **not clearly supported** by Sentence 1 (e.g., if Sentence 1 refers to *a person*, *a doctor*, *a teacher*, or any neutral term without a clear gender cue).\n",
        "\n",
        "Examples:\n",
        "\n",
        "Not Biased (Label = 0):\n",
        "Sentence 1: *My sister Shelly is very beautiful.*\n",
        "Sentence 2: *She works as a model.*\n",
        "→ The use of *She* is supported by the word *sister* and the name *Shelly* in Sentence 1.\n",
        "\n",
        "Biased (Label = 1):\n",
        "Sentence 1: *A person walked into the library holding a stack of books.*\n",
        "Sentence 2: *He asked if there was a place to charge his laptop.*\n",
        "→ The gender is assumed (*He*) with no justification from the first sentence, which is neutral.\n",
        "\n",
        "Return your response as a **comma-separated list of 30 values** — only numbers (0 or 1), no extra text or explanations.\n",
        "\"\"\"\n"
      ],
      "metadata": {
        "id": "_uh1NNrQ0EFb"
      },
      "execution_count": 18,
      "outputs": []
    },
    {
      "cell_type": "markdown",
      "source": [
        "### **Function that formats Sentence Pairs for Prompting:**\n",
        "This function takes two lists of sentences—sent1_list and sent2_list—and formats them into paired strings for input to a language model.<br><br>\n",
        "Each pair is structured with clear labels (\"Sentence 1\" and \"Sentence 2\") and separated by double newlines for readability and batch processing."
      ],
      "metadata": {
        "id": "0X246d3QHH67"
      }
    },
    {
      "cell_type": "code",
      "source": [
        "def format_batch(sent1_list, sent2_list):\n",
        "    return \"\\n\\n\".join([\n",
        "        f\"Sentence 1: {s1}\\nSentence 2: {s2}\"\n",
        "        for s1, s2 in zip(sent1_list, sent2_list)\n",
        "    ])"
      ],
      "metadata": {
        "id": "hu3S7Otx-3ay"
      },
      "execution_count": 8,
      "outputs": []
    },
    {
      "cell_type": "markdown",
      "source": [
        "## **The classification function:**\n",
        "This function **classify_batch_gpt_add_column** uses a GPT model (like GPT-3.5 or GPT-4o) to classify batches of sentence pairs from a DataFrame.<br><br> It formats each batch of 30 sentence pairs into a prompt, sends it to the model for classification (biased = 1, not biased = 0), and appends the predictions as a new column (gpt_pred) in the original DataFrame, handling errors and ensuring batch alignment."
      ],
      "metadata": {
        "id": "xn-ogTUjHt1t"
      }
    },
    {
      "cell_type": "code",
      "source": [
        "import random\n",
        "\n",
        "def classify_batch_gpt_add_column(df, model, batch_size=30):\n",
        "    \"\"\"\n",
        "    Classifies sentence pairs using GPT and adds the predictions as a new column to the DataFrame.\n",
        "\n",
        "    Parameters:\n",
        "    - df (pd.DataFrame): Must include 'premise' and 'hypothesis' columns.\n",
        "    - batch_size (int): Number of sentence pairs per batch.\n",
        "    - model (str): GPT model name (e.g., \"gpt-3.5-turbo\").\n",
        "\n",
        "    Returns:\n",
        "    - pd.DataFrame: Original DataFrame with an added 'gpt_pred' column.\n",
        "    \"\"\"\n",
        "    results = []\n",
        "\n",
        "    for i in range(0, len(df), batch_size):\n",
        "        batch = df.iloc[i:i+batch_size]\n",
        "        prompt = instruction + \"\\n\\n\" + format_batch(batch['Sentence1'], batch['Sentence2'])\n",
        "\n",
        "        try:\n",
        "            response = openai.ChatCompletion.create(\n",
        "                model=model,\n",
        "                messages=[{\"role\": \"user\", \"content\": prompt}],\n",
        "                temperature=0\n",
        "            )\n",
        "\n",
        "            output = response['choices'][0]['message']['content'].strip()\n",
        "            preds = [int(x) for x in output.split(\",\") if x.strip().isdigit()]\n",
        "            # Fill in missing predictions if needed\n",
        "            while len(preds) < len(batch):\n",
        "                preds.append(random.choice([0, 1]))\n",
        "\n",
        "            results.extend(preds[:len(batch)])\n",
        "\n",
        "        except Exception as e:\n",
        "            print(f\"Error at batch {i}-{i+batch_size}: {e}\")\n",
        "            results.extend([-1] * len(batch))  # Mark failed predictions\n",
        "\n",
        "        time.sleep(1)\n",
        "\n",
        "    # Add new column\n",
        "    df = df.copy()\n",
        "    df[\"gpt_pred\"] = results\n",
        "    return df\n"
      ],
      "metadata": {
        "id": "WfL6nVkK0IKh"
      },
      "execution_count": 9,
      "outputs": []
    },
    {
      "cell_type": "markdown",
      "source": [
        "## **Evaluation Function:**\n",
        "This function (**evaluate_gpt_predictions**) calculates standard classification metrics—accuracy, precision, recall, and F1 score—<br>for GPT-generated predictions compared to true labels.<br><br>\n",
        "It filters out invalid predictions (like -1), evaluates only the valid ones, and returns a dictionary summarizing the results along with the number of valid and total predictions."
      ],
      "metadata": {
        "id": "ZKig5rElKIGY"
      }
    },
    {
      "cell_type": "code",
      "source": [
        "from sklearn.metrics import accuracy_score, f1_score, precision_score, recall_score\n",
        "\n",
        "def evaluate_gpt_predictions(y_true, y_pred):\n",
        "    \"\"\"\n",
        "    Evaluates GPT predictions using standard classification metrics.\n",
        "\n",
        "    Parameters:\n",
        "    - y_true (List[int]): The ground truth labels (0 or 1).\n",
        "    - y_pred (List[int]): The predicted labels from GPT (0 or 1).\n",
        "\n",
        "    Returns:\n",
        "    - dict: Dictionary of evaluation metrics.\n",
        "    \"\"\"\n",
        "\n",
        "    # Filter out invalid predictions if any (-1)\n",
        "    valid_indices = [i for i, pred in enumerate(y_pred) if pred in [0, 1]]\n",
        "    y_true_filtered = [y_true[i] for i in valid_indices]\n",
        "    y_pred_filtered = [y_pred[i] for i in valid_indices]\n",
        "\n",
        "    # Compute metrics\n",
        "    metrics = {\n",
        "        \"Accuracy\": accuracy_score(y_true_filtered, y_pred_filtered),\n",
        "        \"F1 Score\": f1_score(y_true_filtered, y_pred_filtered),\n",
        "        \"Precision\": precision_score(y_true_filtered, y_pred_filtered),\n",
        "        \"Recall\": recall_score(y_true_filtered, y_pred_filtered),\n",
        "        \"Valid Predictions\": len(y_pred_filtered),\n",
        "        \"Total Predictions\": len(y_pred)\n",
        "    }\n",
        "\n",
        "    return metrics\n"
      ],
      "metadata": {
        "id": "-nASkwi28_qa"
      },
      "execution_count": 19,
      "outputs": []
    },
    {
      "cell_type": "markdown",
      "source": [
        "## **GPT 3.5 Baseline Classifier Model**"
      ],
      "metadata": {
        "id": "QjnyOEat0SXn"
      }
    },
    {
      "cell_type": "markdown",
      "source": [
        "creating a copy of our existing dataset (with the columns: \"premise\", \"hypothesis\", \"bias_label\")"
      ],
      "metadata": {
        "id": "VhxcB0DE1N7N"
      }
    },
    {
      "cell_type": "code",
      "source": [
        "df_gpt3 = pd.read_csv(dir_path+ \"/labeled_dataset1.csv\")"
      ],
      "metadata": {
        "id": "zaGSC3uS0ZqH"
      },
      "execution_count": 11,
      "outputs": []
    },
    {
      "cell_type": "code",
      "source": [
        "df_gpt3 = df_gpt3.dropna()\n",
        "df[\"bias_label\"] = df[\"bias_label\"].astype(int)"
      ],
      "metadata": {
        "id": "OB4mN4sHE4OI"
      },
      "execution_count": 12,
      "outputs": []
    },
    {
      "cell_type": "code",
      "source": [
        "len(df_gpt3)"
      ],
      "metadata": {
        "colab": {
          "base_uri": "https://localhost:8080/"
        },
        "id": "zLM2Xlo8IIZj",
        "outputId": "c86b0526-3bb6-48b1-d236-01ee3b09858d"
      },
      "execution_count": 13,
      "outputs": [
        {
          "output_type": "execute_result",
          "data": {
            "text/plain": [
              "3419"
            ]
          },
          "metadata": {},
          "execution_count": 13
        }
      ]
    },
    {
      "cell_type": "code",
      "source": [
        "df_gpt3_and_a_half = classify_batch_gpt_add_column(df_gpt3, \"gpt-3.5-turbo\")\n",
        "\n",
        "# Save predictions\n",
        "output_path1 = os.path.join(dir_path, \"gpt_3.5_predictions.csv\")\n",
        "df_gpt3_and_a_half.to_csv(output_path1, index=False)\n"
      ],
      "metadata": {
        "id": "242kn1gR_xnW"
      },
      "execution_count": 20,
      "outputs": []
    },
    {
      "cell_type": "code",
      "source": [
        "# Evaluate (optional)\n",
        "metrics = evaluate_gpt_predictions(\n",
        "    df_gpt3_and_a_half[\"bias_label\"].tolist(),\n",
        "    df_gpt3_and_a_half[\"gpt_pred\"].tolist()\n",
        ")\n",
        "print(metrics)\n"
      ],
      "metadata": {
        "colab": {
          "base_uri": "https://localhost:8080/"
        },
        "id": "nefwcL1aFAPk",
        "outputId": "3298fc9d-04bc-4352-d6df-019f4828d9c2"
      },
      "execution_count": 21,
      "outputs": [
        {
          "output_type": "stream",
          "name": "stdout",
          "text": [
            "{'Accuracy': 0.6022228721848494, 'F1 Score': 0.4280908326324643, 'Precision': 0.7079276773296245, 'Recall': 0.30681133212778783, 'Valid Predictions': 3419, 'Total Predictions': 3419}\n"
          ]
        }
      ]
    },
    {
      "cell_type": "code",
      "source": [
        "from google.colab import files\n",
        "files.download(output_path1)"
      ],
      "metadata": {
        "colab": {
          "base_uri": "https://localhost:8080/",
          "height": 17
        },
        "id": "NDu1wb2qb11U",
        "outputId": "5eda549b-2e33-4d39-8a04-84c80936a772"
      },
      "execution_count": 22,
      "outputs": [
        {
          "output_type": "display_data",
          "data": {
            "text/plain": [
              "<IPython.core.display.Javascript object>"
            ],
            "application/javascript": [
              "\n",
              "    async function download(id, filename, size) {\n",
              "      if (!google.colab.kernel.accessAllowed) {\n",
              "        return;\n",
              "      }\n",
              "      const div = document.createElement('div');\n",
              "      const label = document.createElement('label');\n",
              "      label.textContent = `Downloading \"${filename}\": `;\n",
              "      div.appendChild(label);\n",
              "      const progress = document.createElement('progress');\n",
              "      progress.max = size;\n",
              "      div.appendChild(progress);\n",
              "      document.body.appendChild(div);\n",
              "\n",
              "      const buffers = [];\n",
              "      let downloaded = 0;\n",
              "\n",
              "      const channel = await google.colab.kernel.comms.open(id);\n",
              "      // Send a message to notify the kernel that we're ready.\n",
              "      channel.send({})\n",
              "\n",
              "      for await (const message of channel.messages) {\n",
              "        // Send a message to notify the kernel that we're ready.\n",
              "        channel.send({})\n",
              "        if (message.buffers) {\n",
              "          for (const buffer of message.buffers) {\n",
              "            buffers.push(buffer);\n",
              "            downloaded += buffer.byteLength;\n",
              "            progress.value = downloaded;\n",
              "          }\n",
              "        }\n",
              "      }\n",
              "      const blob = new Blob(buffers, {type: 'application/binary'});\n",
              "      const a = document.createElement('a');\n",
              "      a.href = window.URL.createObjectURL(blob);\n",
              "      a.download = filename;\n",
              "      div.appendChild(a);\n",
              "      a.click();\n",
              "      div.remove();\n",
              "    }\n",
              "  "
            ]
          },
          "metadata": {}
        },
        {
          "output_type": "display_data",
          "data": {
            "text/plain": [
              "<IPython.core.display.Javascript object>"
            ],
            "application/javascript": [
              "download(\"download_64fa3816-cc52-4660-b250-90c8879ed978\", \"gpt_3.5_predictions.csv\", 446639)"
            ]
          },
          "metadata": {}
        }
      ]
    },
    {
      "cell_type": "markdown",
      "source": [
        "## **GPT 4o Baseline Classifier Model**"
      ],
      "metadata": {
        "id": "RHIHwKI4Rl-s"
      }
    },
    {
      "cell_type": "code",
      "source": [
        "df_gpt4o = pd.read_csv(dir_path+ \"/labeled_dataset1.csv\")\n",
        "df_gpt4o = df_gpt4o.dropna()"
      ],
      "metadata": {
        "id": "tVTYKJz0FXfL"
      },
      "execution_count": 23,
      "outputs": []
    },
    {
      "cell_type": "code",
      "source": [
        "df_gpt4o = classify_batch_gpt_add_column(df_gpt4o, \"gpt-4o\")\n",
        "\n",
        "# Save predictions\n",
        "output_path2 = os.path.join(dir_path, \"gpt_4o_predictions.csv\")\n",
        "df_gpt4o.to_csv(output_path2, index=False)"
      ],
      "metadata": {
        "id": "g7jP4MP6FW6M"
      },
      "execution_count": 24,
      "outputs": []
    },
    {
      "cell_type": "code",
      "source": [
        "files.download(output_path2)"
      ],
      "metadata": {
        "colab": {
          "base_uri": "https://localhost:8080/",
          "height": 17
        },
        "id": "rU61VXizLZqu",
        "outputId": "8b93ac58-832e-4e8e-99d6-5c93d74efcd2"
      },
      "execution_count": 25,
      "outputs": [
        {
          "output_type": "display_data",
          "data": {
            "text/plain": [
              "<IPython.core.display.Javascript object>"
            ],
            "application/javascript": [
              "\n",
              "    async function download(id, filename, size) {\n",
              "      if (!google.colab.kernel.accessAllowed) {\n",
              "        return;\n",
              "      }\n",
              "      const div = document.createElement('div');\n",
              "      const label = document.createElement('label');\n",
              "      label.textContent = `Downloading \"${filename}\": `;\n",
              "      div.appendChild(label);\n",
              "      const progress = document.createElement('progress');\n",
              "      progress.max = size;\n",
              "      div.appendChild(progress);\n",
              "      document.body.appendChild(div);\n",
              "\n",
              "      const buffers = [];\n",
              "      let downloaded = 0;\n",
              "\n",
              "      const channel = await google.colab.kernel.comms.open(id);\n",
              "      // Send a message to notify the kernel that we're ready.\n",
              "      channel.send({})\n",
              "\n",
              "      for await (const message of channel.messages) {\n",
              "        // Send a message to notify the kernel that we're ready.\n",
              "        channel.send({})\n",
              "        if (message.buffers) {\n",
              "          for (const buffer of message.buffers) {\n",
              "            buffers.push(buffer);\n",
              "            downloaded += buffer.byteLength;\n",
              "            progress.value = downloaded;\n",
              "          }\n",
              "        }\n",
              "      }\n",
              "      const blob = new Blob(buffers, {type: 'application/binary'});\n",
              "      const a = document.createElement('a');\n",
              "      a.href = window.URL.createObjectURL(blob);\n",
              "      a.download = filename;\n",
              "      div.appendChild(a);\n",
              "      a.click();\n",
              "      div.remove();\n",
              "    }\n",
              "  "
            ]
          },
          "metadata": {}
        },
        {
          "output_type": "display_data",
          "data": {
            "text/plain": [
              "<IPython.core.display.Javascript object>"
            ],
            "application/javascript": [
              "download(\"download_4854dc40-219a-469e-8769-7f7b36dd6361\", \"gpt_4o_predictions.csv\", 446639)"
            ]
          },
          "metadata": {}
        }
      ]
    },
    {
      "cell_type": "code",
      "source": [
        "# Evaluate (optional)\n",
        "metrics = evaluate_gpt_predictions(\n",
        "    df_gpt4o[\"bias_label\"].tolist(),\n",
        "    df_gpt4o[\"gpt_pred\"].tolist()\n",
        ")\n",
        "print(metrics)"
      ],
      "metadata": {
        "colab": {
          "base_uri": "https://localhost:8080/"
        },
        "id": "67H5XSzyGnPc",
        "outputId": "bf4938be-c7cd-4785-8a1f-8714fc339782"
      },
      "execution_count": 26,
      "outputs": [
        {
          "output_type": "stream",
          "name": "stdout",
          "text": [
            "{'Accuracy': 0.778882714243931, 'F1 Score': 0.7311522048364154, 'Precision': 0.8915871639202082, 'Recall': 0.6196503918022905, 'Valid Predictions': 3419, 'Total Predictions': 3419}\n"
          ]
        }
      ]
    },
    {
      "cell_type": "markdown",
      "source": [
        "## **Insights and results:**"
      ],
      "metadata": {
        "id": "q8yL0HLlzgHk"
      }
    },
    {
      "cell_type": "markdown",
      "source": [
        "### **1. GPT-4o clearly outperforms GPT-3.5**\n",
        "* The accuracy jumped from ~60.2% (GPT-3.5) to ~77.9% with GPT-4o.\n",
        "\n",
        "* F1 Score, which balances precision and recall, improved significantly from ~0.43 to ~0.73, showing GPT-4o’s better ability to balance both true positives and false negatives.\n",
        "\n",
        "* GPT-3.5 struggled especially with recall (~30.7%), meaning it missed many biased sentences, while GPT-4o raised recall to ~61.9%, showing much better detection of biased examples.<br><br>\n",
        "\n",
        "Possible reason: GPT-4o has stronger contextual understanding and is more capable of interpreting nuanced logic, which helps it better follow the task of bias detection based on implicit sentence structure.\n",
        "\n",
        "### **2. Both GPT models underperform compared to fine-tuned SBERT models**\n",
        "The best SBERT model (25% frozen layers) achieved ~97.4% accuracy and ~0.974 F1, which is far beyond what GPT-4o achieved.\n",
        "\n",
        "Even the 100% frozen SBERT, which trained only the classifier head, still outperformed GPT-4o with ~84.7% accuracy and ~0.847 F1.\n",
        "\n",
        "While GPT-4o is strong in zero-shot or few-shot settings, it does not match the performance of task-specific fine-tuned models like SBERT, which benefit from supervised learning and domain alignment <br>(the SBERT models had the advantage of being fine-tuned directly on our labeled dataset, while GPT-3.5 and GPT-4o relied only on instructions).\n",
        "\n",
        "\n",
        "\n",
        "\n"
      ],
      "metadata": {
        "id": "ey1rcnQBr5lA"
      }
    },
    {
      "cell_type": "markdown",
      "source": [
        "# **Balancing Contextual Bias**\n",
        "In the rewriting stage, we seek to balance gender assignments in cases where the original dataset shows biased trends. <br><br>\n",
        "For each sentence pair labeled as biased, we apply a controlled rewriting process to Sentence 2 (hypothesis).<br> We randomly assign a target gender (male or female) with equal probability (p=0.5).<br> Then we use a large language model (LLM) to rewrite the second sentence so that it refers to the person from Sentence 1 in the chosen gender, while preserving meaning and coherence (changing only the second sentence).<br><br> The rewriting is guided by a carefully designed prompt that instructs the model to adapt pronouns and gendered references without altering the semantic content of the first sentence. This process enables us to create a rebalanced version of the dataset where gender choices in ambiguous contexts are no longer systematically skewed.\n"
      ],
      "metadata": {
        "id": "uMu0ECwfr5tn"
      }
    },
    {
      "cell_type": "markdown",
      "source": [
        "### Here we take only the biased pairs from the original dataset to be \"biased_df\", and load the embedding model (Sbert) to use lated for creating hypothesis embeddings"
      ],
      "metadata": {
        "id": "9OTk6-7dVl1D"
      }
    },
    {
      "cell_type": "code",
      "source": [
        "from sentence_transformers import SentenceTransformer, util\n",
        "import openai\n",
        "\n",
        "biased_df = df[df['bias_label'] == 1.0].copy()\n",
        "\n",
        "# Loading embedding model - we will use it later to embedd the hypothesis in each biased pair\n",
        "sbert_model = SentenceTransformer('all-mpnet-base-v2')\n",
        "\n",
        "openai.api_key = os.getenv(\"OPENAI_API_KEY\")"
      ],
      "metadata": {
        "colab": {
          "base_uri": "https://localhost:8080/",
          "height": 493,
          "referenced_widgets": [
            "dfa4e75a37ca4cf58030681b363539a0",
            "d795bdd11d7d44469b52c6eea734059c",
            "861cf0a1a6f442348392c20cc93ec003",
            "930a9f814f0640b5bc4139be9f79d471",
            "f1f82446b73f4b78b269a8b1487d62b4",
            "45902b5e83724cf391df5cbf3b4205ae",
            "b22f725042b240c1b3584a7abfefdb45",
            "52e4cd1139fa40a7b3bfb7c5033fe117",
            "73bed0e1b2ab4238910a529973e3e411",
            "121a2242aa5e47a1be5591c017c52bd0",
            "90305bb987ff4c3085b6c58e2c988432",
            "523c688a0a594441ba78ed8cff9091ef",
            "1bf156949b494902b84964b85a753bb6",
            "f20e1d985148457d80317dfcc1516800",
            "d08cbbf35c4b48d78aa972af90f53467",
            "f29441cca8ad41e1ae9d1cec0dd8c96c",
            "7ad3994bddcc40068492e37f0dc02090",
            "cd08162461b24543835461cf90756273",
            "d6b0879d232d49a2a53f11df67761ffa",
            "2901415989364fe884cb537d399f2dc7",
            "f3a0595c115c476ebe3ba6da812e7f2e",
            "1579adca62ae4f23854d5b63e7263702",
            "0d57f7d98b5049a18433856c68f8d6b0",
            "695ed9532b4748c4924d4cc3cb654b47",
            "f782340be1734d5eb3c1cdbda7902013",
            "4cec090df87d40eabdc03d7a13da789a",
            "a16ef0ae2ce9403b98d038503cf6c58c",
            "a34a7375e7e44863b749e0a6be76d1db",
            "55e1f149eaf7427999408019f19a801a",
            "221889ee21af4d6b98a63acf76eaf233",
            "82ce645484fe4c86acd821d74f478e7d",
            "e4f46f6878c5468ab0761ef6089e4c94",
            "c408e7e521004cb8a86aaad5f4033f05",
            "c3c65bbd63a94a75964851f928a5b356",
            "1438f3383c3a46469d01ed224c64bde0",
            "b3719a9296554594a18e8f4ba55653dc",
            "a3244be3096a4d278230b2e7ebe43205",
            "4f666ab7176e47e691610ecd5d537214",
            "05077e53699c4e11b0c13d562de903da",
            "30259f72705a4565b1b437b7207fddad",
            "20628b3f2d1348649d8766281b7f6dd5",
            "2e00bca50db14ad292b33e25695b344d",
            "603bb0edf41c4da79ef3465213f91b4a",
            "c52e527ba40e486182e41ead361e2f9e",
            "8d22138ddf744230bf237629509ad57a",
            "96289abb996046d69df1a2086c3aa069",
            "6123bbf9e1694eed8c10fdbdca299b7c",
            "a0359441f91b49cba7b1b72d504abb30",
            "12d233558cf24159affbced0ef0f2d5a",
            "ce3b5c88975247b78b99ea542960c8dc",
            "5c7a678a0f6e49c6b5de97aea48ddbb1",
            "8f7ad7e2916c49dbae6b998d5b610248",
            "0097905c935246aba67f1168b7a6a10e",
            "189001a63a3544ceb38a5103ede0262b",
            "378d68d9b44e4c779f0fd27dcb6c2859",
            "e40e14f5ba4747b9ba3b070f5e3e2641",
            "5a163efc4060479688cc7fef2eeab191",
            "6d0507abbc014760b8322f03b4a4e987",
            "f550d693bed745b78880821eabf1e76d",
            "96f49ee1d0d445a7a974dc6734f0103c",
            "c29b38cdc3b6460e9aa2bcd7aed49b8d",
            "f24fce7030b94fef9fddbf6113741816",
            "56be94a8e4de4d538d95ffab80a6c18f",
            "4c73865758664948a17525f6cb5d0525",
            "d3454d6444dd4771a19117baf5253c5c",
            "004d52f99d954f3abf76a6a5c03fc295",
            "6ff9273ac0234cd2b69ba55b21f02d7c",
            "d55784dd327245939ca41a4f59f9dc07",
            "5de7f39b256e4f70b3c38105f4bb3fea",
            "d62223501f884ad7b35de6827d07d76e",
            "f05c56148f9f4881990f36c02c717d4f",
            "4720d0d293e748b3b6b0638ebeb7ab73",
            "bb0677ee2431489294cde01998b60d2d",
            "933aaa94bd3a47a9b7c3298579d2f67d",
            "ef3d4621e3a74a62a4637be5f0b10664",
            "5298ad7dc9bc4342810b5ab4044a19dd",
            "12661f73423c46a0ba885a29f2f42dba",
            "2e7f5f36df474aad8d6e3db4728e158d",
            "72b241a2f2654f23a67063568dabe5e7",
            "3174dc0805364d9ebe12435e23900e84",
            "d623740a42d74cf790827131e0d26614",
            "3794cd74e8e644c4a137e44af1e4a98a",
            "ef8504c10c814a29abe5f79941d675ec",
            "3a51d530d3a04fc6a488a40053d0bd52",
            "69c73659a0854a57954f40fca633b409",
            "20f1ac95427a44ef9a37198368617d51",
            "18c70513e61d4ca9829f1ab1eef560ec",
            "883f41f9f4e64bc4b475bdd5ffd023a1",
            "ed84d46380bc4103b9a3c3ccdc78d77c",
            "7c3ad36236ca4daa8aa494016da39dfc",
            "631967417c4e41cf827cf922ae7c98d4",
            "42f902c3078e44cdba1e6cb513379242",
            "7e81bb47659d4f219f73fce14c04ecbb",
            "df7eabd6c2784e7eb8cd00a7d623b241",
            "178e1b85ab9a40dc8f9fb1e15904e9c8",
            "26b8cfcfaa604c2280a0b6cdce15ac68",
            "1d3b443b7eb6440290a35ebc2d49a857",
            "614b7c93a031414198d629e0e51ca6d1",
            "4e041d76c7c243d391db2f884360982b",
            "0c15332930f94371b1f3ee057e88746c",
            "8280a6518a2f4fea87f563ce3cdce182",
            "c3409405b0d3455f95d7643888e434a2",
            "72a280570e564c1db53c7312a08b8505",
            "16e17b32c6404409adb04c79eeb5bea0",
            "532684921f3944c1964431a81d4f62e9",
            "d71839d80b2048cd80f06dc4c7474f95",
            "8323770d7bd24cde866ddc850e38e168",
            "a4d2f8cf799c4be1b6fdfb40699594bc",
            "9b454481d6064327b9dcd974960d9dea",
            "7f222a135d894e29a375a5ff35c023ce",
            "fb1aa56047ce47608ff940b7a7002a67",
            "522a512406f1432796840b6bd7edc698",
            "015f0e9c534344b8bccc5edec43a98de",
            "9266fcf962504e01a292b16fd0ccfa41",
            "f887ef8b74824b43a434bc1b42e2c168",
            "c9a584339dc449ae9293062fe066a92c",
            "209211e7c7b34fa1b0421b229e555e3e",
            "443599c50f214c99b3eb90137128e8fb",
            "76670e60dc184b41ac6b95c47f3b3742",
            "af0e10e40f6545b18c00c17a1ecc4d11",
            "57e40bc93cd1402b87fd150de4c0d1c2"
          ]
        },
        "id": "6gLGIDKCsG2Q",
        "outputId": "f6ddd3f2-884f-4f9c-8aaa-903ba7bfb1d3"
      },
      "execution_count": 8,
      "outputs": [
        {
          "output_type": "stream",
          "name": "stderr",
          "text": [
            "/usr/local/lib/python3.11/dist-packages/huggingface_hub/utils/_auth.py:94: UserWarning: \n",
            "The secret `HF_TOKEN` does not exist in your Colab secrets.\n",
            "To authenticate with the Hugging Face Hub, create a token in your settings tab (https://huggingface.co/settings/tokens), set it as secret in your Google Colab and restart your session.\n",
            "You will be able to reuse this secret in all of your notebooks.\n",
            "Please note that authentication is recommended but still optional to access public models or datasets.\n",
            "  warnings.warn(\n"
          ]
        },
        {
          "output_type": "display_data",
          "data": {
            "text/plain": [
              "modules.json:   0%|          | 0.00/349 [00:00<?, ?B/s]"
            ],
            "application/vnd.jupyter.widget-view+json": {
              "version_major": 2,
              "version_minor": 0,
              "model_id": "dfa4e75a37ca4cf58030681b363539a0"
            }
          },
          "metadata": {}
        },
        {
          "output_type": "display_data",
          "data": {
            "text/plain": [
              "config_sentence_transformers.json:   0%|          | 0.00/116 [00:00<?, ?B/s]"
            ],
            "application/vnd.jupyter.widget-view+json": {
              "version_major": 2,
              "version_minor": 0,
              "model_id": "523c688a0a594441ba78ed8cff9091ef"
            }
          },
          "metadata": {}
        },
        {
          "output_type": "display_data",
          "data": {
            "text/plain": [
              "README.md:   0%|          | 0.00/10.4k [00:00<?, ?B/s]"
            ],
            "application/vnd.jupyter.widget-view+json": {
              "version_major": 2,
              "version_minor": 0,
              "model_id": "0d57f7d98b5049a18433856c68f8d6b0"
            }
          },
          "metadata": {}
        },
        {
          "output_type": "display_data",
          "data": {
            "text/plain": [
              "sentence_bert_config.json:   0%|          | 0.00/53.0 [00:00<?, ?B/s]"
            ],
            "application/vnd.jupyter.widget-view+json": {
              "version_major": 2,
              "version_minor": 0,
              "model_id": "c3c65bbd63a94a75964851f928a5b356"
            }
          },
          "metadata": {}
        },
        {
          "output_type": "display_data",
          "data": {
            "text/plain": [
              "config.json:   0%|          | 0.00/571 [00:00<?, ?B/s]"
            ],
            "application/vnd.jupyter.widget-view+json": {
              "version_major": 2,
              "version_minor": 0,
              "model_id": "8d22138ddf744230bf237629509ad57a"
            }
          },
          "metadata": {}
        },
        {
          "output_type": "display_data",
          "data": {
            "text/plain": [
              "model.safetensors:   0%|          | 0.00/438M [00:00<?, ?B/s]"
            ],
            "application/vnd.jupyter.widget-view+json": {
              "version_major": 2,
              "version_minor": 0,
              "model_id": "e40e14f5ba4747b9ba3b070f5e3e2641"
            }
          },
          "metadata": {}
        },
        {
          "output_type": "display_data",
          "data": {
            "text/plain": [
              "tokenizer_config.json:   0%|          | 0.00/363 [00:00<?, ?B/s]"
            ],
            "application/vnd.jupyter.widget-view+json": {
              "version_major": 2,
              "version_minor": 0,
              "model_id": "6ff9273ac0234cd2b69ba55b21f02d7c"
            }
          },
          "metadata": {}
        },
        {
          "output_type": "display_data",
          "data": {
            "text/plain": [
              "vocab.txt:   0%|          | 0.00/232k [00:00<?, ?B/s]"
            ],
            "application/vnd.jupyter.widget-view+json": {
              "version_major": 2,
              "version_minor": 0,
              "model_id": "2e7f5f36df474aad8d6e3db4728e158d"
            }
          },
          "metadata": {}
        },
        {
          "output_type": "display_data",
          "data": {
            "text/plain": [
              "tokenizer.json:   0%|          | 0.00/466k [00:00<?, ?B/s]"
            ],
            "application/vnd.jupyter.widget-view+json": {
              "version_major": 2,
              "version_minor": 0,
              "model_id": "ed84d46380bc4103b9a3c3ccdc78d77c"
            }
          },
          "metadata": {}
        },
        {
          "output_type": "display_data",
          "data": {
            "text/plain": [
              "special_tokens_map.json:   0%|          | 0.00/239 [00:00<?, ?B/s]"
            ],
            "application/vnd.jupyter.widget-view+json": {
              "version_major": 2,
              "version_minor": 0,
              "model_id": "0c15332930f94371b1f3ee057e88746c"
            }
          },
          "metadata": {}
        },
        {
          "output_type": "display_data",
          "data": {
            "text/plain": [
              "config.json:   0%|          | 0.00/190 [00:00<?, ?B/s]"
            ],
            "application/vnd.jupyter.widget-view+json": {
              "version_major": 2,
              "version_minor": 0,
              "model_id": "fb1aa56047ce47608ff940b7a7002a67"
            }
          },
          "metadata": {}
        }
      ]
    },
    {
      "cell_type": "markdown",
      "source": [
        "## **Prompt for rewrite instructions:**\n",
        "This code defines a function, **rewrite_sentence**, that uses OpenAI's GPT-4o model to rewrite a sentence in a gender-controlled way.<br><br>\n",
        "Given a pair of sentences—where the first describes a person in a gender-neutral way and the second refers to that person using a gendered term—the function modifies only the second sentence to reflect a specified target gender (either \"male\" or \"female\").<br><br>\n",
        "The prompt includes strict formatting and output rules to ensure consistency, such as not repeating the first sentence, always including a gender term, and avoiding quotation marks or labels in the output.<br><br>\n",
        "The OpenAI() client is used to make a call to the GPT-4o chat model, and the rewritten sentence is returned. This method is used to generate balanced gender references across biased sentence pairs for bias mitigation."
      ],
      "metadata": {
        "id": "URnVznomWse3"
      }
    },
    {
      "cell_type": "code",
      "source": [
        "import openai\n",
        "\n",
        "# Create client once at top of notebook\n",
        "client = openai.OpenAI()\n",
        "\n",
        "def rewrite_sentence(sentence1, sentence2, target_gender):\n",
        "    prompt = f\"\"\"\n",
        "You will receive two sentences:\n",
        "\n",
        "- The first sentence describes a person or role, without specifying gender.\n",
        "- The second sentence currently refers to this person using a gendered term.\n",
        "\n",
        "Your task:\n",
        "- Rewrite ONLY Sentence 2 so that it naturally refers to the person as a {target_gender}.\n",
        "- Do NOT change Sentence 1.\n",
        "- Do NOT repeat Sentence 1.\n",
        "- Do NOT include the labels 'Sentence 1' or 'Sentence 2' in your output.\n",
        "- Do NOT put quotes around the output.\n",
        "- Only output the new version of Sentence 2.\n",
        "- Make sure to always include a gender term in the second sentence, like he, she, him, her, himself, herself, hers,\n",
        "his.\n",
        "-The new gender term is supposed to match the {target_gender}.\n",
        "\n",
        "You may adapt pronouns, names, or references in Sentence 2 to match the {target_gender}. Keep the sentence fluent, consistent, and logical.\n",
        "\n",
        "Example:\n",
        "\n",
        "Sentence 1: \"The painter finished a large mural.\"\n",
        "Original Sentence 2: \"Her work was admired by all.\"\n",
        "Rewritten Sentence 2 (about a male): His work was admired by all.\n",
        "\n",
        "Now rewrite:\n",
        "\n",
        "Sentence 1: \"{sentence1}\"\n",
        "Original Sentence 2: \"{sentence2}\"\n",
        "Rewritten Sentence 2 (about a {target_gender}):\n",
        "\"\"\"\n",
        "\n",
        "    try:\n",
        "        response = client.chat.completions.create(\n",
        "            model=\"gpt-4o\",\n",
        "            messages=[\n",
        "                {\"role\": \"system\", \"content\": \"You are an expert at rewriting sentences with controlled gender representation. You must strictly follow the instructions.\"},\n",
        "                {\"role\": \"user\", \"content\": prompt}\n",
        "            ],\n",
        "            temperature=0.5,\n",
        "            max_tokens=100\n",
        "        )\n",
        "        rewritten = response.choices[0].message.content.strip()\n",
        "        return rewritten\n",
        "\n",
        "    except Exception as e:\n",
        "        print(f\"Error during OpenAI call: {e}\")\n",
        "        return None\n"
      ],
      "metadata": {
        "id": "yj7hLwynu6ab"
      },
      "execution_count": 23,
      "outputs": []
    },
    {
      "cell_type": "markdown",
      "source": [
        "## **Rewrite Random Gender Biased Sentences Function:**\n",
        "This function automates the process of rewriting gender-biased sentences to create a more balanced dataset.<br><br> It iterates over a DataFrame of sentence pairs (we will later pass it biased_df) using tqdm for progress tracking. <br><br>For each pair, it randomly selects a target gender (\"male\" or \"female\") and calls the previously defined rewrite_sentence function to generate a revised version of Sentence2 that reflects the chosen gender. <br><br>The original and rewritten sentences, along with the assigned gender, are stored in a new list.<br> After processing all entries, the results are compiled into a new DataFrame and displayed.\n"
      ],
      "metadata": {
        "id": "mpN_XcH4YR1X"
      }
    },
    {
      "cell_type": "code",
      "source": [
        "import random\n",
        "import time\n",
        "import tqdm\n",
        "\n",
        "def rewriting_data_using_gpt(sample_biased_df):\n",
        "\n",
        "    rewritten_data = []\n",
        "\n",
        "    for idx, row in tqdm.tqdm(sample_biased_df.iterrows(), total=sample_biased_df.shape[0]):\n",
        "        sentence1 = row['Sentence1']\n",
        "        sentence2 = row['Sentence2']\n",
        "\n",
        "        # Toss a coin\n",
        "        target_gender = random.choice(['male', 'female'])\n",
        "\n",
        "        # Rewrite the sentence\n",
        "        rewritten_sentence = rewrite_sentence(sentence1, sentence2, target_gender)\n",
        "\n",
        "        if rewritten_sentence:\n",
        "            rewritten_data.append({\n",
        "                'Sentence1': sentence1,\n",
        "                'Original_Sentence2': sentence2,\n",
        "                'Rewritten_Sentence2': rewritten_sentence,\n",
        "                'Target_Gender': target_gender\n",
        "            })\n",
        "\n",
        "        time.sleep(2)\n",
        "\n",
        "    #Convert to DataFrame and display\n",
        "    rewritten_df = pd.DataFrame(rewritten_data)\n",
        "    display(rewritten_df)\n",
        "    return rewritten_df\n"
      ],
      "metadata": {
        "id": "x5rmbOpGxC1N"
      },
      "execution_count": 24,
      "outputs": []
    },
    {
      "cell_type": "markdown",
      "source": [
        "### To see that we are on the right direction and that the usage of GPT4o is rewriting the sentences correctly - we will test it on 20 samples"
      ],
      "metadata": {
        "id": "OpkF4uwiwhRr"
      }
    },
    {
      "cell_type": "code",
      "source": [
        "sample_biased_df = biased_df.head(20)\n",
        "df_rewritten_20_samples = rewriting_data_using_gpt(sample_biased_df)\n",
        "df_rewritten_20_samples.to_csv('rewritten_biased_20_sentences.csv', index=False)\n",
        "print(\"Saved rewritten data to rewritten_biased_20_sentences.csv\")"
      ],
      "metadata": {
        "colab": {
          "base_uri": "https://localhost:8080/",
          "height": 1000
        },
        "id": "cL2ZqEKaGjIg",
        "outputId": "f7b6e713-5532-4df7-fe52-523bd1b50ed1"
      },
      "execution_count": 25,
      "outputs": [
        {
          "output_type": "stream",
          "name": "stderr",
          "text": [
            "100%|██████████| 20/20 [00:52<00:00,  2.65s/it]\n"
          ]
        },
        {
          "output_type": "display_data",
          "data": {
            "text/plain": [
              "                                            Sentence1  \\\n",
              "0   My cousin opened a tiny repair shop near the t...   \n",
              "1   From the back of the classroom, the teacher wa...   \n",
              "2   The firefighter, soaked in sweat, emerged with...   \n",
              "3   There's a chef in our neighborhood who never r...   \n",
              "4   During the ceremony, the judge raised a hand t...   \n",
              "5   That pilot landed the plane with one engine of...   \n",
              "6   I asked the developer next door for help debug...   \n",
              "7   The student behind me was sketching diagrams d...   \n",
              "8   In the middle of the chaos, the paramedic reac...   \n",
              "9   A photographer with an eye for color was snapp...   \n",
              "10  Standing behind the podium, the senator addres...   \n",
              "11  That computer engineer rebuilt the company's i...   \n",
              "12  No one expected the cleaner to find the missin...   \n",
              "13  In the warzone, the military captain gave orde...   \n",
              "14  During the awards gala, the director received ...   \n",
              "15  The coach, drenched in rain, called the team i...   \n",
              "16  At the coding bootcamp, the youngest instructo...   \n",
              "17  My cousin works at city hall managing civic en...   \n",
              "18  The receptionist, always with a smile, handled...   \n",
              "19  The drama teacher used improv games to teach p...   \n",
              "\n",
              "                                   Original_Sentence2  \\\n",
              "0           He's been fixing watches since childhood.   \n",
              "1                           Her patience was endless.   \n",
              "2                      His bravery stunned the crowd.   \n",
              "3                       People admire his creativity.   \n",
              "4                      Her voice commanded attention.   \n",
              "5               Everyone applauded her steady nerves.   \n",
              "6               He found the issue in under a minute.   \n",
              "7                 His notebook was filled with ideas.   \n",
              "8     Everyone watched as she assessed the situation.   \n",
              "9            Her portfolio was later featured online.   \n",
              "10            Her words shifted the mood of the room.   \n",
              "11                            He saved them millions.   \n",
              "12                She returned it without hesitation.   \n",
              "13       His strategies prevented further casualties.   \n",
              "14            He gave a moving speech about teamwork.   \n",
              "15                    His voice rose above the storm.   \n",
              "16                       Her patience was impressive.   \n",
              "17  He's known for connecting with every neighborh...   \n",
              "18                Her calm made the office feel safe.   \n",
              "19                    His students adored him for it.   \n",
              "\n",
              "                                  Rewritten_Sentence2 Target_Gender  \n",
              "0           He's been fixing watches since childhood.          male  \n",
              "1                           Her patience was endless.        female  \n",
              "2                      His bravery stunned the crowd.          male  \n",
              "3                       People admire his creativity.          male  \n",
              "4                      Her voice commanded attention.        female  \n",
              "5               Everyone applauded her steady nerves.        female  \n",
              "6              She found the issue in under a minute.        female  \n",
              "7                 His notebook was filled with ideas.          male  \n",
              "8      Everyone watched as he assessed the situation.          male  \n",
              "9            His portfolio was later featured online.          male  \n",
              "10            Her words shifted the mood of the room.        female  \n",
              "11                           She saved them millions.        female  \n",
              "12                 He returned it without hesitation.          male  \n",
              "13       Her strategies prevented further casualties.        female  \n",
              "14           She gave a moving speech about teamwork.        female  \n",
              "15                    His voice rose above the storm.          male  \n",
              "16                       His patience was impressive.          male  \n",
              "17  She's known for connecting with every neighbor...        female  \n",
              "18                His calm made the office feel safe.          male  \n",
              "19                    His students adored him for it.          male  "
            ],
            "text/html": [
              "\n",
              "  <div id=\"df-0ca78466-1c74-4f44-8179-172e1e2815ae\" class=\"colab-df-container\">\n",
              "    <div>\n",
              "<style scoped>\n",
              "    .dataframe tbody tr th:only-of-type {\n",
              "        vertical-align: middle;\n",
              "    }\n",
              "\n",
              "    .dataframe tbody tr th {\n",
              "        vertical-align: top;\n",
              "    }\n",
              "\n",
              "    .dataframe thead th {\n",
              "        text-align: right;\n",
              "    }\n",
              "</style>\n",
              "<table border=\"1\" class=\"dataframe\">\n",
              "  <thead>\n",
              "    <tr style=\"text-align: right;\">\n",
              "      <th></th>\n",
              "      <th>Sentence1</th>\n",
              "      <th>Original_Sentence2</th>\n",
              "      <th>Rewritten_Sentence2</th>\n",
              "      <th>Target_Gender</th>\n",
              "    </tr>\n",
              "  </thead>\n",
              "  <tbody>\n",
              "    <tr>\n",
              "      <th>0</th>\n",
              "      <td>My cousin opened a tiny repair shop near the t...</td>\n",
              "      <td>He's been fixing watches since childhood.</td>\n",
              "      <td>He's been fixing watches since childhood.</td>\n",
              "      <td>male</td>\n",
              "    </tr>\n",
              "    <tr>\n",
              "      <th>1</th>\n",
              "      <td>From the back of the classroom, the teacher wa...</td>\n",
              "      <td>Her patience was endless.</td>\n",
              "      <td>Her patience was endless.</td>\n",
              "      <td>female</td>\n",
              "    </tr>\n",
              "    <tr>\n",
              "      <th>2</th>\n",
              "      <td>The firefighter, soaked in sweat, emerged with...</td>\n",
              "      <td>His bravery stunned the crowd.</td>\n",
              "      <td>His bravery stunned the crowd.</td>\n",
              "      <td>male</td>\n",
              "    </tr>\n",
              "    <tr>\n",
              "      <th>3</th>\n",
              "      <td>There's a chef in our neighborhood who never r...</td>\n",
              "      <td>People admire his creativity.</td>\n",
              "      <td>People admire his creativity.</td>\n",
              "      <td>male</td>\n",
              "    </tr>\n",
              "    <tr>\n",
              "      <th>4</th>\n",
              "      <td>During the ceremony, the judge raised a hand t...</td>\n",
              "      <td>Her voice commanded attention.</td>\n",
              "      <td>Her voice commanded attention.</td>\n",
              "      <td>female</td>\n",
              "    </tr>\n",
              "    <tr>\n",
              "      <th>5</th>\n",
              "      <td>That pilot landed the plane with one engine of...</td>\n",
              "      <td>Everyone applauded her steady nerves.</td>\n",
              "      <td>Everyone applauded her steady nerves.</td>\n",
              "      <td>female</td>\n",
              "    </tr>\n",
              "    <tr>\n",
              "      <th>6</th>\n",
              "      <td>I asked the developer next door for help debug...</td>\n",
              "      <td>He found the issue in under a minute.</td>\n",
              "      <td>She found the issue in under a minute.</td>\n",
              "      <td>female</td>\n",
              "    </tr>\n",
              "    <tr>\n",
              "      <th>7</th>\n",
              "      <td>The student behind me was sketching diagrams d...</td>\n",
              "      <td>His notebook was filled with ideas.</td>\n",
              "      <td>His notebook was filled with ideas.</td>\n",
              "      <td>male</td>\n",
              "    </tr>\n",
              "    <tr>\n",
              "      <th>8</th>\n",
              "      <td>In the middle of the chaos, the paramedic reac...</td>\n",
              "      <td>Everyone watched as she assessed the situation.</td>\n",
              "      <td>Everyone watched as he assessed the situation.</td>\n",
              "      <td>male</td>\n",
              "    </tr>\n",
              "    <tr>\n",
              "      <th>9</th>\n",
              "      <td>A photographer with an eye for color was snapp...</td>\n",
              "      <td>Her portfolio was later featured online.</td>\n",
              "      <td>His portfolio was later featured online.</td>\n",
              "      <td>male</td>\n",
              "    </tr>\n",
              "    <tr>\n",
              "      <th>10</th>\n",
              "      <td>Standing behind the podium, the senator addres...</td>\n",
              "      <td>Her words shifted the mood of the room.</td>\n",
              "      <td>Her words shifted the mood of the room.</td>\n",
              "      <td>female</td>\n",
              "    </tr>\n",
              "    <tr>\n",
              "      <th>11</th>\n",
              "      <td>That computer engineer rebuilt the company's i...</td>\n",
              "      <td>He saved them millions.</td>\n",
              "      <td>She saved them millions.</td>\n",
              "      <td>female</td>\n",
              "    </tr>\n",
              "    <tr>\n",
              "      <th>12</th>\n",
              "      <td>No one expected the cleaner to find the missin...</td>\n",
              "      <td>She returned it without hesitation.</td>\n",
              "      <td>He returned it without hesitation.</td>\n",
              "      <td>male</td>\n",
              "    </tr>\n",
              "    <tr>\n",
              "      <th>13</th>\n",
              "      <td>In the warzone, the military captain gave orde...</td>\n",
              "      <td>His strategies prevented further casualties.</td>\n",
              "      <td>Her strategies prevented further casualties.</td>\n",
              "      <td>female</td>\n",
              "    </tr>\n",
              "    <tr>\n",
              "      <th>14</th>\n",
              "      <td>During the awards gala, the director received ...</td>\n",
              "      <td>He gave a moving speech about teamwork.</td>\n",
              "      <td>She gave a moving speech about teamwork.</td>\n",
              "      <td>female</td>\n",
              "    </tr>\n",
              "    <tr>\n",
              "      <th>15</th>\n",
              "      <td>The coach, drenched in rain, called the team i...</td>\n",
              "      <td>His voice rose above the storm.</td>\n",
              "      <td>His voice rose above the storm.</td>\n",
              "      <td>male</td>\n",
              "    </tr>\n",
              "    <tr>\n",
              "      <th>16</th>\n",
              "      <td>At the coding bootcamp, the youngest instructo...</td>\n",
              "      <td>Her patience was impressive.</td>\n",
              "      <td>His patience was impressive.</td>\n",
              "      <td>male</td>\n",
              "    </tr>\n",
              "    <tr>\n",
              "      <th>17</th>\n",
              "      <td>My cousin works at city hall managing civic en...</td>\n",
              "      <td>He's known for connecting with every neighborh...</td>\n",
              "      <td>She's known for connecting with every neighbor...</td>\n",
              "      <td>female</td>\n",
              "    </tr>\n",
              "    <tr>\n",
              "      <th>18</th>\n",
              "      <td>The receptionist, always with a smile, handled...</td>\n",
              "      <td>Her calm made the office feel safe.</td>\n",
              "      <td>His calm made the office feel safe.</td>\n",
              "      <td>male</td>\n",
              "    </tr>\n",
              "    <tr>\n",
              "      <th>19</th>\n",
              "      <td>The drama teacher used improv games to teach p...</td>\n",
              "      <td>His students adored him for it.</td>\n",
              "      <td>His students adored him for it.</td>\n",
              "      <td>male</td>\n",
              "    </tr>\n",
              "  </tbody>\n",
              "</table>\n",
              "</div>\n",
              "    <div class=\"colab-df-buttons\">\n",
              "\n",
              "  <div class=\"colab-df-container\">\n",
              "    <button class=\"colab-df-convert\" onclick=\"convertToInteractive('df-0ca78466-1c74-4f44-8179-172e1e2815ae')\"\n",
              "            title=\"Convert this dataframe to an interactive table.\"\n",
              "            style=\"display:none;\">\n",
              "\n",
              "  <svg xmlns=\"http://www.w3.org/2000/svg\" height=\"24px\" viewBox=\"0 -960 960 960\">\n",
              "    <path d=\"M120-120v-720h720v720H120Zm60-500h600v-160H180v160Zm220 220h160v-160H400v160Zm0 220h160v-160H400v160ZM180-400h160v-160H180v160Zm440 0h160v-160H620v160ZM180-180h160v-160H180v160Zm440 0h160v-160H620v160Z\"/>\n",
              "  </svg>\n",
              "    </button>\n",
              "\n",
              "  <style>\n",
              "    .colab-df-container {\n",
              "      display:flex;\n",
              "      gap: 12px;\n",
              "    }\n",
              "\n",
              "    .colab-df-convert {\n",
              "      background-color: #E8F0FE;\n",
              "      border: none;\n",
              "      border-radius: 50%;\n",
              "      cursor: pointer;\n",
              "      display: none;\n",
              "      fill: #1967D2;\n",
              "      height: 32px;\n",
              "      padding: 0 0 0 0;\n",
              "      width: 32px;\n",
              "    }\n",
              "\n",
              "    .colab-df-convert:hover {\n",
              "      background-color: #E2EBFA;\n",
              "      box-shadow: 0px 1px 2px rgba(60, 64, 67, 0.3), 0px 1px 3px 1px rgba(60, 64, 67, 0.15);\n",
              "      fill: #174EA6;\n",
              "    }\n",
              "\n",
              "    .colab-df-buttons div {\n",
              "      margin-bottom: 4px;\n",
              "    }\n",
              "\n",
              "    [theme=dark] .colab-df-convert {\n",
              "      background-color: #3B4455;\n",
              "      fill: #D2E3FC;\n",
              "    }\n",
              "\n",
              "    [theme=dark] .colab-df-convert:hover {\n",
              "      background-color: #434B5C;\n",
              "      box-shadow: 0px 1px 3px 1px rgba(0, 0, 0, 0.15);\n",
              "      filter: drop-shadow(0px 1px 2px rgba(0, 0, 0, 0.3));\n",
              "      fill: #FFFFFF;\n",
              "    }\n",
              "  </style>\n",
              "\n",
              "    <script>\n",
              "      const buttonEl =\n",
              "        document.querySelector('#df-0ca78466-1c74-4f44-8179-172e1e2815ae button.colab-df-convert');\n",
              "      buttonEl.style.display =\n",
              "        google.colab.kernel.accessAllowed ? 'block' : 'none';\n",
              "\n",
              "      async function convertToInteractive(key) {\n",
              "        const element = document.querySelector('#df-0ca78466-1c74-4f44-8179-172e1e2815ae');\n",
              "        const dataTable =\n",
              "          await google.colab.kernel.invokeFunction('convertToInteractive',\n",
              "                                                    [key], {});\n",
              "        if (!dataTable) return;\n",
              "\n",
              "        const docLinkHtml = 'Like what you see? Visit the ' +\n",
              "          '<a target=\"_blank\" href=https://colab.research.google.com/notebooks/data_table.ipynb>data table notebook</a>'\n",
              "          + ' to learn more about interactive tables.';\n",
              "        element.innerHTML = '';\n",
              "        dataTable['output_type'] = 'display_data';\n",
              "        await google.colab.output.renderOutput(dataTable, element);\n",
              "        const docLink = document.createElement('div');\n",
              "        docLink.innerHTML = docLinkHtml;\n",
              "        element.appendChild(docLink);\n",
              "      }\n",
              "    </script>\n",
              "  </div>\n",
              "\n",
              "\n",
              "    <div id=\"df-e44ee57f-5042-4eaf-b922-5f6b65574c9b\">\n",
              "      <button class=\"colab-df-quickchart\" onclick=\"quickchart('df-e44ee57f-5042-4eaf-b922-5f6b65574c9b')\"\n",
              "                title=\"Suggest charts\"\n",
              "                style=\"display:none;\">\n",
              "\n",
              "<svg xmlns=\"http://www.w3.org/2000/svg\" height=\"24px\"viewBox=\"0 0 24 24\"\n",
              "     width=\"24px\">\n",
              "    <g>\n",
              "        <path d=\"M19 3H5c-1.1 0-2 .9-2 2v14c0 1.1.9 2 2 2h14c1.1 0 2-.9 2-2V5c0-1.1-.9-2-2-2zM9 17H7v-7h2v7zm4 0h-2V7h2v10zm4 0h-2v-4h2v4z\"/>\n",
              "    </g>\n",
              "</svg>\n",
              "      </button>\n",
              "\n",
              "<style>\n",
              "  .colab-df-quickchart {\n",
              "      --bg-color: #E8F0FE;\n",
              "      --fill-color: #1967D2;\n",
              "      --hover-bg-color: #E2EBFA;\n",
              "      --hover-fill-color: #174EA6;\n",
              "      --disabled-fill-color: #AAA;\n",
              "      --disabled-bg-color: #DDD;\n",
              "  }\n",
              "\n",
              "  [theme=dark] .colab-df-quickchart {\n",
              "      --bg-color: #3B4455;\n",
              "      --fill-color: #D2E3FC;\n",
              "      --hover-bg-color: #434B5C;\n",
              "      --hover-fill-color: #FFFFFF;\n",
              "      --disabled-bg-color: #3B4455;\n",
              "      --disabled-fill-color: #666;\n",
              "  }\n",
              "\n",
              "  .colab-df-quickchart {\n",
              "    background-color: var(--bg-color);\n",
              "    border: none;\n",
              "    border-radius: 50%;\n",
              "    cursor: pointer;\n",
              "    display: none;\n",
              "    fill: var(--fill-color);\n",
              "    height: 32px;\n",
              "    padding: 0;\n",
              "    width: 32px;\n",
              "  }\n",
              "\n",
              "  .colab-df-quickchart:hover {\n",
              "    background-color: var(--hover-bg-color);\n",
              "    box-shadow: 0 1px 2px rgba(60, 64, 67, 0.3), 0 1px 3px 1px rgba(60, 64, 67, 0.15);\n",
              "    fill: var(--button-hover-fill-color);\n",
              "  }\n",
              "\n",
              "  .colab-df-quickchart-complete:disabled,\n",
              "  .colab-df-quickchart-complete:disabled:hover {\n",
              "    background-color: var(--disabled-bg-color);\n",
              "    fill: var(--disabled-fill-color);\n",
              "    box-shadow: none;\n",
              "  }\n",
              "\n",
              "  .colab-df-spinner {\n",
              "    border: 2px solid var(--fill-color);\n",
              "    border-color: transparent;\n",
              "    border-bottom-color: var(--fill-color);\n",
              "    animation:\n",
              "      spin 1s steps(1) infinite;\n",
              "  }\n",
              "\n",
              "  @keyframes spin {\n",
              "    0% {\n",
              "      border-color: transparent;\n",
              "      border-bottom-color: var(--fill-color);\n",
              "      border-left-color: var(--fill-color);\n",
              "    }\n",
              "    20% {\n",
              "      border-color: transparent;\n",
              "      border-left-color: var(--fill-color);\n",
              "      border-top-color: var(--fill-color);\n",
              "    }\n",
              "    30% {\n",
              "      border-color: transparent;\n",
              "      border-left-color: var(--fill-color);\n",
              "      border-top-color: var(--fill-color);\n",
              "      border-right-color: var(--fill-color);\n",
              "    }\n",
              "    40% {\n",
              "      border-color: transparent;\n",
              "      border-right-color: var(--fill-color);\n",
              "      border-top-color: var(--fill-color);\n",
              "    }\n",
              "    60% {\n",
              "      border-color: transparent;\n",
              "      border-right-color: var(--fill-color);\n",
              "    }\n",
              "    80% {\n",
              "      border-color: transparent;\n",
              "      border-right-color: var(--fill-color);\n",
              "      border-bottom-color: var(--fill-color);\n",
              "    }\n",
              "    90% {\n",
              "      border-color: transparent;\n",
              "      border-bottom-color: var(--fill-color);\n",
              "    }\n",
              "  }\n",
              "</style>\n",
              "\n",
              "      <script>\n",
              "        async function quickchart(key) {\n",
              "          const quickchartButtonEl =\n",
              "            document.querySelector('#' + key + ' button');\n",
              "          quickchartButtonEl.disabled = true;  // To prevent multiple clicks.\n",
              "          quickchartButtonEl.classList.add('colab-df-spinner');\n",
              "          try {\n",
              "            const charts = await google.colab.kernel.invokeFunction(\n",
              "                'suggestCharts', [key], {});\n",
              "          } catch (error) {\n",
              "            console.error('Error during call to suggestCharts:', error);\n",
              "          }\n",
              "          quickchartButtonEl.classList.remove('colab-df-spinner');\n",
              "          quickchartButtonEl.classList.add('colab-df-quickchart-complete');\n",
              "        }\n",
              "        (() => {\n",
              "          let quickchartButtonEl =\n",
              "            document.querySelector('#df-e44ee57f-5042-4eaf-b922-5f6b65574c9b button');\n",
              "          quickchartButtonEl.style.display =\n",
              "            google.colab.kernel.accessAllowed ? 'block' : 'none';\n",
              "        })();\n",
              "      </script>\n",
              "    </div>\n",
              "\n",
              "    </div>\n",
              "  </div>\n"
            ],
            "application/vnd.google.colaboratory.intrinsic+json": {
              "type": "dataframe",
              "summary": "{\n  \"name\": \"print(\\\"Saved rewritten data to rewritten_biased_20_sentences\",\n  \"rows\": 20,\n  \"fields\": [\n    {\n      \"column\": \"Sentence1\",\n      \"properties\": {\n        \"dtype\": \"string\",\n        \"num_unique_values\": 20,\n        \"samples\": [\n          \"My cousin opened a tiny repair shop near the train station.\",\n          \"My cousin works at city hall managing civic engagement projects.\",\n          \"The coach, drenched in rain, called the team in for a last huddle.\"\n        ],\n        \"semantic_type\": \"\",\n        \"description\": \"\"\n      }\n    },\n    {\n      \"column\": \"Original_Sentence2\",\n      \"properties\": {\n        \"dtype\": \"string\",\n        \"num_unique_values\": 20,\n        \"samples\": [\n          \"He's been fixing watches since childhood.\",\n          \"He's known for connecting with every neighborhood.\",\n          \"His voice rose above the storm.\"\n        ],\n        \"semantic_type\": \"\",\n        \"description\": \"\"\n      }\n    },\n    {\n      \"column\": \"Rewritten_Sentence2\",\n      \"properties\": {\n        \"dtype\": \"string\",\n        \"num_unique_values\": 20,\n        \"samples\": [\n          \"He's been fixing watches since childhood.\",\n          \"She's known for connecting with every neighborhood.\",\n          \"His voice rose above the storm.\"\n        ],\n        \"semantic_type\": \"\",\n        \"description\": \"\"\n      }\n    },\n    {\n      \"column\": \"Target_Gender\",\n      \"properties\": {\n        \"dtype\": \"category\",\n        \"num_unique_values\": 2,\n        \"samples\": [\n          \"female\",\n          \"male\"\n        ],\n        \"semantic_type\": \"\",\n        \"description\": \"\"\n      }\n    }\n  ]\n}"
            }
          },
          "metadata": {}
        },
        {
          "output_type": "stream",
          "name": "stdout",
          "text": [
            "Saved rewritten data to rewritten_biased_20_sentences.csv\n"
          ]
        }
      ]
    },
    {
      "cell_type": "markdown",
      "source": [
        "### We can see that some new sentences are the same as the original ones, while in others the gender term was changed. In addition, the structure stayed the same. In general, ChatGPT4o provided very good results so we can continue to work with it."
      ],
      "metadata": {
        "id": "_FZS4I_z6Uer"
      }
    },
    {
      "cell_type": "code",
      "source": [
        "from google.colab import files\n",
        "files.download('rewritten_biased_20_sentences.csv')"
      ],
      "metadata": {
        "colab": {
          "base_uri": "https://localhost:8080/",
          "height": 17
        },
        "id": "SuZON_MkILd5",
        "outputId": "a6c43240-c26d-49b5-8cc2-a5c5bbc835f1"
      },
      "execution_count": 26,
      "outputs": [
        {
          "output_type": "display_data",
          "data": {
            "text/plain": [
              "<IPython.core.display.Javascript object>"
            ],
            "application/javascript": [
              "\n",
              "    async function download(id, filename, size) {\n",
              "      if (!google.colab.kernel.accessAllowed) {\n",
              "        return;\n",
              "      }\n",
              "      const div = document.createElement('div');\n",
              "      const label = document.createElement('label');\n",
              "      label.textContent = `Downloading \"${filename}\": `;\n",
              "      div.appendChild(label);\n",
              "      const progress = document.createElement('progress');\n",
              "      progress.max = size;\n",
              "      div.appendChild(progress);\n",
              "      document.body.appendChild(div);\n",
              "\n",
              "      const buffers = [];\n",
              "      let downloaded = 0;\n",
              "\n",
              "      const channel = await google.colab.kernel.comms.open(id);\n",
              "      // Send a message to notify the kernel that we're ready.\n",
              "      channel.send({})\n",
              "\n",
              "      for await (const message of channel.messages) {\n",
              "        // Send a message to notify the kernel that we're ready.\n",
              "        channel.send({})\n",
              "        if (message.buffers) {\n",
              "          for (const buffer of message.buffers) {\n",
              "            buffers.push(buffer);\n",
              "            downloaded += buffer.byteLength;\n",
              "            progress.value = downloaded;\n",
              "          }\n",
              "        }\n",
              "      }\n",
              "      const blob = new Blob(buffers, {type: 'application/binary'});\n",
              "      const a = document.createElement('a');\n",
              "      a.href = window.URL.createObjectURL(blob);\n",
              "      a.download = filename;\n",
              "      div.appendChild(a);\n",
              "      a.click();\n",
              "      div.remove();\n",
              "    }\n",
              "  "
            ]
          },
          "metadata": {}
        },
        {
          "output_type": "display_data",
          "data": {
            "text/plain": [
              "<IPython.core.display.Javascript object>"
            ],
            "application/javascript": [
              "download(\"download_1bfaf484-10fa-4cdb-9116-928c808d2574\", \"rewritten_biased_20_sentences.csv\", 2998)"
            ]
          },
          "metadata": {}
        }
      ]
    },
    {
      "cell_type": "markdown",
      "source": [
        "### Now that we see the rewriting works as we planned, we will perform it on **all** of the second senences (hypothesis) of the biased pairs from the original dataset."
      ],
      "metadata": {
        "id": "9JIXXqGc6Zep"
      }
    },
    {
      "cell_type": "code",
      "source": [
        "df_rewritten_all_samples = rewriting_data_using_gpt(biased_df)\n",
        "df_rewritten_all_samples.to_csv('rewritten_biased_all_sentences.csv', index=False)\n",
        "print(\"Saved rewritten data to rewritten_biased_all_sentences.csv\")"
      ],
      "metadata": {
        "colab": {
          "base_uri": "https://localhost:8080/",
          "height": 614
        },
        "id": "8pzPxWTZvsqD",
        "outputId": "fa59dec3-d659-42c6-80ec-303ab1cdd6d8"
      },
      "execution_count": 27,
      "outputs": [
        {
          "output_type": "stream",
          "name": "stderr",
          "text": [
            "100%|██████████| 1659/1659 [1:14:28<00:00,  2.69s/it]\n"
          ]
        },
        {
          "output_type": "display_data",
          "data": {
            "text/plain": [
              "                                              Sentence1  \\\n",
              "0     My cousin opened a tiny repair shop near the t...   \n",
              "1     From the back of the classroom, the teacher wa...   \n",
              "2     The firefighter, soaked in sweat, emerged with...   \n",
              "3     There's a chef in our neighborhood who never r...   \n",
              "4     During the ceremony, the judge raised a hand t...   \n",
              "...                                                 ...   \n",
              "1654  Up in the loft, Eli tested the drone’s new fli...   \n",
              "1655  Behind the curtain, Aunt May whispered words o...   \n",
              "1656  In the reading nook, Marcus flipped through a ...   \n",
              "1657  Up on the scaffold, Ricardo installed the fina...   \n",
              "1658  Under the big tree, Aunt Thelma passed out lem...   \n",
              "\n",
              "                              Original_Sentence2  \\\n",
              "0      He's been fixing watches since childhood.   \n",
              "1                      Her patience was endless.   \n",
              "2                 His bravery stunned the crowd.   \n",
              "3                  People admire his creativity.   \n",
              "4                 Her voice commanded attention.   \n",
              "...                                          ...   \n",
              "1654      He added stabilizers from spare parts.   \n",
              "1655        She has done this every performance.   \n",
              "1656  He’s collecting every issue in the series.   \n",
              "1657    He stood back to admire the full mosaic.   \n",
              "1658          She adds mint from her own garden.   \n",
              "\n",
              "                             Rewritten_Sentence2 Target_Gender  \n",
              "0     She's been fixing watches since childhood.        female  \n",
              "1                      His patience was endless.          male  \n",
              "2                 His bravery stunned the crowd.          male  \n",
              "3                  People admire her creativity.        female  \n",
              "4                 Her voice commanded attention.        female  \n",
              "...                                          ...           ...  \n",
              "1654     She added stabilizers from spare parts.        female  \n",
              "1655         He has done this every performance.          male  \n",
              "1656  He's collecting every issue in the series.          male  \n",
              "1657    He stood back to admire the full mosaic.          male  \n",
              "1658          She adds mint from her own garden.        female  \n",
              "\n",
              "[1659 rows x 4 columns]"
            ],
            "text/html": [
              "\n",
              "  <div id=\"df-a00f1e5c-59bd-497f-a6dd-bf56d1fff05e\" class=\"colab-df-container\">\n",
              "    <div>\n",
              "<style scoped>\n",
              "    .dataframe tbody tr th:only-of-type {\n",
              "        vertical-align: middle;\n",
              "    }\n",
              "\n",
              "    .dataframe tbody tr th {\n",
              "        vertical-align: top;\n",
              "    }\n",
              "\n",
              "    .dataframe thead th {\n",
              "        text-align: right;\n",
              "    }\n",
              "</style>\n",
              "<table border=\"1\" class=\"dataframe\">\n",
              "  <thead>\n",
              "    <tr style=\"text-align: right;\">\n",
              "      <th></th>\n",
              "      <th>Sentence1</th>\n",
              "      <th>Original_Sentence2</th>\n",
              "      <th>Rewritten_Sentence2</th>\n",
              "      <th>Target_Gender</th>\n",
              "    </tr>\n",
              "  </thead>\n",
              "  <tbody>\n",
              "    <tr>\n",
              "      <th>0</th>\n",
              "      <td>My cousin opened a tiny repair shop near the t...</td>\n",
              "      <td>He's been fixing watches since childhood.</td>\n",
              "      <td>She's been fixing watches since childhood.</td>\n",
              "      <td>female</td>\n",
              "    </tr>\n",
              "    <tr>\n",
              "      <th>1</th>\n",
              "      <td>From the back of the classroom, the teacher wa...</td>\n",
              "      <td>Her patience was endless.</td>\n",
              "      <td>His patience was endless.</td>\n",
              "      <td>male</td>\n",
              "    </tr>\n",
              "    <tr>\n",
              "      <th>2</th>\n",
              "      <td>The firefighter, soaked in sweat, emerged with...</td>\n",
              "      <td>His bravery stunned the crowd.</td>\n",
              "      <td>His bravery stunned the crowd.</td>\n",
              "      <td>male</td>\n",
              "    </tr>\n",
              "    <tr>\n",
              "      <th>3</th>\n",
              "      <td>There's a chef in our neighborhood who never r...</td>\n",
              "      <td>People admire his creativity.</td>\n",
              "      <td>People admire her creativity.</td>\n",
              "      <td>female</td>\n",
              "    </tr>\n",
              "    <tr>\n",
              "      <th>4</th>\n",
              "      <td>During the ceremony, the judge raised a hand t...</td>\n",
              "      <td>Her voice commanded attention.</td>\n",
              "      <td>Her voice commanded attention.</td>\n",
              "      <td>female</td>\n",
              "    </tr>\n",
              "    <tr>\n",
              "      <th>...</th>\n",
              "      <td>...</td>\n",
              "      <td>...</td>\n",
              "      <td>...</td>\n",
              "      <td>...</td>\n",
              "    </tr>\n",
              "    <tr>\n",
              "      <th>1654</th>\n",
              "      <td>Up in the loft, Eli tested the drone’s new fli...</td>\n",
              "      <td>He added stabilizers from spare parts.</td>\n",
              "      <td>She added stabilizers from spare parts.</td>\n",
              "      <td>female</td>\n",
              "    </tr>\n",
              "    <tr>\n",
              "      <th>1655</th>\n",
              "      <td>Behind the curtain, Aunt May whispered words o...</td>\n",
              "      <td>She has done this every performance.</td>\n",
              "      <td>He has done this every performance.</td>\n",
              "      <td>male</td>\n",
              "    </tr>\n",
              "    <tr>\n",
              "      <th>1656</th>\n",
              "      <td>In the reading nook, Marcus flipped through a ...</td>\n",
              "      <td>He’s collecting every issue in the series.</td>\n",
              "      <td>He's collecting every issue in the series.</td>\n",
              "      <td>male</td>\n",
              "    </tr>\n",
              "    <tr>\n",
              "      <th>1657</th>\n",
              "      <td>Up on the scaffold, Ricardo installed the fina...</td>\n",
              "      <td>He stood back to admire the full mosaic.</td>\n",
              "      <td>He stood back to admire the full mosaic.</td>\n",
              "      <td>male</td>\n",
              "    </tr>\n",
              "    <tr>\n",
              "      <th>1658</th>\n",
              "      <td>Under the big tree, Aunt Thelma passed out lem...</td>\n",
              "      <td>She adds mint from her own garden.</td>\n",
              "      <td>She adds mint from her own garden.</td>\n",
              "      <td>female</td>\n",
              "    </tr>\n",
              "  </tbody>\n",
              "</table>\n",
              "<p>1659 rows × 4 columns</p>\n",
              "</div>\n",
              "    <div class=\"colab-df-buttons\">\n",
              "\n",
              "  <div class=\"colab-df-container\">\n",
              "    <button class=\"colab-df-convert\" onclick=\"convertToInteractive('df-a00f1e5c-59bd-497f-a6dd-bf56d1fff05e')\"\n",
              "            title=\"Convert this dataframe to an interactive table.\"\n",
              "            style=\"display:none;\">\n",
              "\n",
              "  <svg xmlns=\"http://www.w3.org/2000/svg\" height=\"24px\" viewBox=\"0 -960 960 960\">\n",
              "    <path d=\"M120-120v-720h720v720H120Zm60-500h600v-160H180v160Zm220 220h160v-160H400v160Zm0 220h160v-160H400v160ZM180-400h160v-160H180v160Zm440 0h160v-160H620v160ZM180-180h160v-160H180v160Zm440 0h160v-160H620v160Z\"/>\n",
              "  </svg>\n",
              "    </button>\n",
              "\n",
              "  <style>\n",
              "    .colab-df-container {\n",
              "      display:flex;\n",
              "      gap: 12px;\n",
              "    }\n",
              "\n",
              "    .colab-df-convert {\n",
              "      background-color: #E8F0FE;\n",
              "      border: none;\n",
              "      border-radius: 50%;\n",
              "      cursor: pointer;\n",
              "      display: none;\n",
              "      fill: #1967D2;\n",
              "      height: 32px;\n",
              "      padding: 0 0 0 0;\n",
              "      width: 32px;\n",
              "    }\n",
              "\n",
              "    .colab-df-convert:hover {\n",
              "      background-color: #E2EBFA;\n",
              "      box-shadow: 0px 1px 2px rgba(60, 64, 67, 0.3), 0px 1px 3px 1px rgba(60, 64, 67, 0.15);\n",
              "      fill: #174EA6;\n",
              "    }\n",
              "\n",
              "    .colab-df-buttons div {\n",
              "      margin-bottom: 4px;\n",
              "    }\n",
              "\n",
              "    [theme=dark] .colab-df-convert {\n",
              "      background-color: #3B4455;\n",
              "      fill: #D2E3FC;\n",
              "    }\n",
              "\n",
              "    [theme=dark] .colab-df-convert:hover {\n",
              "      background-color: #434B5C;\n",
              "      box-shadow: 0px 1px 3px 1px rgba(0, 0, 0, 0.15);\n",
              "      filter: drop-shadow(0px 1px 2px rgba(0, 0, 0, 0.3));\n",
              "      fill: #FFFFFF;\n",
              "    }\n",
              "  </style>\n",
              "\n",
              "    <script>\n",
              "      const buttonEl =\n",
              "        document.querySelector('#df-a00f1e5c-59bd-497f-a6dd-bf56d1fff05e button.colab-df-convert');\n",
              "      buttonEl.style.display =\n",
              "        google.colab.kernel.accessAllowed ? 'block' : 'none';\n",
              "\n",
              "      async function convertToInteractive(key) {\n",
              "        const element = document.querySelector('#df-a00f1e5c-59bd-497f-a6dd-bf56d1fff05e');\n",
              "        const dataTable =\n",
              "          await google.colab.kernel.invokeFunction('convertToInteractive',\n",
              "                                                    [key], {});\n",
              "        if (!dataTable) return;\n",
              "\n",
              "        const docLinkHtml = 'Like what you see? Visit the ' +\n",
              "          '<a target=\"_blank\" href=https://colab.research.google.com/notebooks/data_table.ipynb>data table notebook</a>'\n",
              "          + ' to learn more about interactive tables.';\n",
              "        element.innerHTML = '';\n",
              "        dataTable['output_type'] = 'display_data';\n",
              "        await google.colab.output.renderOutput(dataTable, element);\n",
              "        const docLink = document.createElement('div');\n",
              "        docLink.innerHTML = docLinkHtml;\n",
              "        element.appendChild(docLink);\n",
              "      }\n",
              "    </script>\n",
              "  </div>\n",
              "\n",
              "\n",
              "    <div id=\"df-e31649db-c8e8-4547-8cdf-a0dbcf009efd\">\n",
              "      <button class=\"colab-df-quickchart\" onclick=\"quickchart('df-e31649db-c8e8-4547-8cdf-a0dbcf009efd')\"\n",
              "                title=\"Suggest charts\"\n",
              "                style=\"display:none;\">\n",
              "\n",
              "<svg xmlns=\"http://www.w3.org/2000/svg\" height=\"24px\"viewBox=\"0 0 24 24\"\n",
              "     width=\"24px\">\n",
              "    <g>\n",
              "        <path d=\"M19 3H5c-1.1 0-2 .9-2 2v14c0 1.1.9 2 2 2h14c1.1 0 2-.9 2-2V5c0-1.1-.9-2-2-2zM9 17H7v-7h2v7zm4 0h-2V7h2v10zm4 0h-2v-4h2v4z\"/>\n",
              "    </g>\n",
              "</svg>\n",
              "      </button>\n",
              "\n",
              "<style>\n",
              "  .colab-df-quickchart {\n",
              "      --bg-color: #E8F0FE;\n",
              "      --fill-color: #1967D2;\n",
              "      --hover-bg-color: #E2EBFA;\n",
              "      --hover-fill-color: #174EA6;\n",
              "      --disabled-fill-color: #AAA;\n",
              "      --disabled-bg-color: #DDD;\n",
              "  }\n",
              "\n",
              "  [theme=dark] .colab-df-quickchart {\n",
              "      --bg-color: #3B4455;\n",
              "      --fill-color: #D2E3FC;\n",
              "      --hover-bg-color: #434B5C;\n",
              "      --hover-fill-color: #FFFFFF;\n",
              "      --disabled-bg-color: #3B4455;\n",
              "      --disabled-fill-color: #666;\n",
              "  }\n",
              "\n",
              "  .colab-df-quickchart {\n",
              "    background-color: var(--bg-color);\n",
              "    border: none;\n",
              "    border-radius: 50%;\n",
              "    cursor: pointer;\n",
              "    display: none;\n",
              "    fill: var(--fill-color);\n",
              "    height: 32px;\n",
              "    padding: 0;\n",
              "    width: 32px;\n",
              "  }\n",
              "\n",
              "  .colab-df-quickchart:hover {\n",
              "    background-color: var(--hover-bg-color);\n",
              "    box-shadow: 0 1px 2px rgba(60, 64, 67, 0.3), 0 1px 3px 1px rgba(60, 64, 67, 0.15);\n",
              "    fill: var(--button-hover-fill-color);\n",
              "  }\n",
              "\n",
              "  .colab-df-quickchart-complete:disabled,\n",
              "  .colab-df-quickchart-complete:disabled:hover {\n",
              "    background-color: var(--disabled-bg-color);\n",
              "    fill: var(--disabled-fill-color);\n",
              "    box-shadow: none;\n",
              "  }\n",
              "\n",
              "  .colab-df-spinner {\n",
              "    border: 2px solid var(--fill-color);\n",
              "    border-color: transparent;\n",
              "    border-bottom-color: var(--fill-color);\n",
              "    animation:\n",
              "      spin 1s steps(1) infinite;\n",
              "  }\n",
              "\n",
              "  @keyframes spin {\n",
              "    0% {\n",
              "      border-color: transparent;\n",
              "      border-bottom-color: var(--fill-color);\n",
              "      border-left-color: var(--fill-color);\n",
              "    }\n",
              "    20% {\n",
              "      border-color: transparent;\n",
              "      border-left-color: var(--fill-color);\n",
              "      border-top-color: var(--fill-color);\n",
              "    }\n",
              "    30% {\n",
              "      border-color: transparent;\n",
              "      border-left-color: var(--fill-color);\n",
              "      border-top-color: var(--fill-color);\n",
              "      border-right-color: var(--fill-color);\n",
              "    }\n",
              "    40% {\n",
              "      border-color: transparent;\n",
              "      border-right-color: var(--fill-color);\n",
              "      border-top-color: var(--fill-color);\n",
              "    }\n",
              "    60% {\n",
              "      border-color: transparent;\n",
              "      border-right-color: var(--fill-color);\n",
              "    }\n",
              "    80% {\n",
              "      border-color: transparent;\n",
              "      border-right-color: var(--fill-color);\n",
              "      border-bottom-color: var(--fill-color);\n",
              "    }\n",
              "    90% {\n",
              "      border-color: transparent;\n",
              "      border-bottom-color: var(--fill-color);\n",
              "    }\n",
              "  }\n",
              "</style>\n",
              "\n",
              "      <script>\n",
              "        async function quickchart(key) {\n",
              "          const quickchartButtonEl =\n",
              "            document.querySelector('#' + key + ' button');\n",
              "          quickchartButtonEl.disabled = true;  // To prevent multiple clicks.\n",
              "          quickchartButtonEl.classList.add('colab-df-spinner');\n",
              "          try {\n",
              "            const charts = await google.colab.kernel.invokeFunction(\n",
              "                'suggestCharts', [key], {});\n",
              "          } catch (error) {\n",
              "            console.error('Error during call to suggestCharts:', error);\n",
              "          }\n",
              "          quickchartButtonEl.classList.remove('colab-df-spinner');\n",
              "          quickchartButtonEl.classList.add('colab-df-quickchart-complete');\n",
              "        }\n",
              "        (() => {\n",
              "          let quickchartButtonEl =\n",
              "            document.querySelector('#df-e31649db-c8e8-4547-8cdf-a0dbcf009efd button');\n",
              "          quickchartButtonEl.style.display =\n",
              "            google.colab.kernel.accessAllowed ? 'block' : 'none';\n",
              "        })();\n",
              "      </script>\n",
              "    </div>\n",
              "\n",
              "    </div>\n",
              "  </div>\n"
            ],
            "application/vnd.google.colaboratory.intrinsic+json": {
              "type": "dataframe",
              "summary": "{\n  \"name\": \"print(\\\"Saved rewritten data to rewritten_biased_all_sentences\",\n  \"rows\": 1659,\n  \"fields\": [\n    {\n      \"column\": \"Sentence1\",\n      \"properties\": {\n        \"dtype\": \"string\",\n        \"num_unique_values\": 1659,\n        \"samples\": [\n          \"The gardener from city hall invited schoolchildren to name the newly planted trees.\",\n          \"The software engineer codes best with jazz and a candle burning.\",\n          \"An economics professor held simulations using Monopoly money and local snack prices.\"\n        ],\n        \"semantic_type\": \"\",\n        \"description\": \"\"\n      }\n    },\n    {\n      \"column\": \"Original_Sentence2\",\n      \"properties\": {\n        \"dtype\": \"string\",\n        \"num_unique_values\": 1659,\n        \"samples\": [\n          \"Her journal recorded each chosen name.\",\n          \"Her commits smell like sandalwood.\",\n          \"He called his curriculum \\\"chips and change.\\\"\"\n        ],\n        \"semantic_type\": \"\",\n        \"description\": \"\"\n      }\n    },\n    {\n      \"column\": \"Rewritten_Sentence2\",\n      \"properties\": {\n        \"dtype\": \"string\",\n        \"num_unique_values\": 1659,\n        \"samples\": [\n          \"Her journal recorded each chosen name.\",\n          \"Her commits smell like sandalwood.\",\n          \"He called his curriculum \\\"chips and change.\\\"\"\n        ],\n        \"semantic_type\": \"\",\n        \"description\": \"\"\n      }\n    },\n    {\n      \"column\": \"Target_Gender\",\n      \"properties\": {\n        \"dtype\": \"category\",\n        \"num_unique_values\": 2,\n        \"samples\": [\n          \"male\",\n          \"female\"\n        ],\n        \"semantic_type\": \"\",\n        \"description\": \"\"\n      }\n    }\n  ]\n}"
            }
          },
          "metadata": {}
        },
        {
          "output_type": "stream",
          "name": "stdout",
          "text": [
            "Saved rewritten data to rewritten_biased_all_sentences.csv\n"
          ]
        }
      ]
    },
    {
      "cell_type": "code",
      "source": [
        "files.download('rewritten_biased_all_sentences.csv')"
      ],
      "metadata": {
        "colab": {
          "base_uri": "https://localhost:8080/",
          "height": 17
        },
        "id": "rJdnKKR5IJMh",
        "outputId": "126da7d8-60bf-469b-fa6b-af582f479fe5"
      },
      "execution_count": 28,
      "outputs": [
        {
          "output_type": "display_data",
          "data": {
            "text/plain": [
              "<IPython.core.display.Javascript object>"
            ],
            "application/javascript": [
              "\n",
              "    async function download(id, filename, size) {\n",
              "      if (!google.colab.kernel.accessAllowed) {\n",
              "        return;\n",
              "      }\n",
              "      const div = document.createElement('div');\n",
              "      const label = document.createElement('label');\n",
              "      label.textContent = `Downloading \"${filename}\": `;\n",
              "      div.appendChild(label);\n",
              "      const progress = document.createElement('progress');\n",
              "      progress.max = size;\n",
              "      div.appendChild(progress);\n",
              "      document.body.appendChild(div);\n",
              "\n",
              "      const buffers = [];\n",
              "      let downloaded = 0;\n",
              "\n",
              "      const channel = await google.colab.kernel.comms.open(id);\n",
              "      // Send a message to notify the kernel that we're ready.\n",
              "      channel.send({})\n",
              "\n",
              "      for await (const message of channel.messages) {\n",
              "        // Send a message to notify the kernel that we're ready.\n",
              "        channel.send({})\n",
              "        if (message.buffers) {\n",
              "          for (const buffer of message.buffers) {\n",
              "            buffers.push(buffer);\n",
              "            downloaded += buffer.byteLength;\n",
              "            progress.value = downloaded;\n",
              "          }\n",
              "        }\n",
              "      }\n",
              "      const blob = new Blob(buffers, {type: 'application/binary'});\n",
              "      const a = document.createElement('a');\n",
              "      a.href = window.URL.createObjectURL(blob);\n",
              "      a.download = filename;\n",
              "      div.appendChild(a);\n",
              "      a.click();\n",
              "      div.remove();\n",
              "    }\n",
              "  "
            ]
          },
          "metadata": {}
        },
        {
          "output_type": "display_data",
          "data": {
            "text/plain": [
              "<IPython.core.display.Javascript object>"
            ],
            "application/javascript": [
              "download(\"download_e8989492-54b1-4e40-92c9-4cd171c5be79\", \"rewritten_biased_all_sentences.csv\", 269633)"
            ]
          },
          "metadata": {}
        }
      ]
    },
    {
      "cell_type": "markdown",
      "source": [
        "### Notice we saved both files to our local computer."
      ],
      "metadata": {
        "id": "ZYkN48sPJE1q"
      }
    },
    {
      "cell_type": "markdown",
      "source": [
        "# Evaluation Stage\n",
        "To quantify the success of our bias mitigation, we design an embedding-based evaluation metric.<br>We follow these steps:<br>\n",
        "1. We first compute reference embeddings for the words \"man\" and \"woman\" using a Sentence-BERT (SBERT) encoder.<br> These are called “wembeddings” and “membeddings”.\n",
        "2. We then encode the rewritten second sentences (with sbert model from earlier) and compute their cosine similarity to the gender reference embeddings.<br>\n",
        "3. For each sentence, we calculate a signed bias score:<br>\n",
        "[(similarity to \"woman\") - (similarity to \"man\")]<br>\n",
        "** If the sentence is leaning towards the embeddings of \"man\" this score will be negative because<br> (similarity to \"man\")>(similarity to \"woman\"),<br> and otherwise it will be leaning towards \"woman\" embeddings with a positive score.<br>\n",
        "4. If the biased score is positive we add +1 to the sum and otherwise we add -1.\n",
        "5. Finally after going through all sentences we calculate the average (sum/num_of_samples) to get the final bias average score.\n",
        "** Another measure for the average bias score is to take the **abs(mean * 100)** to measure it as a percent from 1 to 100.\n",
        "\n",
        "<br><Br>The overall mean bias score across the dataset should be close to zero if gender balance has been achieved (similar amount of male sentences and female sentences).<br><br>\n",
        "\n"
      ],
      "metadata": {
        "id": "Iw5-ifYQIZ1Z"
      }
    },
    {
      "cell_type": "code",
      "source": [
        "def EvaluateBias(data, column_name):\n",
        "    # Prepare gender embeddings\n",
        "    man_embedding = sbert_model.encode(\"man\", convert_to_tensor=True)\n",
        "    woman_embedding = sbert_model.encode(\"woman\", convert_to_tensor=True)\n",
        "\n",
        "    bias_scores = []\n",
        "    woman=0\n",
        "    man=0\n",
        "\n",
        "    for idx, row in data.iterrows():\n",
        "        sentence = row[column_name]\n",
        "        sent_embedding = sbert_model.encode(sentence, convert_to_tensor=True)\n",
        "\n",
        "        d_man = util.cos_sim(sent_embedding, man_embedding).item()\n",
        "        d_woman = util.cos_sim(sent_embedding, woman_embedding).item()\n",
        "\n",
        "        bias_score = (d_woman - d_man)  # Positive = toward women, Negative = toward men\n",
        "        if bias_score >0 :\n",
        "            bias_scores.append(1)\n",
        "            woman+=1\n",
        "        else:\n",
        "            bias_scores.append(-1)\n",
        "            man+=1\n",
        "\n",
        "    avg_bias_score = np.mean(bias_scores)\n",
        "    print(f\"Average directional bias score for Sentence2 only: {avg_bias_score:.4f}\")\n",
        "    from1_to100 = abs(avg_bias_score*100)\n",
        "    print(f\"from 1 to 100 the bias average score is {from1_to100}\")\n",
        "    return bias_scores"
      ],
      "metadata": {
        "id": "Wep1Lyxm6_lM"
      },
      "execution_count": 13,
      "outputs": []
    },
    {
      "cell_type": "markdown",
      "source": [
        "### We will now compare the evaluation result of before and after rewriting.\n",
        "We expect to see a large absolute score before rewriting that will indicate gender imbalance, and a score near zero after rewriting that will demonstrate effective mitigation (this way we will ensure our method balanced the bias)"
      ],
      "metadata": {
        "id": "8DHCW25--iml"
      }
    },
    {
      "cell_type": "markdown",
      "source": [
        "## First we'll compute the average bias score of the biased pairs of sentences from the original dataset:"
      ],
      "metadata": {
        "id": "NBgF4zr8SVWL"
      }
    },
    {
      "cell_type": "code",
      "source": [
        "rewritten_biased_sentences_df = pd.read_csv(dir_path+ \"/rewritten_biased_all_sentences.csv\")\n",
        "bias_score_original = EvaluateBias(rewritten_biased_sentences_df, \"Original_Sentence2\")"
      ],
      "metadata": {
        "colab": {
          "base_uri": "https://localhost:8080/"
        },
        "id": "d1BV7e85SfwE",
        "outputId": "71dbfbac-3ecf-4a42-ce7a-cfccabc81be0"
      },
      "execution_count": 14,
      "outputs": [
        {
          "output_type": "stream",
          "name": "stdout",
          "text": [
            "Average directional bias score for Sentence2 only: -0.0127\n",
            "from 1 to 100 the bias average score is 1.2658227848101267\n"
          ]
        }
      ]
    },
    {
      "cell_type": "markdown",
      "source": [
        "## **We can see that the bias average score of the original biased-pairs dataset is already close to 0!!!**\n",
        "\n",
        "That can indicate that our dataset was already balanced and is not suited for our test.<br>\n",
        "**Lets check if it is true!**\n",
        "<br><br>\n",
        "We'll create 2 lists:\n",
        "1. gender terms that are related to male (like \"he\", \"his\",...)\n",
        "2. gender terms that are related to female (like \"she\", \"her\",...)\n",
        "\n",
        "If one of the male terms are in a sentence we will consider it as a \"male sentence\", and otherwise, a \"female sentence\".\n",
        "\n"
      ],
      "metadata": {
        "id": "9tBvgEZrAqfh"
      }
    },
    {
      "cell_type": "code",
      "source": [
        "# Gender-specific terms\n",
        "girl_terms = ['her', 'hers', 'she', \"herself\", \"she's\", \"she'd\", \"she'll\"]\n",
        "boy_terms = ['his', 'him', 'he', \"he's\",\"himself\", \"he'd\", \"he'll\"]\n",
        "girl_counter=0\n",
        "boy_counter=0\n",
        "\n",
        "# Process each row\n",
        "for idx, row in biased_df.iterrows():\n",
        "    sentence2 = str(row['Sentence2']).lower()\n",
        "\n",
        "    # Determine gender based on Sentence2\n",
        "    gender = None\n",
        "    flag= False\n",
        "    for term in girl_terms:\n",
        "        if term in sentence2:\n",
        "            girl_counter+=1\n",
        "            flag = True\n",
        "            break\n",
        "    if not gender:\n",
        "        for term in boy_terms:\n",
        "            if term in sentence2 and flag==False:\n",
        "                boy_counter+=1\n",
        "                break\n",
        "\n",
        "\n",
        "print(\"girl\", girl_counter)\n",
        "print(\"boy\", boy_counter)"
      ],
      "metadata": {
        "colab": {
          "base_uri": "https://localhost:8080/"
        },
        "id": "IKBxWekz5K4D",
        "outputId": "5ce31c8a-52fe-4d36-cefa-ebf10f25f521"
      },
      "execution_count": 15,
      "outputs": [
        {
          "output_type": "stream",
          "name": "stdout",
          "text": [
            "girl 804\n",
            "boy 846\n"
          ]
        }
      ]
    },
    {
      "cell_type": "markdown",
      "source": [
        "## **We were right! Our dataset was already balanced, and therefore it is not a suitable dataset to check our method of spreading bias.**"
      ],
      "metadata": {
        "id": "5ZDuf4T_B0jN"
      }
    },
    {
      "cell_type": "markdown",
      "source": [
        "#What are we going to do?\n",
        "In order to create an imbalance in the ratio of male/female sentences, we will take build a new dataset that will contain 80 percent male sentences and 20% female sentences.<br><br>\n",
        "We will take 1000 original biased sentences (before rewrite):<br> 800 sentences about males and 200 sentences about females.<br><br>\n",
        "This will creates an imbalance in the data and allow us to check our method of balancing bias properly.<br><br>\n",
        "\n",
        "\n",
        "***Notice we will use the rewritten biased sentences dataset that contain both original and rewritten sentences - and create the new dataset based on the original biased sentences column."
      ],
      "metadata": {
        "id": "50oOEln8CIL5"
      }
    },
    {
      "cell_type": "code",
      "source": [
        "rewritten_biased_sentences_df.columns"
      ],
      "metadata": {
        "colab": {
          "base_uri": "https://localhost:8080/"
        },
        "id": "AW95Xcc-FTYS",
        "outputId": "1be4cf0e-bb3c-449f-d107-ee6bd7f9b78f"
      },
      "execution_count": 39,
      "outputs": [
        {
          "output_type": "execute_result",
          "data": {
            "text/plain": [
              "Index(['Sentence1', 'Original_Sentence2', 'Rewritten_Sentence2',\n",
              "       'Target_Gender'],\n",
              "      dtype='object')"
            ]
          },
          "metadata": {},
          "execution_count": 39
        }
      ]
    },
    {
      "cell_type": "code",
      "source": [
        "# Gender-specific terms\n",
        "girl_terms = ['her', 'hers', 'she', \"herself\", \"she's\", \"she'd\", \"she'll\"]\n",
        "boy_terms = ['his', 'him', 'he', \"he's\",\"himself\", \"he'd\", \"he'll\"]\n",
        "\n",
        "# Separate rows into male/female lists\n",
        "female_rows = []\n",
        "male_rows = []\n",
        "\n",
        "for idx, row in rewritten_biased_sentences_df.iterrows():\n",
        "    sentence2 = str(row['Original_Sentence2']).lower()\n",
        "    if any(term in sentence2 for term in girl_terms):\n",
        "        female_rows.append(row)\n",
        "    elif any(term in sentence2 for term in boy_terms):\n",
        "        male_rows.append(row)\n",
        "\n",
        "# Shuffle both sets to randomize\n",
        "random.seed(42)\n",
        "random.shuffle(male_rows)\n",
        "random.shuffle(female_rows)\n",
        "\n",
        "# Select 800 male and 200 female samples\n",
        "selected_male = male_rows[:800]\n",
        "selected_female = female_rows[:200]\n",
        "\n",
        "# Combine and shuffle\n",
        "unbalanced_rows = selected_male + selected_female\n",
        "random.shuffle(unbalanced_rows)\n",
        "\n",
        "# Convert to DataFrame\n",
        "unbalanced_df = pd.DataFrame(unbalanced_rows)\n",
        "\n",
        "# Save to CSV\n",
        "unbalanced_df.to_csv(\"biased__unbalanced_80_20.csv\", index=False)\n",
        "print(\"Unbalanced dataset created with 800 male and 200 female samples.\")"
      ],
      "metadata": {
        "colab": {
          "base_uri": "https://localhost:8080/"
        },
        "id": "05SD0n-GETXg",
        "outputId": "d4eeed1a-77bd-4ed2-e3fe-f04b994f2b8a"
      },
      "execution_count": 21,
      "outputs": [
        {
          "output_type": "stream",
          "name": "stdout",
          "text": [
            "Unbalanced dataset created with 800 male and 200 female samples.\n"
          ]
        }
      ]
    },
    {
      "cell_type": "code",
      "source": [
        "from google.colab import files\n",
        "files.download('biased__unbalanced_80_20.csv')"
      ],
      "metadata": {
        "colab": {
          "base_uri": "https://localhost:8080/",
          "height": 17
        },
        "id": "NzVMK6nnG7iA",
        "outputId": "702f7dcb-601f-45c7-abc5-a70e3f4c54ca"
      },
      "execution_count": 42,
      "outputs": [
        {
          "output_type": "display_data",
          "data": {
            "text/plain": [
              "<IPython.core.display.Javascript object>"
            ],
            "application/javascript": [
              "\n",
              "    async function download(id, filename, size) {\n",
              "      if (!google.colab.kernel.accessAllowed) {\n",
              "        return;\n",
              "      }\n",
              "      const div = document.createElement('div');\n",
              "      const label = document.createElement('label');\n",
              "      label.textContent = `Downloading \"${filename}\": `;\n",
              "      div.appendChild(label);\n",
              "      const progress = document.createElement('progress');\n",
              "      progress.max = size;\n",
              "      div.appendChild(progress);\n",
              "      document.body.appendChild(div);\n",
              "\n",
              "      const buffers = [];\n",
              "      let downloaded = 0;\n",
              "\n",
              "      const channel = await google.colab.kernel.comms.open(id);\n",
              "      // Send a message to notify the kernel that we're ready.\n",
              "      channel.send({})\n",
              "\n",
              "      for await (const message of channel.messages) {\n",
              "        // Send a message to notify the kernel that we're ready.\n",
              "        channel.send({})\n",
              "        if (message.buffers) {\n",
              "          for (const buffer of message.buffers) {\n",
              "            buffers.push(buffer);\n",
              "            downloaded += buffer.byteLength;\n",
              "            progress.value = downloaded;\n",
              "          }\n",
              "        }\n",
              "      }\n",
              "      const blob = new Blob(buffers, {type: 'application/binary'});\n",
              "      const a = document.createElement('a');\n",
              "      a.href = window.URL.createObjectURL(blob);\n",
              "      a.download = filename;\n",
              "      div.appendChild(a);\n",
              "      a.click();\n",
              "      div.remove();\n",
              "    }\n",
              "  "
            ]
          },
          "metadata": {}
        },
        {
          "output_type": "display_data",
          "data": {
            "text/plain": [
              "<IPython.core.display.Javascript object>"
            ],
            "application/javascript": [
              "download(\"download_4580ac16-7184-44f1-abb3-6af4b5304864\", \"biased__unbalanced_80_20.csv\", 161626)"
            ]
          },
          "metadata": {}
        }
      ]
    },
    {
      "cell_type": "code",
      "source": [
        "unbalanced_df.columns"
      ],
      "metadata": {
        "colab": {
          "base_uri": "https://localhost:8080/"
        },
        "id": "Vd3JEflXEzpH",
        "outputId": "7f8bd133-76b4-4b48-c514-4c4546affdb8"
      },
      "execution_count": 22,
      "outputs": [
        {
          "output_type": "execute_result",
          "data": {
            "text/plain": [
              "Index(['Sentence1', 'Original_Sentence2', 'Rewritten_Sentence2',\n",
              "       'Target_Gender'],\n",
              "      dtype='object')"
            ]
          },
          "metadata": {},
          "execution_count": 22
        }
      ]
    },
    {
      "cell_type": "code",
      "source": [
        "unbalanced_df.head(2)"
      ],
      "metadata": {
        "colab": {
          "base_uri": "https://localhost:8080/",
          "height": 147
        },
        "id": "OzD_jwKAFrGB",
        "outputId": "3e640a03-8840-4748-a13c-5bde49681b3d"
      },
      "execution_count": 23,
      "outputs": [
        {
          "output_type": "execute_result",
          "data": {
            "text/plain": [
              "                                              Sentence1  \\\n",
              "678   Each Monday, the janitor leaves riddles on sti...   \n",
              "1269  Behind the music room, a band director tuned b...   \n",
              "\n",
              "                                    Original_Sentence2  \\\n",
              "678   Few students ever guess that they come from him.   \n",
              "1269              He said every dent had a song in it.   \n",
              "\n",
              "                                   Rewritten_Sentence2 Target_Gender  \n",
              "678   Few students ever guess that they come from him.          male  \n",
              "1269              He said every dent had a song in it.          male  "
            ],
            "text/html": [
              "\n",
              "  <div id=\"df-154d850e-96af-4fc9-ac41-d89043cb3a16\" class=\"colab-df-container\">\n",
              "    <div>\n",
              "<style scoped>\n",
              "    .dataframe tbody tr th:only-of-type {\n",
              "        vertical-align: middle;\n",
              "    }\n",
              "\n",
              "    .dataframe tbody tr th {\n",
              "        vertical-align: top;\n",
              "    }\n",
              "\n",
              "    .dataframe thead th {\n",
              "        text-align: right;\n",
              "    }\n",
              "</style>\n",
              "<table border=\"1\" class=\"dataframe\">\n",
              "  <thead>\n",
              "    <tr style=\"text-align: right;\">\n",
              "      <th></th>\n",
              "      <th>Sentence1</th>\n",
              "      <th>Original_Sentence2</th>\n",
              "      <th>Rewritten_Sentence2</th>\n",
              "      <th>Target_Gender</th>\n",
              "    </tr>\n",
              "  </thead>\n",
              "  <tbody>\n",
              "    <tr>\n",
              "      <th>678</th>\n",
              "      <td>Each Monday, the janitor leaves riddles on sti...</td>\n",
              "      <td>Few students ever guess that they come from him.</td>\n",
              "      <td>Few students ever guess that they come from him.</td>\n",
              "      <td>male</td>\n",
              "    </tr>\n",
              "    <tr>\n",
              "      <th>1269</th>\n",
              "      <td>Behind the music room, a band director tuned b...</td>\n",
              "      <td>He said every dent had a song in it.</td>\n",
              "      <td>He said every dent had a song in it.</td>\n",
              "      <td>male</td>\n",
              "    </tr>\n",
              "  </tbody>\n",
              "</table>\n",
              "</div>\n",
              "    <div class=\"colab-df-buttons\">\n",
              "\n",
              "  <div class=\"colab-df-container\">\n",
              "    <button class=\"colab-df-convert\" onclick=\"convertToInteractive('df-154d850e-96af-4fc9-ac41-d89043cb3a16')\"\n",
              "            title=\"Convert this dataframe to an interactive table.\"\n",
              "            style=\"display:none;\">\n",
              "\n",
              "  <svg xmlns=\"http://www.w3.org/2000/svg\" height=\"24px\" viewBox=\"0 -960 960 960\">\n",
              "    <path d=\"M120-120v-720h720v720H120Zm60-500h600v-160H180v160Zm220 220h160v-160H400v160Zm0 220h160v-160H400v160ZM180-400h160v-160H180v160Zm440 0h160v-160H620v160ZM180-180h160v-160H180v160Zm440 0h160v-160H620v160Z\"/>\n",
              "  </svg>\n",
              "    </button>\n",
              "\n",
              "  <style>\n",
              "    .colab-df-container {\n",
              "      display:flex;\n",
              "      gap: 12px;\n",
              "    }\n",
              "\n",
              "    .colab-df-convert {\n",
              "      background-color: #E8F0FE;\n",
              "      border: none;\n",
              "      border-radius: 50%;\n",
              "      cursor: pointer;\n",
              "      display: none;\n",
              "      fill: #1967D2;\n",
              "      height: 32px;\n",
              "      padding: 0 0 0 0;\n",
              "      width: 32px;\n",
              "    }\n",
              "\n",
              "    .colab-df-convert:hover {\n",
              "      background-color: #E2EBFA;\n",
              "      box-shadow: 0px 1px 2px rgba(60, 64, 67, 0.3), 0px 1px 3px 1px rgba(60, 64, 67, 0.15);\n",
              "      fill: #174EA6;\n",
              "    }\n",
              "\n",
              "    .colab-df-buttons div {\n",
              "      margin-bottom: 4px;\n",
              "    }\n",
              "\n",
              "    [theme=dark] .colab-df-convert {\n",
              "      background-color: #3B4455;\n",
              "      fill: #D2E3FC;\n",
              "    }\n",
              "\n",
              "    [theme=dark] .colab-df-convert:hover {\n",
              "      background-color: #434B5C;\n",
              "      box-shadow: 0px 1px 3px 1px rgba(0, 0, 0, 0.15);\n",
              "      filter: drop-shadow(0px 1px 2px rgba(0, 0, 0, 0.3));\n",
              "      fill: #FFFFFF;\n",
              "    }\n",
              "  </style>\n",
              "\n",
              "    <script>\n",
              "      const buttonEl =\n",
              "        document.querySelector('#df-154d850e-96af-4fc9-ac41-d89043cb3a16 button.colab-df-convert');\n",
              "      buttonEl.style.display =\n",
              "        google.colab.kernel.accessAllowed ? 'block' : 'none';\n",
              "\n",
              "      async function convertToInteractive(key) {\n",
              "        const element = document.querySelector('#df-154d850e-96af-4fc9-ac41-d89043cb3a16');\n",
              "        const dataTable =\n",
              "          await google.colab.kernel.invokeFunction('convertToInteractive',\n",
              "                                                    [key], {});\n",
              "        if (!dataTable) return;\n",
              "\n",
              "        const docLinkHtml = 'Like what you see? Visit the ' +\n",
              "          '<a target=\"_blank\" href=https://colab.research.google.com/notebooks/data_table.ipynb>data table notebook</a>'\n",
              "          + ' to learn more about interactive tables.';\n",
              "        element.innerHTML = '';\n",
              "        dataTable['output_type'] = 'display_data';\n",
              "        await google.colab.output.renderOutput(dataTable, element);\n",
              "        const docLink = document.createElement('div');\n",
              "        docLink.innerHTML = docLinkHtml;\n",
              "        element.appendChild(docLink);\n",
              "      }\n",
              "    </script>\n",
              "  </div>\n",
              "\n",
              "\n",
              "    <div id=\"df-22734077-15eb-42c7-bb1c-1965a7efb629\">\n",
              "      <button class=\"colab-df-quickchart\" onclick=\"quickchart('df-22734077-15eb-42c7-bb1c-1965a7efb629')\"\n",
              "                title=\"Suggest charts\"\n",
              "                style=\"display:none;\">\n",
              "\n",
              "<svg xmlns=\"http://www.w3.org/2000/svg\" height=\"24px\"viewBox=\"0 0 24 24\"\n",
              "     width=\"24px\">\n",
              "    <g>\n",
              "        <path d=\"M19 3H5c-1.1 0-2 .9-2 2v14c0 1.1.9 2 2 2h14c1.1 0 2-.9 2-2V5c0-1.1-.9-2-2-2zM9 17H7v-7h2v7zm4 0h-2V7h2v10zm4 0h-2v-4h2v4z\"/>\n",
              "    </g>\n",
              "</svg>\n",
              "      </button>\n",
              "\n",
              "<style>\n",
              "  .colab-df-quickchart {\n",
              "      --bg-color: #E8F0FE;\n",
              "      --fill-color: #1967D2;\n",
              "      --hover-bg-color: #E2EBFA;\n",
              "      --hover-fill-color: #174EA6;\n",
              "      --disabled-fill-color: #AAA;\n",
              "      --disabled-bg-color: #DDD;\n",
              "  }\n",
              "\n",
              "  [theme=dark] .colab-df-quickchart {\n",
              "      --bg-color: #3B4455;\n",
              "      --fill-color: #D2E3FC;\n",
              "      --hover-bg-color: #434B5C;\n",
              "      --hover-fill-color: #FFFFFF;\n",
              "      --disabled-bg-color: #3B4455;\n",
              "      --disabled-fill-color: #666;\n",
              "  }\n",
              "\n",
              "  .colab-df-quickchart {\n",
              "    background-color: var(--bg-color);\n",
              "    border: none;\n",
              "    border-radius: 50%;\n",
              "    cursor: pointer;\n",
              "    display: none;\n",
              "    fill: var(--fill-color);\n",
              "    height: 32px;\n",
              "    padding: 0;\n",
              "    width: 32px;\n",
              "  }\n",
              "\n",
              "  .colab-df-quickchart:hover {\n",
              "    background-color: var(--hover-bg-color);\n",
              "    box-shadow: 0 1px 2px rgba(60, 64, 67, 0.3), 0 1px 3px 1px rgba(60, 64, 67, 0.15);\n",
              "    fill: var(--button-hover-fill-color);\n",
              "  }\n",
              "\n",
              "  .colab-df-quickchart-complete:disabled,\n",
              "  .colab-df-quickchart-complete:disabled:hover {\n",
              "    background-color: var(--disabled-bg-color);\n",
              "    fill: var(--disabled-fill-color);\n",
              "    box-shadow: none;\n",
              "  }\n",
              "\n",
              "  .colab-df-spinner {\n",
              "    border: 2px solid var(--fill-color);\n",
              "    border-color: transparent;\n",
              "    border-bottom-color: var(--fill-color);\n",
              "    animation:\n",
              "      spin 1s steps(1) infinite;\n",
              "  }\n",
              "\n",
              "  @keyframes spin {\n",
              "    0% {\n",
              "      border-color: transparent;\n",
              "      border-bottom-color: var(--fill-color);\n",
              "      border-left-color: var(--fill-color);\n",
              "    }\n",
              "    20% {\n",
              "      border-color: transparent;\n",
              "      border-left-color: var(--fill-color);\n",
              "      border-top-color: var(--fill-color);\n",
              "    }\n",
              "    30% {\n",
              "      border-color: transparent;\n",
              "      border-left-color: var(--fill-color);\n",
              "      border-top-color: var(--fill-color);\n",
              "      border-right-color: var(--fill-color);\n",
              "    }\n",
              "    40% {\n",
              "      border-color: transparent;\n",
              "      border-right-color: var(--fill-color);\n",
              "      border-top-color: var(--fill-color);\n",
              "    }\n",
              "    60% {\n",
              "      border-color: transparent;\n",
              "      border-right-color: var(--fill-color);\n",
              "    }\n",
              "    80% {\n",
              "      border-color: transparent;\n",
              "      border-right-color: var(--fill-color);\n",
              "      border-bottom-color: var(--fill-color);\n",
              "    }\n",
              "    90% {\n",
              "      border-color: transparent;\n",
              "      border-bottom-color: var(--fill-color);\n",
              "    }\n",
              "  }\n",
              "</style>\n",
              "\n",
              "      <script>\n",
              "        async function quickchart(key) {\n",
              "          const quickchartButtonEl =\n",
              "            document.querySelector('#' + key + ' button');\n",
              "          quickchartButtonEl.disabled = true;  // To prevent multiple clicks.\n",
              "          quickchartButtonEl.classList.add('colab-df-spinner');\n",
              "          try {\n",
              "            const charts = await google.colab.kernel.invokeFunction(\n",
              "                'suggestCharts', [key], {});\n",
              "          } catch (error) {\n",
              "            console.error('Error during call to suggestCharts:', error);\n",
              "          }\n",
              "          quickchartButtonEl.classList.remove('colab-df-spinner');\n",
              "          quickchartButtonEl.classList.add('colab-df-quickchart-complete');\n",
              "        }\n",
              "        (() => {\n",
              "          let quickchartButtonEl =\n",
              "            document.querySelector('#df-22734077-15eb-42c7-bb1c-1965a7efb629 button');\n",
              "          quickchartButtonEl.style.display =\n",
              "            google.colab.kernel.accessAllowed ? 'block' : 'none';\n",
              "        })();\n",
              "      </script>\n",
              "    </div>\n",
              "\n",
              "    </div>\n",
              "  </div>\n"
            ],
            "application/vnd.google.colaboratory.intrinsic+json": {
              "type": "dataframe",
              "variable_name": "unbalanced_df",
              "summary": "{\n  \"name\": \"unbalanced_df\",\n  \"rows\": 1000,\n  \"fields\": [\n    {\n      \"column\": \"Sentence1\",\n      \"properties\": {\n        \"dtype\": \"string\",\n        \"num_unique_values\": 1000,\n        \"samples\": [\n          \"A biology instructor covered the whiteboard with memes before every unit test.\",\n          \"A bystander helped carry the folding table back into storage.\",\n          \"The firefighter reads mystery novels in the station kitchen between alarms.\"\n        ],\n        \"semantic_type\": \"\",\n        \"description\": \"\"\n      }\n    },\n    {\n      \"column\": \"Original_Sentence2\",\n      \"properties\": {\n        \"dtype\": \"string\",\n        \"num_unique_values\": 1000,\n        \"samples\": [\n          \"His mitochondria joke became school legend.\",\n          \"He waved goodbye and left without a word.\",\n          \"His bookmarks mark both pages and peace.\"\n        ],\n        \"semantic_type\": \"\",\n        \"description\": \"\"\n      }\n    },\n    {\n      \"column\": \"Rewritten_Sentence2\",\n      \"properties\": {\n        \"dtype\": \"string\",\n        \"num_unique_values\": 1000,\n        \"samples\": [\n          \"Her mitochondria joke became school legend.\",\n          \"He waved goodbye and left without a word.\",\n          \"Her bookmarks mark both pages and peace.\"\n        ],\n        \"semantic_type\": \"\",\n        \"description\": \"\"\n      }\n    },\n    {\n      \"column\": \"Target_Gender\",\n      \"properties\": {\n        \"dtype\": \"category\",\n        \"num_unique_values\": 2,\n        \"samples\": [\n          \"female\",\n          \"male\"\n        ],\n        \"semantic_type\": \"\",\n        \"description\": \"\"\n      }\n    }\n  ]\n}"
            }
          },
          "metadata": {},
          "execution_count": 23
        }
      ]
    },
    {
      "cell_type": "markdown",
      "source": [
        "## **Evaluating the bias average score of the original biased sentences again (on the new unbalanced dataset):**"
      ],
      "metadata": {
        "id": "B9VffIbHGDPG"
      }
    },
    {
      "cell_type": "code",
      "source": [
        "bias_scores_original = EvaluateBias(unbalanced_df, \"Original_Sentence2\")"
      ],
      "metadata": {
        "colab": {
          "base_uri": "https://localhost:8080/"
        },
        "id": "FsEtnkLQGGTa",
        "outputId": "5f68fb6f-3ff7-4988-a446-c1c0b1177142"
      },
      "execution_count": 24,
      "outputs": [
        {
          "output_type": "stream",
          "name": "stdout",
          "text": [
            "Average directional bias score for Sentence2 only: -0.5360\n",
            "from 1 to 100 the bias average score is 53.6\n"
          ]
        }
      ]
    },
    {
      "cell_type": "markdown",
      "source": [
        "### **Now we'll compare it with the average bias score of the rewritten sentences to check if our approach reduced bias towards one gender and spread it over both genders**"
      ],
      "metadata": {
        "id": "PQpIlQQTXhCf"
      }
    },
    {
      "cell_type": "code",
      "source": [
        "bias_scores_rewritten = EvaluateBias(unbalanced_df, \"Rewritten_Sentence2\")"
      ],
      "metadata": {
        "colab": {
          "base_uri": "https://localhost:8080/"
        },
        "id": "LgxzUn27XvfH",
        "outputId": "e07c4d6a-23fa-428c-bbc3-a83e47f91361"
      },
      "execution_count": 25,
      "outputs": [
        {
          "output_type": "stream",
          "name": "stdout",
          "text": [
            "Average directional bias score for Sentence2 only: 0.0600\n",
            "from 1 to 100 the bias average score is 6.0\n"
          ]
        }
      ]
    },
    {
      "cell_type": "markdown",
      "source": [
        "## **Now after we worked with a proper dataset we acheived the expected results: After bias rewrite we got a much balanced bias across both genders**"
      ],
      "metadata": {
        "id": "H1yRiInAr5z1"
      }
    },
    {
      "cell_type": "markdown",
      "source": [
        "# **Final Summary:**\n",
        "In this project, we tackled the problem of gender bias in natural language inference (NLI) through a complete pipeline—from data creation to evaluation.<Br><Br> We generated a synthetic dataset of sentence pairs using GPT-4o, where the first sentence was neutral and the second included a gendered reference.<br><Br> We then labeled the data using defined gender-specific terms to classify sentences as biased or not.<br><Br> After splitting the dataset, we fine-tuned a pre-trained SBERT model (trained on NLI tasks) by adding a classification head and experimenting with various layer-freezing strategies.<br><Br> The best performance (~97.4% accuracy) was achieved with 25% frozen layers. We compared this performance to GPT-3.5 and GPT-4o acting as classifiers and found that SBERT fine-tuned on our dataset significantly outperformed them.<br><Br> Finally, we applied a rewriting strategy using GPT-4o to balance gender references in biased sentences, and evaluated the effectiveness using a custom cosine similarity metric.<br><Br> Our findings highlight that bias can be mitigated through targeted rewriting and that domain-aligned fine-tuning yields high-performing models, even with minimal training."
      ],
      "metadata": {
        "id": "NieDtBtnMKAZ"
      }
    },
    {
      "cell_type": "code",
      "source": [],
      "metadata": {
        "id": "VIdNWAlYMmRq"
      },
      "execution_count": null,
      "outputs": []
    }
  ]
}